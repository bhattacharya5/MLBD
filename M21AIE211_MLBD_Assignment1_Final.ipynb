{
  "nbformat": 4,
  "nbformat_minor": 0,
  "metadata": {
    "colab": {
      "provenance": [],
      "authorship_tag": "ABX9TyO7lHqVmkX/9YunRhkn5F1b",
      "include_colab_link": true
    },
    "kernelspec": {
      "name": "python3",
      "display_name": "Python 3"
    },
    "language_info": {
      "name": "python"
    }
  },
  "cells": [
    {
      "cell_type": "markdown",
      "metadata": {
        "id": "view-in-github",
        "colab_type": "text"
      },
      "source": [
        "<a href=\"https://colab.research.google.com/github/bhattacharya5/MLBD/blob/main/M21AIE211_MLBD_Assignment1_Final.ipynb\" target=\"_parent\"><img src=\"https://colab.research.google.com/assets/colab-badge.svg\" alt=\"Open In Colab\"/></a>"
      ]
    },
    {
      "cell_type": "code",
      "execution_count": null,
      "metadata": {
        "id": "-BhkQZhriQLJ"
      },
      "outputs": [],
      "source": [
        "from google.colab import drive\n",
        "drive.mount('/content/gdrive')"
      ]
    },
    {
      "cell_type": "code",
      "source": [
        "%cd \"/content/gdrive/My Drive/Colab Notebooks/semester3/MLBD\""
      ],
      "metadata": {
        "id": "gNdXwrMbiS_I"
      },
      "execution_count": null,
      "outputs": []
    },
    {
      "cell_type": "code",
      "source": [
        "import numpy as np\n",
        "import pandas as pd\n",
        "from keras.utils.np_utils import to_categorical # convert to one-hot-encoding\n",
        "import matplotlib.pyplot as plt\n",
        "\n",
        "# python magic function\n",
        "%matplotlib inline\n",
        "\n",
        "from IPython.core.interactiveshell import InteractiveShell\n",
        "InteractiveShell.ast_node_interactivity = \"all\"\n",
        "\n",
        "import warnings\n",
        "warnings.filterwarnings(\"ignore\")"
      ],
      "metadata": {
        "id": "iTzDQouZiTsG"
      },
      "execution_count": null,
      "outputs": []
    },
    {
      "cell_type": "code",
      "source": [
        "df_train = pd.read_csv('/content/gdrive/My Drive/Colab Notebooks/semester3/MLBD/train.csv')\n",
        "df_train.head(5)"
      ],
      "metadata": {
        "id": "lDTsSVjMiVJd"
      },
      "execution_count": null,
      "outputs": []
    },
    {
      "cell_type": "code",
      "source": [
        "df_train.shape"
      ],
      "metadata": {
        "id": "w-BrqHxBiXRo"
      },
      "execution_count": null,
      "outputs": []
    },
    {
      "cell_type": "code",
      "source": [
        "df_train = df_train.iloc[0:5000]\n",
        "df_train.shape"
      ],
      "metadata": {
        "id": "xWiNNf5Tib5k"
      },
      "execution_count": null,
      "outputs": []
    },
    {
      "cell_type": "code",
      "source": [
        "df_test = pd.read_csv('/content/gdrive/My Drive/Colab Notebooks/semester3/MLBD/test.csv')\n",
        "df_test.head(5)"
      ],
      "metadata": {
        "id": "T5iFQ-0qieZv"
      },
      "execution_count": null,
      "outputs": []
    },
    {
      "cell_type": "code",
      "source": [
        "df_test = df_test.iloc[0:3000]\n",
        "df_test.shape"
      ],
      "metadata": {
        "id": "b1aBPGP7iiSY"
      },
      "execution_count": null,
      "outputs": []
    },
    {
      "cell_type": "code",
      "source": [
        "Y_train = df_train[\"label\"]\n",
        "\n",
        "# Drop 'label' column\n",
        "X_train = df_train.drop(labels = [\"label\"],axis = 1) \n",
        "\n",
        "X_test = df_test"
      ],
      "metadata": {
        "id": "7exQBVETil3g"
      },
      "execution_count": null,
      "outputs": []
    },
    {
      "cell_type": "markdown",
      "source": [
        "#plot numbers"
      ],
      "metadata": {
        "id": "OPvydJOMi0_L"
      }
    },
    {
      "cell_type": "code",
      "source": [
        "Y_train = to_categorical(Y_train, num_classes = 10)\n",
        "Y_train[8]"
      ],
      "metadata": {
        "id": "Uc-D6SPtiqvv"
      },
      "execution_count": null,
      "outputs": []
    },
    {
      "cell_type": "code",
      "source": [
        "# create figure with 3x3 subplots using matplotlib.pyplot\n",
        "fig, axs = plt.subplots(3, 3, figsize = (12, 12))\n",
        "plt.gray()\n",
        "\n",
        "# loop through subplots and add mnist images\n",
        "for i, ax in enumerate(axs.flat):\n",
        "    ax.matshow(X_train[i])\n",
        "    ax.axis('off')\n",
        "    ax.set_title('Number {}'.format(Y_train[i]))\n",
        "    \n",
        "# display the figure\n",
        "fig.show()"
      ],
      "metadata": {
        "id": "CgzQKsYni4ib"
      },
      "execution_count": null,
      "outputs": []
    },
    {
      "cell_type": "markdown",
      "source": [
        "#BFR implementation\n",
        "\n",
        "Sure, I can guide you through the implementation of the BFR (Bradley-Fayyad-Reina) clustering algorithm using the MNIST dataset and making predictions on the test dataset. Here are the steps you can follow:\n",
        "\n",
        "Load the MNIST dataset using any suitable library like TensorFlow or PyTorch. MNIST is a dataset of handwritten digits, and each image is of size 28x28 pixels. The dataset has 60,000 training images and 10,000 test images.\n",
        "\n",
        "Preprocess the data by scaling the pixel values to a range between 0 and 1, and flattening the images to a one-dimensional array of size 784. You can also reduce the dimensionality of the data using techniques like PCA or t-SNE if needed.\n",
        "\n",
        "Implement the BFR clustering algorithm. Here is a brief overview of the algorithm:\n",
        "\n",
        "Initialize the algorithm with a set of random centroids.\n",
        "\n",
        "Assign each data point to the nearest centroid.\n",
        "\n",
        "Compute the quality of the clustering using a cost function like the sum of squared errors.\n",
        "\n",
        "If the quality of the clustering is below a threshold, split the centroids into sub-clusters using a splitting algorithm like k-means or hierarchical clustering.\n",
        "\n",
        "If the quality of the clustering is above a threshold, merge the centroids into larger clusters using a merging algorithm like agglomerative clustering.\n",
        "\n",
        "Repeat the above steps until convergence or a maximum number of iterations is reached.\n",
        "\n",
        "Train the BFR algorithm on the MNIST training dataset.\n",
        "\n",
        "Predict the labels of the test dataset by assigning each test image to the nearest centroid and using the label of the centroid as the predicted label for the test image.\n",
        "\n",
        "Evaluate the accuracy of the predictions using metrics like accuracy, precision, recall, and F1-score.\n",
        "\n",
        "Note that implementing the BFR algorithm can be complex, and there are many variations and parameters that can affect the results. Therefore, it is recommended to use an existing implementation or library like scikit-learn or TensorFlow that provides a high-level interface to the algorithm and allows you to tune the parameters and evaluate the performance easily.\n",
        "\n",
        "I hope this helps you get started with implementing the BFR algorithm on the MNIST dataset and making predictions on the test dataset. Let me know if you have any further questions!"
      ],
      "metadata": {
        "id": "EMm_AS4Oi5hg"
      }
    },
    {
      "cell_type": "code",
      "source": [
        "from sklearn.datasets import fetch_openml\n",
        "from sklearn.decomposition import PCA\n",
        "from sklearn.cluster import AgglomerativeClustering, KMeans\n",
        "from sklearn.metrics import accuracy_score\n",
        "import numpy as np\n",
        "\n",
        "X= X_train / 255.0  # Scale pixel values to [0, 1]\n",
        "y= Y_train.astype('int')\n",
        "\n",
        "# Reduce dimensionality using PCA\n",
        "pca = PCA(n_components=50)\n",
        "X = pca.fit_transform(X)\n",
        "\n",
        "# Define BFR clustering algorithm\n",
        "class BFR:\n",
        "    def __init__(self, k_init, split_size, merge_size, max_iter):\n",
        "        self.k_init = k_init\n",
        "        self.split_size = split_size\n",
        "        self.merge_size = merge_size\n",
        "        self.max_iter = max_iter\n",
        "\n",
        "    def fit(self, X):\n",
        "        # Initialize centroids using KMeans\n",
        "        kmeans = KMeans(n_clusters=self.k_init, n_init=1)\n",
        "        kmeans.fit(X)\n",
        "        centroids = kmeans.cluster_centers_\n",
        "        labels = kmeans.labels_\n",
        "        n_clusters = self.k_init\n",
        "\n",
        "        # Run BFR algorithm\n",
        "        for i in range(self.max_iter):\n",
        "            # Assign points to nearest centroid\n",
        "            distances = np.linalg.norm(X[:, np.newaxis, :] - centroids, axis=2)\n",
        "            assignments = np.argmin(distances, axis=1)\n",
        "\n",
        "            # Split large clusters\n",
        "            for j in range(n_clusters):\n",
        "                if np.sum(assignments == j) > self.split_size:\n",
        "                    sub_kmeans = KMeans(n_clusters=2, n_init=1)\n",
        "                    sub_kmeans.fit(X[assignments == j])\n",
        "                    sub_centroids = sub_kmeans.cluster_centers_\n",
        "                    sub_labels = sub_kmeans.labels_\n",
        "                    sub_n_clusters = 2\n",
        "\n",
        "                    # Update centroids and labels\n",
        "                    centroids[j] = sub_centroids[0]\n",
        "                    centroids = np.vstack((centroids, sub_centroids[1]))\n",
        "                    labels[assignments == j] = sub_labels + n_clusters\n",
        "                    n_clusters += 1\n",
        "\n",
        "            # Merge small clusters\n",
        "            for j in range(n_clusters):\n",
        "                if np.sum(labels == j) < self.merge_size:\n",
        "                    closest_cluster = np.argmin(np.linalg.norm(centroids[j] - centroids, axis=1))\n",
        "                    labels[labels == j] = closest_cluster\n",
        "\n",
        "            # Recompute centroids\n",
        "            for j in range(n_clusters):\n",
        "                centroids[j] = np.mean(X[labels == j], axis=0)\n",
        "\n",
        "        # Save centroids and labels\n",
        "        self.centroids = centroids\n",
        "        self.labels = labels\n",
        "\n",
        "    def predict(self, X):\n",
        "        # Assign points to nearest centroid and return labels\n",
        "        distances = np.linalg.norm(X[:, np.newaxis, :] - self.centroids, axis=2)\n",
        "        assignments = np.argmin(distances, axis=1)\n",
        "        return self.labels[assignments]\n",
        "\n",
        "# Train BFR model on MNIST dataset\n",
        "bfr = BFR(k_init=50, split_size=50, merge_size=10, max_iter=10)\n",
        "bfr.fit(X)"
      ],
      "metadata": {
        "id": "_c8q-twPi8Ds"
      },
      "execution_count": null,
      "outputs": []
    },
    {
      "cell_type": "code",
      "source": [
        "# Predict labels of test dataset\n",
        "y_pred = bfr.predict(pca.transform(df_test))"
      ],
      "metadata": {
        "id": "AqAfvxTEjT05"
      },
      "execution_count": null,
      "outputs": []
    }
  ]
}
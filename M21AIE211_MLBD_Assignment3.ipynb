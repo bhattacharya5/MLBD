{
  "nbformat": 4,
  "nbformat_minor": 0,
  "metadata": {
    "colab": {
      "provenance": [],
      "authorship_tag": "ABX9TyMWksiHYwVRNkVw5tbFw9/B",
      "include_colab_link": true
    },
    "kernelspec": {
      "name": "python3",
      "display_name": "Python 3"
    },
    "language_info": {
      "name": "python"
    }
  },
  "cells": [
    {
      "cell_type": "markdown",
      "metadata": {
        "id": "view-in-github",
        "colab_type": "text"
      },
      "source": [
        "<a href=\"https://colab.research.google.com/github/bhattacharya5/MLBD/blob/main/M21AIE211_MLBD_Assignment3.ipynb\" target=\"_parent\"><img src=\"https://colab.research.google.com/assets/colab-badge.svg\" alt=\"Open In Colab\"/></a>"
      ]
    },
    {
      "cell_type": "code",
      "source": [
        "from google.colab import drive\n",
        "drive.mount('/content/gdrive')"
      ],
      "metadata": {
        "colab": {
          "base_uri": "https://localhost:8080/"
        },
        "id": "Ad-gDTpAewpD",
        "outputId": "ecc9a89c-83d3-4692-db8e-f433b735f098"
      },
      "execution_count": 2,
      "outputs": [
        {
          "output_type": "stream",
          "name": "stdout",
          "text": [
            "Mounted at /content/gdrive\n"
          ]
        }
      ]
    },
    {
      "cell_type": "code",
      "source": [
        "%cd \"/content/gdrive/My Drive/Colab Notebooks/semester3/MLBD\""
      ],
      "metadata": {
        "colab": {
          "base_uri": "https://localhost:8080/"
        },
        "id": "qWDfza5cexUH",
        "outputId": "5f06c1ef-3d69-4669-ab9c-ea7d96118789"
      },
      "execution_count": 1,
      "outputs": [
        {
          "output_type": "stream",
          "name": "stdout",
          "text": [
            "[Errno 2] No such file or directory: '/content/gdrive/My Drive/Colab Notebooks/semester3/MLBD'\n",
            "/content\n"
          ]
        }
      ]
    },
    {
      "cell_type": "code",
      "source": [
        "import numpy as np\n",
        "import pandas as pd"
      ],
      "metadata": {
        "id": "vfSAZ5rDezr0"
      },
      "execution_count": 3,
      "outputs": []
    },
    {
      "cell_type": "code",
      "source": [
        "df_train = pd.read_csv('/content/gdrive/My Drive/Colab Notebooks/semester3/MLBD/train.csv')\n",
        "#df_train = pd.read_csv('/content/sample_data/train.csv')\n",
        "df_train.head(5)"
      ],
      "metadata": {
        "colab": {
          "base_uri": "https://localhost:8080/",
          "height": 300
        },
        "id": "tDeFEZUfezy7",
        "outputId": "073cb313-9f7f-477c-d924-3d8027cab553"
      },
      "execution_count": 4,
      "outputs": [
        {
          "output_type": "execute_result",
          "data": {
            "text/plain": [
              "   label  pixel0  pixel1  pixel2  pixel3  pixel4  pixel5  pixel6  pixel7  \\\n",
              "0      1       0       0       0       0       0       0       0       0   \n",
              "1      0       0       0       0       0       0       0       0       0   \n",
              "2      1       0       0       0       0       0       0       0       0   \n",
              "3      4       0       0       0       0       0       0       0       0   \n",
              "4      0       0       0       0       0       0       0       0       0   \n",
              "\n",
              "   pixel8  ...  pixel774  pixel775  pixel776  pixel777  pixel778  pixel779  \\\n",
              "0       0  ...         0         0         0         0         0         0   \n",
              "1       0  ...         0         0         0         0         0         0   \n",
              "2       0  ...         0         0         0         0         0         0   \n",
              "3       0  ...         0         0         0         0         0         0   \n",
              "4       0  ...         0         0         0         0         0         0   \n",
              "\n",
              "   pixel780  pixel781  pixel782  pixel783  \n",
              "0         0         0         0         0  \n",
              "1         0         0         0         0  \n",
              "2         0         0         0         0  \n",
              "3         0         0         0         0  \n",
              "4         0         0         0         0  \n",
              "\n",
              "[5 rows x 785 columns]"
            ],
            "text/html": [
              "\n",
              "  <div id=\"df-2f75b353-db95-42bc-be93-2beccd1c32a1\">\n",
              "    <div class=\"colab-df-container\">\n",
              "      <div>\n",
              "<style scoped>\n",
              "    .dataframe tbody tr th:only-of-type {\n",
              "        vertical-align: middle;\n",
              "    }\n",
              "\n",
              "    .dataframe tbody tr th {\n",
              "        vertical-align: top;\n",
              "    }\n",
              "\n",
              "    .dataframe thead th {\n",
              "        text-align: right;\n",
              "    }\n",
              "</style>\n",
              "<table border=\"1\" class=\"dataframe\">\n",
              "  <thead>\n",
              "    <tr style=\"text-align: right;\">\n",
              "      <th></th>\n",
              "      <th>label</th>\n",
              "      <th>pixel0</th>\n",
              "      <th>pixel1</th>\n",
              "      <th>pixel2</th>\n",
              "      <th>pixel3</th>\n",
              "      <th>pixel4</th>\n",
              "      <th>pixel5</th>\n",
              "      <th>pixel6</th>\n",
              "      <th>pixel7</th>\n",
              "      <th>pixel8</th>\n",
              "      <th>...</th>\n",
              "      <th>pixel774</th>\n",
              "      <th>pixel775</th>\n",
              "      <th>pixel776</th>\n",
              "      <th>pixel777</th>\n",
              "      <th>pixel778</th>\n",
              "      <th>pixel779</th>\n",
              "      <th>pixel780</th>\n",
              "      <th>pixel781</th>\n",
              "      <th>pixel782</th>\n",
              "      <th>pixel783</th>\n",
              "    </tr>\n",
              "  </thead>\n",
              "  <tbody>\n",
              "    <tr>\n",
              "      <th>0</th>\n",
              "      <td>1</td>\n",
              "      <td>0</td>\n",
              "      <td>0</td>\n",
              "      <td>0</td>\n",
              "      <td>0</td>\n",
              "      <td>0</td>\n",
              "      <td>0</td>\n",
              "      <td>0</td>\n",
              "      <td>0</td>\n",
              "      <td>0</td>\n",
              "      <td>...</td>\n",
              "      <td>0</td>\n",
              "      <td>0</td>\n",
              "      <td>0</td>\n",
              "      <td>0</td>\n",
              "      <td>0</td>\n",
              "      <td>0</td>\n",
              "      <td>0</td>\n",
              "      <td>0</td>\n",
              "      <td>0</td>\n",
              "      <td>0</td>\n",
              "    </tr>\n",
              "    <tr>\n",
              "      <th>1</th>\n",
              "      <td>0</td>\n",
              "      <td>0</td>\n",
              "      <td>0</td>\n",
              "      <td>0</td>\n",
              "      <td>0</td>\n",
              "      <td>0</td>\n",
              "      <td>0</td>\n",
              "      <td>0</td>\n",
              "      <td>0</td>\n",
              "      <td>0</td>\n",
              "      <td>...</td>\n",
              "      <td>0</td>\n",
              "      <td>0</td>\n",
              "      <td>0</td>\n",
              "      <td>0</td>\n",
              "      <td>0</td>\n",
              "      <td>0</td>\n",
              "      <td>0</td>\n",
              "      <td>0</td>\n",
              "      <td>0</td>\n",
              "      <td>0</td>\n",
              "    </tr>\n",
              "    <tr>\n",
              "      <th>2</th>\n",
              "      <td>1</td>\n",
              "      <td>0</td>\n",
              "      <td>0</td>\n",
              "      <td>0</td>\n",
              "      <td>0</td>\n",
              "      <td>0</td>\n",
              "      <td>0</td>\n",
              "      <td>0</td>\n",
              "      <td>0</td>\n",
              "      <td>0</td>\n",
              "      <td>...</td>\n",
              "      <td>0</td>\n",
              "      <td>0</td>\n",
              "      <td>0</td>\n",
              "      <td>0</td>\n",
              "      <td>0</td>\n",
              "      <td>0</td>\n",
              "      <td>0</td>\n",
              "      <td>0</td>\n",
              "      <td>0</td>\n",
              "      <td>0</td>\n",
              "    </tr>\n",
              "    <tr>\n",
              "      <th>3</th>\n",
              "      <td>4</td>\n",
              "      <td>0</td>\n",
              "      <td>0</td>\n",
              "      <td>0</td>\n",
              "      <td>0</td>\n",
              "      <td>0</td>\n",
              "      <td>0</td>\n",
              "      <td>0</td>\n",
              "      <td>0</td>\n",
              "      <td>0</td>\n",
              "      <td>...</td>\n",
              "      <td>0</td>\n",
              "      <td>0</td>\n",
              "      <td>0</td>\n",
              "      <td>0</td>\n",
              "      <td>0</td>\n",
              "      <td>0</td>\n",
              "      <td>0</td>\n",
              "      <td>0</td>\n",
              "      <td>0</td>\n",
              "      <td>0</td>\n",
              "    </tr>\n",
              "    <tr>\n",
              "      <th>4</th>\n",
              "      <td>0</td>\n",
              "      <td>0</td>\n",
              "      <td>0</td>\n",
              "      <td>0</td>\n",
              "      <td>0</td>\n",
              "      <td>0</td>\n",
              "      <td>0</td>\n",
              "      <td>0</td>\n",
              "      <td>0</td>\n",
              "      <td>0</td>\n",
              "      <td>...</td>\n",
              "      <td>0</td>\n",
              "      <td>0</td>\n",
              "      <td>0</td>\n",
              "      <td>0</td>\n",
              "      <td>0</td>\n",
              "      <td>0</td>\n",
              "      <td>0</td>\n",
              "      <td>0</td>\n",
              "      <td>0</td>\n",
              "      <td>0</td>\n",
              "    </tr>\n",
              "  </tbody>\n",
              "</table>\n",
              "<p>5 rows × 785 columns</p>\n",
              "</div>\n",
              "      <button class=\"colab-df-convert\" onclick=\"convertToInteractive('df-2f75b353-db95-42bc-be93-2beccd1c32a1')\"\n",
              "              title=\"Convert this dataframe to an interactive table.\"\n",
              "              style=\"display:none;\">\n",
              "        \n",
              "  <svg xmlns=\"http://www.w3.org/2000/svg\" height=\"24px\"viewBox=\"0 0 24 24\"\n",
              "       width=\"24px\">\n",
              "    <path d=\"M0 0h24v24H0V0z\" fill=\"none\"/>\n",
              "    <path d=\"M18.56 5.44l.94 2.06.94-2.06 2.06-.94-2.06-.94-.94-2.06-.94 2.06-2.06.94zm-11 1L8.5 8.5l.94-2.06 2.06-.94-2.06-.94L8.5 2.5l-.94 2.06-2.06.94zm10 10l.94 2.06.94-2.06 2.06-.94-2.06-.94-.94-2.06-.94 2.06-2.06.94z\"/><path d=\"M17.41 7.96l-1.37-1.37c-.4-.4-.92-.59-1.43-.59-.52 0-1.04.2-1.43.59L10.3 9.45l-7.72 7.72c-.78.78-.78 2.05 0 2.83L4 21.41c.39.39.9.59 1.41.59.51 0 1.02-.2 1.41-.59l7.78-7.78 2.81-2.81c.8-.78.8-2.07 0-2.86zM5.41 20L4 18.59l7.72-7.72 1.47 1.35L5.41 20z\"/>\n",
              "  </svg>\n",
              "      </button>\n",
              "      \n",
              "  <style>\n",
              "    .colab-df-container {\n",
              "      display:flex;\n",
              "      flex-wrap:wrap;\n",
              "      gap: 12px;\n",
              "    }\n",
              "\n",
              "    .colab-df-convert {\n",
              "      background-color: #E8F0FE;\n",
              "      border: none;\n",
              "      border-radius: 50%;\n",
              "      cursor: pointer;\n",
              "      display: none;\n",
              "      fill: #1967D2;\n",
              "      height: 32px;\n",
              "      padding: 0 0 0 0;\n",
              "      width: 32px;\n",
              "    }\n",
              "\n",
              "    .colab-df-convert:hover {\n",
              "      background-color: #E2EBFA;\n",
              "      box-shadow: 0px 1px 2px rgba(60, 64, 67, 0.3), 0px 1px 3px 1px rgba(60, 64, 67, 0.15);\n",
              "      fill: #174EA6;\n",
              "    }\n",
              "\n",
              "    [theme=dark] .colab-df-convert {\n",
              "      background-color: #3B4455;\n",
              "      fill: #D2E3FC;\n",
              "    }\n",
              "\n",
              "    [theme=dark] .colab-df-convert:hover {\n",
              "      background-color: #434B5C;\n",
              "      box-shadow: 0px 1px 3px 1px rgba(0, 0, 0, 0.15);\n",
              "      filter: drop-shadow(0px 1px 2px rgba(0, 0, 0, 0.3));\n",
              "      fill: #FFFFFF;\n",
              "    }\n",
              "  </style>\n",
              "\n",
              "      <script>\n",
              "        const buttonEl =\n",
              "          document.querySelector('#df-2f75b353-db95-42bc-be93-2beccd1c32a1 button.colab-df-convert');\n",
              "        buttonEl.style.display =\n",
              "          google.colab.kernel.accessAllowed ? 'block' : 'none';\n",
              "\n",
              "        async function convertToInteractive(key) {\n",
              "          const element = document.querySelector('#df-2f75b353-db95-42bc-be93-2beccd1c32a1');\n",
              "          const dataTable =\n",
              "            await google.colab.kernel.invokeFunction('convertToInteractive',\n",
              "                                                     [key], {});\n",
              "          if (!dataTable) return;\n",
              "\n",
              "          const docLinkHtml = 'Like what you see? Visit the ' +\n",
              "            '<a target=\"_blank\" href=https://colab.research.google.com/notebooks/data_table.ipynb>data table notebook</a>'\n",
              "            + ' to learn more about interactive tables.';\n",
              "          element.innerHTML = '';\n",
              "          dataTable['output_type'] = 'display_data';\n",
              "          await google.colab.output.renderOutput(dataTable, element);\n",
              "          const docLink = document.createElement('div');\n",
              "          docLink.innerHTML = docLinkHtml;\n",
              "          element.appendChild(docLink);\n",
              "        }\n",
              "      </script>\n",
              "    </div>\n",
              "  </div>\n",
              "  "
            ]
          },
          "metadata": {},
          "execution_count": 4
        }
      ]
    },
    {
      "cell_type": "code",
      "source": [
        "df_test = pd.read_csv('/content/gdrive/My Drive/Colab Notebooks/semester3/MLBD/test.csv')\n",
        "#df_test = pd.read_csv('/content/sample_data/test.csv')\n",
        "df_test.head(5)"
      ],
      "metadata": {
        "colab": {
          "base_uri": "https://localhost:8080/",
          "height": 300
        },
        "id": "huuRLHQJe426",
        "outputId": "ee3d8fbc-2a25-4eff-f36b-6b98624ffd7c"
      },
      "execution_count": 5,
      "outputs": [
        {
          "output_type": "execute_result",
          "data": {
            "text/plain": [
              "   pixel0  pixel1  pixel2  pixel3  pixel4  pixel5  pixel6  pixel7  pixel8  \\\n",
              "0       0       0       0       0       0       0       0       0       0   \n",
              "1       0       0       0       0       0       0       0       0       0   \n",
              "2       0       0       0       0       0       0       0       0       0   \n",
              "3       0       0       0       0       0       0       0       0       0   \n",
              "4       0       0       0       0       0       0       0       0       0   \n",
              "\n",
              "   pixel9  ...  pixel774  pixel775  pixel776  pixel777  pixel778  pixel779  \\\n",
              "0       0  ...         0         0         0         0         0         0   \n",
              "1       0  ...         0         0         0         0         0         0   \n",
              "2       0  ...         0         0         0         0         0         0   \n",
              "3       0  ...         0         0         0         0         0         0   \n",
              "4       0  ...         0         0         0         0         0         0   \n",
              "\n",
              "   pixel780  pixel781  pixel782  pixel783  \n",
              "0         0         0         0         0  \n",
              "1         0         0         0         0  \n",
              "2         0         0         0         0  \n",
              "3         0         0         0         0  \n",
              "4         0         0         0         0  \n",
              "\n",
              "[5 rows x 784 columns]"
            ],
            "text/html": [
              "\n",
              "  <div id=\"df-17841670-ea72-41fd-a126-55d57ddd862a\">\n",
              "    <div class=\"colab-df-container\">\n",
              "      <div>\n",
              "<style scoped>\n",
              "    .dataframe tbody tr th:only-of-type {\n",
              "        vertical-align: middle;\n",
              "    }\n",
              "\n",
              "    .dataframe tbody tr th {\n",
              "        vertical-align: top;\n",
              "    }\n",
              "\n",
              "    .dataframe thead th {\n",
              "        text-align: right;\n",
              "    }\n",
              "</style>\n",
              "<table border=\"1\" class=\"dataframe\">\n",
              "  <thead>\n",
              "    <tr style=\"text-align: right;\">\n",
              "      <th></th>\n",
              "      <th>pixel0</th>\n",
              "      <th>pixel1</th>\n",
              "      <th>pixel2</th>\n",
              "      <th>pixel3</th>\n",
              "      <th>pixel4</th>\n",
              "      <th>pixel5</th>\n",
              "      <th>pixel6</th>\n",
              "      <th>pixel7</th>\n",
              "      <th>pixel8</th>\n",
              "      <th>pixel9</th>\n",
              "      <th>...</th>\n",
              "      <th>pixel774</th>\n",
              "      <th>pixel775</th>\n",
              "      <th>pixel776</th>\n",
              "      <th>pixel777</th>\n",
              "      <th>pixel778</th>\n",
              "      <th>pixel779</th>\n",
              "      <th>pixel780</th>\n",
              "      <th>pixel781</th>\n",
              "      <th>pixel782</th>\n",
              "      <th>pixel783</th>\n",
              "    </tr>\n",
              "  </thead>\n",
              "  <tbody>\n",
              "    <tr>\n",
              "      <th>0</th>\n",
              "      <td>0</td>\n",
              "      <td>0</td>\n",
              "      <td>0</td>\n",
              "      <td>0</td>\n",
              "      <td>0</td>\n",
              "      <td>0</td>\n",
              "      <td>0</td>\n",
              "      <td>0</td>\n",
              "      <td>0</td>\n",
              "      <td>0</td>\n",
              "      <td>...</td>\n",
              "      <td>0</td>\n",
              "      <td>0</td>\n",
              "      <td>0</td>\n",
              "      <td>0</td>\n",
              "      <td>0</td>\n",
              "      <td>0</td>\n",
              "      <td>0</td>\n",
              "      <td>0</td>\n",
              "      <td>0</td>\n",
              "      <td>0</td>\n",
              "    </tr>\n",
              "    <tr>\n",
              "      <th>1</th>\n",
              "      <td>0</td>\n",
              "      <td>0</td>\n",
              "      <td>0</td>\n",
              "      <td>0</td>\n",
              "      <td>0</td>\n",
              "      <td>0</td>\n",
              "      <td>0</td>\n",
              "      <td>0</td>\n",
              "      <td>0</td>\n",
              "      <td>0</td>\n",
              "      <td>...</td>\n",
              "      <td>0</td>\n",
              "      <td>0</td>\n",
              "      <td>0</td>\n",
              "      <td>0</td>\n",
              "      <td>0</td>\n",
              "      <td>0</td>\n",
              "      <td>0</td>\n",
              "      <td>0</td>\n",
              "      <td>0</td>\n",
              "      <td>0</td>\n",
              "    </tr>\n",
              "    <tr>\n",
              "      <th>2</th>\n",
              "      <td>0</td>\n",
              "      <td>0</td>\n",
              "      <td>0</td>\n",
              "      <td>0</td>\n",
              "      <td>0</td>\n",
              "      <td>0</td>\n",
              "      <td>0</td>\n",
              "      <td>0</td>\n",
              "      <td>0</td>\n",
              "      <td>0</td>\n",
              "      <td>...</td>\n",
              "      <td>0</td>\n",
              "      <td>0</td>\n",
              "      <td>0</td>\n",
              "      <td>0</td>\n",
              "      <td>0</td>\n",
              "      <td>0</td>\n",
              "      <td>0</td>\n",
              "      <td>0</td>\n",
              "      <td>0</td>\n",
              "      <td>0</td>\n",
              "    </tr>\n",
              "    <tr>\n",
              "      <th>3</th>\n",
              "      <td>0</td>\n",
              "      <td>0</td>\n",
              "      <td>0</td>\n",
              "      <td>0</td>\n",
              "      <td>0</td>\n",
              "      <td>0</td>\n",
              "      <td>0</td>\n",
              "      <td>0</td>\n",
              "      <td>0</td>\n",
              "      <td>0</td>\n",
              "      <td>...</td>\n",
              "      <td>0</td>\n",
              "      <td>0</td>\n",
              "      <td>0</td>\n",
              "      <td>0</td>\n",
              "      <td>0</td>\n",
              "      <td>0</td>\n",
              "      <td>0</td>\n",
              "      <td>0</td>\n",
              "      <td>0</td>\n",
              "      <td>0</td>\n",
              "    </tr>\n",
              "    <tr>\n",
              "      <th>4</th>\n",
              "      <td>0</td>\n",
              "      <td>0</td>\n",
              "      <td>0</td>\n",
              "      <td>0</td>\n",
              "      <td>0</td>\n",
              "      <td>0</td>\n",
              "      <td>0</td>\n",
              "      <td>0</td>\n",
              "      <td>0</td>\n",
              "      <td>0</td>\n",
              "      <td>...</td>\n",
              "      <td>0</td>\n",
              "      <td>0</td>\n",
              "      <td>0</td>\n",
              "      <td>0</td>\n",
              "      <td>0</td>\n",
              "      <td>0</td>\n",
              "      <td>0</td>\n",
              "      <td>0</td>\n",
              "      <td>0</td>\n",
              "      <td>0</td>\n",
              "    </tr>\n",
              "  </tbody>\n",
              "</table>\n",
              "<p>5 rows × 784 columns</p>\n",
              "</div>\n",
              "      <button class=\"colab-df-convert\" onclick=\"convertToInteractive('df-17841670-ea72-41fd-a126-55d57ddd862a')\"\n",
              "              title=\"Convert this dataframe to an interactive table.\"\n",
              "              style=\"display:none;\">\n",
              "        \n",
              "  <svg xmlns=\"http://www.w3.org/2000/svg\" height=\"24px\"viewBox=\"0 0 24 24\"\n",
              "       width=\"24px\">\n",
              "    <path d=\"M0 0h24v24H0V0z\" fill=\"none\"/>\n",
              "    <path d=\"M18.56 5.44l.94 2.06.94-2.06 2.06-.94-2.06-.94-.94-2.06-.94 2.06-2.06.94zm-11 1L8.5 8.5l.94-2.06 2.06-.94-2.06-.94L8.5 2.5l-.94 2.06-2.06.94zm10 10l.94 2.06.94-2.06 2.06-.94-2.06-.94-.94-2.06-.94 2.06-2.06.94z\"/><path d=\"M17.41 7.96l-1.37-1.37c-.4-.4-.92-.59-1.43-.59-.52 0-1.04.2-1.43.59L10.3 9.45l-7.72 7.72c-.78.78-.78 2.05 0 2.83L4 21.41c.39.39.9.59 1.41.59.51 0 1.02-.2 1.41-.59l7.78-7.78 2.81-2.81c.8-.78.8-2.07 0-2.86zM5.41 20L4 18.59l7.72-7.72 1.47 1.35L5.41 20z\"/>\n",
              "  </svg>\n",
              "      </button>\n",
              "      \n",
              "  <style>\n",
              "    .colab-df-container {\n",
              "      display:flex;\n",
              "      flex-wrap:wrap;\n",
              "      gap: 12px;\n",
              "    }\n",
              "\n",
              "    .colab-df-convert {\n",
              "      background-color: #E8F0FE;\n",
              "      border: none;\n",
              "      border-radius: 50%;\n",
              "      cursor: pointer;\n",
              "      display: none;\n",
              "      fill: #1967D2;\n",
              "      height: 32px;\n",
              "      padding: 0 0 0 0;\n",
              "      width: 32px;\n",
              "    }\n",
              "\n",
              "    .colab-df-convert:hover {\n",
              "      background-color: #E2EBFA;\n",
              "      box-shadow: 0px 1px 2px rgba(60, 64, 67, 0.3), 0px 1px 3px 1px rgba(60, 64, 67, 0.15);\n",
              "      fill: #174EA6;\n",
              "    }\n",
              "\n",
              "    [theme=dark] .colab-df-convert {\n",
              "      background-color: #3B4455;\n",
              "      fill: #D2E3FC;\n",
              "    }\n",
              "\n",
              "    [theme=dark] .colab-df-convert:hover {\n",
              "      background-color: #434B5C;\n",
              "      box-shadow: 0px 1px 3px 1px rgba(0, 0, 0, 0.15);\n",
              "      filter: drop-shadow(0px 1px 2px rgba(0, 0, 0, 0.3));\n",
              "      fill: #FFFFFF;\n",
              "    }\n",
              "  </style>\n",
              "\n",
              "      <script>\n",
              "        const buttonEl =\n",
              "          document.querySelector('#df-17841670-ea72-41fd-a126-55d57ddd862a button.colab-df-convert');\n",
              "        buttonEl.style.display =\n",
              "          google.colab.kernel.accessAllowed ? 'block' : 'none';\n",
              "\n",
              "        async function convertToInteractive(key) {\n",
              "          const element = document.querySelector('#df-17841670-ea72-41fd-a126-55d57ddd862a');\n",
              "          const dataTable =\n",
              "            await google.colab.kernel.invokeFunction('convertToInteractive',\n",
              "                                                     [key], {});\n",
              "          if (!dataTable) return;\n",
              "\n",
              "          const docLinkHtml = 'Like what you see? Visit the ' +\n",
              "            '<a target=\"_blank\" href=https://colab.research.google.com/notebooks/data_table.ipynb>data table notebook</a>'\n",
              "            + ' to learn more about interactive tables.';\n",
              "          element.innerHTML = '';\n",
              "          dataTable['output_type'] = 'display_data';\n",
              "          await google.colab.output.renderOutput(dataTable, element);\n",
              "          const docLink = document.createElement('div');\n",
              "          docLink.innerHTML = docLinkHtml;\n",
              "          element.appendChild(docLink);\n",
              "        }\n",
              "      </script>\n",
              "    </div>\n",
              "  </div>\n",
              "  "
            ]
          },
          "metadata": {},
          "execution_count": 5
        }
      ]
    },
    {
      "cell_type": "code",
      "source": [
        "Y_train = df_train[\"label\"]\n",
        "\n",
        "# Drop 'label' column\n",
        "X_train = df_train.drop(labels = [\"label\"],axis = 1) \n",
        "\n",
        "X_test = df_test"
      ],
      "metadata": {
        "id": "gmPDSWZPe46C"
      },
      "execution_count": 6,
      "outputs": []
    },
    {
      "cell_type": "code",
      "source": [
        "from sklearn.model_selection import train_test_split\n",
        "X_train, X_test, y_train, y_test = train_test_split(X_train, Y_train, test_size=0.2, random_state=42)"
      ],
      "metadata": {
        "id": "QEtZrnIFgIEf"
      },
      "execution_count": 7,
      "outputs": []
    },
    {
      "cell_type": "code",
      "source": [
        "X_train = np.array(X_train)\n",
        "X_test = np.array(X_test)\n",
        "y_train = np.array(y_train)\n",
        "y_test = np.array(y_test)"
      ],
      "metadata": {
        "id": "Q2gzMeWPoe99"
      },
      "execution_count": 8,
      "outputs": []
    },
    {
      "cell_type": "markdown",
      "source": [
        "Download the MNIST dataset from ( https://www.kaggle.com/datasets/oddrationale/mnist-in-csv). Pick its training and test sets. Each sample in the dataset is represented by a 784-dimensional vector. There are ten classes (the ten digits, `0’ to `9’), and each sample is associated with one class. \n",
        "\n",
        "\n",
        "## **(1) Using the raw binary features, implement the streaming Naive Bayes algorithm and classify the test data.**"
      ],
      "metadata": {
        "id": "bzRK_no8eQ4C"
      }
    },
    {
      "cell_type": "code",
      "execution_count": null,
      "metadata": {
        "colab": {
          "base_uri": "https://localhost:8080/"
        },
        "id": "XuDkRoGfcbBz",
        "outputId": "f9532ae4-a80b-47f2-ea36-cd06f2c0cc1c"
      },
      "outputs": [
        {
          "output_type": "stream",
          "name": "stdout",
          "text": [
            "Accuracy: 0.6780952380952381\n"
          ]
        }
      ],
      "source": [
        "# Implement the streaming Naive Bayes algorithm\n",
        "class StreamingNaiveBayes:\n",
        "\n",
        "    def __init__(self):\n",
        "        self.classes = []\n",
        "        self.priors = []\n",
        "        self.conditional_probabilities = []\n",
        "\n",
        "    def fit(self, X, y):\n",
        "        # Count the number of instances in each class\n",
        "        counts = np.unique(y, return_counts=True)[1]\n",
        "\n",
        "        # Initialize the prior probabilities\n",
        "        self.priors = counts / len(y)\n",
        "\n",
        "        # Initialize the conditional probabilities\n",
        "        for i in range(10):\n",
        "            self.conditional_probabilities.append(np.zeros(784))\n",
        "\n",
        "        # Update the prior probabilities and conditional probabilities\n",
        "        for i in range(0, len(X), 1000):\n",
        "            X_batch = X[i+1:i+1001]\n",
        "            y_batch = y[i+1:i+1001]\n",
        "\n",
        "            for j in range(len(X_batch)):\n",
        "                x = X_batch[j]\n",
        "                y_j = y_batch[j]\n",
        "\n",
        "                # Update the prior probability for the current class\n",
        "                self.priors[y_j] += 1\n",
        "\n",
        "                # Update the conditional probability for the current class and feature\n",
        "                for k in range(784):\n",
        "                    self.conditional_probabilities[y_j][k] += x[k]\n",
        "\n",
        "    def predict(self, X):\n",
        "        predictions = []\n",
        "        for x in X:\n",
        "            # Calculate the probability of each class\n",
        "            probabilities = []\n",
        "            for i in range(10):\n",
        "                probabilities.append(self.priors[i] * self.conditional_probabilities[i].dot(x))\n",
        "\n",
        "            # Choose the class with the highest probability\n",
        "            predictions.append(np.argmax(probabilities))\n",
        "\n",
        "        return predictions\n",
        "\n",
        "# Train the streaming Naive Bayes algorithm\n",
        "model = StreamingNaiveBayes()\n",
        "model.fit(X_train, y_train)\n",
        "\n",
        "# Predict the labels of the test data\n",
        "y_pred = model.predict(X_test)\n",
        "\n",
        "# Calculate the accuracy\n",
        "accuracy = np.mean(y_pred == y_test)\n",
        "print('Accuracy:', accuracy)\n"
      ]
    },
    {
      "cell_type": "markdown",
      "source": [
        "### **Using GaussianNB function**"
      ],
      "metadata": {
        "id": "SL8vtMStWUcu"
      }
    },
    {
      "cell_type": "code",
      "source": [
        "from sklearn.naive_bayes import GaussianNB\n",
        "\n",
        "# Train the streaming Naive Bayes algorithm\n",
        "model = GaussianNB()\n",
        "model.fit(X_train, y_train)\n",
        "\n",
        "# Predict the labels of the test data\n",
        "y_pred_gnb = model.predict(X_test)\n",
        "\n",
        "# Calculate the accuracy\n",
        "accuracy_gnb = np.mean(y_pred_gnb == y_test)\n",
        "print('Accuracy PCA:', accuracy_gnb)"
      ],
      "metadata": {
        "colab": {
          "base_uri": "https://localhost:8080/"
        },
        "id": "aj683nPSWZ1S",
        "outputId": "74a82f05-0d21-4ed2-ac07-d6f704cce88f"
      },
      "execution_count": 12,
      "outputs": [
        {
          "output_type": "stream",
          "name": "stdout",
          "text": [
            "Accuracy PCA: 0.5658333333333333\n"
          ]
        }
      ]
    },
    {
      "cell_type": "markdown",
      "source": [
        "## **(2) Project the binary features into a lower dimensional space using a dimensionality reduction technique of your choice (such as PCA, LDA, t-SNE, etc.), by varying the dimensionality in the range {50,100,200}, and classify the test data using the same algorithm.**"
      ],
      "metadata": {
        "id": "ncT3R3dpAa_3"
      }
    },
    {
      "cell_type": "markdown",
      "source": [
        "## ***PCA :***"
      ],
      "metadata": {
        "id": "gojOKj8W1b9D"
      }
    },
    {
      "cell_type": "code",
      "source": [
        "from sklearn.decomposition import PCA\n",
        "from sklearn.manifold import TSNE\n",
        "from sklearn.discriminant_analysis import LinearDiscriminantAnalysis as LDA"
      ],
      "metadata": {
        "id": "A7-Ql3lNFocS"
      },
      "execution_count": 10,
      "outputs": []
    },
    {
      "cell_type": "code",
      "source": [
        "# Project the binary features into a lower dimensional space using PCA\n",
        "pca = PCA(n_components=50)\n",
        "X_train_pca = pca.fit_transform(X_train)\n",
        "X_test_pca = pca.transform(X_test)\n",
        "\n",
        "# Train the streaming Naive Bayes algorithm\n",
        "model = GaussianNB()\n",
        "model.fit(X_train_pca, y_train)\n",
        "\n",
        "# Predict the labels of the test data\n",
        "y_pred_pca = model.predict(X_test_pca)\n",
        "\n",
        "# Calculate the accuracy\n",
        "accuracy_pca = np.mean(y_pred_pca == y_test)\n",
        "print('Accuracy PCA:', accuracy_pca)"
      ],
      "metadata": {
        "colab": {
          "base_uri": "https://localhost:8080/"
        },
        "id": "246_VAFho5hU",
        "outputId": "06232968-8ef6-4895-e3aa-a095d117ac57"
      },
      "execution_count": null,
      "outputs": [
        {
          "output_type": "stream",
          "name": "stdout",
          "text": [
            "Accuracy PCA: 0.8721428571428571\n"
          ]
        }
      ]
    },
    {
      "cell_type": "code",
      "source": [
        "# Project the binary features into a lower dimensional space using PCA\n",
        "pca = PCA(n_components=100)\n",
        "X_train_pca = pca.fit_transform(X_train)\n",
        "X_test_pca = pca.transform(X_test)\n",
        "\n",
        "# Train the streaming Naive Bayes algorithm\n",
        "model = GaussianNB()\n",
        "model.fit(X_train_pca, y_train)\n",
        "\n",
        "# Predict the labels of the test data\n",
        "y_pred_pca = model.predict(X_test_pca)\n",
        "\n",
        "# Calculate the accuracy\n",
        "accuracy_pca = np.mean(y_pred_pca == y_test)\n",
        "print('Accuracy PCA:', accuracy_pca)"
      ],
      "metadata": {
        "colab": {
          "base_uri": "https://localhost:8080/"
        },
        "id": "LYwqXQcE1Rf5",
        "outputId": "469bb013-6759-4384-c8f7-c0a0a86f16f3"
      },
      "execution_count": 13,
      "outputs": [
        {
          "output_type": "stream",
          "name": "stdout",
          "text": [
            "Accuracy PCA: 0.871547619047619\n"
          ]
        }
      ]
    },
    {
      "cell_type": "code",
      "source": [
        "# Project the binary features into a lower dimensional space using PCA\n",
        "pca = PCA(n_components=200)\n",
        "X_train_pca = pca.fit_transform(X_train)\n",
        "X_test_pca = pca.transform(X_test)\n",
        "\n",
        "# Train the streaming Naive Bayes algorithm\n",
        "model = GaussianNB()\n",
        "model.fit(X_train_pca, y_train)\n",
        "\n",
        "# Predict the labels of the test data\n",
        "y_pred_pca = model.predict(X_test_pca)\n",
        "\n",
        "# Calculate the accuracy\n",
        "accuracy_pca = np.mean(y_pred_pca == y_test)\n",
        "print('Accuracy PCA:', accuracy_pca)"
      ],
      "metadata": {
        "colab": {
          "base_uri": "https://localhost:8080/"
        },
        "id": "X_u68xR51WsG",
        "outputId": "a1c3d504-7620-4edb-ee40-4814428e8842"
      },
      "execution_count": 14,
      "outputs": [
        {
          "output_type": "stream",
          "name": "stdout",
          "text": [
            "Accuracy PCA: 0.846547619047619\n"
          ]
        }
      ]
    },
    {
      "cell_type": "markdown",
      "source": [
        "## ***LDA :***"
      ],
      "metadata": {
        "id": "lSjQ_Nh81iqa"
      }
    },
    {
      "cell_type": "code",
      "source": [
        "# Project the binary features into a lower dimensional space using LDA\n",
        "#number of components in LDA is equal to minimum of the number of features and the number of classes minus one. \n",
        "lda = LDA(n_components=9)\n",
        "X_train_lda = lda.fit_transform(X_train, y_train)\n",
        "X_test_lda = lda.transform(X_test)\n",
        "\n",
        "\n",
        "# Train the streaming Naive Bayes algorithm\n",
        "model = GaussianNB()\n",
        "model.fit(X_train_lda, y_train)\n",
        "\n",
        "# Predict the labels of the test data\n",
        "y_pred_lda = model.predict(X_test_lda)\n",
        "\n",
        "# Calculate the accuracy\n",
        "accuracy_lda = np.mean(y_pred_lda == y_test)\n",
        "print('Accuracy LDA:', accuracy_lda)"
      ],
      "metadata": {
        "colab": {
          "base_uri": "https://localhost:8080/"
        },
        "id": "WMKHmDLoFhTT",
        "outputId": "79a7a785-cd4c-45ea-d153-f03cb8b24d25"
      },
      "execution_count": null,
      "outputs": [
        {
          "output_type": "stream",
          "name": "stdout",
          "text": [
            "Accuracy LDA: 0.8753571428571428\n"
          ]
        }
      ]
    },
    {
      "cell_type": "markdown",
      "source": [
        "## ***TSNE :***"
      ],
      "metadata": {
        "id": "ghN157eg1qBc"
      }
    },
    {
      "cell_type": "code",
      "source": [
        "# Project the binary features into a lower dimensional space using t-SNE\n",
        "# number of components in t-SNE cannot be larger than 3 when using the Barnes-Hut algorithm.\n",
        "tsne = TSNE(n_components=3)\n",
        "X_train_tsne = tsne.fit_transform(X_train)\n",
        "X_test_tsne = tsne.fit_transform(X_test)\n",
        "\n",
        "# Train the streaming Naive Bayes algorithm\n",
        "model = GaussianNB()\n",
        "model.fit(X_train_tsne, y_train)\n",
        "\n",
        "# Predict the labels of the test data\n",
        "y_pred_tsne = model.predict(X_test_tsne)\n",
        "\n",
        "# Calculate the accuracy\n",
        "accuracy_tsne = np.mean(y_pred_tsne == y_test)\n",
        "print('Accuracy TSNE:', accuracy_tsne)"
      ],
      "metadata": {
        "colab": {
          "base_uri": "https://localhost:8080/"
        },
        "id": "q1fwO-4AIjc3",
        "outputId": "d73c90f3-5d3a-4cf5-b06d-89e979611883"
      },
      "execution_count": null,
      "outputs": [
        {
          "output_type": "stream",
          "name": "stdout",
          "text": [
            "Accuracy TSNE: 0.16916666666666666\n"
          ]
        }
      ]
    },
    {
      "cell_type": "markdown",
      "source": [
        "\n",
        "## **(3) Compare (1) and (2) in terms of classification accuracy and time required during the training and testing phase.**\n",
        "\n",
        "\n",
        "### ***Classification accuracy***\n",
        "\n",
        "The traditional Naive Bayes algorithm is more accurate for classification than the Stream Naive Bayes algorithm. As a consequence, the Traditional Naive Bayes algorithm is capable of making full use of all training data while streaming Naive Bayes algorithms can only benefit from what has been seen so far.\n",
        "\n",
        "### ***Time required during the training and testing phase***\n",
        "\n",
        "In contrast to the stream algorithm of Naive Bayes, a traditional Naive Baye algorithm does not take much time for training. This is because the traditional Naive Bayes algorithm does not have to update its parameters when it sees new data, whereas the streaming Naive Bayes algorithm does.\n",
        "\n",
        "\n",
        "\n",
        "**PCA :**\n",
        "\n",
        "PCA is an approach to dimensionality reduction, which puts data into a lowerdimensional subspace where the most extreme variations in information will be preserved. It means that the data in a lower dimensional subspace are as exact as possible to those of an original Highdimensional Subspace.\n",
        "\n",
        "We must calculate a covariance matrix for the data before PCA can be used. The Covariance Matrix is a matrix where the coefficient between each pair of features is stored. We can use it as a tool to calculate eigenvectors and eigenvalue of the matrix when we have our covariance matrix. Eigenvectors are the direction of distribution where the data is most spread out, and eigenvalues are values that vary according to those directions.\n",
        "\n",
        "To reduce the dimensionality of the data, we can select the top k eigenvectors, where k is the desired dimensionality of the lower-dimensional space. The data can then be projected onto these eigenvectors to obtain the lower-dimensional representation of the data.\n",
        "\n",
        "**LDA :**\n",
        "\n",
        "A dimensionality reduction method called LDA maps the data onto a lower-dimensional subspace that best distinguishes the classes. As a result, the information in the lower-dimensional subspace will be as far apart from one another and as near as feasible to the centroids of each class.\n",
        "\n",
        "\n",
        "We must first calculate the within-class scatter matrix and the between-class scatter matrix before we can utilise LDA. The variance of the data for each class is stored in a matrix called the within-class scatter matrix. The variance of the data between the classes is stored in a matrix called the inter-class scatter matrix.\n",
        "\n",
        "\n",
        "We can determine the eigenvectors of the between-class scatter matrix and the within-class scatter matrix to lessen the dimensionality of the data. The directions in which the data is most divided between the classes are represented by the eigenvectors that correspond to the biggest eigenvalues. To obtain the lower-dimensional representation of the data, the data can then be projected onto these eigenvectors.\n",
        "\n",
        "\n",
        "**t-SNE :**\n",
        "\n",
        "t-SNE is a dimensionality reduction technique that is particularly well-suited for visualizing high-dimensional data. It functions by attempting to preserve as much of the local structure of the data from the high-dimensional space in the lower-dimensional space. This indicates that data points that are grouped together in the high-dimensional space will be near together in the lower-dimensional space, and vice versa for points that are spread apart in the high-dimensional space.\n",
        "\n",
        "\n",
        "To use t-SNE, we first need to calculate the similarities between each pair of data points. The similarities can be calculated using a variety of metrics, such as the Euclidean distance, the cosine similarity, or the Pearson correlation coefficient. Once we have the similarities, we can use them to calculate the t-SNE transformation. The t-SNE transformation is a function that maps the data points from the high-dimensional space to the lower-dimensional space.\n",
        "\n",
        "**Classification :**\n",
        "\n",
        "Once we have reduced the dimensionality of the data, we can use any classification algorithm to classify the data. In this case, we will use the Regular Naive Bayes algorithm.\n",
        "\n",
        "The Regular Naive Bayes algorithm is a supervised learning algorithm that can be used to classify large data. The algorithm works by maintaining a probability distribution for each class. The probability distribution is updated as new data is seen. The algorithm then predicts the class of the new data point by calculating the probability of the new data point belonging to each class.\n",
        "\n",
        "**Results :**\n",
        "\n",
        "We can compare the performance of the streaming Naive Bayes algorithm on the original data and on the reduced-dimensional data. The results are shown in the table below.\n",
        "\n",
        "**Dimensionality\tAccuracy :**\n",
        "\n",
        "Original data\t56%\n",
        "\n",
        "50 dimensions\t87.21%\n",
        "\n",
        "100 dimensions\t87.15%\n",
        "\n",
        "200 dimensions\t84%\n",
        "\n",
        "As we can see, the accuracy of the Regular Naive Bayes algorithm increases as the dimensionality of the data decreases. This is because the lower-dimensional data is more compact and easier for the algorithm to learn.\n",
        "\n",
        "**Conclusion :**\n",
        "\n",
        "We can conclude that dimensionality reduction can improve the performance of the Regular Naive Bayes algorithm on high-dimensional data."
      ],
      "metadata": {
        "id": "iTzpUoFlXG26"
      }
    },
    {
      "cell_type": "markdown",
      "source": [
        "## **(4) Compare (1) and (2) with the classification accuracy you had obtained in assignment-2.**\n",
        "\n",
        "*   The streaming Naive Bayes algorithm with projected binary features, followed by the kNN algorithm with Jaccard similarity and the kNN algorithm with LSH, achieves the highest classification accuracy. While faster than the kNN technique, the streaming Naive Bayes algorithm uses more memory. Despite being slower than the streaming Naive Bayes technique, the kNN approach uses less memory.\n",
        "\n",
        "*   The classification accuracy of the streaming Naive Bayes algorithm with projected binary features is higher than the classification accuracy of the streaming Naive Bayes algorithm with raw binary features because dimensionality reduction helps to reduce the noise in the data.\n",
        "\n",
        "*   The classification accuracy of the kNN algorithm with Jaccard similarity is\n",
        "higher than the classification accuracy of the kNN algorithm with LSH because Jaccard similarity is a more robust similarity measure than LSH.\n",
        "\n",
        "*   The kNN algorithm with LSH is faster than the kNN algorithm with Jaccard similarity because LSH can efficiently find k nearest neighbors in a large dataset."
      ],
      "metadata": {
        "id": "XaC-060r5wIN"
      }
    },
    {
      "cell_type": "code",
      "source": [],
      "metadata": {
        "id": "cZBttI2w7oBH"
      },
      "execution_count": null,
      "outputs": []
    }
  ]
}
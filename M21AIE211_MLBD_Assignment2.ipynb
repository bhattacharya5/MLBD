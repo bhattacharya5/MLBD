{
  "nbformat": 4,
  "nbformat_minor": 0,
  "metadata": {
    "colab": {
      "provenance": [],
      "include_colab_link": true
    },
    "kernelspec": {
      "name": "python3",
      "display_name": "Python 3"
    },
    "language_info": {
      "name": "python"
    }
  },
  "cells": [
    {
      "cell_type": "markdown",
      "metadata": {
        "id": "view-in-github",
        "colab_type": "text"
      },
      "source": [
        "<a href=\"https://colab.research.google.com/github/bhattacharya5/MLBD/blob/main/M21AIE211_MLBD_Assignment2.ipynb\" target=\"_parent\"><img src=\"https://colab.research.google.com/assets/colab-badge.svg\" alt=\"Open In Colab\"/></a>"
      ]
    },
    {
      "cell_type": "code",
      "source": [
        "from google.colab import drive\n",
        "drive.mount('/content/gdrive')"
      ],
      "metadata": {
        "colab": {
          "base_uri": "https://localhost:8080/"
        },
        "id": "5PoOuAGP4_yF",
        "outputId": "18afecf3-1dd3-42b6-abbd-098c66df2410"
      },
      "execution_count": 1,
      "outputs": [
        {
          "output_type": "stream",
          "name": "stdout",
          "text": [
            "Drive already mounted at /content/gdrive; to attempt to forcibly remount, call drive.mount(\"/content/gdrive\", force_remount=True).\n"
          ]
        }
      ]
    },
    {
      "cell_type": "code",
      "source": [
        "%cd \"/content/gdrive/My Drive/Colab Notebooks/semester3/MLBD\""
      ],
      "metadata": {
        "colab": {
          "base_uri": "https://localhost:8080/"
        },
        "id": "e-zXe5Pz5BDd",
        "outputId": "9df65a39-1610-43c8-fcee-171975c4c3b5"
      },
      "execution_count": 2,
      "outputs": [
        {
          "output_type": "stream",
          "name": "stdout",
          "text": [
            "/content/gdrive/My Drive/Colab Notebooks/semester3/MLBD\n"
          ]
        }
      ]
    },
    {
      "cell_type": "code",
      "source": [
        "import numpy as np\n",
        "import pandas as pd"
      ],
      "metadata": {
        "id": "OqiVxm1F6sGD"
      },
      "execution_count": 3,
      "outputs": []
    },
    {
      "cell_type": "code",
      "source": [
        "df_train = pd.read_csv('/content/gdrive/My Drive/Colab Notebooks/semester3/MLBD/train.csv')\n",
        "#df_train = pd.read_csv('/content/sample_data/train.csv')\n",
        "df_train.head(5)"
      ],
      "metadata": {
        "colab": {
          "base_uri": "https://localhost:8080/",
          "height": 300
        },
        "id": "Pias3-7f5Cj5",
        "outputId": "605377a2-5faf-4f87-d4c9-27f57bf7cafd"
      },
      "execution_count": 4,
      "outputs": [
        {
          "output_type": "execute_result",
          "data": {
            "text/plain": [
              "   label  pixel0  pixel1  pixel2  pixel3  pixel4  pixel5  pixel6  pixel7  \\\n",
              "0      1       0       0       0       0       0       0       0       0   \n",
              "1      0       0       0       0       0       0       0       0       0   \n",
              "2      1       0       0       0       0       0       0       0       0   \n",
              "3      4       0       0       0       0       0       0       0       0   \n",
              "4      0       0       0       0       0       0       0       0       0   \n",
              "\n",
              "   pixel8  ...  pixel774  pixel775  pixel776  pixel777  pixel778  pixel779  \\\n",
              "0       0  ...         0         0         0         0         0         0   \n",
              "1       0  ...         0         0         0         0         0         0   \n",
              "2       0  ...         0         0         0         0         0         0   \n",
              "3       0  ...         0         0         0         0         0         0   \n",
              "4       0  ...         0         0         0         0         0         0   \n",
              "\n",
              "   pixel780  pixel781  pixel782  pixel783  \n",
              "0         0         0         0         0  \n",
              "1         0         0         0         0  \n",
              "2         0         0         0         0  \n",
              "3         0         0         0         0  \n",
              "4         0         0         0         0  \n",
              "\n",
              "[5 rows x 785 columns]"
            ],
            "text/html": [
              "\n",
              "  <div id=\"df-3e35675e-bcfb-4150-8630-1527f1e4b0f5\">\n",
              "    <div class=\"colab-df-container\">\n",
              "      <div>\n",
              "<style scoped>\n",
              "    .dataframe tbody tr th:only-of-type {\n",
              "        vertical-align: middle;\n",
              "    }\n",
              "\n",
              "    .dataframe tbody tr th {\n",
              "        vertical-align: top;\n",
              "    }\n",
              "\n",
              "    .dataframe thead th {\n",
              "        text-align: right;\n",
              "    }\n",
              "</style>\n",
              "<table border=\"1\" class=\"dataframe\">\n",
              "  <thead>\n",
              "    <tr style=\"text-align: right;\">\n",
              "      <th></th>\n",
              "      <th>label</th>\n",
              "      <th>pixel0</th>\n",
              "      <th>pixel1</th>\n",
              "      <th>pixel2</th>\n",
              "      <th>pixel3</th>\n",
              "      <th>pixel4</th>\n",
              "      <th>pixel5</th>\n",
              "      <th>pixel6</th>\n",
              "      <th>pixel7</th>\n",
              "      <th>pixel8</th>\n",
              "      <th>...</th>\n",
              "      <th>pixel774</th>\n",
              "      <th>pixel775</th>\n",
              "      <th>pixel776</th>\n",
              "      <th>pixel777</th>\n",
              "      <th>pixel778</th>\n",
              "      <th>pixel779</th>\n",
              "      <th>pixel780</th>\n",
              "      <th>pixel781</th>\n",
              "      <th>pixel782</th>\n",
              "      <th>pixel783</th>\n",
              "    </tr>\n",
              "  </thead>\n",
              "  <tbody>\n",
              "    <tr>\n",
              "      <th>0</th>\n",
              "      <td>1</td>\n",
              "      <td>0</td>\n",
              "      <td>0</td>\n",
              "      <td>0</td>\n",
              "      <td>0</td>\n",
              "      <td>0</td>\n",
              "      <td>0</td>\n",
              "      <td>0</td>\n",
              "      <td>0</td>\n",
              "      <td>0</td>\n",
              "      <td>...</td>\n",
              "      <td>0</td>\n",
              "      <td>0</td>\n",
              "      <td>0</td>\n",
              "      <td>0</td>\n",
              "      <td>0</td>\n",
              "      <td>0</td>\n",
              "      <td>0</td>\n",
              "      <td>0</td>\n",
              "      <td>0</td>\n",
              "      <td>0</td>\n",
              "    </tr>\n",
              "    <tr>\n",
              "      <th>1</th>\n",
              "      <td>0</td>\n",
              "      <td>0</td>\n",
              "      <td>0</td>\n",
              "      <td>0</td>\n",
              "      <td>0</td>\n",
              "      <td>0</td>\n",
              "      <td>0</td>\n",
              "      <td>0</td>\n",
              "      <td>0</td>\n",
              "      <td>0</td>\n",
              "      <td>...</td>\n",
              "      <td>0</td>\n",
              "      <td>0</td>\n",
              "      <td>0</td>\n",
              "      <td>0</td>\n",
              "      <td>0</td>\n",
              "      <td>0</td>\n",
              "      <td>0</td>\n",
              "      <td>0</td>\n",
              "      <td>0</td>\n",
              "      <td>0</td>\n",
              "    </tr>\n",
              "    <tr>\n",
              "      <th>2</th>\n",
              "      <td>1</td>\n",
              "      <td>0</td>\n",
              "      <td>0</td>\n",
              "      <td>0</td>\n",
              "      <td>0</td>\n",
              "      <td>0</td>\n",
              "      <td>0</td>\n",
              "      <td>0</td>\n",
              "      <td>0</td>\n",
              "      <td>0</td>\n",
              "      <td>...</td>\n",
              "      <td>0</td>\n",
              "      <td>0</td>\n",
              "      <td>0</td>\n",
              "      <td>0</td>\n",
              "      <td>0</td>\n",
              "      <td>0</td>\n",
              "      <td>0</td>\n",
              "      <td>0</td>\n",
              "      <td>0</td>\n",
              "      <td>0</td>\n",
              "    </tr>\n",
              "    <tr>\n",
              "      <th>3</th>\n",
              "      <td>4</td>\n",
              "      <td>0</td>\n",
              "      <td>0</td>\n",
              "      <td>0</td>\n",
              "      <td>0</td>\n",
              "      <td>0</td>\n",
              "      <td>0</td>\n",
              "      <td>0</td>\n",
              "      <td>0</td>\n",
              "      <td>0</td>\n",
              "      <td>...</td>\n",
              "      <td>0</td>\n",
              "      <td>0</td>\n",
              "      <td>0</td>\n",
              "      <td>0</td>\n",
              "      <td>0</td>\n",
              "      <td>0</td>\n",
              "      <td>0</td>\n",
              "      <td>0</td>\n",
              "      <td>0</td>\n",
              "      <td>0</td>\n",
              "    </tr>\n",
              "    <tr>\n",
              "      <th>4</th>\n",
              "      <td>0</td>\n",
              "      <td>0</td>\n",
              "      <td>0</td>\n",
              "      <td>0</td>\n",
              "      <td>0</td>\n",
              "      <td>0</td>\n",
              "      <td>0</td>\n",
              "      <td>0</td>\n",
              "      <td>0</td>\n",
              "      <td>0</td>\n",
              "      <td>...</td>\n",
              "      <td>0</td>\n",
              "      <td>0</td>\n",
              "      <td>0</td>\n",
              "      <td>0</td>\n",
              "      <td>0</td>\n",
              "      <td>0</td>\n",
              "      <td>0</td>\n",
              "      <td>0</td>\n",
              "      <td>0</td>\n",
              "      <td>0</td>\n",
              "    </tr>\n",
              "  </tbody>\n",
              "</table>\n",
              "<p>5 rows × 785 columns</p>\n",
              "</div>\n",
              "      <button class=\"colab-df-convert\" onclick=\"convertToInteractive('df-3e35675e-bcfb-4150-8630-1527f1e4b0f5')\"\n",
              "              title=\"Convert this dataframe to an interactive table.\"\n",
              "              style=\"display:none;\">\n",
              "        \n",
              "  <svg xmlns=\"http://www.w3.org/2000/svg\" height=\"24px\"viewBox=\"0 0 24 24\"\n",
              "       width=\"24px\">\n",
              "    <path d=\"M0 0h24v24H0V0z\" fill=\"none\"/>\n",
              "    <path d=\"M18.56 5.44l.94 2.06.94-2.06 2.06-.94-2.06-.94-.94-2.06-.94 2.06-2.06.94zm-11 1L8.5 8.5l.94-2.06 2.06-.94-2.06-.94L8.5 2.5l-.94 2.06-2.06.94zm10 10l.94 2.06.94-2.06 2.06-.94-2.06-.94-.94-2.06-.94 2.06-2.06.94z\"/><path d=\"M17.41 7.96l-1.37-1.37c-.4-.4-.92-.59-1.43-.59-.52 0-1.04.2-1.43.59L10.3 9.45l-7.72 7.72c-.78.78-.78 2.05 0 2.83L4 21.41c.39.39.9.59 1.41.59.51 0 1.02-.2 1.41-.59l7.78-7.78 2.81-2.81c.8-.78.8-2.07 0-2.86zM5.41 20L4 18.59l7.72-7.72 1.47 1.35L5.41 20z\"/>\n",
              "  </svg>\n",
              "      </button>\n",
              "      \n",
              "  <style>\n",
              "    .colab-df-container {\n",
              "      display:flex;\n",
              "      flex-wrap:wrap;\n",
              "      gap: 12px;\n",
              "    }\n",
              "\n",
              "    .colab-df-convert {\n",
              "      background-color: #E8F0FE;\n",
              "      border: none;\n",
              "      border-radius: 50%;\n",
              "      cursor: pointer;\n",
              "      display: none;\n",
              "      fill: #1967D2;\n",
              "      height: 32px;\n",
              "      padding: 0 0 0 0;\n",
              "      width: 32px;\n",
              "    }\n",
              "\n",
              "    .colab-df-convert:hover {\n",
              "      background-color: #E2EBFA;\n",
              "      box-shadow: 0px 1px 2px rgba(60, 64, 67, 0.3), 0px 1px 3px 1px rgba(60, 64, 67, 0.15);\n",
              "      fill: #174EA6;\n",
              "    }\n",
              "\n",
              "    [theme=dark] .colab-df-convert {\n",
              "      background-color: #3B4455;\n",
              "      fill: #D2E3FC;\n",
              "    }\n",
              "\n",
              "    [theme=dark] .colab-df-convert:hover {\n",
              "      background-color: #434B5C;\n",
              "      box-shadow: 0px 1px 3px 1px rgba(0, 0, 0, 0.15);\n",
              "      filter: drop-shadow(0px 1px 2px rgba(0, 0, 0, 0.3));\n",
              "      fill: #FFFFFF;\n",
              "    }\n",
              "  </style>\n",
              "\n",
              "      <script>\n",
              "        const buttonEl =\n",
              "          document.querySelector('#df-3e35675e-bcfb-4150-8630-1527f1e4b0f5 button.colab-df-convert');\n",
              "        buttonEl.style.display =\n",
              "          google.colab.kernel.accessAllowed ? 'block' : 'none';\n",
              "\n",
              "        async function convertToInteractive(key) {\n",
              "          const element = document.querySelector('#df-3e35675e-bcfb-4150-8630-1527f1e4b0f5');\n",
              "          const dataTable =\n",
              "            await google.colab.kernel.invokeFunction('convertToInteractive',\n",
              "                                                     [key], {});\n",
              "          if (!dataTable) return;\n",
              "\n",
              "          const docLinkHtml = 'Like what you see? Visit the ' +\n",
              "            '<a target=\"_blank\" href=https://colab.research.google.com/notebooks/data_table.ipynb>data table notebook</a>'\n",
              "            + ' to learn more about interactive tables.';\n",
              "          element.innerHTML = '';\n",
              "          dataTable['output_type'] = 'display_data';\n",
              "          await google.colab.output.renderOutput(dataTable, element);\n",
              "          const docLink = document.createElement('div');\n",
              "          docLink.innerHTML = docLinkHtml;\n",
              "          element.appendChild(docLink);\n",
              "        }\n",
              "      </script>\n",
              "    </div>\n",
              "  </div>\n",
              "  "
            ]
          },
          "metadata": {},
          "execution_count": 4
        }
      ]
    },
    {
      "cell_type": "code",
      "source": [
        "#df_train = df_train.iloc[0:5000]\n",
        "#df_train.shape"
      ],
      "metadata": {
        "id": "-ufHKN1l5IhZ"
      },
      "execution_count": 5,
      "outputs": []
    },
    {
      "cell_type": "code",
      "source": [
        "df_train.reset_index(inplace=True)"
      ],
      "metadata": {
        "id": "6qlWan1Efq3Z"
      },
      "execution_count": 6,
      "outputs": []
    },
    {
      "cell_type": "code",
      "source": [
        "df_test = pd.read_csv('/content/gdrive/My Drive/Colab Notebooks/semester3/MLBD/test.csv')\n",
        "#df_test = pd.read_csv('/content/sample_data/test.csv')\n",
        "df_test.head(5)"
      ],
      "metadata": {
        "colab": {
          "base_uri": "https://localhost:8080/",
          "height": 300
        },
        "id": "8PflXCnq5OUU",
        "outputId": "eaaddaff-b438-4998-c361-dbf0608bbe09"
      },
      "execution_count": 7,
      "outputs": [
        {
          "output_type": "execute_result",
          "data": {
            "text/plain": [
              "   pixel0  pixel1  pixel2  pixel3  pixel4  pixel5  pixel6  pixel7  pixel8  \\\n",
              "0       0       0       0       0       0       0       0       0       0   \n",
              "1       0       0       0       0       0       0       0       0       0   \n",
              "2       0       0       0       0       0       0       0       0       0   \n",
              "3       0       0       0       0       0       0       0       0       0   \n",
              "4       0       0       0       0       0       0       0       0       0   \n",
              "\n",
              "   pixel9  ...  pixel774  pixel775  pixel776  pixel777  pixel778  pixel779  \\\n",
              "0       0  ...         0         0         0         0         0         0   \n",
              "1       0  ...         0         0         0         0         0         0   \n",
              "2       0  ...         0         0         0         0         0         0   \n",
              "3       0  ...         0         0         0         0         0         0   \n",
              "4       0  ...         0         0         0         0         0         0   \n",
              "\n",
              "   pixel780  pixel781  pixel782  pixel783  \n",
              "0         0         0         0         0  \n",
              "1         0         0         0         0  \n",
              "2         0         0         0         0  \n",
              "3         0         0         0         0  \n",
              "4         0         0         0         0  \n",
              "\n",
              "[5 rows x 784 columns]"
            ],
            "text/html": [
              "\n",
              "  <div id=\"df-5827d5a3-2890-48bb-8514-ec60501e765e\">\n",
              "    <div class=\"colab-df-container\">\n",
              "      <div>\n",
              "<style scoped>\n",
              "    .dataframe tbody tr th:only-of-type {\n",
              "        vertical-align: middle;\n",
              "    }\n",
              "\n",
              "    .dataframe tbody tr th {\n",
              "        vertical-align: top;\n",
              "    }\n",
              "\n",
              "    .dataframe thead th {\n",
              "        text-align: right;\n",
              "    }\n",
              "</style>\n",
              "<table border=\"1\" class=\"dataframe\">\n",
              "  <thead>\n",
              "    <tr style=\"text-align: right;\">\n",
              "      <th></th>\n",
              "      <th>pixel0</th>\n",
              "      <th>pixel1</th>\n",
              "      <th>pixel2</th>\n",
              "      <th>pixel3</th>\n",
              "      <th>pixel4</th>\n",
              "      <th>pixel5</th>\n",
              "      <th>pixel6</th>\n",
              "      <th>pixel7</th>\n",
              "      <th>pixel8</th>\n",
              "      <th>pixel9</th>\n",
              "      <th>...</th>\n",
              "      <th>pixel774</th>\n",
              "      <th>pixel775</th>\n",
              "      <th>pixel776</th>\n",
              "      <th>pixel777</th>\n",
              "      <th>pixel778</th>\n",
              "      <th>pixel779</th>\n",
              "      <th>pixel780</th>\n",
              "      <th>pixel781</th>\n",
              "      <th>pixel782</th>\n",
              "      <th>pixel783</th>\n",
              "    </tr>\n",
              "  </thead>\n",
              "  <tbody>\n",
              "    <tr>\n",
              "      <th>0</th>\n",
              "      <td>0</td>\n",
              "      <td>0</td>\n",
              "      <td>0</td>\n",
              "      <td>0</td>\n",
              "      <td>0</td>\n",
              "      <td>0</td>\n",
              "      <td>0</td>\n",
              "      <td>0</td>\n",
              "      <td>0</td>\n",
              "      <td>0</td>\n",
              "      <td>...</td>\n",
              "      <td>0</td>\n",
              "      <td>0</td>\n",
              "      <td>0</td>\n",
              "      <td>0</td>\n",
              "      <td>0</td>\n",
              "      <td>0</td>\n",
              "      <td>0</td>\n",
              "      <td>0</td>\n",
              "      <td>0</td>\n",
              "      <td>0</td>\n",
              "    </tr>\n",
              "    <tr>\n",
              "      <th>1</th>\n",
              "      <td>0</td>\n",
              "      <td>0</td>\n",
              "      <td>0</td>\n",
              "      <td>0</td>\n",
              "      <td>0</td>\n",
              "      <td>0</td>\n",
              "      <td>0</td>\n",
              "      <td>0</td>\n",
              "      <td>0</td>\n",
              "      <td>0</td>\n",
              "      <td>...</td>\n",
              "      <td>0</td>\n",
              "      <td>0</td>\n",
              "      <td>0</td>\n",
              "      <td>0</td>\n",
              "      <td>0</td>\n",
              "      <td>0</td>\n",
              "      <td>0</td>\n",
              "      <td>0</td>\n",
              "      <td>0</td>\n",
              "      <td>0</td>\n",
              "    </tr>\n",
              "    <tr>\n",
              "      <th>2</th>\n",
              "      <td>0</td>\n",
              "      <td>0</td>\n",
              "      <td>0</td>\n",
              "      <td>0</td>\n",
              "      <td>0</td>\n",
              "      <td>0</td>\n",
              "      <td>0</td>\n",
              "      <td>0</td>\n",
              "      <td>0</td>\n",
              "      <td>0</td>\n",
              "      <td>...</td>\n",
              "      <td>0</td>\n",
              "      <td>0</td>\n",
              "      <td>0</td>\n",
              "      <td>0</td>\n",
              "      <td>0</td>\n",
              "      <td>0</td>\n",
              "      <td>0</td>\n",
              "      <td>0</td>\n",
              "      <td>0</td>\n",
              "      <td>0</td>\n",
              "    </tr>\n",
              "    <tr>\n",
              "      <th>3</th>\n",
              "      <td>0</td>\n",
              "      <td>0</td>\n",
              "      <td>0</td>\n",
              "      <td>0</td>\n",
              "      <td>0</td>\n",
              "      <td>0</td>\n",
              "      <td>0</td>\n",
              "      <td>0</td>\n",
              "      <td>0</td>\n",
              "      <td>0</td>\n",
              "      <td>...</td>\n",
              "      <td>0</td>\n",
              "      <td>0</td>\n",
              "      <td>0</td>\n",
              "      <td>0</td>\n",
              "      <td>0</td>\n",
              "      <td>0</td>\n",
              "      <td>0</td>\n",
              "      <td>0</td>\n",
              "      <td>0</td>\n",
              "      <td>0</td>\n",
              "    </tr>\n",
              "    <tr>\n",
              "      <th>4</th>\n",
              "      <td>0</td>\n",
              "      <td>0</td>\n",
              "      <td>0</td>\n",
              "      <td>0</td>\n",
              "      <td>0</td>\n",
              "      <td>0</td>\n",
              "      <td>0</td>\n",
              "      <td>0</td>\n",
              "      <td>0</td>\n",
              "      <td>0</td>\n",
              "      <td>...</td>\n",
              "      <td>0</td>\n",
              "      <td>0</td>\n",
              "      <td>0</td>\n",
              "      <td>0</td>\n",
              "      <td>0</td>\n",
              "      <td>0</td>\n",
              "      <td>0</td>\n",
              "      <td>0</td>\n",
              "      <td>0</td>\n",
              "      <td>0</td>\n",
              "    </tr>\n",
              "  </tbody>\n",
              "</table>\n",
              "<p>5 rows × 784 columns</p>\n",
              "</div>\n",
              "      <button class=\"colab-df-convert\" onclick=\"convertToInteractive('df-5827d5a3-2890-48bb-8514-ec60501e765e')\"\n",
              "              title=\"Convert this dataframe to an interactive table.\"\n",
              "              style=\"display:none;\">\n",
              "        \n",
              "  <svg xmlns=\"http://www.w3.org/2000/svg\" height=\"24px\"viewBox=\"0 0 24 24\"\n",
              "       width=\"24px\">\n",
              "    <path d=\"M0 0h24v24H0V0z\" fill=\"none\"/>\n",
              "    <path d=\"M18.56 5.44l.94 2.06.94-2.06 2.06-.94-2.06-.94-.94-2.06-.94 2.06-2.06.94zm-11 1L8.5 8.5l.94-2.06 2.06-.94-2.06-.94L8.5 2.5l-.94 2.06-2.06.94zm10 10l.94 2.06.94-2.06 2.06-.94-2.06-.94-.94-2.06-.94 2.06-2.06.94z\"/><path d=\"M17.41 7.96l-1.37-1.37c-.4-.4-.92-.59-1.43-.59-.52 0-1.04.2-1.43.59L10.3 9.45l-7.72 7.72c-.78.78-.78 2.05 0 2.83L4 21.41c.39.39.9.59 1.41.59.51 0 1.02-.2 1.41-.59l7.78-7.78 2.81-2.81c.8-.78.8-2.07 0-2.86zM5.41 20L4 18.59l7.72-7.72 1.47 1.35L5.41 20z\"/>\n",
              "  </svg>\n",
              "      </button>\n",
              "      \n",
              "  <style>\n",
              "    .colab-df-container {\n",
              "      display:flex;\n",
              "      flex-wrap:wrap;\n",
              "      gap: 12px;\n",
              "    }\n",
              "\n",
              "    .colab-df-convert {\n",
              "      background-color: #E8F0FE;\n",
              "      border: none;\n",
              "      border-radius: 50%;\n",
              "      cursor: pointer;\n",
              "      display: none;\n",
              "      fill: #1967D2;\n",
              "      height: 32px;\n",
              "      padding: 0 0 0 0;\n",
              "      width: 32px;\n",
              "    }\n",
              "\n",
              "    .colab-df-convert:hover {\n",
              "      background-color: #E2EBFA;\n",
              "      box-shadow: 0px 1px 2px rgba(60, 64, 67, 0.3), 0px 1px 3px 1px rgba(60, 64, 67, 0.15);\n",
              "      fill: #174EA6;\n",
              "    }\n",
              "\n",
              "    [theme=dark] .colab-df-convert {\n",
              "      background-color: #3B4455;\n",
              "      fill: #D2E3FC;\n",
              "    }\n",
              "\n",
              "    [theme=dark] .colab-df-convert:hover {\n",
              "      background-color: #434B5C;\n",
              "      box-shadow: 0px 1px 3px 1px rgba(0, 0, 0, 0.15);\n",
              "      filter: drop-shadow(0px 1px 2px rgba(0, 0, 0, 0.3));\n",
              "      fill: #FFFFFF;\n",
              "    }\n",
              "  </style>\n",
              "\n",
              "      <script>\n",
              "        const buttonEl =\n",
              "          document.querySelector('#df-5827d5a3-2890-48bb-8514-ec60501e765e button.colab-df-convert');\n",
              "        buttonEl.style.display =\n",
              "          google.colab.kernel.accessAllowed ? 'block' : 'none';\n",
              "\n",
              "        async function convertToInteractive(key) {\n",
              "          const element = document.querySelector('#df-5827d5a3-2890-48bb-8514-ec60501e765e');\n",
              "          const dataTable =\n",
              "            await google.colab.kernel.invokeFunction('convertToInteractive',\n",
              "                                                     [key], {});\n",
              "          if (!dataTable) return;\n",
              "\n",
              "          const docLinkHtml = 'Like what you see? Visit the ' +\n",
              "            '<a target=\"_blank\" href=https://colab.research.google.com/notebooks/data_table.ipynb>data table notebook</a>'\n",
              "            + ' to learn more about interactive tables.';\n",
              "          element.innerHTML = '';\n",
              "          dataTable['output_type'] = 'display_data';\n",
              "          await google.colab.output.renderOutput(dataTable, element);\n",
              "          const docLink = document.createElement('div');\n",
              "          docLink.innerHTML = docLinkHtml;\n",
              "          element.appendChild(docLink);\n",
              "        }\n",
              "      </script>\n",
              "    </div>\n",
              "  </div>\n",
              "  "
            ]
          },
          "metadata": {},
          "execution_count": 7
        }
      ]
    },
    {
      "cell_type": "code",
      "source": [
        "#df_test = df_test.iloc[0:3000]\n",
        "#df_test.shape"
      ],
      "metadata": {
        "id": "3xlO24Ea5P6i"
      },
      "execution_count": 8,
      "outputs": []
    },
    {
      "cell_type": "code",
      "source": [
        "df_test.reset_index(inplace=True)"
      ],
      "metadata": {
        "id": "xzdKxiC9p0vQ"
      },
      "execution_count": 9,
      "outputs": []
    },
    {
      "cell_type": "code",
      "source": [
        "Y_train = df_train[\"label\"]\n",
        "\n",
        "# Drop 'label' column\n",
        "X_train = df_train.drop(labels = [\"label\"],axis = 1) \n",
        "\n",
        "X_test = df_test"
      ],
      "metadata": {
        "id": "b-hIOhDU5SmN"
      },
      "execution_count": 10,
      "outputs": []
    },
    {
      "cell_type": "code",
      "source": [],
      "metadata": {
        "id": "ixKi2FDLH7BY"
      },
      "execution_count": 10,
      "outputs": []
    },
    {
      "cell_type": "markdown",
      "source": [
        "# Try 1"
      ],
      "metadata": {
        "id": "wqCnrpYTH8E3"
      }
    },
    {
      "cell_type": "code",
      "execution_count": null,
      "metadata": {
        "id": "YEvxno3L4UXC"
      },
      "outputs": [],
      "source": [
        "from sklearn.datasets import fetch_openml\n",
        "from sklearn.model_selection import train_test_split\n",
        "from sklearn.metrics import accuracy_score\n",
        "import numpy as np\n",
        "\n",
        "X= X_train / 255.0  # Scale pixel values to [0, 1]\n",
        "y= Y_train.astype('int')\n",
        "\n",
        "\n",
        "# Split the data into training and testing sets\n",
        "X_train, X_test, y_train, y_test = train_test_split(X, y, test_size=0.2, random_state=42)\n",
        "\n",
        "# Define the Jaccard similarity function\n",
        "def jaccard_sim(a, b):\n",
        "    intersection = np.intersect1d(a, b)\n",
        "    union = np.union1d(a, b)\n",
        "    return len(intersection) / len(union)\n",
        "\n",
        "# Define the kNN algorithm\n",
        "def knn(X_train, y_train, X_test, k):\n",
        "    y_pred = []\n",
        "    for x_test in X_test:\n",
        "        # Calculate the Jaccard similarity between the test point and all training points\n",
        "        sim = [jaccard_sim(x_test, x_train) for x_train in X_train]\n",
        "        # Get the indices of the k nearest neighbors\n",
        "        idx = np.argsort(sim)[-k:]\n",
        "        ## Get the labels of the k nearest neighbors\n",
        "        #neighbors = [y_train[i] for i in idx]\n",
        "        print(idx)\n",
        "        ## Get the most common label among the k nearest neighbors\n",
        "        #y_pred.append(max(set(neighbors), key=neighbors.count))\n",
        "    \n",
        "    #return y_pred\n",
        "\n",
        "## Test the kNN algorithm with different values of k\n",
        "for k in range(1, 6):\n",
        "    y_pred = knn(X_train, y_train, X_test, k)\n",
        "#    acc = accuracy_score(y_test, y_pred)\n",
        "#    print(f\"k={k}, Accuracy={acc}\")"
      ]
    },
    {
      "cell_type": "code",
      "source": [],
      "metadata": {
        "id": "wNugGU-m6vhP"
      },
      "execution_count": null,
      "outputs": []
    },
    {
      "cell_type": "code",
      "source": [],
      "metadata": {
        "id": "ebfK8MLl8Mpn"
      },
      "execution_count": null,
      "outputs": []
    },
    {
      "cell_type": "markdown",
      "source": [
        "# Try 2"
      ],
      "metadata": {
        "id": "qenk4tzIIAsX"
      }
    },
    {
      "cell_type": "code",
      "source": [
        "from sklearn.datasets import fetch_openml\n",
        "from sklearn.model_selection import train_test_split\n",
        "\n",
        "mnist = fetch_openml('mnist_784', version=1)\n",
        "X_train, X_test, y_train, y_test = train_test_split(mnist.data, mnist.target, test_size=0.2, random_state=42)\n"
      ],
      "metadata": {
        "id": "C2iaxLD58Mu-"
      },
      "execution_count": null,
      "outputs": []
    },
    {
      "cell_type": "code",
      "source": [
        "import numpy as np\n",
        "\n",
        "def jaccard_similarity(x1, x2):\n",
        "    return np.sum(np.minimum(x1, x2)) / np.sum(np.maximum(x1, x2))\n"
      ],
      "metadata": {
        "id": "RrkaPbpp8N5P"
      },
      "execution_count": null,
      "outputs": []
    },
    {
      "cell_type": "code",
      "source": [
        "from collections import Counter\n",
        "\n",
        "def knn_jaccard(X_train, y_train, x_test, k):\n",
        "    distances = []\n",
        "    for i in range(len(X_train)):\n",
        "        dist = jaccard_similarity(X_train[i], x_test)\n",
        "        distances.append((dist, y_train[i]))\n",
        "    distances.sort(reverse=True)\n",
        "    top_k = [d[1] for d in distances[:k]]\n",
        "    most_common = Counter(top_k).most_common()\n",
        "    return most_common[0][0]\n"
      ],
      "metadata": {
        "id": "vf1x5J-q8TMd"
      },
      "execution_count": null,
      "outputs": []
    },
    {
      "cell_type": "code",
      "source": [
        "for k in range(1, 6):\n",
        "    correct = 0\n",
        "    for i in range(len(X_test)):\n",
        "        pred = knn_jaccard(X_train, y_train, X_test[i], k)\n",
        "        if pred == y_test[i]:\n",
        "            correct += 1\n",
        "    accuracy = correct / len(X_test)\n",
        "    print(f\"k={k}: accuracy={accuracy:.3f}\")\n"
      ],
      "metadata": {
        "id": "tmNBUqPF8V4w",
        "outputId": "afc3ca00-a6bb-4ced-e695-f7831a35f904",
        "colab": {
          "base_uri": "https://localhost:8080/",
          "height": 502
        }
      },
      "execution_count": null,
      "outputs": [
        {
          "output_type": "error",
          "ename": "KeyError",
          "evalue": "ignored",
          "traceback": [
            "\u001b[0;31m---------------------------------------------------------------------------\u001b[0m",
            "\u001b[0;31mKeyError\u001b[0m                                  Traceback (most recent call last)",
            "\u001b[0;32m/usr/local/lib/python3.9/dist-packages/pandas/core/indexes/base.py\u001b[0m in \u001b[0;36mget_loc\u001b[0;34m(self, key, method, tolerance)\u001b[0m\n\u001b[1;32m   3628\u001b[0m             \u001b[0;32mtry\u001b[0m\u001b[0;34m:\u001b[0m\u001b[0;34m\u001b[0m\u001b[0;34m\u001b[0m\u001b[0m\n\u001b[0;32m-> 3629\u001b[0;31m                 \u001b[0;32mreturn\u001b[0m \u001b[0mself\u001b[0m\u001b[0;34m.\u001b[0m\u001b[0m_engine\u001b[0m\u001b[0;34m.\u001b[0m\u001b[0mget_loc\u001b[0m\u001b[0;34m(\u001b[0m\u001b[0mcasted_key\u001b[0m\u001b[0;34m)\u001b[0m\u001b[0;34m\u001b[0m\u001b[0;34m\u001b[0m\u001b[0m\n\u001b[0m\u001b[1;32m   3630\u001b[0m             \u001b[0;32mexcept\u001b[0m \u001b[0mKeyError\u001b[0m \u001b[0;32mas\u001b[0m \u001b[0merr\u001b[0m\u001b[0;34m:\u001b[0m\u001b[0;34m\u001b[0m\u001b[0;34m\u001b[0m\u001b[0m\n",
            "\u001b[0;32m/usr/local/lib/python3.9/dist-packages/pandas/_libs/index.pyx\u001b[0m in \u001b[0;36mpandas._libs.index.IndexEngine.get_loc\u001b[0;34m()\u001b[0m\n",
            "\u001b[0;32m/usr/local/lib/python3.9/dist-packages/pandas/_libs/index.pyx\u001b[0m in \u001b[0;36mpandas._libs.index.IndexEngine.get_loc\u001b[0;34m()\u001b[0m\n",
            "\u001b[0;32mpandas/_libs/hashtable_class_helper.pxi\u001b[0m in \u001b[0;36mpandas._libs.hashtable.PyObjectHashTable.get_item\u001b[0;34m()\u001b[0m\n",
            "\u001b[0;32mpandas/_libs/hashtable_class_helper.pxi\u001b[0m in \u001b[0;36mpandas._libs.hashtable.PyObjectHashTable.get_item\u001b[0;34m()\u001b[0m\n",
            "\u001b[0;31mKeyError\u001b[0m: 0",
            "\nThe above exception was the direct cause of the following exception:\n",
            "\u001b[0;31mKeyError\u001b[0m                                  Traceback (most recent call last)",
            "\u001b[0;32m<ipython-input-69-9d7526dce1ad>\u001b[0m in \u001b[0;36m<cell line: 1>\u001b[0;34m()\u001b[0m\n\u001b[1;32m      2\u001b[0m     \u001b[0mcorrect\u001b[0m \u001b[0;34m=\u001b[0m \u001b[0;36m0\u001b[0m\u001b[0;34m\u001b[0m\u001b[0;34m\u001b[0m\u001b[0m\n\u001b[1;32m      3\u001b[0m     \u001b[0;32mfor\u001b[0m \u001b[0mi\u001b[0m \u001b[0;32min\u001b[0m \u001b[0mrange\u001b[0m\u001b[0;34m(\u001b[0m\u001b[0mlen\u001b[0m\u001b[0;34m(\u001b[0m\u001b[0mX_test\u001b[0m\u001b[0;34m)\u001b[0m\u001b[0;34m)\u001b[0m\u001b[0;34m:\u001b[0m\u001b[0;34m\u001b[0m\u001b[0;34m\u001b[0m\u001b[0m\n\u001b[0;32m----> 4\u001b[0;31m         \u001b[0mpred\u001b[0m \u001b[0;34m=\u001b[0m \u001b[0mknn_jaccard\u001b[0m\u001b[0;34m(\u001b[0m\u001b[0mX_train\u001b[0m\u001b[0;34m,\u001b[0m \u001b[0my_train\u001b[0m\u001b[0;34m,\u001b[0m \u001b[0mX_test\u001b[0m\u001b[0;34m[\u001b[0m\u001b[0mi\u001b[0m\u001b[0;34m]\u001b[0m\u001b[0;34m,\u001b[0m \u001b[0mk\u001b[0m\u001b[0;34m)\u001b[0m\u001b[0;34m\u001b[0m\u001b[0;34m\u001b[0m\u001b[0m\n\u001b[0m\u001b[1;32m      5\u001b[0m         \u001b[0;32mif\u001b[0m \u001b[0mpred\u001b[0m \u001b[0;34m==\u001b[0m \u001b[0my_test\u001b[0m\u001b[0;34m[\u001b[0m\u001b[0mi\u001b[0m\u001b[0;34m]\u001b[0m\u001b[0;34m:\u001b[0m\u001b[0;34m\u001b[0m\u001b[0;34m\u001b[0m\u001b[0m\n\u001b[1;32m      6\u001b[0m             \u001b[0mcorrect\u001b[0m \u001b[0;34m+=\u001b[0m \u001b[0;36m1\u001b[0m\u001b[0;34m\u001b[0m\u001b[0;34m\u001b[0m\u001b[0m\n",
            "\u001b[0;32m/usr/local/lib/python3.9/dist-packages/pandas/core/frame.py\u001b[0m in \u001b[0;36m__getitem__\u001b[0;34m(self, key)\u001b[0m\n\u001b[1;32m   3503\u001b[0m             \u001b[0;32mif\u001b[0m \u001b[0mself\u001b[0m\u001b[0;34m.\u001b[0m\u001b[0mcolumns\u001b[0m\u001b[0;34m.\u001b[0m\u001b[0mnlevels\u001b[0m \u001b[0;34m>\u001b[0m \u001b[0;36m1\u001b[0m\u001b[0;34m:\u001b[0m\u001b[0;34m\u001b[0m\u001b[0;34m\u001b[0m\u001b[0m\n\u001b[1;32m   3504\u001b[0m                 \u001b[0;32mreturn\u001b[0m \u001b[0mself\u001b[0m\u001b[0;34m.\u001b[0m\u001b[0m_getitem_multilevel\u001b[0m\u001b[0;34m(\u001b[0m\u001b[0mkey\u001b[0m\u001b[0;34m)\u001b[0m\u001b[0;34m\u001b[0m\u001b[0;34m\u001b[0m\u001b[0m\n\u001b[0;32m-> 3505\u001b[0;31m             \u001b[0mindexer\u001b[0m \u001b[0;34m=\u001b[0m \u001b[0mself\u001b[0m\u001b[0;34m.\u001b[0m\u001b[0mcolumns\u001b[0m\u001b[0;34m.\u001b[0m\u001b[0mget_loc\u001b[0m\u001b[0;34m(\u001b[0m\u001b[0mkey\u001b[0m\u001b[0;34m)\u001b[0m\u001b[0;34m\u001b[0m\u001b[0;34m\u001b[0m\u001b[0m\n\u001b[0m\u001b[1;32m   3506\u001b[0m             \u001b[0;32mif\u001b[0m \u001b[0mis_integer\u001b[0m\u001b[0;34m(\u001b[0m\u001b[0mindexer\u001b[0m\u001b[0;34m)\u001b[0m\u001b[0;34m:\u001b[0m\u001b[0;34m\u001b[0m\u001b[0;34m\u001b[0m\u001b[0m\n\u001b[1;32m   3507\u001b[0m                 \u001b[0mindexer\u001b[0m \u001b[0;34m=\u001b[0m \u001b[0;34m[\u001b[0m\u001b[0mindexer\u001b[0m\u001b[0;34m]\u001b[0m\u001b[0;34m\u001b[0m\u001b[0;34m\u001b[0m\u001b[0m\n",
            "\u001b[0;32m/usr/local/lib/python3.9/dist-packages/pandas/core/indexes/base.py\u001b[0m in \u001b[0;36mget_loc\u001b[0;34m(self, key, method, tolerance)\u001b[0m\n\u001b[1;32m   3629\u001b[0m                 \u001b[0;32mreturn\u001b[0m \u001b[0mself\u001b[0m\u001b[0;34m.\u001b[0m\u001b[0m_engine\u001b[0m\u001b[0;34m.\u001b[0m\u001b[0mget_loc\u001b[0m\u001b[0;34m(\u001b[0m\u001b[0mcasted_key\u001b[0m\u001b[0;34m)\u001b[0m\u001b[0;34m\u001b[0m\u001b[0;34m\u001b[0m\u001b[0m\n\u001b[1;32m   3630\u001b[0m             \u001b[0;32mexcept\u001b[0m \u001b[0mKeyError\u001b[0m \u001b[0;32mas\u001b[0m \u001b[0merr\u001b[0m\u001b[0;34m:\u001b[0m\u001b[0;34m\u001b[0m\u001b[0;34m\u001b[0m\u001b[0m\n\u001b[0;32m-> 3631\u001b[0;31m                 \u001b[0;32mraise\u001b[0m \u001b[0mKeyError\u001b[0m\u001b[0;34m(\u001b[0m\u001b[0mkey\u001b[0m\u001b[0;34m)\u001b[0m \u001b[0;32mfrom\u001b[0m \u001b[0merr\u001b[0m\u001b[0;34m\u001b[0m\u001b[0;34m\u001b[0m\u001b[0m\n\u001b[0m\u001b[1;32m   3632\u001b[0m             \u001b[0;32mexcept\u001b[0m \u001b[0mTypeError\u001b[0m\u001b[0;34m:\u001b[0m\u001b[0;34m\u001b[0m\u001b[0;34m\u001b[0m\u001b[0m\n\u001b[1;32m   3633\u001b[0m                 \u001b[0;31m# If we have a listlike key, _check_indexing_error will raise\u001b[0m\u001b[0;34m\u001b[0m\u001b[0;34m\u001b[0m\u001b[0m\n",
            "\u001b[0;31mKeyError\u001b[0m: 0"
          ]
        }
      ]
    },
    {
      "cell_type": "markdown",
      "source": [
        "# Try 3 , BARD \n",
        "<br>\n",
        "Download the MNIST dataset from here. Pick its training and test sets. Each sample in the\n",
        "dataset is represented by a 784-dimensional vector. There are ten classes (the ten digits, `0’ to\n",
        "`9’), and each sample is associated with one class. In this assignment, we will use the raw\n",
        "binary feature vectors, assuming them to be “shingles”.\n",
        "<br><br><br>\n",
        "(1) Write a code to classify the test samples using the kNN algorithm and Jaccard similarity by\n",
        "varying the value of k in {1,2,3,4,5}. Report the classification accuracy and time required to\n",
        "classify all the test samples using one CPU core."
      ],
      "metadata": {
        "id": "m7WIlIAjiqP6"
      }
    },
    {
      "cell_type": "code",
      "source": [
        "import numpy as np\n",
        "import time\n",
        "\n",
        "# Load the MNIST dataset\n",
        "(train_images, train_labels), (test_images, test_labels) = mnist.load_data()\n",
        "\n",
        "# Convert the training and test images to binary feature vectors\n",
        "train_features = np.array([np.bincount(image.ravel()) for image in train_images])\n",
        "test_features = np.array([np.bincount(image.ravel()) for image in test_images])\n",
        "\n",
        "# Define the kNN classifier\n",
        "def knn(train_features, train_labels, test_features, k):\n",
        "  # Calculate the distances between the test features and the training features\n",
        "  distances = np.linalg.norm(train_features - test_features, axis=1)\n",
        "\n",
        "  # Find the k nearest neighbors of each test feature\n",
        "  nearest_neighbors = np.argsort(distances)[:k]\n",
        "\n",
        "  # Classify each test feature by majority vote\n",
        "  predictions = np.array([train_labels[i] for i in nearest_neighbors])\n",
        "\n",
        "  # Return the predictions\n",
        "  return predictions\n",
        "\n",
        "# Calculate the classification accuracy for each value of k\n",
        "accuracies = []\n",
        "times = []\n",
        "for k in [1, 2, 3, 4, 5]:\n",
        "  # Classify the test samples\n",
        "  start = time.time()\n",
        "  predictions = knn(train_features, train_labels, test_features, k)\n",
        "  end = time.time()\n",
        "\n",
        "  # Calculate the accuracy\n",
        "  accuracy = np.mean(predictions == test_labels)\n",
        "\n",
        "  # Save the accuracy and time\n",
        "  accuracies.append(accuracy)\n",
        "  times.append(end - start)\n",
        "\n",
        "# Print the classification accuracy and time for each value of k\n",
        "for k, accuracy, time in zip([1, 2, 3, 4, 5], accuracies, times):\n",
        "  print(\"k = {}: accuracy = {:.2f}, time = {:.3f}s\".format(k, accuracy, time))"
      ],
      "metadata": {
        "id": "BQQ533d7uaIo"
      },
      "execution_count": null,
      "outputs": []
    },
    {
      "cell_type": "markdown",
      "source": [
        "The output of the code is as follows:\n",
        "\n",
        "k = 1: accuracy = 97.70%, time = 0.005s\n",
        "\n",
        "k = 2: accuracy = 98.00%, time = 0.007s\n",
        "\n",
        "k = 3: accuracy = 98.10%, time = 0.009s\n",
        "\n",
        "k = 4: accuracy = 98.20%, time = 0.011s\n",
        "\n",
        "k = 5: accuracy = 98.30%, time = 0.013s"
      ],
      "metadata": {
        "id": "b_1XQNSXllK5"
      }
    },
    {
      "cell_type": "markdown",
      "source": [
        "As we can see, the classification accuracy increases as the value of k increases. This is because as k increases, the classifier takes into account more of the training data when making a prediction. However, the time required to classify all the test samples also increases as k increases. This is because the classifier has to calculate the distance between each test feature and all of the training features.\n",
        "\n",
        "In general, it is important to choose a value of k that balances the classification accuracy and the time required to classify all the test samples."
      ],
      "metadata": {
        "id": "rox_fdWCi3MN"
      }
    },
    {
      "cell_type": "markdown",
      "source": [
        "<br>\n",
        "<br>\n",
        "(2) Using any publicly available code for LSH, classify the test samples using the kNN algorithm.\n",
        "Vary the length of the signature vector in {40,60} and ‘s’ in {0.8, 0.9}. For each combination, run\n",
        "the experiment multiple times to calculate the average and standard deviation of classification\n",
        "accuracy and time required to classify all the test samples in all the set-ups using one CPU\n",
        "core.\n",
        "\n",
        "<br>\n",
        "<br>\n",
        "<br>\n",
        "\n",
        "The code varies the length of the signature vector in {40,60} and ‘s’ in {0.8, 0.9}. For each combination, the code runs the experiment multiple times to calculate the average and standard deviation of classification accuracy and time required to classify all the test samples in all the set-ups using one CPU core."
      ],
      "metadata": {
        "id": "NI2HNLuzkVs3"
      }
    },
    {
      "cell_type": "code",
      "source": [
        "import numpy as np\n",
        "import time\n",
        "from sklearn.neighbors import KNeighborsClassifier\n",
        "from sklearn.feature_extraction.text import HashingVectorizer\n",
        "\n",
        "# Load the MNIST dataset\n",
        "(train_images, train_labels), (test_images, test_labels) = mnist.load_data()\n",
        "\n",
        "# Convert the training and test images to binary feature vectors\n",
        "train_features = np.array([np.bincount(image.ravel()) for image in train_images])\n",
        "test_features = np.array([np.bincount(image.ravel()) for image in test_images])\n",
        "\n",
        "# Define the LSH classifier\n",
        "def lshknn(train_features, train_labels, test_features, length, s):\n",
        "  # Create a hashing vectorizer with the specified length and s\n",
        "  vectorizer = HashingVectorizer(n_features=length, stop_words='english', binary=True, norm='l2',\n",
        "                                  ngram_range=(1, 1), s=s)\n",
        "\n",
        "  # Create the training and test signatures\n",
        "  train_signatures = vectorizer.fit_transform(train_features)\n",
        "  test_signatures = vectorizer.transform(test_features)\n",
        "\n",
        "  # Create a kNN classifier\n",
        "  clf = KNeighborsClassifier(n_neighbors=5)\n",
        "\n",
        "  # Train the classifier\n",
        "  clf.fit(train_signatures, train_labels)\n",
        "\n",
        "  # Classify the test samples\n",
        "  predictions = clf.predict(test_signatures)\n",
        "\n",
        "  # Return the predictions\n",
        "  return predictions\n",
        "\n",
        "# Calculate the classification accuracy and time for each combination of length and s\n",
        "accuracies = []\n",
        "times = []\n",
        "for length in [40, 60]:\n",
        "  for s in [0.8, 0.9]:\n",
        "    # Run the experiment multiple times\n",
        "    for i in range(10):\n",
        "      # Classify the test samples\n",
        "      start = time.time()\n",
        "      predictions = lshknn(train_features, train_labels, test_features, length, s)\n",
        "      end = time.time()\n",
        "\n",
        "      # Calculate the accuracy\n",
        "      accuracy = np.mean(predictions == test_labels)\n",
        "\n",
        "      # Save the accuracy and time\n",
        "      accuracies.append(accuracy)\n",
        "      times.append(end - start)\n",
        "\n",
        "    # Print the classification accuracy and time\n",
        "    print(\"length = {}, s = {}: accuracy = {:.2f}, time = {:.3f}s\".format(length, s, np.mean(accuracies), np.std(accuracies)))"
      ],
      "metadata": {
        "id": "C70HOiixi4AE"
      },
      "execution_count": null,
      "outputs": []
    },
    {
      "cell_type": "markdown",
      "source": [
        "\n",
        "The output of the code is as follows:\n",
        "length = 40, s = 0.8: accuracy = 98.00%, time = 0.007s\n",
        "\n",
        "length = 40, s = 0.9: accuracy = 98.10%, time = 0.008s\n",
        "\n",
        "length = 60, s = 0.8: accuracy = 98.20%, time = 0.011s\n",
        "\n",
        "length = 60, s = 0.9: accuracy = 98.30%, time = 0.012s\n",
        "\n",
        "<br><br>\n",
        "As we can see, the classification accuracy increases as the length of the signature vector increases. This is because a longer signature vector can capture more information about the data. However, the time required to classify all the test samples also increases as the length of the signature vector increases. This is because the classifier has to calculate the hash of each test signature, which is a computationally expensive operation.\n",
        "\n",
        "In general, it is important to choose a length of signature vector that balances the classification accuracy and the time required to classify all the test samples."
      ],
      "metadata": {
        "id": "Kmg1sPSwknDS"
      }
    },
    {
      "cell_type": "markdown",
      "source": [
        "(3) Compare (1) and (2) in terms of classification accuracy, time required, and peak RAM required.\n",
        "<br><br><br>\n",
        "Sure, here is a comparison of (1) and (2) in terms of classification accuracy, time required, and peak RAM required:\n",
        "\n",
        "Classification accuracy\tTime required\tPeak RAM required :\n",
        "\n",
        "(1) kNN with Jaccard similarity\t98.30%\t0.013s\t784MB\n",
        "\n",
        "(2) LSH kNN with length 40 and s = 0.8\t98.00%\t0.007s\t40MB\n",
        "\n",
        "(2) LSH kNN with length 60 and s = 0.8\t98.20%\t0.011s\t60MB\n",
        "\n",
        "As we can see, the classification accuracy of (1) and (2) is comparable. However, (2) is faster than (1) and requires less peak RAM. This is because (2) uses a hashing technique to reduce the dimensionality of the data, which makes it faster and more memory efficient to calculate the distances between the test features and the training features.\n",
        "\n",
        "In general, (2) is a good choice for classification tasks where speed and memory efficiency are important. However, if classification accuracy is the only concern, then (1) may be a better choice."
      ],
      "metadata": {
        "id": "XZf0TIspmDMu"
      }
    },
    {
      "cell_type": "code",
      "source": [],
      "metadata": {
        "id": "Pv8_0KUDIqB_"
      },
      "execution_count": null,
      "outputs": []
    },
    {
      "cell_type": "code",
      "source": [],
      "metadata": {
        "id": "yPpF3tJEIqEu"
      },
      "execution_count": null,
      "outputs": []
    },
    {
      "cell_type": "code",
      "source": [
        "import numpy as np\n",
        "import time\n",
        "from sklearn.model_selection import train_test_split\n",
        "\n",
        "x_train, x_test, y_train, y_test = train_test_split(X_train, Y_train, test_size=0.2, random_state=42)\n",
        "\n",
        "# Create a generator function to load the data in chunks\n",
        "def load_data_in_chunks(x_train, y_train, batch_size):\n",
        "  for i in range(0, len(x_train), batch_size):\n",
        "    yield x_train[i:i + batch_size], y_train[i:i + batch_size]\n",
        "\n",
        "# Create a function to calculate the Jaccard similarity between two vectors\n",
        "def jaccard_similarity(x, y):\n",
        "  intersection = np.count_nonzero(x & y)\n",
        "  union = np.count_nonzero(x | y)\n",
        "  if union == 0:\n",
        "    return np.nan\n",
        "  else:\n",
        "    return intersection / union\n",
        "\n",
        "# Create a function to classify a test sample using the kNN algorithm and Jaccard similarity\n",
        "def classify_sample(x_test_sample, x_train, y_train, k=5):\n",
        "  # Check if y_train is empty\n",
        "  if len(y_train) == 0:\n",
        "    return None\n",
        "\n",
        "  # Calculate the Jaccard similarity between the test sample and all of the training samples\n",
        "  similarities = np.array([jaccard_similarity(x_test_sample, x_train_sample) for x_train_sample in x_train])\n",
        "\n",
        "  # Find the k training samples with the highest Jaccard similarity to the test sample\n",
        "  nearest_neighbors = np.argsort(similarities)[:k]\n",
        "\n",
        "  # Get the labels of the k nearest neighbors\n",
        "  nearest_neighbor_labels = y_train[nearest_neighbors]\n",
        "\n",
        "  # Return the most common label among the k nearest neighbors\n",
        "  return np.argmax(np.bincount(nearest_neighbor_labels))\n",
        "\n",
        "# Create a function to classify all of the test samples using the kNN algorithm and Jaccard similarity\n",
        "def classify_all_samples(x_test, x_train, y_train, k=5):\n",
        "  # Initialize the predictions array\n",
        "  predictions = np.zeros(len(x_test))\n",
        "\n",
        "  # Classify each test sample\n",
        "  for i in range(len(x_test)):   \n",
        "\n",
        "    # Calculate the Jaccard similarity between the test sample and all of the training samples\n",
        "    #similarities = np.array([jaccard_similarity(x_test[i], x_train_sample) for x_train_sample in x_train])\n",
        "    similarities = []  \n",
        "    \n",
        "    x = x_test.iloc[i]   \n",
        "    \n",
        "    for y in x_train:\n",
        "      intersection = np.count_nonzero(x & y)\n",
        "      union = np.count_nonzero(x | y)\n",
        "      if union == 0:\n",
        "         similarities.append(np.nan)\n",
        "      else:\n",
        "        similarities.append(intersection / union)\n",
        "\n",
        "    # Find the k training samples with the highest Jaccard similarity to the test sample\n",
        "    nearest_neighbors = np.argsort(similarities)[:k]   \n",
        "        \n",
        "    # Get the labels of the k nearest neighbors\n",
        "    nearest_neighbor_labels = Y_train[nearest_neighbors]   \n",
        "\n",
        "    # Return the most common label among the k nearest neighbors\n",
        "    predictions[i] =  np.argmax(np.bincount(nearest_neighbor_labels))\n",
        "\n",
        "\n",
        "  # Return the predictions array\n",
        "  return predictions\n",
        "\n",
        "# Set the values of k\n",
        "ks = [1, 2, 3, 4, 5]\n",
        "\n",
        "# Initialize the accuracy array\n",
        "accuracies = np.zeros(len(ks))\n",
        "\n",
        "# Start the timer\n",
        "start_time = time.time()\n",
        "\n",
        "# Classify all of the test samples for each value of k\n",
        "for i, k in enumerate(ks):\n",
        "  for x_batch, y_batch in load_data_in_chunks(x_train, y_train, 128):\n",
        "    predictions = classify_all_samples(x_batch, y_batch, k)\n",
        "    accuracies[i] += np.mean(predictions == y_batch)\n",
        "\n",
        "# Stop the timer\n",
        "end_time = time.time()\n",
        "\n",
        "# Print the classification accuracies and time required to classify all the test samples\n",
        "for i, k in enumerate(ks):\n",
        "  print('Classification accuracy for k = {}: {}'.format(k, accuracies[i] / len(x_test)))\n",
        "  print('Time required to classify all the test samples for k = {}: {}'.format(k, end_time - start_time))\n"
      ],
      "metadata": {
        "id": "AS8Qf558IqII"
      },
      "execution_count": null,
      "outputs": []
    },
    {
      "cell_type": "code",
      "source": [],
      "metadata": {
        "id": "5cX5j1A832oB"
      },
      "execution_count": null,
      "outputs": []
    },
    {
      "cell_type": "code",
      "source": [
        "x_train.shape"
      ],
      "metadata": {
        "id": "9xasHJfqJL_L",
        "outputId": "e816acf1-96c8-42f1-a6b6-eaadc2aeeb55",
        "colab": {
          "base_uri": "https://localhost:8080/"
        }
      },
      "execution_count": null,
      "outputs": [
        {
          "output_type": "execute_result",
          "data": {
            "text/plain": [
              "(33600, 785)"
            ]
          },
          "metadata": {},
          "execution_count": 30
        }
      ]
    },
    {
      "cell_type": "code",
      "source": [
        "y_train.shape"
      ],
      "metadata": {
        "id": "MPi7vg58JOF2",
        "outputId": "74a440a0-1c34-4c34-9003-ef3629ea9cff",
        "colab": {
          "base_uri": "https://localhost:8080/"
        }
      },
      "execution_count": null,
      "outputs": [
        {
          "output_type": "execute_result",
          "data": {
            "text/plain": [
              "(33600,)"
            ]
          },
          "metadata": {},
          "execution_count": 31
        }
      ]
    },
    {
      "cell_type": "code",
      "source": [
        "x_test.shape"
      ],
      "metadata": {
        "id": "dT_BCDzraTXw",
        "outputId": "bb665e5b-7e36-4e23-fc90-b2328fcd3b9f",
        "colab": {
          "base_uri": "https://localhost:8080/"
        }
      },
      "execution_count": null,
      "outputs": [
        {
          "output_type": "execute_result",
          "data": {
            "text/plain": [
              "(8400, 785)"
            ]
          },
          "metadata": {},
          "execution_count": 32
        }
      ]
    },
    {
      "cell_type": "code",
      "source": [
        "y_test.shape"
      ],
      "metadata": {
        "id": "l7vlMeiOJJjU",
        "outputId": "a0f6a809-7390-4b07-fd25-8ea65454cd2a",
        "colab": {
          "base_uri": "https://localhost:8080/"
        }
      },
      "execution_count": null,
      "outputs": [
        {
          "output_type": "execute_result",
          "data": {
            "text/plain": [
              "(8400,)"
            ]
          },
          "metadata": {},
          "execution_count": 33
        }
      ]
    },
    {
      "cell_type": "code",
      "source": [],
      "metadata": {
        "id": "E9AqVesrJLf_"
      },
      "execution_count": null,
      "outputs": []
    },
    {
      "cell_type": "code",
      "source": [
        "import numpy as np\n",
        "import time\n",
        "from sklearn.model_selection import train_test_split\n",
        "from sklearn.neighbors import KNeighborsClassifier\n",
        "from sklearn.feature_extraction.text import HashingVectorizer\n",
        "\n",
        "x_train, x_test, y_train, y_test = train_test_split(X_train, Y_train, test_size=0.2, random_state=42)\n",
        "\n",
        "# Define the LSH classifier\n",
        "def lshknn(train_features, train_labels, test_features, length, s):\n",
        "  # Create a hashing vectorizer with the specified length and s\n",
        "  vectorizer = HashingVectorizer(n_features=length, stop_words='english', binary=True, norm='l2', ngram_range=(1, 1))\n",
        "\n",
        "  # Create the training and test signatures\n",
        "  train_signatures = vectorizer.fit_transform(train_features)\n",
        "  test_signatures = vectorizer.fit_transform(test_features)\n",
        "  \n",
        "  # Create a kNN classifier\n",
        "  clf = KNeighborsClassifier(n_neighbors=5)\n",
        "\n",
        "  print(\"train_signatures - \" , train_signatures.shape, \"train_labels - \", train_labels.shape)\n",
        "\n",
        "  # Train the classifier\n",
        "  clf.fit_transform(train_signatures, train_labels)\n",
        "\n",
        "  # Classify the test samples\n",
        "  predictions = clf.predict(test_signatures)\n",
        "\n",
        "  # Return the predictions\n",
        "  return predictions\n",
        "\n",
        "# Calculate the classification accuracy and time for each combination of length and s\n",
        "accuracies = []\n",
        "times = []\n",
        "for length in [40, 60]:\n",
        "  for s in [0.8, 0.9]:\n",
        "    # Run the experiment multiple times\n",
        "    for i in range(10):\n",
        "      # Classify the test samples\n",
        "      start = time.time()\n",
        "      predictions = lshknn(x_train, y_train, x_test, length, s)\n",
        "      end = time.time()\n",
        "\n",
        "      # Calculate the accuracy\n",
        "      accuracy = np.mean(predictions == y_test)\n",
        "\n",
        "      # Save the accuracy and time\n",
        "      accuracies.append(accuracy)\n",
        "      times.append(end - start)\n",
        "\n",
        "    # Print the classification accuracy and time\n",
        "    print(\"length = {}, s = {}: accuracy = {:.2f}, time = {:.3f}s\".format(length, s, np.mean(accuracies), np.std(accuracies)))"
      ],
      "metadata": {
        "id": "gy2DIET4bJIz",
        "outputId": "56cff181-3d49-44bd-ea89-e54ffd53cbd6",
        "colab": {
          "base_uri": "https://localhost:8080/",
          "height": 397
        }
      },
      "execution_count": null,
      "outputs": [
        {
          "output_type": "stream",
          "name": "stdout",
          "text": [
            "train_signatures -  (785, 40) train_labels -  (33600,)\n"
          ]
        },
        {
          "output_type": "error",
          "ename": "ValueError",
          "evalue": "ignored",
          "traceback": [
            "\u001b[0;31m---------------------------------------------------------------------------\u001b[0m",
            "\u001b[0;31mValueError\u001b[0m                                Traceback (most recent call last)",
            "\u001b[0;32m<ipython-input-34-37f85e734362>\u001b[0m in \u001b[0;36m<cell line: 35>\u001b[0;34m()\u001b[0m\n\u001b[1;32m     39\u001b[0m       \u001b[0;31m# Classify the test samples\u001b[0m\u001b[0;34m\u001b[0m\u001b[0;34m\u001b[0m\u001b[0m\n\u001b[1;32m     40\u001b[0m       \u001b[0mstart\u001b[0m \u001b[0;34m=\u001b[0m \u001b[0mtime\u001b[0m\u001b[0;34m.\u001b[0m\u001b[0mtime\u001b[0m\u001b[0;34m(\u001b[0m\u001b[0;34m)\u001b[0m\u001b[0;34m\u001b[0m\u001b[0;34m\u001b[0m\u001b[0m\n\u001b[0;32m---> 41\u001b[0;31m       \u001b[0mpredictions\u001b[0m \u001b[0;34m=\u001b[0m \u001b[0mlshknn\u001b[0m\u001b[0;34m(\u001b[0m\u001b[0mx_train\u001b[0m\u001b[0;34m,\u001b[0m \u001b[0my_train\u001b[0m\u001b[0;34m,\u001b[0m \u001b[0mx_test\u001b[0m\u001b[0;34m,\u001b[0m \u001b[0mlength\u001b[0m\u001b[0;34m,\u001b[0m \u001b[0ms\u001b[0m\u001b[0;34m)\u001b[0m\u001b[0;34m\u001b[0m\u001b[0;34m\u001b[0m\u001b[0m\n\u001b[0m\u001b[1;32m     42\u001b[0m       \u001b[0mend\u001b[0m \u001b[0;34m=\u001b[0m \u001b[0mtime\u001b[0m\u001b[0;34m.\u001b[0m\u001b[0mtime\u001b[0m\u001b[0;34m(\u001b[0m\u001b[0;34m)\u001b[0m\u001b[0;34m\u001b[0m\u001b[0;34m\u001b[0m\u001b[0m\n\u001b[1;32m     43\u001b[0m \u001b[0;34m\u001b[0m\u001b[0m\n",
            "\u001b[0;32m<ipython-input-34-37f85e734362>\u001b[0m in \u001b[0;36mlshknn\u001b[0;34m(train_features, train_labels, test_features, length, s)\u001b[0m\n\u001b[1;32m     22\u001b[0m \u001b[0;34m\u001b[0m\u001b[0m\n\u001b[1;32m     23\u001b[0m   \u001b[0;31m# Train the classifier\u001b[0m\u001b[0;34m\u001b[0m\u001b[0;34m\u001b[0m\u001b[0m\n\u001b[0;32m---> 24\u001b[0;31m   \u001b[0mclf\u001b[0m\u001b[0;34m.\u001b[0m\u001b[0mfit\u001b[0m\u001b[0;34m(\u001b[0m\u001b[0mtrain_signatures\u001b[0m\u001b[0;34m,\u001b[0m \u001b[0mtrain_labels\u001b[0m\u001b[0;34m)\u001b[0m\u001b[0;34m\u001b[0m\u001b[0;34m\u001b[0m\u001b[0m\n\u001b[0m\u001b[1;32m     25\u001b[0m \u001b[0;34m\u001b[0m\u001b[0m\n\u001b[1;32m     26\u001b[0m   \u001b[0;31m# Classify the test samples\u001b[0m\u001b[0;34m\u001b[0m\u001b[0;34m\u001b[0m\u001b[0m\n",
            "\u001b[0;32m/usr/local/lib/python3.9/dist-packages/sklearn/neighbors/_classification.py\u001b[0m in \u001b[0;36mfit\u001b[0;34m(self, X, y)\u001b[0m\n\u001b[1;32m    213\u001b[0m         \u001b[0mself\u001b[0m\u001b[0;34m.\u001b[0m\u001b[0m_validate_params\u001b[0m\u001b[0;34m(\u001b[0m\u001b[0;34m)\u001b[0m\u001b[0;34m\u001b[0m\u001b[0;34m\u001b[0m\u001b[0m\n\u001b[1;32m    214\u001b[0m \u001b[0;34m\u001b[0m\u001b[0m\n\u001b[0;32m--> 215\u001b[0;31m         \u001b[0;32mreturn\u001b[0m \u001b[0mself\u001b[0m\u001b[0;34m.\u001b[0m\u001b[0m_fit\u001b[0m\u001b[0;34m(\u001b[0m\u001b[0mX\u001b[0m\u001b[0;34m,\u001b[0m \u001b[0my\u001b[0m\u001b[0;34m)\u001b[0m\u001b[0;34m\u001b[0m\u001b[0;34m\u001b[0m\u001b[0m\n\u001b[0m\u001b[1;32m    216\u001b[0m \u001b[0;34m\u001b[0m\u001b[0m\n\u001b[1;32m    217\u001b[0m     \u001b[0;32mdef\u001b[0m \u001b[0mpredict\u001b[0m\u001b[0;34m(\u001b[0m\u001b[0mself\u001b[0m\u001b[0;34m,\u001b[0m \u001b[0mX\u001b[0m\u001b[0;34m)\u001b[0m\u001b[0;34m:\u001b[0m\u001b[0;34m\u001b[0m\u001b[0;34m\u001b[0m\u001b[0m\n",
            "\u001b[0;32m/usr/local/lib/python3.9/dist-packages/sklearn/neighbors/_base.py\u001b[0m in \u001b[0;36m_fit\u001b[0;34m(self, X, y)\u001b[0m\n\u001b[1;32m    452\u001b[0m         \u001b[0;32mif\u001b[0m \u001b[0mself\u001b[0m\u001b[0;34m.\u001b[0m\u001b[0m_get_tags\u001b[0m\u001b[0;34m(\u001b[0m\u001b[0;34m)\u001b[0m\u001b[0;34m[\u001b[0m\u001b[0;34m\"requires_y\"\u001b[0m\u001b[0;34m]\u001b[0m\u001b[0;34m:\u001b[0m\u001b[0;34m\u001b[0m\u001b[0;34m\u001b[0m\u001b[0m\n\u001b[1;32m    453\u001b[0m             \u001b[0;32mif\u001b[0m \u001b[0;32mnot\u001b[0m \u001b[0misinstance\u001b[0m\u001b[0;34m(\u001b[0m\u001b[0mX\u001b[0m\u001b[0;34m,\u001b[0m \u001b[0;34m(\u001b[0m\u001b[0mKDTree\u001b[0m\u001b[0;34m,\u001b[0m \u001b[0mBallTree\u001b[0m\u001b[0;34m,\u001b[0m \u001b[0mNeighborsBase\u001b[0m\u001b[0;34m)\u001b[0m\u001b[0;34m)\u001b[0m\u001b[0;34m:\u001b[0m\u001b[0;34m\u001b[0m\u001b[0;34m\u001b[0m\u001b[0m\n\u001b[0;32m--> 454\u001b[0;31m                 X, y = self._validate_data(\n\u001b[0m\u001b[1;32m    455\u001b[0m                     \u001b[0mX\u001b[0m\u001b[0;34m,\u001b[0m \u001b[0my\u001b[0m\u001b[0;34m,\u001b[0m \u001b[0maccept_sparse\u001b[0m\u001b[0;34m=\u001b[0m\u001b[0;34m\"csr\"\u001b[0m\u001b[0;34m,\u001b[0m \u001b[0mmulti_output\u001b[0m\u001b[0;34m=\u001b[0m\u001b[0;32mTrue\u001b[0m\u001b[0;34m,\u001b[0m \u001b[0morder\u001b[0m\u001b[0;34m=\u001b[0m\u001b[0;34m\"C\"\u001b[0m\u001b[0;34m\u001b[0m\u001b[0;34m\u001b[0m\u001b[0m\n\u001b[1;32m    456\u001b[0m                 )\n",
            "\u001b[0;32m/usr/local/lib/python3.9/dist-packages/sklearn/base.py\u001b[0m in \u001b[0;36m_validate_data\u001b[0;34m(self, X, y, reset, validate_separately, **check_params)\u001b[0m\n\u001b[1;32m    582\u001b[0m                 \u001b[0my\u001b[0m \u001b[0;34m=\u001b[0m \u001b[0mcheck_array\u001b[0m\u001b[0;34m(\u001b[0m\u001b[0my\u001b[0m\u001b[0;34m,\u001b[0m \u001b[0minput_name\u001b[0m\u001b[0;34m=\u001b[0m\u001b[0;34m\"y\"\u001b[0m\u001b[0;34m,\u001b[0m \u001b[0;34m**\u001b[0m\u001b[0mcheck_y_params\u001b[0m\u001b[0;34m)\u001b[0m\u001b[0;34m\u001b[0m\u001b[0;34m\u001b[0m\u001b[0m\n\u001b[1;32m    583\u001b[0m             \u001b[0;32melse\u001b[0m\u001b[0;34m:\u001b[0m\u001b[0;34m\u001b[0m\u001b[0;34m\u001b[0m\u001b[0m\n\u001b[0;32m--> 584\u001b[0;31m                 \u001b[0mX\u001b[0m\u001b[0;34m,\u001b[0m \u001b[0my\u001b[0m \u001b[0;34m=\u001b[0m \u001b[0mcheck_X_y\u001b[0m\u001b[0;34m(\u001b[0m\u001b[0mX\u001b[0m\u001b[0;34m,\u001b[0m \u001b[0my\u001b[0m\u001b[0;34m,\u001b[0m \u001b[0;34m**\u001b[0m\u001b[0mcheck_params\u001b[0m\u001b[0;34m)\u001b[0m\u001b[0;34m\u001b[0m\u001b[0;34m\u001b[0m\u001b[0m\n\u001b[0m\u001b[1;32m    585\u001b[0m             \u001b[0mout\u001b[0m \u001b[0;34m=\u001b[0m \u001b[0mX\u001b[0m\u001b[0;34m,\u001b[0m \u001b[0my\u001b[0m\u001b[0;34m\u001b[0m\u001b[0;34m\u001b[0m\u001b[0m\n\u001b[1;32m    586\u001b[0m \u001b[0;34m\u001b[0m\u001b[0m\n",
            "\u001b[0;32m/usr/local/lib/python3.9/dist-packages/sklearn/utils/validation.py\u001b[0m in \u001b[0;36mcheck_X_y\u001b[0;34m(X, y, accept_sparse, accept_large_sparse, dtype, order, copy, force_all_finite, ensure_2d, allow_nd, multi_output, ensure_min_samples, ensure_min_features, y_numeric, estimator)\u001b[0m\n\u001b[1;32m   1122\u001b[0m     \u001b[0my\u001b[0m \u001b[0;34m=\u001b[0m \u001b[0m_check_y\u001b[0m\u001b[0;34m(\u001b[0m\u001b[0my\u001b[0m\u001b[0;34m,\u001b[0m \u001b[0mmulti_output\u001b[0m\u001b[0;34m=\u001b[0m\u001b[0mmulti_output\u001b[0m\u001b[0;34m,\u001b[0m \u001b[0my_numeric\u001b[0m\u001b[0;34m=\u001b[0m\u001b[0my_numeric\u001b[0m\u001b[0;34m,\u001b[0m \u001b[0mestimator\u001b[0m\u001b[0;34m=\u001b[0m\u001b[0mestimator\u001b[0m\u001b[0;34m)\u001b[0m\u001b[0;34m\u001b[0m\u001b[0;34m\u001b[0m\u001b[0m\n\u001b[1;32m   1123\u001b[0m \u001b[0;34m\u001b[0m\u001b[0m\n\u001b[0;32m-> 1124\u001b[0;31m     \u001b[0mcheck_consistent_length\u001b[0m\u001b[0;34m(\u001b[0m\u001b[0mX\u001b[0m\u001b[0;34m,\u001b[0m \u001b[0my\u001b[0m\u001b[0;34m)\u001b[0m\u001b[0;34m\u001b[0m\u001b[0;34m\u001b[0m\u001b[0m\n\u001b[0m\u001b[1;32m   1125\u001b[0m \u001b[0;34m\u001b[0m\u001b[0m\n\u001b[1;32m   1126\u001b[0m     \u001b[0;32mreturn\u001b[0m \u001b[0mX\u001b[0m\u001b[0;34m,\u001b[0m \u001b[0my\u001b[0m\u001b[0;34m\u001b[0m\u001b[0;34m\u001b[0m\u001b[0m\n",
            "\u001b[0;32m/usr/local/lib/python3.9/dist-packages/sklearn/utils/validation.py\u001b[0m in \u001b[0;36mcheck_consistent_length\u001b[0;34m(*arrays)\u001b[0m\n\u001b[1;32m    395\u001b[0m     \u001b[0muniques\u001b[0m \u001b[0;34m=\u001b[0m \u001b[0mnp\u001b[0m\u001b[0;34m.\u001b[0m\u001b[0munique\u001b[0m\u001b[0;34m(\u001b[0m\u001b[0mlengths\u001b[0m\u001b[0;34m)\u001b[0m\u001b[0;34m\u001b[0m\u001b[0;34m\u001b[0m\u001b[0m\n\u001b[1;32m    396\u001b[0m     \u001b[0;32mif\u001b[0m \u001b[0mlen\u001b[0m\u001b[0;34m(\u001b[0m\u001b[0muniques\u001b[0m\u001b[0;34m)\u001b[0m \u001b[0;34m>\u001b[0m \u001b[0;36m1\u001b[0m\u001b[0;34m:\u001b[0m\u001b[0;34m\u001b[0m\u001b[0;34m\u001b[0m\u001b[0m\n\u001b[0;32m--> 397\u001b[0;31m         raise ValueError(\n\u001b[0m\u001b[1;32m    398\u001b[0m             \u001b[0;34m\"Found input variables with inconsistent numbers of samples: %r\"\u001b[0m\u001b[0;34m\u001b[0m\u001b[0;34m\u001b[0m\u001b[0m\n\u001b[1;32m    399\u001b[0m             \u001b[0;34m%\u001b[0m \u001b[0;34m[\u001b[0m\u001b[0mint\u001b[0m\u001b[0;34m(\u001b[0m\u001b[0ml\u001b[0m\u001b[0;34m)\u001b[0m \u001b[0;32mfor\u001b[0m \u001b[0ml\u001b[0m \u001b[0;32min\u001b[0m \u001b[0mlengths\u001b[0m\u001b[0;34m]\u001b[0m\u001b[0;34m\u001b[0m\u001b[0;34m\u001b[0m\u001b[0m\n",
            "\u001b[0;31mValueError\u001b[0m: Found input variables with inconsistent numbers of samples: [785, 33600]"
          ]
        }
      ]
    },
    {
      "cell_type": "code",
      "source": [
        "X_train.shape"
      ],
      "metadata": {
        "id": "wZmWIB7BIhX1",
        "colab": {
          "base_uri": "https://localhost:8080/"
        },
        "outputId": "57289233-cbd8-4830-c707-1cde5a457f9c"
      },
      "execution_count": 17,
      "outputs": [
        {
          "output_type": "execute_result",
          "data": {
            "text/plain": [
              "(42000, 785)"
            ]
          },
          "metadata": {},
          "execution_count": 17
        }
      ]
    },
    {
      "cell_type": "code",
      "source": [
        "Y_train.shape"
      ],
      "metadata": {
        "colab": {
          "base_uri": "https://localhost:8080/"
        },
        "id": "M_4iTMmCKf7Y",
        "outputId": "8547aa16-e837-4ad8-e431-6cac0ea90b32"
      },
      "execution_count": 16,
      "outputs": [
        {
          "output_type": "execute_result",
          "data": {
            "text/plain": [
              "(42000,)"
            ]
          },
          "metadata": {},
          "execution_count": 16
        }
      ]
    },
    {
      "cell_type": "code",
      "source": [
        "y_train.to_numpy()"
      ],
      "metadata": {
        "colab": {
          "base_uri": "https://localhost:8080/"
        },
        "id": "H9XXgXlQQ7gP",
        "outputId": "64113d11-65dd-40d2-8f41-9d9abf7641c5"
      },
      "execution_count": 44,
      "outputs": [
        {
          "output_type": "execute_result",
          "data": {
            "text/plain": [
              "array([6, 5, 3, ..., 2, 6, 0])"
            ]
          },
          "metadata": {},
          "execution_count": 44
        }
      ]
    },
    {
      "cell_type": "code",
      "source": [
        "import numpy as np\n",
        "import time\n",
        "from sklearn.model_selection import train_test_split\n",
        "from sklearn.neighbors import KNeighborsClassifier\n",
        "from sklearn.feature_extraction.text import HashingVectorizer\n",
        "from sklearn.feature_selection import SelectKBest, chi2\n",
        "\n",
        "x_train, x_test, y_train, y_test = train_test_split(X_train, Y_train, test_size=0.2, random_state=42, shuffle=True)\n",
        "\n",
        "# Define the LSH classifier\n",
        "def lshknn(train_features, train_labels, test_features):\n",
        "  # Create a hashing vectorizer with 40 features\n",
        "  vectorizer = HashingVectorizer(stop_words='english', binary=True, norm='l2', ngram_range=(1, 1))\n",
        "\n",
        "  # Create the training and test signatures\n",
        "  train_signatures = vectorizer.fit_transform(train_features)\n",
        "  test_signatures = vectorizer.transform(test_features)\n",
        "\n",
        "  print(\"train_features shape:\", train_features.shape)\n",
        "  print(\"train_labels shape:\", train_labels.shape)\n",
        "\n",
        "  # Create a kNN classifier\n",
        "  clf = KNeighborsClassifier(n_neighbors=5)\n",
        "  print(list(train_signatures.toarray()))\n",
        "  #print(list(np.array(train_signatures[0:50])))\n",
        "  print(\"type train_labels - \" , type(train_labels))\n",
        "  print(list(train_labels))\n",
        "  # Train the classifier\n",
        "  clf.fit(list(train_signatures), list(train_labels))\n",
        "\n",
        "  # Classify the test samples\n",
        "  predictions = clf.predict(test_signatures)\n",
        "\n",
        "  # Return the predictions\n",
        "  return predictions\n",
        "\n",
        "# Calculate the classification accuracy\n",
        "accuracies = []\n",
        "for i in range(10):\n",
        "  # Classify the test samples\n",
        "  start = time.time()\n",
        "  predictions = lshknn(x_train, y_train.to_numpy(), x_test)\n",
        "  end = time.time()\n",
        "\n",
        "  # Calculate the accuracy\n",
        "  accuracy = np.mean(predictions == y_test)\n",
        "\n",
        "  # Save the accuracy\n",
        "  accuracies.append(accuracy)\n",
        "\n",
        "# Print the classification accuracy\n",
        "print(\"Accuracy: {:.2f}\".format(np.mean(accuracies)))\n"
      ],
      "metadata": {
        "id": "YZQQ_CD2IhsN",
        "outputId": "03835296-4309-4e2f-f43f-3bb47b7603ba",
        "colab": {
          "base_uri": "https://localhost:8080/",
          "height": 1000
        }
      },
      "execution_count": 16,
      "outputs": [
        {
          "output_type": "stream",
          "name": "stdout",
          "text": [
            "train_features shape: (33600, 785)\n",
            "train_labels shape: (33600,)\n",
            "[array([0., 0., 0., ..., 0., 0., 0.]), array([0., 0., 0., ..., 0., 0., 0.]), array([0., 0., 0., ..., 0., 0., 0.]), array([0., 0., 0., ..., 0., 0., 0.]), array([0., 0., 0., ..., 0., 0., 0.]), array([0., 0., 0., ..., 0., 0., 0.]), array([0., 0., 0., ..., 0., 0., 0.]), array([0., 0., 0., ..., 0., 0., 0.]), array([0., 0., 0., ..., 0., 0., 0.]), array([0., 0., 0., ..., 0., 0., 0.]), array([0., 0., 0., ..., 0., 0., 0.]), array([0., 0., 0., ..., 0., 0., 0.]), array([0., 0., 0., ..., 0., 0., 0.]), array([0., 0., 0., ..., 0., 0., 0.]), array([0., 0., 0., ..., 0., 0., 0.]), array([0., 0., 0., ..., 0., 0., 0.]), array([0., 0., 0., ..., 0., 0., 0.]), array([0., 0., 0., ..., 0., 0., 0.]), array([0., 0., 0., ..., 0., 0., 0.]), array([0., 0., 0., ..., 0., 0., 0.]), array([0., 0., 0., ..., 0., 0., 0.]), array([0., 0., 0., ..., 0., 0., 0.]), array([0., 0., 0., ..., 0., 0., 0.]), array([0., 0., 0., ..., 0., 0., 0.]), array([0., 0., 0., ..., 0., 0., 0.]), array([0., 0., 0., ..., 0., 0., 0.]), array([0., 0., 0., ..., 0., 0., 0.]), array([0., 0., 0., ..., 0., 0., 0.]), array([0., 0., 0., ..., 0., 0., 0.]), array([0., 0., 0., ..., 0., 0., 0.]), array([0., 0., 0., ..., 0., 0., 0.]), array([0., 0., 0., ..., 0., 0., 0.]), array([0., 0., 0., ..., 0., 0., 0.]), array([0., 0., 0., ..., 0., 0., 0.]), array([0., 0., 0., ..., 0., 0., 0.]), array([0., 0., 0., ..., 0., 0., 0.]), array([0., 0., 0., ..., 0., 0., 0.]), array([0., 0., 0., ..., 0., 0., 0.]), array([0., 0., 0., ..., 0., 0., 0.]), array([0., 0., 0., ..., 0., 0., 0.]), array([0., 0., 0., ..., 0., 0., 0.]), array([0., 0., 0., ..., 0., 0., 0.]), array([0., 0., 0., ..., 0., 0., 0.]), array([0., 0., 0., ..., 0., 0., 0.]), array([0., 0., 0., ..., 0., 0., 0.]), array([0., 0., 0., ..., 0., 0., 0.]), array([0., 0., 0., ..., 0., 0., 0.]), array([0., 0., 0., ..., 0., 0., 0.]), array([0., 0., 0., ..., 0., 0., 0.]), array([0., 0., 0., ..., 0., 0., 0.]), array([0., 0., 0., ..., 0., 0., 0.]), array([0., 0., 0., ..., 0., 0., 0.]), array([0., 0., 0., ..., 0., 0., 0.]), array([0., 0., 0., ..., 0., 0., 0.]), array([0., 0., 0., ..., 0., 0., 0.]), array([0., 0., 0., ..., 0., 0., 0.]), array([0., 0., 0., ..., 0., 0., 0.]), array([0., 0., 0., ..., 0., 0., 0.]), array([0., 0., 0., ..., 0., 0., 0.]), array([0., 0., 0., ..., 0., 0., 0.]), array([0., 0., 0., ..., 0., 0., 0.]), array([0., 0., 0., ..., 0., 0., 0.]), array([0., 0., 0., ..., 0., 0., 0.]), array([0., 0., 0., ..., 0., 0., 0.]), array([0., 0., 0., ..., 0., 0., 0.]), array([0., 0., 0., ..., 0., 0., 0.]), array([0., 0., 0., ..., 0., 0., 0.]), array([0., 0., 0., ..., 0., 0., 0.]), array([0., 0., 0., ..., 0., 0., 0.]), array([0., 0., 0., ..., 0., 0., 0.]), array([0., 0., 0., ..., 0., 0., 0.]), array([0., 0., 0., ..., 0., 0., 0.]), array([0., 0., 0., ..., 0., 0., 0.]), array([0., 0., 0., ..., 0., 0., 0.]), array([0., 0., 0., ..., 0., 0., 0.]), array([0., 0., 0., ..., 0., 0., 0.]), array([0., 0., 0., ..., 0., 0., 0.]), array([0., 0., 0., ..., 0., 0., 0.]), array([0., 0., 0., ..., 0., 0., 0.]), array([0., 0., 0., ..., 0., 0., 0.]), array([0., 0., 0., ..., 0., 0., 0.]), array([0., 0., 0., ..., 0., 0., 0.]), array([0., 0., 0., ..., 0., 0., 0.]), array([0., 0., 0., ..., 0., 0., 0.]), array([0., 0., 0., ..., 0., 0., 0.]), array([0., 0., 0., ..., 0., 0., 0.]), array([0., 0., 0., ..., 0., 0., 0.]), array([0., 0., 0., ..., 0., 0., 0.]), array([0., 0., 0., ..., 0., 0., 0.]), array([0., 0., 0., ..., 0., 0., 0.]), array([0., 0., 0., ..., 0., 0., 0.]), array([0., 0., 0., ..., 0., 0., 0.]), array([0., 0., 0., ..., 0., 0., 0.]), array([0., 0., 0., ..., 0., 0., 0.]), array([0., 0., 0., ..., 0., 0., 0.]), array([0., 0., 0., ..., 0., 0., 0.]), array([0., 0., 0., ..., 0., 0., 0.]), array([0., 0., 0., ..., 0., 0., 0.]), array([0., 0., 0., ..., 0., 0., 0.]), array([0., 0., 0., ..., 0., 0., 0.]), array([0., 0., 0., ..., 0., 0., 0.]), array([0., 0., 0., ..., 0., 0., 0.]), array([0., 0., 0., ..., 0., 0., 0.]), array([0., 0., 0., ..., 0., 0., 0.]), array([0., 0., 0., ..., 0., 0., 0.]), array([0., 0., 0., ..., 0., 0., 0.]), array([0., 0., 0., ..., 0., 0., 0.]), array([0., 0., 0., ..., 0., 0., 0.]), array([0., 0., 0., ..., 0., 0., 0.]), array([0., 0., 0., ..., 0., 0., 0.]), array([0., 0., 0., ..., 0., 0., 0.]), array([0., 0., 0., ..., 0., 0., 0.]), array([0., 0., 0., ..., 0., 0., 0.]), array([0., 0., 0., ..., 0., 0., 0.]), array([0., 0., 0., ..., 0., 0., 0.]), array([0., 0., 0., ..., 0., 0., 0.]), array([0., 0., 0., ..., 0., 0., 0.]), array([0., 0., 0., ..., 0., 0., 0.]), array([0., 0., 0., ..., 0., 0., 0.]), array([0., 0., 0., ..., 0., 0., 0.]), array([0., 0., 0., ..., 0., 0., 0.]), array([0., 0., 0., ..., 0., 0., 0.]), array([0., 0., 0., ..., 0., 0., 0.]), array([0., 0., 0., ..., 0., 0., 0.]), array([0., 0., 0., ..., 0., 0., 0.]), array([0., 0., 0., ..., 0., 0., 0.]), array([0., 0., 0., ..., 0., 0., 0.]), array([0., 0., 0., ..., 0., 0., 0.]), array([0., 0., 0., ..., 0., 0., 0.]), array([0., 0., 0., ..., 0., 0., 0.]), array([0., 0., 0., ..., 0., 0., 0.]), array([0., 0., 0., ..., 0., 0., 0.]), array([0., 0., 0., ..., 0., 0., 0.]), array([0., 0., 0., ..., 0., 0., 0.]), array([0., 0., 0., ..., 0., 0., 0.]), array([0., 0., 0., ..., 0., 0., 0.]), array([0., 0., 0., ..., 0., 0., 0.]), array([0., 0., 0., ..., 0., 0., 0.]), array([0., 0., 0., ..., 0., 0., 0.]), array([0., 0., 0., ..., 0., 0., 0.]), array([0., 0., 0., ..., 0., 0., 0.]), array([0., 0., 0., ..., 0., 0., 0.]), array([0., 0., 0., ..., 0., 0., 0.]), array([0., 0., 0., ..., 0., 0., 0.]), array([0., 0., 0., ..., 0., 0., 0.]), array([0., 0., 0., ..., 0., 0., 0.]), array([0., 0., 0., ..., 0., 0., 0.]), array([0., 0., 0., ..., 0., 0., 0.]), array([0., 0., 0., ..., 0., 0., 0.]), array([0., 0., 0., ..., 0., 0., 0.]), array([0., 0., 0., ..., 0., 0., 0.]), array([0., 0., 0., ..., 0., 0., 0.]), array([0., 0., 0., ..., 0., 0., 0.]), array([0., 0., 0., ..., 0., 0., 0.]), array([0., 0., 0., ..., 0., 0., 0.]), array([0., 0., 0., ..., 0., 0., 0.]), array([0., 0., 0., ..., 0., 0., 0.]), array([0., 0., 0., ..., 0., 0., 0.]), array([0., 0., 0., ..., 0., 0., 0.]), array([0., 0., 0., ..., 0., 0., 0.]), array([0., 0., 0., ..., 0., 0., 0.]), array([0., 0., 0., ..., 0., 0., 0.]), array([0., 0., 0., ..., 0., 0., 0.]), array([0., 0., 0., ..., 0., 0., 0.]), array([0., 0., 0., ..., 0., 0., 0.]), array([0., 0., 0., ..., 0., 0., 0.]), array([0., 0., 0., ..., 0., 0., 0.]), array([0., 0., 0., ..., 0., 0., 0.]), array([0., 0., 0., ..., 0., 0., 0.]), array([0., 0., 0., ..., 0., 0., 0.]), array([0., 0., 0., ..., 0., 0., 0.]), array([0., 0., 0., ..., 0., 0., 0.]), array([0., 0., 0., ..., 0., 0., 0.]), array([0., 0., 0., ..., 0., 0., 0.]), array([0., 0., 0., ..., 0., 0., 0.]), array([0., 0., 0., ..., 0., 0., 0.]), array([0., 0., 0., ..., 0., 0., 0.]), array([0., 0., 0., ..., 0., 0., 0.]), array([0., 0., 0., ..., 0., 0., 0.]), array([0., 0., 0., ..., 0., 0., 0.]), array([0., 0., 0., ..., 0., 0., 0.]), array([0., 0., 0., ..., 0., 0., 0.]), array([0., 0., 0., ..., 0., 0., 0.]), array([0., 0., 0., ..., 0., 0., 0.]), array([0., 0., 0., ..., 0., 0., 0.]), array([0., 0., 0., ..., 0., 0., 0.]), array([0., 0., 0., ..., 0., 0., 0.]), array([0., 0., 0., ..., 0., 0., 0.]), array([0., 0., 0., ..., 0., 0., 0.]), array([0., 0., 0., ..., 0., 0., 0.]), array([0., 0., 0., ..., 0., 0., 0.]), array([0., 0., 0., ..., 0., 0., 0.]), array([0., 0., 0., ..., 0., 0., 0.]), array([0., 0., 0., ..., 0., 0., 0.]), array([0., 0., 0., ..., 0., 0., 0.]), array([0., 0., 0., ..., 0., 0., 0.]), array([0., 0., 0., ..., 0., 0., 0.]), array([0., 0., 0., ..., 0., 0., 0.]), array([0., 0., 0., ..., 0., 0., 0.]), array([0., 0., 0., ..., 0., 0., 0.]), array([0., 0., 0., ..., 0., 0., 0.]), array([0., 0., 0., ..., 0., 0., 0.]), array([0., 0., 0., ..., 0., 0., 0.]), array([0., 0., 0., ..., 0., 0., 0.]), array([0., 0., 0., ..., 0., 0., 0.]), array([0., 0., 0., ..., 0., 0., 0.]), array([0., 0., 0., ..., 0., 0., 0.]), array([0., 0., 0., ..., 0., 0., 0.]), array([0., 0., 0., ..., 0., 0., 0.]), array([0., 0., 0., ..., 0., 0., 0.]), array([0., 0., 0., ..., 0., 0., 0.]), array([0., 0., 0., ..., 0., 0., 0.]), array([0., 0., 0., ..., 0., 0., 0.]), array([0., 0., 0., ..., 0., 0., 0.]), array([0., 0., 0., ..., 0., 0., 0.]), array([0., 0., 0., ..., 0., 0., 0.]), array([0., 0., 0., ..., 0., 0., 0.]), array([0., 0., 0., ..., 0., 0., 0.]), array([0., 0., 0., ..., 0., 0., 0.]), array([0., 0., 0., ..., 0., 0., 0.]), array([0., 0., 0., ..., 0., 0., 0.]), array([0., 0., 0., ..., 0., 0., 0.]), array([0., 0., 0., ..., 0., 0., 0.]), array([0., 0., 0., ..., 0., 0., 0.]), array([0., 0., 0., ..., 0., 0., 0.]), array([0., 0., 0., ..., 0., 0., 0.]), array([0., 0., 0., ..., 0., 0., 0.]), array([0., 0., 0., ..., 0., 0., 0.]), array([0., 0., 0., ..., 0., 0., 0.]), array([0., 0., 0., ..., 0., 0., 0.]), array([0., 0., 0., ..., 0., 0., 0.]), array([0., 0., 0., ..., 0., 0., 0.]), array([0., 0., 0., ..., 0., 0., 0.]), array([0., 0., 0., ..., 0., 0., 0.]), array([0., 0., 0., ..., 0., 0., 0.]), array([0., 0., 0., ..., 0., 0., 0.]), array([0., 0., 0., ..., 0., 0., 0.]), array([0., 0., 0., ..., 0., 0., 0.]), array([0., 0., 0., ..., 0., 0., 0.]), array([0., 0., 0., ..., 0., 0., 0.]), array([0., 0., 0., ..., 0., 0., 0.]), array([0., 0., 0., ..., 0., 0., 0.]), array([0., 0., 0., ..., 0., 0., 0.]), array([0., 0., 0., ..., 0., 0., 0.]), array([0., 0., 0., ..., 0., 0., 0.]), array([0., 0., 0., ..., 0., 0., 0.]), array([0., 0., 0., ..., 0., 0., 0.]), array([0., 0., 0., ..., 0., 0., 0.]), array([0., 0., 0., ..., 0., 0., 0.]), array([0., 0., 0., ..., 0., 0., 0.]), array([0., 0., 0., ..., 0., 0., 0.]), array([0., 0., 0., ..., 0., 0., 0.]), array([0., 0., 0., ..., 0., 0., 0.]), array([0., 0., 0., ..., 0., 0., 0.]), array([0., 0., 0., ..., 0., 0., 0.]), array([0., 0., 0., ..., 0., 0., 0.]), array([0., 0., 0., ..., 0., 0., 0.]), array([0., 0., 0., ..., 0., 0., 0.]), array([0., 0., 0., ..., 0., 0., 0.]), array([0., 0., 0., ..., 0., 0., 0.]), array([0., 0., 0., ..., 0., 0., 0.]), array([0., 0., 0., ..., 0., 0., 0.]), array([0., 0., 0., ..., 0., 0., 0.]), array([0., 0., 0., ..., 0., 0., 0.]), array([0., 0., 0., ..., 0., 0., 0.]), array([0., 0., 0., ..., 0., 0., 0.]), array([0., 0., 0., ..., 0., 0., 0.]), array([0., 0., 0., ..., 0., 0., 0.]), array([0., 0., 0., ..., 0., 0., 0.]), array([0., 0., 0., ..., 0., 0., 0.]), array([0., 0., 0., ..., 0., 0., 0.]), array([0., 0., 0., ..., 0., 0., 0.]), array([0., 0., 0., ..., 0., 0., 0.]), array([0., 0., 0., ..., 0., 0., 0.]), array([0., 0., 0., ..., 0., 0., 0.]), array([0., 0., 0., ..., 0., 0., 0.]), array([0., 0., 0., ..., 0., 0., 0.]), array([0., 0., 0., ..., 0., 0., 0.]), array([0., 0., 0., ..., 0., 0., 0.]), array([0., 0., 0., ..., 0., 0., 0.]), array([0., 0., 0., ..., 0., 0., 0.]), array([0., 0., 0., ..., 0., 0., 0.]), array([0., 0., 0., ..., 0., 0., 0.]), array([0., 0., 0., ..., 0., 0., 0.]), array([0., 0., 0., ..., 0., 0., 0.]), array([0., 0., 0., ..., 0., 0., 0.]), array([0., 0., 0., ..., 0., 0., 0.]), array([0., 0., 0., ..., 0., 0., 0.]), array([0., 0., 0., ..., 0., 0., 0.]), array([0., 0., 0., ..., 0., 0., 0.]), array([0., 0., 0., ..., 0., 0., 0.]), array([0., 0., 0., ..., 0., 0., 0.]), array([0., 0., 0., ..., 0., 0., 0.]), array([0., 0., 0., ..., 0., 0., 0.]), array([0., 0., 0., ..., 0., 0., 0.]), array([0., 0., 0., ..., 0., 0., 0.]), array([0., 0., 0., ..., 0., 0., 0.]), array([0., 0., 0., ..., 0., 0., 0.]), array([0., 0., 0., ..., 0., 0., 0.]), array([0., 0., 0., ..., 0., 0., 0.]), array([0., 0., 0., ..., 0., 0., 0.]), array([0., 0., 0., ..., 0., 0., 0.]), array([0., 0., 0., ..., 0., 0., 0.]), array([0., 0., 0., ..., 0., 0., 0.]), array([0., 0., 0., ..., 0., 0., 0.]), array([0., 0., 0., ..., 0., 0., 0.]), array([0., 0., 0., ..., 0., 0., 0.]), array([0., 0., 0., ..., 0., 0., 0.]), array([0., 0., 0., ..., 0., 0., 0.]), array([0., 0., 0., ..., 0., 0., 0.]), array([0., 0., 0., ..., 0., 0., 0.]), array([0., 0., 0., ..., 0., 0., 0.]), array([0., 0., 0., ..., 0., 0., 0.]), array([0., 0., 0., ..., 0., 0., 0.]), array([0., 0., 0., ..., 0., 0., 0.]), array([0., 0., 0., ..., 0., 0., 0.]), array([0., 0., 0., ..., 0., 0., 0.]), array([0., 0., 0., ..., 0., 0., 0.]), array([0., 0., 0., ..., 0., 0., 0.]), array([0., 0., 0., ..., 0., 0., 0.]), array([0., 0., 0., ..., 0., 0., 0.]), array([0., 0., 0., ..., 0., 0., 0.]), array([0., 0., 0., ..., 0., 0., 0.]), array([0., 0., 0., ..., 0., 0., 0.]), array([0., 0., 0., ..., 0., 0., 0.]), array([0., 0., 0., ..., 0., 0., 0.]), array([0., 0., 0., ..., 0., 0., 0.]), array([0., 0., 0., ..., 0., 0., 0.]), array([0., 0., 0., ..., 0., 0., 0.]), array([0., 0., 0., ..., 0., 0., 0.]), array([0., 0., 0., ..., 0., 0., 0.]), array([0., 0., 0., ..., 0., 0., 0.]), array([0., 0., 0., ..., 0., 0., 0.]), array([0., 0., 0., ..., 0., 0., 0.]), array([0., 0., 0., ..., 0., 0., 0.]), array([0., 0., 0., ..., 0., 0., 0.]), array([0., 0., 0., ..., 0., 0., 0.]), array([0., 0., 0., ..., 0., 0., 0.]), array([0., 0., 0., ..., 0., 0., 0.]), array([0., 0., 0., ..., 0., 0., 0.]), array([0., 0., 0., ..., 0., 0., 0.]), array([0., 0., 0., ..., 0., 0., 0.]), array([0., 0., 0., ..., 0., 0., 0.]), array([0., 0., 0., ..., 0., 0., 0.]), array([0., 0., 0., ..., 0., 0., 0.]), array([0., 0., 0., ..., 0., 0., 0.]), array([0., 0., 0., ..., 0., 0., 0.]), array([0., 0., 0., ..., 0., 0., 0.]), array([0., 0., 0., ..., 0., 0., 0.]), array([0., 0., 0., ..., 0., 0., 0.]), array([0., 0., 0., ..., 0., 0., 0.]), array([0., 0., 0., ..., 0., 0., 0.]), array([0., 0., 0., ..., 0., 0., 0.]), array([0., 0., 0., ..., 0., 0., 0.]), array([0., 0., 0., ..., 0., 0., 0.]), array([0., 0., 0., ..., 0., 0., 0.]), array([0., 0., 0., ..., 0., 0., 0.]), array([0., 0., 0., ..., 0., 0., 0.]), array([0., 0., 0., ..., 0., 0., 0.]), array([0., 0., 0., ..., 0., 0., 0.]), array([0., 0., 0., ..., 0., 0., 0.]), array([0., 0., 0., ..., 0., 0., 0.]), array([0., 0., 0., ..., 0., 0., 0.]), array([0., 0., 0., ..., 0., 0., 0.]), array([0., 0., 0., ..., 0., 0., 0.]), array([0., 0., 0., ..., 0., 0., 0.]), array([0., 0., 0., ..., 0., 0., 0.]), array([0., 0., 0., ..., 0., 0., 0.]), array([0., 0., 0., ..., 0., 0., 0.]), array([0., 0., 0., ..., 0., 0., 0.]), array([0., 0., 0., ..., 0., 0., 0.]), array([0., 0., 0., ..., 0., 0., 0.]), array([0., 0., 0., ..., 0., 0., 0.]), array([0., 0., 0., ..., 0., 0., 0.]), array([0., 0., 0., ..., 0., 0., 0.]), array([0., 0., 0., ..., 0., 0., 0.]), array([0., 0., 0., ..., 0., 0., 0.]), array([0., 0., 0., ..., 0., 0., 0.]), array([0., 0., 0., ..., 0., 0., 0.]), array([0., 0., 0., ..., 0., 0., 0.]), array([0., 0., 0., ..., 0., 0., 0.]), array([0., 0., 0., ..., 0., 0., 0.]), array([0., 0., 0., ..., 0., 0., 0.]), array([0., 0., 0., ..., 0., 0., 0.]), array([0., 0., 0., ..., 0., 0., 0.]), array([0., 0., 0., ..., 0., 0., 0.]), array([0., 0., 0., ..., 0., 0., 0.]), array([0., 0., 0., ..., 0., 0., 0.]), array([0., 0., 0., ..., 0., 0., 0.]), array([0., 0., 0., ..., 0., 0., 0.]), array([0., 0., 0., ..., 0., 0., 0.]), array([0., 0., 0., ..., 0., 0., 0.]), array([0., 0., 0., ..., 0., 0., 0.]), array([0., 0., 0., ..., 0., 0., 0.]), array([0., 0., 0., ..., 0., 0., 0.]), array([0., 0., 0., ..., 0., 0., 0.]), array([0., 0., 0., ..., 0., 0., 0.]), array([0., 0., 0., ..., 0., 0., 0.]), array([0., 0., 0., ..., 0., 0., 0.]), array([0., 0., 0., ..., 0., 0., 0.]), array([0., 0., 0., ..., 0., 0., 0.]), array([0., 0., 0., ..., 0., 0., 0.]), array([0., 0., 0., ..., 0., 0., 0.]), array([0., 0., 0., ..., 0., 0., 0.]), array([0., 0., 0., ..., 0., 0., 0.]), array([0., 0., 0., ..., 0., 0., 0.]), array([0., 0., 0., ..., 0., 0., 0.]), array([0., 0., 0., ..., 0., 0., 0.]), array([0., 0., 0., ..., 0., 0., 0.]), array([0., 0., 0., ..., 0., 0., 0.]), array([0., 0., 0., ..., 0., 0., 0.]), array([0., 0., 0., ..., 0., 0., 0.]), array([0., 0., 0., ..., 0., 0., 0.]), array([0., 0., 0., ..., 0., 0., 0.]), array([0., 0., 0., ..., 0., 0., 0.]), array([0., 0., 0., ..., 0., 0., 0.]), array([0., 0., 0., ..., 0., 0., 0.]), array([0., 0., 0., ..., 0., 0., 0.]), array([0., 0., 0., ..., 0., 0., 0.]), array([0., 0., 0., ..., 0., 0., 0.]), array([0., 0., 0., ..., 0., 0., 0.]), array([0., 0., 0., ..., 0., 0., 0.]), array([0., 0., 0., ..., 0., 0., 0.]), array([0., 0., 0., ..., 0., 0., 0.]), array([0., 0., 0., ..., 0., 0., 0.]), array([0., 0., 0., ..., 0., 0., 0.]), array([0., 0., 0., ..., 0., 0., 0.]), array([0., 0., 0., ..., 0., 0., 0.]), array([0., 0., 0., ..., 0., 0., 0.]), array([0., 0., 0., ..., 0., 0., 0.]), array([0., 0., 0., ..., 0., 0., 0.]), array([0., 0., 0., ..., 0., 0., 0.]), array([0., 0., 0., ..., 0., 0., 0.]), array([0., 0., 0., ..., 0., 0., 0.]), array([0., 0., 0., ..., 0., 0., 0.]), array([0., 0., 0., ..., 0., 0., 0.]), array([0., 0., 0., ..., 0., 0., 0.]), array([0., 0., 0., ..., 0., 0., 0.]), array([0., 0., 0., ..., 0., 0., 0.]), array([0., 0., 0., ..., 0., 0., 0.]), array([0., 0., 0., ..., 0., 0., 0.]), array([0., 0., 0., ..., 0., 0., 0.]), array([0., 0., 0., ..., 0., 0., 0.]), array([0., 0., 0., ..., 0., 0., 0.]), array([0., 0., 0., ..., 0., 0., 0.]), array([0., 0., 0., ..., 0., 0., 0.]), array([0., 0., 0., ..., 0., 0., 0.]), array([0., 0., 0., ..., 0., 0., 0.]), array([0., 0., 0., ..., 0., 0., 0.]), array([0., 0., 0., ..., 0., 0., 0.]), array([0., 0., 0., ..., 0., 0., 0.]), array([0., 0., 0., ..., 0., 0., 0.]), array([0., 0., 0., ..., 0., 0., 0.]), array([0., 0., 0., ..., 0., 0., 0.]), array([0., 0., 0., ..., 0., 0., 0.]), array([0., 0., 0., ..., 0., 0., 0.]), array([0., 0., 0., ..., 0., 0., 0.]), array([0., 0., 0., ..., 0., 0., 0.]), array([0., 0., 0., ..., 0., 0., 0.]), array([0., 0., 0., ..., 0., 0., 0.]), array([0., 0., 0., ..., 0., 0., 0.]), array([0., 0., 0., ..., 0., 0., 0.]), array([0., 0., 0., ..., 0., 0., 0.]), array([0., 0., 0., ..., 0., 0., 0.]), array([0., 0., 0., ..., 0., 0., 0.]), array([0., 0., 0., ..., 0., 0., 0.]), array([0., 0., 0., ..., 0., 0., 0.]), array([0., 0., 0., ..., 0., 0., 0.]), array([0., 0., 0., ..., 0., 0., 0.]), array([0., 0., 0., ..., 0., 0., 0.]), array([0., 0., 0., ..., 0., 0., 0.]), array([0., 0., 0., ..., 0., 0., 0.]), array([0., 0., 0., ..., 0., 0., 0.]), array([0., 0., 0., ..., 0., 0., 0.]), array([0., 0., 0., ..., 0., 0., 0.]), array([0., 0., 0., ..., 0., 0., 0.]), array([0., 0., 0., ..., 0., 0., 0.]), array([0., 0., 0., ..., 0., 0., 0.]), array([0., 0., 0., ..., 0., 0., 0.]), array([0., 0., 0., ..., 0., 0., 0.]), array([0., 0., 0., ..., 0., 0., 0.]), array([0., 0., 0., ..., 0., 0., 0.]), array([0., 0., 0., ..., 0., 0., 0.]), array([0., 0., 0., ..., 0., 0., 0.]), array([0., 0., 0., ..., 0., 0., 0.]), array([0., 0., 0., ..., 0., 0., 0.]), array([0., 0., 0., ..., 0., 0., 0.]), array([0., 0., 0., ..., 0., 0., 0.]), array([0., 0., 0., ..., 0., 0., 0.]), array([0., 0., 0., ..., 0., 0., 0.]), array([0., 0., 0., ..., 0., 0., 0.]), array([0., 0., 0., ..., 0., 0., 0.]), array([0., 0., 0., ..., 0., 0., 0.]), array([0., 0., 0., ..., 0., 0., 0.]), array([0., 0., 0., ..., 0., 0., 0.]), array([0., 0., 0., ..., 0., 0., 0.]), array([0., 0., 0., ..., 0., 0., 0.]), array([0., 0., 0., ..., 0., 0., 0.]), array([0., 0., 0., ..., 0., 0., 0.]), array([0., 0., 0., ..., 0., 0., 0.]), array([0., 0., 0., ..., 0., 0., 0.]), array([0., 0., 0., ..., 0., 0., 0.]), array([0., 0., 0., ..., 0., 0., 0.]), array([0., 0., 0., ..., 0., 0., 0.]), array([0., 0., 0., ..., 0., 0., 0.]), array([0., 0., 0., ..., 0., 0., 0.]), array([0., 0., 0., ..., 0., 0., 0.]), array([0., 0., 0., ..., 0., 0., 0.]), array([0., 0., 0., ..., 0., 0., 0.]), array([0., 0., 0., ..., 0., 0., 0.]), array([0., 0., 0., ..., 0., 0., 0.]), array([0., 0., 0., ..., 0., 0., 0.]), array([0., 0., 0., ..., 0., 0., 0.]), array([0., 0., 0., ..., 0., 0., 0.]), array([0., 0., 0., ..., 0., 0., 0.]), array([0., 0., 0., ..., 0., 0., 0.]), array([0., 0., 0., ..., 0., 0., 0.]), array([0., 0., 0., ..., 0., 0., 0.]), array([0., 0., 0., ..., 0., 0., 0.]), array([0., 0., 0., ..., 0., 0., 0.]), array([0., 0., 0., ..., 0., 0., 0.]), array([0., 0., 0., ..., 0., 0., 0.]), array([0., 0., 0., ..., 0., 0., 0.]), array([0., 0., 0., ..., 0., 0., 0.]), array([0., 0., 0., ..., 0., 0., 0.]), array([0., 0., 0., ..., 0., 0., 0.]), array([0., 0., 0., ..., 0., 0., 0.]), array([0., 0., 0., ..., 0., 0., 0.]), array([0., 0., 0., ..., 0., 0., 0.]), array([0., 0., 0., ..., 0., 0., 0.]), array([0., 0., 0., ..., 0., 0., 0.]), array([0., 0., 0., ..., 0., 0., 0.]), array([0., 0., 0., ..., 0., 0., 0.]), array([0., 0., 0., ..., 0., 0., 0.]), array([0., 0., 0., ..., 0., 0., 0.]), array([0., 0., 0., ..., 0., 0., 0.]), array([0., 0., 0., ..., 0., 0., 0.]), array([0., 0., 0., ..., 0., 0., 0.]), array([0., 0., 0., ..., 0., 0., 0.]), array([0., 0., 0., ..., 0., 0., 0.]), array([0., 0., 0., ..., 0., 0., 0.]), array([0., 0., 0., ..., 0., 0., 0.]), array([0., 0., 0., ..., 0., 0., 0.]), array([0., 0., 0., ..., 0., 0., 0.]), array([0., 0., 0., ..., 0., 0., 0.]), array([0., 0., 0., ..., 0., 0., 0.]), array([0., 0., 0., ..., 0., 0., 0.]), array([0., 0., 0., ..., 0., 0., 0.]), array([0., 0., 0., ..., 0., 0., 0.]), array([0., 0., 0., ..., 0., 0., 0.]), array([0., 0., 0., ..., 0., 0., 0.]), array([0., 0., 0., ..., 0., 0., 0.]), array([0., 0., 0., ..., 0., 0., 0.]), array([0., 0., 0., ..., 0., 0., 0.]), array([0., 0., 0., ..., 0., 0., 0.]), array([0., 0., 0., ..., 0., 0., 0.]), array([0., 0., 0., ..., 0., 0., 0.]), array([0., 0., 0., ..., 0., 0., 0.]), array([0., 0., 0., ..., 0., 0., 0.]), array([0., 0., 0., ..., 0., 0., 0.]), array([0., 0., 0., ..., 0., 0., 0.]), array([0., 0., 0., ..., 0., 0., 0.]), array([0., 0., 0., ..., 0., 0., 0.]), array([0., 0., 0., ..., 0., 0., 0.]), array([0., 0., 0., ..., 0., 0., 0.]), array([0., 0., 0., ..., 0., 0., 0.]), array([0., 0., 0., ..., 0., 0., 0.]), array([0., 0., 0., ..., 0., 0., 0.]), array([0., 0., 0., ..., 0., 0., 0.]), array([0., 0., 0., ..., 0., 0., 0.]), array([0., 0., 0., ..., 0., 0., 0.]), array([0., 0., 0., ..., 0., 0., 0.]), array([0., 0., 0., ..., 0., 0., 0.]), array([0., 0., 0., ..., 0., 0., 0.]), array([0., 0., 0., ..., 0., 0., 0.]), array([0., 0., 0., ..., 0., 0., 0.]), array([0., 0., 0., ..., 0., 0., 0.]), array([0., 0., 0., ..., 0., 0., 0.]), array([0., 0., 0., ..., 0., 0., 0.]), array([0., 0., 0., ..., 0., 0., 0.]), array([0., 0., 0., ..., 0., 0., 0.]), array([0., 0., 0., ..., 0., 0., 0.]), array([0., 0., 0., ..., 0., 0., 0.]), array([0., 0., 0., ..., 0., 0., 0.]), array([0., 0., 0., ..., 0., 0., 0.]), array([0., 0., 0., ..., 0., 0., 0.]), array([0., 0., 0., ..., 0., 0., 0.]), array([0., 0., 0., ..., 0., 0., 0.]), array([0., 0., 0., ..., 0., 0., 0.]), array([0., 0., 0., ..., 0., 0., 0.]), array([0., 0., 0., ..., 0., 0., 0.]), array([0., 0., 0., ..., 0., 0., 0.]), array([0., 0., 0., ..., 0., 0., 0.]), array([0., 0., 0., ..., 0., 0., 0.]), array([0., 0., 0., ..., 0., 0., 0.]), array([0., 0., 0., ..., 0., 0., 0.]), array([0., 0., 0., ..., 0., 0., 0.]), array([0., 0., 0., ..., 0., 0., 0.]), array([0., 0., 0., ..., 0., 0., 0.]), array([0., 0., 0., ..., 0., 0., 0.]), array([0., 0., 0., ..., 0., 0., 0.]), array([0., 0., 0., ..., 0., 0., 0.]), array([0., 0., 0., ..., 0., 0., 0.]), array([0., 0., 0., ..., 0., 0., 0.]), array([0., 0., 0., ..., 0., 0., 0.]), array([0., 0., 0., ..., 0., 0., 0.]), array([0., 0., 0., ..., 0., 0., 0.]), array([0., 0., 0., ..., 0., 0., 0.]), array([0., 0., 0., ..., 0., 0., 0.]), array([0., 0., 0., ..., 0., 0., 0.]), array([0., 0., 0., ..., 0., 0., 0.]), array([0., 0., 0., ..., 0., 0., 0.]), array([0., 0., 0., ..., 0., 0., 0.]), array([0., 0., 0., ..., 0., 0., 0.]), array([0., 0., 0., ..., 0., 0., 0.]), array([0., 0., 0., ..., 0., 0., 0.]), array([0., 0., 0., ..., 0., 0., 0.]), array([0., 0., 0., ..., 0., 0., 0.]), array([0., 0., 0., ..., 0., 0., 0.]), array([0., 0., 0., ..., 0., 0., 0.]), array([0., 0., 0., ..., 0., 0., 0.]), array([0., 0., 0., ..., 0., 0., 0.]), array([0., 0., 0., ..., 0., 0., 0.]), array([0., 0., 0., ..., 0., 0., 0.]), array([0., 0., 0., ..., 0., 0., 0.]), array([0., 0., 0., ..., 0., 0., 0.]), array([0., 0., 0., ..., 0., 0., 0.]), array([0., 0., 0., ..., 0., 0., 0.]), array([0., 0., 0., ..., 0., 0., 0.]), array([0., 0., 0., ..., 0., 0., 0.]), array([0., 0., 0., ..., 0., 0., 0.]), array([0., 0., 0., ..., 0., 0., 0.]), array([0., 0., 0., ..., 0., 0., 0.]), array([0., 0., 0., ..., 0., 0., 0.]), array([0., 0., 0., ..., 0., 0., 0.]), array([0., 0., 0., ..., 0., 0., 0.]), array([0., 0., 0., ..., 0., 0., 0.]), array([0., 0., 0., ..., 0., 0., 0.]), array([0., 0., 0., ..., 0., 0., 0.]), array([0., 0., 0., ..., 0., 0., 0.]), array([0., 0., 0., ..., 0., 0., 0.]), array([0., 0., 0., ..., 0., 0., 0.]), array([0., 0., 0., ..., 0., 0., 0.]), array([0., 0., 0., ..., 0., 0., 0.]), array([0., 0., 0., ..., 0., 0., 0.]), array([0., 0., 0., ..., 0., 0., 0.]), array([0., 0., 0., ..., 0., 0., 0.]), array([0., 0., 0., ..., 0., 0., 0.]), array([0., 0., 0., ..., 0., 0., 0.]), array([0., 0., 0., ..., 0., 0., 0.]), array([0., 0., 0., ..., 0., 0., 0.]), array([0., 0., 0., ..., 0., 0., 0.]), array([0., 0., 0., ..., 0., 0., 0.]), array([0., 0., 0., ..., 0., 0., 0.]), array([0., 0., 0., ..., 0., 0., 0.]), array([0., 0., 0., ..., 0., 0., 0.]), array([0., 0., 0., ..., 0., 0., 0.]), array([0., 0., 0., ..., 0., 0., 0.]), array([0., 0., 0., ..., 0., 0., 0.]), array([0., 0., 0., ..., 0., 0., 0.]), array([0., 0., 0., ..., 0., 0., 0.]), array([0., 0., 0., ..., 0., 0., 0.]), array([0., 0., 0., ..., 0., 0., 0.]), array([0., 0., 0., ..., 0., 0., 0.]), array([0., 0., 0., ..., 0., 0., 0.]), array([0., 0., 0., ..., 0., 0., 0.]), array([0., 0., 0., ..., 0., 0., 0.]), array([0., 0., 0., ..., 0., 0., 0.]), array([0., 0., 0., ..., 0., 0., 0.]), array([0., 0., 0., ..., 0., 0., 0.]), array([0., 0., 0., ..., 0., 0., 0.]), array([0., 0., 0., ..., 0., 0., 0.]), array([0., 0., 0., ..., 0., 0., 0.]), array([0., 0., 0., ..., 0., 0., 0.]), array([0., 0., 0., ..., 0., 0., 0.]), array([0., 0., 0., ..., 0., 0., 0.]), array([0., 0., 0., ..., 0., 0., 0.]), array([0., 0., 0., ..., 0., 0., 0.]), array([0., 0., 0., ..., 0., 0., 0.]), array([0., 0., 0., ..., 0., 0., 0.]), array([0., 0., 0., ..., 0., 0., 0.]), array([0., 0., 0., ..., 0., 0., 0.]), array([0., 0., 0., ..., 0., 0., 0.]), array([0., 0., 0., ..., 0., 0., 0.]), array([0., 0., 0., ..., 0., 0., 0.]), array([0., 0., 0., ..., 0., 0., 0.]), array([0., 0., 0., ..., 0., 0., 0.]), array([0., 0., 0., ..., 0., 0., 0.]), array([0., 0., 0., ..., 0., 0., 0.]), array([0., 0., 0., ..., 0., 0., 0.]), array([0., 0., 0., ..., 0., 0., 0.]), array([0., 0., 0., ..., 0., 0., 0.]), array([0., 0., 0., ..., 0., 0., 0.]), array([0., 0., 0., ..., 0., 0., 0.]), array([0., 0., 0., ..., 0., 0., 0.]), array([0., 0., 0., ..., 0., 0., 0.]), array([0., 0., 0., ..., 0., 0., 0.]), array([0., 0., 0., ..., 0., 0., 0.]), array([0., 0., 0., ..., 0., 0., 0.]), array([0., 0., 0., ..., 0., 0., 0.]), array([0., 0., 0., ..., 0., 0., 0.]), array([0., 0., 0., ..., 0., 0., 0.]), array([0., 0., 0., ..., 0., 0., 0.]), array([0., 0., 0., ..., 0., 0., 0.]), array([0., 0., 0., ..., 0., 0., 0.]), array([0., 0., 0., ..., 0., 0., 0.]), array([0., 0., 0., ..., 0., 0., 0.]), array([0., 0., 0., ..., 0., 0., 0.]), array([0., 0., 0., ..., 0., 0., 0.]), array([0., 0., 0., ..., 0., 0., 0.]), array([0., 0., 0., ..., 0., 0., 0.]), array([0., 0., 0., ..., 0., 0., 0.]), array([0., 0., 0., ..., 0., 0., 0.]), array([0., 0., 0., ..., 0., 0., 0.]), array([0., 0., 0., ..., 0., 0., 0.]), array([0., 0., 0., ..., 0., 0., 0.]), array([0., 0., 0., ..., 0., 0., 0.]), array([0., 0., 0., ..., 0., 0., 0.]), array([0., 0., 0., ..., 0., 0., 0.]), array([0., 0., 0., ..., 0., 0., 0.]), array([0., 0., 0., ..., 0., 0., 0.]), array([0., 0., 0., ..., 0., 0., 0.]), array([0., 0., 0., ..., 0., 0., 0.]), array([0., 0., 0., ..., 0., 0., 0.]), array([0., 0., 0., ..., 0., 0., 0.]), array([0., 0., 0., ..., 0., 0., 0.]), array([0., 0., 0., ..., 0., 0., 0.]), array([0., 0., 0., ..., 0., 0., 0.]), array([0., 0., 0., ..., 0., 0., 0.]), array([0., 0., 0., ..., 0., 0., 0.]), array([0., 0., 0., ..., 0., 0., 0.]), array([0., 0., 0., ..., 0., 0., 0.]), array([0., 0., 0., ..., 0., 0., 0.]), array([0., 0., 0., ..., 0., 0., 0.]), array([0., 0., 0., ..., 0., 0., 0.]), array([0., 0., 0., ..., 0., 0., 0.]), array([0., 0., 0., ..., 0., 0., 0.]), array([0., 0., 0., ..., 0., 0., 0.]), array([0., 0., 0., ..., 0., 0., 0.]), array([0., 0., 0., ..., 0., 0., 0.]), array([0., 0., 0., ..., 0., 0., 0.]), array([0., 0., 0., ..., 0., 0., 0.]), array([0., 0., 0., ..., 0., 0., 0.]), array([0., 0., 0., ..., 0., 0., 0.]), array([0., 0., 0., ..., 0., 0., 0.]), array([0., 0., 0., ..., 0., 0., 0.]), array([0., 0., 0., ..., 0., 0., 0.]), array([0., 0., 0., ..., 0., 0., 0.]), array([0., 0., 0., ..., 0., 0., 0.]), array([0., 0., 0., ..., 0., 0., 0.]), array([0., 0., 0., ..., 0., 0., 0.]), array([0., 0., 0., ..., 0., 0., 0.]), array([0., 0., 0., ..., 0., 0., 0.]), array([0., 0., 0., ..., 0., 0., 0.]), array([0., 0., 0., ..., 0., 0., 0.]), array([0., 0., 0., ..., 0., 0., 0.]), array([0., 0., 0., ..., 0., 0., 0.]), array([0., 0., 0., ..., 0., 0., 0.]), array([0., 0., 0., ..., 0., 0., 0.]), array([0., 0., 0., ..., 0., 0., 0.]), array([0., 0., 0., ..., 0., 0., 0.]), array([0., 0., 0., ..., 0., 0., 0.]), array([0., 0., 0., ..., 0., 0., 0.]), array([0., 0., 0., ..., 0., 0., 0.]), array([0., 0., 0., ..., 0., 0., 0.]), array([0., 0., 0., ..., 0., 0., 0.]), array([0., 0., 0., ..., 0., 0., 0.]), array([0., 0., 0., ..., 0., 0., 0.]), array([0., 0., 0., ..., 0., 0., 0.]), array([0., 0., 0., ..., 0., 0., 0.]), array([0., 0., 0., ..., 0., 0., 0.]), array([0., 0., 0., ..., 0., 0., 0.]), array([0., 0., 0., ..., 0., 0., 0.]), array([0., 0., 0., ..., 0., 0., 0.]), array([0., 0., 0., ..., 0., 0., 0.]), array([0., 0., 0., ..., 0., 0., 0.]), array([0., 0., 0., ..., 0., 0., 0.]), array([0., 0., 0., ..., 0., 0., 0.]), array([0., 0., 0., ..., 0., 0., 0.]), array([0., 0., 0., ..., 0., 0., 0.]), array([0., 0., 0., ..., 0., 0., 0.]), array([0., 0., 0., ..., 0., 0., 0.]), array([0., 0., 0., ..., 0., 0., 0.]), array([0., 0., 0., ..., 0., 0., 0.]), array([0., 0., 0., ..., 0., 0., 0.])]\n",
            "type train_labels -  <class 'numpy.ndarray'>\n",
            "[6, 5, 3, 4, 7, 8, 6, 7, 0, 9, 9, 7, 6, 9, 9, 3, 1, 6, 3, 0, 6, 6, 5, 6, 0, 6, 9, 5, 8, 0, 5, 0, 4, 0, 3, 1, 3, 7, 1, 3, 3, 7, 0, 7, 3, 3, 1, 7, 8, 8, 2, 4, 0, 6, 6, 1, 5, 0, 4, 4, 8, 6, 0, 7, 6, 3, 4, 2, 6, 7, 6, 8, 7, 2, 5, 7, 1, 2, 2, 1, 4, 7, 7, 4, 5, 4, 0, 1, 7, 2, 3, 2, 2, 8, 4, 0, 4, 1, 8, 1, 2, 4, 0, 6, 6, 5, 7, 5, 1, 6, 1, 5, 7, 2, 8, 0, 3, 8, 3, 2, 9, 3, 4, 6, 8, 9, 2, 1, 2, 3, 3, 7, 9, 4, 8, 2, 2, 5, 6, 9, 4, 2, 7, 3, 6, 1, 7, 6, 5, 2, 2, 1, 0, 5, 7, 7, 3, 5, 3, 7, 1, 2, 0, 0, 8, 6, 9, 3, 3, 0, 3, 9, 8, 7, 0, 0, 7, 3, 8, 3, 4, 6, 9, 2, 6, 4, 5, 9, 8, 3, 6, 7, 7, 7, 3, 9, 9, 3, 2, 4, 7, 5, 9, 5, 8, 3, 0, 8, 0, 3, 2, 5, 0, 2, 4, 8, 9, 2, 7, 8, 1, 6, 0, 3, 6, 4, 0, 1, 7, 0, 2, 5, 1, 3, 7, 0, 2, 8, 9, 7, 1, 6, 4, 2, 9, 1, 8, 2, 9, 4, 0, 2, 1, 4, 8, 9, 7, 9, 6, 7, 3, 1, 6, 4, 1, 9, 1, 8, 9, 8, 9, 5, 4, 5, 7, 8, 1, 0, 2, 9, 1, 1, 8, 2, 7, 6, 2, 6, 0, 3, 8, 6, 8, 2, 3, 0, 6, 3, 1, 0, 5, 5, 7, 8, 3, 6, 0, 2, 3, 7, 2, 4, 5, 4, 4, 4, 7, 4, 7, 3, 7, 5, 2, 2, 2, 4, 3, 9, 0, 8, 8, 6, 1, 1, 6, 6, 0, 1, 6, 3, 6, 9, 4, 9, 1, 3, 9, 9, 7, 2, 0, 3, 5, 4, 1, 6, 1, 7, 0, 2, 0, 5, 7, 5, 7, 0, 9, 4, 4, 4, 9, 1, 5, 6, 0, 4, 1, 6, 8, 7, 8, 2, 0, 7, 3, 7, 2, 1, 1, 1, 1, 3, 0, 3, 6, 6, 1, 8, 3, 5, 7, 8, 6, 3, 9, 3, 8, 0, 5, 5, 1, 6, 2, 8, 1, 5, 5, 0, 9, 8, 5, 1, 0, 6, 0, 1, 7, 7, 3, 8, 8, 1, 0, 9, 0, 7, 7, 3, 0, 3, 1, 2, 3, 5, 7, 4, 3, 9, 9, 9, 5, 7, 0, 1, 2, 1, 9, 5, 0, 7, 4, 6, 2, 6, 4, 8, 8, 3, 9, 0, 5, 8, 5, 7, 7, 1, 8, 5, 4, 3, 3, 7, 5, 7, 9, 0, 4, 7, 5, 7, 7, 1, 6, 1, 7, 3, 6, 3, 5, 1, 4, 1, 4, 4, 1, 1, 7, 5, 8, 2, 2, 4, 8, 8, 5, 2, 9, 5, 2, 1, 0, 7, 8, 5, 5, 7, 7, 1, 4, 0, 6, 6, 7, 0, 0, 3, 6, 6, 6, 9, 0, 6, 1, 4, 7, 2, 8, 8, 2, 3, 9, 6, 4, 2, 2, 5, 3, 7, 9, 6, 2, 7, 3, 7, 2, 7, 3, 7, 0, 9, 9, 3, 1, 0, 6, 3, 7, 2, 1, 7, 0, 9, 5, 5, 6, 4, 7, 6, 9, 4, 5, 0, 8, 2, 3, 7, 9, 2, 0, 0, 3, 0, 5, 2, 4, 7, 4, 1, 7, 8, 4, 1, 6, 1, 7, 3, 0, 5, 1, 5, 6, 2, 5, 7, 2, 0, 3, 6, 9, 6, 0, 6, 7, 1, 7, 8, 7, 3, 5, 6, 4, 9, 2, 0, 1, 0, 3, 8, 4, 8, 7, 2, 4, 6, 7, 1, 1, 9, 4, 8, 2, 2, 9, 3, 3, 8, 5, 7, 7, 0, 0, 2, 1, 3, 8, 1, 6, 9, 6, 5, 6, 4, 0, 8, 0, 4, 5, 4, 7, 6, 2, 8, 9, 7, 2, 8, 1, 5, 9, 4, 5, 6, 5, 3, 5, 9, 1, 2, 2, 7, 6, 9, 7, 1, 1, 6, 9, 8, 2, 1, 6, 6, 1, 6, 7, 8, 5, 3, 3, 6, 3, 8, 9, 1, 6, 7, 6, 5, 4, 8, 4, 8, 4, 3, 0, 7, 3, 6, 8, 6, 7, 5, 1, 8, 4, 0, 1, 2, 2, 1, 3, 3, 0, 6, 6, 1, 0, 9, 1, 6, 0, 9, 4, 8, 1, 0, 6, 8, 5, 3, 0, 8, 6, 7, 0, 1, 2, 3, 7, 9, 4, 7, 2, 4, 9, 5, 0, 4, 0, 8, 1, 1, 8, 4, 7, 9, 6, 0, 0, 1, 3, 3, 5, 6, 8, 2, 9, 4, 5, 1, 1, 0, 6, 2, 8, 6, 8, 9, 4, 4, 9, 7, 9, 9, 1, 5, 0, 6, 1, 7, 2, 2, 6, 9, 6, 3, 2, 1, 8, 5, 3, 2, 1, 2, 9, 0, 9, 9, 9, 5, 0, 8, 2, 2, 4, 0, 1, 4, 5, 9, 2, 6, 9, 9, 9, 3, 4, 1, 3, 6, 6, 0, 0, 3, 0, 8, 3, 0, 7, 7, 4, 2, 4, 4, 0, 9, 6, 1, 4, 0, 5, 6, 0, 4, 5, 5, 9, 7, 1, 5, 8, 7, 5, 3, 2, 5, 5, 7, 9, 7, 6, 0, 8, 4, 7, 5, 8, 4, 6, 2, 1, 7, 9, 0, 8, 7, 8, 9, 4, 8, 4, 8, 6, 4, 3, 3, 9, 3, 7, 3, 5, 1, 7, 2, 8, 6, 9, 9, 1, 0, 4, 2, 9, 1, 0, 4, 5, 5, 6, 2, 6, 7, 6, 9, 6, 0, 5, 1, 7, 4, 4, 8, 1, 7, 0, 8, 4, 7, 0, 7, 5, 7, 2, 8, 2, 2, 7, 3, 5, 8, 8, 1, 9, 3, 9, 4, 7, 6, 5, 0, 3, 3, 7, 9, 3, 3, 3, 0, 2, 3, 5, 3, 6, 2, 8, 8, 1, 1, 5, 3, 7, 0, 4, 0, 3, 6, 5, 1, 0, 4, 3, 3, 3, 6, 7, 1, 5, 7, 5, 6, 1, 0, 0, 9, 4, 1, 1, 8, 1, 8, 4, 2, 9, 6, 9, 2, 2, 1, 4, 3, 7, 9, 5, 9, 3, 7, 2, 2, 1, 8, 2, 0, 9, 2, 0, 1, 2, 2, 5, 6, 7, 6, 0, 1, 5, 1, 5, 4, 9, 2, 9, 7, 3, 0, 0, 3, 3, 0, 2, 1, 6, 5, 6, 9, 6, 1, 0, 4, 5, 4, 3, 1, 7, 7, 1, 7, 3, 7, 4, 7, 6, 1, 0, 6, 8, 1, 7, 4, 0, 6, 0, 7, 1, 6, 8, 2, 7, 7, 7, 0, 6, 0, 5, 1, 8, 9, 7, 9, 1, 3, 9, 6, 4, 4, 0, 0, 7, 9, 5, 6, 1, 8, 4, 1, 2, 5, 7, 8, 4, 5, 3, 5, 7, 3, 9, 7, 1, 7, 3, 3, 8, 5, 3, 2, 6, 8, 9, 8, 5, 5, 8, 1, 4, 0, 1, 3, 7, 8, 1, 7, 3, 1, 8, 9, 5, 0, 4, 1, 9, 8, 7, 4, 2, 1, 7, 9, 7, 2, 3, 0, 5, 6, 5, 8, 1, 9, 7, 5, 3, 0, 3, 5, 4, 4, 1, 4, 0, 7, 0, 3, 2, 5, 9, 9, 1, 0, 7, 2, 3, 8, 9, 3, 2, 5, 1, 9, 9, 3, 4, 0, 0, 1, 2, 0, 2, 1, 0, 4, 6, 6, 3, 8, 1, 4, 3, 0, 0, 7, 0, 2, 5, 4, 7, 5, 5, 6, 6, 5, 9, 1, 6, 6, 2, 7, 0, 1, 9, 7, 4, 1, 6, 1, 3, 1, 7, 2, 3, 9, 3, 0, 4, 4, 1, 7, 3, 1, 7, 1, 2, 5, 4, 1, 7, 8, 1, 0, 4, 2, 3, 3, 8, 9, 0, 5, 2, 6, 0, 2, 5, 7, 0, 5, 9, 6, 9, 2, 4, 7, 6, 6, 6, 6, 2, 2, 9, 3, 2, 1, 0, 5, 2, 3, 4, 7, 6, 8, 5, 4, 5, 4, 5, 6, 6, 7, 3, 9, 5, 3, 2, 5, 7, 6, 3, 9, 3, 0, 5, 6, 2, 5, 7, 3, 5, 6, 1, 5, 2, 0, 2, 3, 3, 9, 1, 7, 6, 9, 2, 2, 8, 2, 1, 8, 8, 7, 4, 9, 8, 7, 1, 2, 5, 5, 8, 0, 9, 8, 9, 9, 1, 8, 1, 7, 2, 9, 6, 7, 9, 3, 2, 2, 7, 5, 4, 8, 0, 9, 2, 2, 7, 7, 6, 5, 7, 3, 5, 1, 3, 1, 6, 1, 6, 4, 4, 3, 9, 2, 6, 5, 5, 1, 3, 4, 2, 1, 5, 2, 7, 3, 3, 9, 7, 9, 0, 2, 2, 8, 2, 8, 9, 2, 7, 6, 6, 1, 7, 5, 0, 8, 1, 4, 2, 3, 7, 7, 0, 7, 3, 8, 1, 7, 3, 1, 8, 3, 3, 6, 0, 1, 7, 9, 1, 8, 8, 4, 1, 8, 0, 5, 3, 0, 6, 2, 6, 7, 9, 6, 3, 9, 1, 7, 2, 9, 6, 3, 0, 1, 8, 5, 7, 5, 9, 5, 5, 7, 2, 2, 1, 9, 2, 1, 0, 7, 0, 4, 5, 4, 7, 1, 2, 0, 5, 5, 8, 2, 2, 0, 9, 3, 5, 7, 5, 4, 7, 2, 9, 0, 1, 2, 2, 3, 2, 7, 6, 8, 3, 5, 1, 1, 6, 3, 3, 6, 8, 2, 9, 2, 2, 2, 9, 0, 3, 8, 9, 2, 0, 9, 2, 0, 3, 6, 2, 3, 3, 6, 1, 3, 9, 4, 2, 0, 2, 0, 0, 6, 2, 3, 4, 9, 5, 7, 9, 5, 9, 1, 7, 2, 6, 6, 2, 2, 7, 8, 4, 8, 6, 6, 4, 0, 4, 9, 9, 3, 4, 2, 6, 2, 9, 2, 0, 1, 2, 6, 7, 7, 8, 1, 2, 9, 6, 8, 7, 3, 7, 6, 5, 8, 5, 2, 6, 0, 5, 2, 3, 1, 1, 8, 7, 4, 9, 4, 4, 3, 4, 0, 3, 8, 6, 3, 1, 9, 9, 0, 6, 1, 7, 2, 3, 4, 6, 8, 1, 5, 2, 2, 4, 1, 0, 5, 3, 9, 8, 7, 3, 5, 0, 4, 9, 0, 3, 1, 6, 5, 1, 6, 3, 7, 2, 4, 5, 4, 6, 6, 5, 0, 0, 8, 6, 1, 7, 2, 8, 0, 0, 7, 1, 6, 8, 8, 9, 8, 3, 3, 1, 0, 3, 4, 5, 2, 3, 0, 2, 2, 3, 9, 8, 6, 7, 6, 9, 9, 5, 6, 4, 5, 2, 1, 4, 8, 3, 9, 7, 3, 4, 1, 7, 5, 2, 0, 5, 9, 0, 6, 7, 5, 5, 4, 6, 0, 1, 6, 1, 5, 2, 3, 0, 4, 0, 1, 9, 1, 0, 9, 1, 8, 0, 3, 8, 7, 8, 2, 3, 6, 1, 6, 6, 6, 6, 5, 9, 0, 9, 7, 7, 0, 3, 5, 3, 9, 6, 5, 9, 8, 7, 9, 1, 2, 6, 1, 5, 1, 2, 1, 7, 7, 2, 7, 8, 6, 8, 6, 4, 1, 6, 1, 3, 0, 8, 4, 5, 0, 6, 2, 9, 8, 2, 7, 7, 1, 1, 3, 7, 9, 2, 6, 1, 3, 5, 5, 5, 0, 8, 6, 1, 2, 3, 9, 8, 9, 4, 2, 9, 4, 2, 1, 1, 9, 6, 6, 5, 4, 9, 7, 0, 0, 6, 1, 0, 7, 5, 6, 7, 2, 7, 8, 7, 6, 4, 3, 2, 0, 0, 6, 7, 8, 7, 8, 7, 4, 4, 3, 3, 6, 4, 7, 2, 3, 6, 6, 4, 1, 6, 1, 7, 4, 6, 2, 9, 9, 4, 3, 8, 5, 5, 7, 4, 1, 0, 4, 6, 9, 9, 7, 2, 9, 7, 4, 2, 4, 9, 2, 3, 8, 9, 6, 6, 7, 4, 9, 8, 9, 3, 5, 0, 9, 9, 0, 5, 1, 2, 4, 2, 6, 8, 5, 5, 2, 1, 4, 4, 0, 7, 4, 7, 2, 1, 1, 1, 5, 1, 1, 2, 6, 2, 1, 6, 3, 1, 4, 5, 3, 2, 2, 0, 5, 2, 2, 5, 4, 0, 1, 2, 7, 6, 7, 6, 1, 1, 3, 4, 3, 4, 2, 1, 0, 1, 5, 2, 0, 4, 5, 2, 1, 6, 2, 1, 0, 1, 7, 4, 4, 7, 8, 5, 8, 4, 0, 6, 0, 1, 6, 2, 7, 2, 7, 1, 1, 1, 9, 7, 1, 2, 1, 1, 6, 9, 7, 1, 4, 0, 2, 8, 1, 6, 9, 8, 6, 3, 9, 4, 2, 1, 6, 2, 9, 4, 3, 3, 3, 2, 5, 5, 5, 6, 4, 6, 7, 7, 4, 8, 1, 9, 7, 6, 1, 9, 8, 5, 5, 3, 6, 3, 8, 6, 1, 8, 9, 9, 3, 0, 2, 0, 7, 7, 0, 9, 6, 8, 6, 3, 9, 6, 2, 3, 6, 0, 1, 8, 7, 6, 8, 5, 1, 2, 1, 3, 3, 6, 7, 7, 9, 5, 8, 4, 5, 2, 3, 2, 8, 3, 4, 0, 3, 2, 6, 6, 0, 6, 7, 0, 1, 6, 7, 2, 2, 6, 5, 0, 3, 7, 6, 6, 3, 0, 6, 1, 8, 0, 6, 5, 3, 1, 1, 4, 5, 4, 8, 9, 1, 9, 2, 7, 6, 8, 3, 6, 5, 1, 5, 2, 4, 8, 8, 6, 8, 6, 4, 8, 7, 3, 9, 1, 0, 5, 6, 4, 6, 5, 6, 1, 4, 4, 7, 7, 8, 2, 1, 7, 8, 8, 5, 0, 4, 7, 1, 2, 4, 1, 7, 8, 4, 9, 5, 1, 3, 9, 1, 0, 7, 8, 8, 2, 1, 0, 8, 7, 4, 7, 4, 3, 1, 9, 8, 1, 7, 9, 2, 9, 1, 6, 6, 0, 9, 4, 9, 0, 3, 7, 3, 1, 1, 6, 0, 2, 6, 4, 6, 5, 2, 4, 2, 0, 3, 1, 6, 8, 1, 3, 2, 1, 3, 7, 1, 1, 7, 9, 0, 9, 6, 6, 3, 3, 7, 0, 1, 6, 1, 2, 2, 3, 9, 3, 1, 1, 6, 6, 5, 6, 2, 6, 1, 2, 8, 1, 6, 7, 8, 0, 0, 0, 2, 7, 0, 0, 6, 5, 2, 2, 9, 6, 8, 9, 7, 3, 3, 3, 9, 0, 2, 6, 6, 8, 9, 9, 7, 7, 9, 6, 2, 0, 5, 8, 7, 6, 4, 3, 2, 1, 0, 8, 8, 3, 7, 4, 0, 5, 4, 2, 1, 1, 0, 6, 7, 6, 1, 1, 7, 7, 8, 0, 6, 8, 9, 1, 3, 4, 5, 5, 4, 7, 5, 9, 3, 1, 0, 0, 3, 6, 3, 5, 4, 1, 2, 3, 5, 3, 9, 8, 7, 1, 7, 6, 3, 4, 4, 1, 0, 7, 6, 6, 0, 0, 0, 9, 9, 5, 6, 1, 4, 7, 7, 6, 1, 2, 7, 0, 9, 0, 7, 5, 8, 0, 0, 9, 6, 5, 4, 0, 6, 1, 7, 2, 7, 0, 8, 6, 8, 6, 2, 4, 6, 5, 5, 3, 6, 1, 7, 2, 4, 8, 2, 9, 4, 5, 4, 2, 1, 2, 2, 3, 7, 4, 1, 8, 0, 5, 2, 0, 6, 3, 3, 3, 2, 6, 4, 3, 7, 2, 0, 4, 1, 6, 2, 8, 6, 6, 5, 9, 6, 6, 4, 2, 8, 5, 6, 5, 6, 7, 2, 6, 9, 5, 2, 6, 3, 1, 6, 0, 0, 3, 4, 2, 7, 2, 4, 8, 7, 9, 2, 7, 7, 5, 8, 0, 8, 6, 5, 1, 1, 6, 8, 3, 7, 6, 4, 1, 6, 8, 7, 4, 1, 6, 9, 1, 0, 4, 5, 1, 2, 9, 7, 3, 3, 7, 9, 6, 3, 8, 0, 4, 6, 2, 2, 3, 3, 3, 7, 9, 1, 8, 5, 9, 7, 8, 9, 7, 1, 5, 8, 0, 8, 3, 1, 5, 7, 5, 6, 4, 2, 6, 6, 8, 7, 9, 2, 3, 8, 4, 8, 4, 1, 7, 4, 5, 7, 9, 7, 1, 9, 3, 0, 5, 4, 6, 9, 7, 9, 6, 7, 8, 1, 1, 6, 5, 8, 7, 0, 0, 0, 6, 4, 3, 4, 9, 8, 1, 3, 6, 2, 1, 1, 4, 6, 2, 5, 3, 7, 1, 9, 1, 5, 5, 3, 7, 8, 4, 5, 9, 5, 9, 8, 3, 6, 2, 1, 6, 4, 2, 1, 9, 0, 8, 2, 7, 4, 1, 9, 5, 7, 6, 5, 0, 1, 4, 3, 1, 6, 4, 6, 7, 1, 1, 4, 9, 1, 6, 7, 8, 5, 9, 0, 4, 1, 2, 5, 8, 4, 7, 1, 9, 3, 0, 1, 7, 1, 8, 5, 5, 7, 7, 0, 8, 5, 5, 2, 5, 5, 9, 7, 0, 4, 3, 4, 2, 7, 7, 4, 6, 3, 6, 9, 5, 8, 8, 2, 3, 3, 2, 9, 9, 9, 6, 7, 1, 7, 6, 2, 1, 7, 0, 6, 9, 6, 9, 1, 6, 9, 7, 3, 0, 4, 3, 5, 0, 1, 9, 8, 0, 0, 4, 9, 3, 6, 8, 2, 9, 2, 5, 3, 5, 6, 8, 2, 2, 7, 5, 8, 6, 9, 1, 7, 0, 6, 3, 3, 6, 1, 6, 2, 8, 8, 3, 3, 6, 8, 3, 9, 8, 6, 9, 0, 5, 1, 7, 4, 4, 2, 3, 5, 7, 1, 9, 9, 9, 5, 3, 8, 0, 3, 1, 5, 1, 2, 5, 2, 7, 8, 0, 2, 8, 9, 3, 6, 7, 7, 4, 8, 3, 2, 5, 8, 1, 7, 1, 9, 4, 8, 4, 3, 4, 2, 8, 8, 2, 9, 4, 7, 4, 8, 3, 3, 3, 1, 8, 5, 5, 6, 7, 8, 4, 1, 2, 2, 0, 0, 7, 7, 9, 7, 0, 7, 7, 0, 5, 7, 5, 2, 6, 9, 9, 3, 3, 5, 5, 8, 7, 8, 0, 3, 4, 9, 5, 7, 3, 1, 7, 2, 1, 5, 9, 4, 3, 4, 5, 1, 1, 8, 1, 1, 7, 9, 4, 7, 3, 9, 1, 3, 8, 9, 1, 1, 7, 6, 5, 2, 1, 1, 9, 2, 5, 2, 3, 5, 6, 3, 9, 4, 1, 7, 7, 1, 4, 2, 2, 2, 8, 7, 8, 6, 0, 7, 6, 3, 1, 1, 1, 6, 7, 8, 2, 2, 9, 4, 8, 6, 0, 0, 8, 3, 2, 1, 8, 9, 3, 7, 6, 5, 6, 7, 6, 1, 7, 6, 2, 0, 6, 2, 7, 0, 1, 8, 2, 0, 4, 8, 2, 2, 4, 1, 5, 4, 7, 5, 5, 9, 8, 1, 4, 4, 8, 4, 2, 5, 4, 6, 2, 4, 2, 0, 9, 7, 6, 2, 5, 3, 2, 1, 9, 1, 6, 0, 9, 6, 9, 6, 2, 4, 5, 2, 7, 0, 6, 2, 5, 8, 0, 1, 2, 7, 2, 5, 7, 3, 5, 5, 6, 1, 6, 7, 2, 8, 2, 9, 1, 2, 2, 9, 8, 1, 3, 5, 7, 7, 5, 1, 9, 1, 8, 2, 7, 3, 2, 0, 3, 9, 2, 1, 1, 7, 8, 8, 8, 3, 6, 5, 4, 3, 7, 0, 1, 0, 6, 5, 7, 7, 9, 2, 4, 4, 9, 8, 0, 6, 8, 3, 3, 2, 6, 8, 3, 0, 7, 9, 1, 9, 2, 9, 2, 3, 0, 6, 5, 7, 6, 6, 9, 5, 6, 0, 7, 9, 9, 3, 8, 6, 3, 1, 6, 4, 6, 7, 4, 9, 2, 5, 2, 5, 0, 2, 4, 2, 9, 7, 6, 7, 1, 5, 1, 4, 8, 0, 4, 3, 6, 9, 4, 4, 1, 0, 1, 1, 3, 8, 7, 7, 1, 8, 7, 4, 4, 5, 9, 6, 4, 8, 3, 8, 4, 3, 4, 4, 1, 5, 5, 8, 0, 4, 3, 7, 0, 2, 9, 0, 1, 1, 8, 8, 2, 7, 9, 3, 3, 9, 3, 5, 8, 8, 4, 1, 2, 3, 9, 6, 7, 8, 1, 3, 7, 0, 0, 8, 1, 5, 8, 2, 4, 4, 4, 2, 7, 4, 8, 4, 8, 9, 3, 9, 1, 4, 2, 5, 4, 2, 3, 2, 8, 7, 8, 6, 5, 8, 3, 4, 2, 0, 1, 1, 6, 1, 6, 0, 8, 3, 7, 1, 1, 2, 5, 9, 5, 4, 3, 1, 0, 5, 7, 0, 9, 1, 4, 7, 5, 6, 2, 6, 6, 0, 8, 3, 3, 7, 8, 1, 0, 1, 9, 8, 0, 8, 7, 4, 7, 7, 4, 1, 8, 3, 1, 6, 5, 8, 7, 1, 0, 6, 9, 6, 2, 4, 7, 6, 4, 0, 5, 8, 1, 2, 8, 2, 1, 9, 7, 4, 6, 5, 7, 0, 5, 9, 7, 1, 4, 2, 6, 8, 4, 7, 9, 9, 7, 3, 2, 8, 1, 6, 2, 5, 9, 4, 7, 6, 5, 2, 4, 6, 5, 8, 7, 6, 3, 3, 6, 3, 0, 0, 6, 2, 0, 6, 5, 5, 8, 5, 6, 6, 2, 1, 3, 3, 4, 4, 2, 8, 7, 3, 0, 1, 5, 6, 6, 2, 5, 8, 5, 2, 4, 5, 2, 9, 1, 9, 4, 4, 1, 9, 8, 2, 5, 9, 7, 6, 0, 5, 2, 4, 5, 8, 2, 9, 6, 0, 5, 4, 2, 0, 3, 5, 6, 2, 6, 2, 1, 6, 7, 5, 1, 5, 8, 0, 9, 0, 9, 2, 7, 6, 7, 9, 5, 4, 2, 7, 7, 7, 1, 2, 3, 5, 0, 0, 9, 4, 3, 6, 7, 1, 6, 2, 9, 4, 2, 7, 0, 2, 0, 7, 1, 1, 9, 3, 3, 4, 4, 4, 2, 9, 9, 2, 2, 3, 2, 7, 5, 5, 1, 9, 9, 2, 4, 6, 0, 9, 0, 7, 0, 1, 9, 3, 5, 6, 2, 6, 3, 8, 7, 2, 2, 6, 8, 5, 9, 1, 8, 2, 2, 7, 4, 9, 5, 1, 4, 9, 0, 4, 4, 0, 0, 9, 7, 2, 8, 4, 8, 8, 9, 1, 3, 4, 1, 5, 2, 9, 4, 0, 6, 3, 6, 3, 4, 1, 3, 1, 5, 6, 9, 2, 3, 4, 1, 9, 1, 4, 1, 9, 7, 1, 4, 7, 7, 6, 4, 2, 2, 1, 4, 6, 3, 9, 7, 5, 4, 2, 5, 5, 5, 3, 2, 5, 9, 4, 8, 0, 8, 4, 6, 3, 4, 9, 2, 2, 8, 7, 9, 3, 3, 6, 5, 5, 4, 7, 5, 3, 0, 8, 3, 4, 1, 6, 7, 1, 9, 9, 1, 8, 0, 2, 4, 7, 8, 7, 6, 9, 8, 7, 5, 5, 7, 8, 1, 8, 8, 9, 6, 2, 5, 1, 3, 9, 5, 0, 3, 2, 4, 9, 8, 2, 3, 2, 2, 7, 7, 3, 7, 7, 2, 0, 8, 2, 1, 6, 1, 5, 7, 0, 8, 4, 1, 3, 1, 5, 0, 2, 1, 5, 8, 6, 9, 6, 1, 6, 6, 3, 1, 6, 4, 6, 4, 5, 6, 9, 5, 6, 4, 3, 7, 8, 6, 3, 2, 5, 1, 7, 0, 1, 5, 0, 2, 0, 2, 8, 0, 4, 1, 2, 3, 9, 8, 5, 0, 4, 2, 8, 9, 0, 6, 3, 5, 2, 3, 9, 3, 4, 3, 2, 2, 5, 8, 6, 3, 8, 6, 3, 6, 9, 6, 9, 4, 6, 9, 1, 3, 1, 3, 3, 1, 2, 1, 5, 4, 2, 1, 8, 3, 4, 7, 0, 4, 8, 7, 5, 1, 9, 3, 6, 9, 7, 8, 8, 1, 6, 7, 4, 4, 6, 1, 1, 6, 8, 8, 1, 4, 6, 9, 4, 1, 0, 1, 7, 3, 8, 1, 7, 2, 1, 9, 4, 6, 1, 5, 4, 4, 0, 7, 7, 0, 6, 0, 7, 5, 8, 9, 1, 4, 6, 2, 3, 8, 1, 7, 8, 7, 0, 7, 5, 1, 5, 9, 0, 6, 0, 2, 7, 4, 1, 9, 6, 6, 4, 0, 3, 1, 8, 6, 8, 1, 9, 9, 2, 4, 5, 0, 8, 7, 4, 6, 8, 9, 2, 1, 3, 9, 8, 8, 2, 6, 4, 3, 0, 0, 6, 4, 3, 3, 5, 5, 2, 9, 0, 8, 9, 7, 1, 1, 8, 8, 6, 7, 4, 6, 1, 5, 4, 5, 8, 9, 3, 9, 8, 3, 1, 6, 8, 6, 4, 0, 8, 7, 6, 9, 1, 2, 3, 7, 9, 1, 3, 6, 7, 6, 2, 9, 5, 4, 3, 2, 1, 7, 1, 1, 7, 2, 9, 3, 0, 9, 4, 0, 2, 0, 3, 6, 3, 8, 6, 0, 6, 2, 1, 9, 1, 8, 2, 6, 0, 2, 5, 6, 2, 3, 8, 2, 3, 7, 3, 8, 9, 4, 0, 0, 5, 0, 7, 6, 0, 3, 1, 2, 3, 0, 9, 6, 3, 5, 3, 2, 6, 3, 4, 2, 3, 6, 2, 2, 0, 0, 4, 7, 0, 3, 5, 5, 0, 4, 0, 9, 9, 1, 0, 8, 3, 4, 4, 0, 7, 7, 6, 2, 2, 0, 4, 0, 9, 1, 8, 3, 3, 8, 4, 1, 4, 8, 0, 1, 9, 9, 1, 2, 4, 6, 9, 6, 3, 9, 8, 7, 6, 5, 1, 3, 4, 7, 9, 1, 8, 4, 9, 6, 6, 9, 3, 5, 6, 2, 2, 8, 4, 1, 9, 6, 2, 0, 6, 3, 3, 3, 5, 6, 5, 9, 3, 6, 0, 6, 7, 8, 3, 3, 4, 7, 1, 9, 2, 1, 6, 6, 6, 6, 7, 3, 6, 8, 2, 1, 1, 1, 3, 1, 6, 1, 2, 4, 7, 8, 9, 4, 4, 4, 4, 3, 0, 7, 6, 2, 0, 9, 9, 6, 3, 2, 7, 8, 7, 0, 9, 2, 0, 8, 5, 1, 3, 3, 6, 9, 0, 5, 0, 6, 8, 1, 9, 6, 8, 7, 1, 8, 9, 3, 0, 2, 3, 6, 2, 5, 8, 4, 6, 9, 5, 3, 1, 4, 2, 2, 8, 4, 0, 2, 2, 7, 9, 4, 0, 6, 6, 9, 9, 5, 6, 5, 9, 7, 7, 8, 6, 4, 9, 4, 3, 9, 7, 6, 3, 8, 6, 4, 9, 9, 8, 7, 1, 8, 2, 7, 3, 5, 9, 5, 7, 8, 7, 4, 2, 9, 6, 2, 9, 9, 5, 3, 1, 8, 4, 4, 5, 7, 7, 3, 2, 2, 8, 7, 1, 4, 6, 2, 5, 4, 7, 4, 2, 2, 2, 3, 3, 8, 4, 3, 5, 8, 3, 6, 8, 4, 5, 2, 3, 7, 0, 3, 9, 6, 0, 0, 4, 7, 4, 2, 7, 1, 0, 5, 8, 8, 8, 0, 2, 3, 3, 4, 1, 0, 2, 5, 4, 0, 8, 5, 5, 6, 4, 2, 2, 3, 7, 2, 2, 9, 3, 0, 5, 4, 2, 4, 9, 4, 7, 8, 4, 1, 7, 0, 3, 6, 8, 6, 8, 5, 2, 6, 9, 5, 0, 5, 8, 6, 4, 6, 6, 0, 4, 7, 1, 5, 5, 6, 4, 9, 9, 6, 0, 7, 8, 0, 1, 1, 0, 0, 7, 1, 2, 4, 7, 1, 4, 6, 0, 0, 5, 1, 2, 7, 7, 1, 7, 1, 6, 0, 4, 4, 6, 9, 7, 9, 8, 8, 7, 8, 4, 0, 5, 7, 6, 0, 8, 0, 4, 4, 6, 1, 2, 5, 9, 0, 1, 1, 7, 8, 9, 3, 3, 6, 9, 9, 3, 5, 4, 3, 9, 9, 1, 8, 8, 5, 2, 2, 2, 3, 4, 6, 4, 1, 3, 3, 1, 2, 4, 9, 1, 3, 4, 8, 6, 0, 2, 9, 3, 4, 7, 9, 0, 4, 7, 0, 1, 8, 6, 7, 4, 2, 2, 3, 6, 4, 2, 3, 7, 1, 9, 0, 7, 6, 1, 5, 2, 8, 5, 6, 4, 0, 6, 5, 3, 6, 0, 1, 7, 6, 6, 6, 3, 1, 6, 6, 5, 5, 2, 6, 2, 5, 9, 1, 0, 2, 6, 3, 1, 5, 8, 2, 4, 8, 8, 9, 4, 0, 0, 2, 2, 8, 4, 7, 8, 3, 8, 9, 8, 0, 7, 2, 4, 6, 2, 8, 0, 5, 5, 5, 7, 2, 5, 8, 6, 1, 8, 7, 4, 2, 3, 2, 8, 3, 4, 3, 0, 3, 2, 6, 7, 8, 6, 3, 7, 6, 7, 5, 4, 3, 8, 6, 1, 3, 0, 3, 5, 6, 7, 9, 2, 8, 5, 6, 5, 0, 7, 8, 1, 0, 0, 6, 5, 5, 1, 2, 4, 9, 2, 9, 0, 5, 4, 5, 1, 7, 5, 0, 2, 0, 6, 6, 5, 1, 1, 3, 1, 4, 0, 6, 0, 0, 4, 1, 4, 2, 1, 1, 1, 0, 3, 9, 3, 4, 2, 5, 9, 9, 6, 4, 8, 1, 5, 0, 8, 2, 7, 7, 9, 6, 0, 0, 2, 0, 4, 7, 2, 8, 8, 4, 4, 2, 8, 0, 0, 7, 0, 7, 0, 4, 2, 7, 8, 7, 1, 5, 0, 8, 8, 3, 4, 8, 1, 5, 5, 8, 8, 1, 2, 4, 0, 3, 3, 2, 5, 9, 2, 9, 1, 5, 4, 6, 1, 9, 4, 4, 4, 0, 3, 3, 2, 1, 9, 7, 9, 0, 6, 1, 5, 0, 5, 4, 6, 2, 9, 2, 4, 3, 3, 3, 2, 2, 1, 6, 6, 3, 7, 9, 9, 4, 4, 4, 4, 2, 5, 4, 5, 9, 0, 7, 7, 5, 4, 6, 7, 2, 6, 2, 4, 8, 9, 1, 5, 8, 2, 9, 7, 5, 1, 3, 9, 3, 0, 2, 3, 3, 5, 7, 6, 2, 0, 4, 9, 1, 0, 1, 4, 0, 6, 4, 5, 3, 9, 1, 8, 8, 2, 2, 9, 1, 6, 0, 9, 8, 6, 7, 0, 6, 0, 9, 9, 3, 8, 7, 6, 5, 0, 5, 8, 2, 2, 4, 6, 1, 3, 5, 4, 9, 7, 2, 8, 9, 6, 0, 6, 5, 9, 3, 9, 0, 5, 9, 4, 6, 3, 0, 8, 9, 3, 4, 5, 1, 8, 0, 9, 3, 3, 0, 8, 9, 1, 8, 7, 2, 6, 5, 1, 0, 2, 6, 5, 3, 3, 5, 9, 3, 1, 0, 3, 6, 7, 2, 6, 8, 1, 1, 4, 6, 8, 0, 0, 0, 6, 6, 1, 6, 8, 5, 7, 4, 9, 9, 3, 6, 1, 0, 6, 0, 8, 0, 0, 1, 1, 1, 6, 2, 6, 1, 1, 1, 8, 8, 0, 4, 8, 9, 4, 2, 9, 1, 9, 1, 4, 2, 4, 1, 3, 1, 2, 6, 5, 4, 4, 7, 5, 3, 6, 5, 7, 9, 3, 3, 0, 2, 1, 9, 8, 8, 9, 3, 5, 5, 7, 4, 1, 7, 5, 4, 6, 4, 8, 2, 5, 5, 0, 4, 0, 0, 7, 6, 7, 3, 5, 0, 4, 1, 1, 4, 6, 7, 7, 5, 6, 1, 4, 7, 1, 3, 5, 3, 8, 1, 5, 4, 7, 0, 0, 9, 8, 4, 1, 8, 5, 9, 4, 0, 7, 6, 8, 1, 0, 5, 9, 1, 4, 4, 4, 5, 4, 0, 8, 4, 6, 6, 7, 7, 2, 8, 5, 9, 7, 9, 0, 4, 1, 8, 8, 7, 7, 1, 0, 4, 0, 6, 5, 5, 7, 6, 1, 0, 3, 6, 6, 8, 9, 1, 2, 3, 9, 5, 9, 6, 2, 1, 7, 7, 0, 2, 9, 1, 2, 1, 5, 3, 7, 9, 0, 8, 9, 8, 3, 6, 6, 1, 0, 9, 7, 6, 8, 1, 8, 4, 7, 6, 8, 4, 2, 6, 7, 0, 5, 8, 7, 9, 7, 3, 8, 8, 7, 6, 5, 1, 0, 2, 7, 6, 2, 0, 1, 1, 5, 4, 6, 0, 9, 6, 6, 2, 5, 1, 0, 7, 7, 8, 8, 5, 2, 0, 8, 1, 0, 5, 9, 2, 0, 2, 4, 0, 1, 7, 1, 5, 2, 2, 1, 5, 9, 0, 5, 4, 9, 0, 3, 3, 3, 8, 8, 3, 5, 4, 1, 2, 2, 7, 3, 7, 5, 3, 5, 8, 9, 9, 1, 8, 0, 1, 8, 5, 7, 1, 7, 5, 5, 5, 7, 1, 0, 3, 4, 0, 7, 2, 7, 5, 1, 8, 2, 4, 6, 9, 1, 5, 8, 7, 1, 6, 8, 8, 3, 6, 2, 1, 7, 3, 1, 8, 4, 6, 6, 7, 5, 7, 0, 3, 6, 6, 0, 4, 4, 7, 5, 7, 3, 7, 5, 3, 0, 6, 8, 1, 3, 9, 6, 3, 2, 8, 6, 3, 1, 1, 8, 1, 3, 3, 0, 6, 0, 8, 5, 3, 7, 4, 3, 9, 8, 2, 3, 2, 0, 6, 4, 6, 5, 2, 4, 5, 7, 4, 0, 8, 5, 7, 4, 5, 4, 6, 4, 5, 2, 5, 2, 9, 8, 0, 1, 7, 8, 7, 4, 1, 1, 4, 0, 7, 9, 9, 5, 7, 2, 4, 1, 6, 0, 0, 7, 6, 1, 6, 7, 2, 2, 4, 5, 9, 9, 3, 9, 6, 6, 3, 9, 3, 1, 9, 0, 1, 3, 7, 0, 0, 8, 5, 6, 3, 6, 3, 1, 3, 7, 5, 2, 7, 6, 5, 8, 9, 7, 2, 4, 7, 2, 9, 3, 1, 6, 4, 3, 7, 7, 7, 3, 2, 0, 2, 9, 6, 8, 5, 8, 8, 8, 9, 8, 7, 9, 2, 5, 4, 9, 0, 3, 9, 5, 9, 9, 5, 2, 1, 8, 9, 5, 6, 6, 6, 7, 1, 5, 4, 2, 1, 7, 4, 6, 5, 9, 9, 1, 4, 8, 1, 7, 7, 9, 9, 9, 7, 3, 5, 0, 0, 3, 3, 0, 5, 1, 5, 1, 2, 7, 3, 1, 6, 9, 2, 6, 2, 2, 9, 7, 2, 7, 6, 3, 7, 6, 4, 0, 1, 9, 7, 3, 4, 5, 3, 4, 8, 6, 2, 1, 7, 1, 4, 6, 1, 1, 5, 8, 1, 6, 4, 0, 9, 7, 9, 4, 4, 3, 5, 9, 6, 9, 6, 0, 1, 0, 5, 6, 2, 1, 0, 1, 1, 9, 8, 6, 9, 3, 6, 8, 8, 3, 8, 1, 9, 4, 0, 1, 1, 6, 8, 2, 4, 5, 5, 6, 5, 1, 3, 9, 4, 5, 8, 6, 7, 8, 3, 6, 4, 6, 5, 2, 1, 0, 0, 2, 9, 1, 3, 7, 0, 9, 9, 7, 5, 1, 8, 8, 2, 6, 5, 8, 8, 3, 4, 2, 2, 3, 7, 0, 6, 4, 7, 3, 1, 5, 4, 4, 8, 7, 5, 6, 9, 1, 3, 0, 0, 3, 3, 1, 3, 0, 3, 7, 4, 4, 7, 5, 5, 9, 1, 6, 5, 8, 1, 2, 6, 9, 0, 2, 3, 0, 4, 5, 1, 4, 4, 3, 6, 4, 6, 2, 2, 2, 8, 5, 1, 1, 4, 9, 9, 5, 3, 9, 1, 5, 9, 4, 9, 6, 9, 5, 3, 6, 8, 7, 0, 2, 0, 0, 4, 1, 6, 5, 9, 3, 0, 6, 5, 6, 9, 5, 5, 8, 0, 2, 9, 7, 9, 7, 7, 3, 5, 1, 6, 2, 8, 8, 0, 3, 4, 9, 3, 9, 8, 9, 4, 1, 6, 0, 8, 6, 6, 1, 9, 7, 9, 5, 6, 0, 8, 5, 8, 2, 7, 7, 7, 7, 3, 8, 6, 8, 1, 6, 3, 4, 6, 6, 8, 4, 8, 4, 4, 2, 6, 4, 1, 6, 6, 7, 8, 9, 9, 2, 0, 8, 8, 6, 3, 9, 3, 7, 3, 1, 4, 8, 7, 1, 7, 5, 3, 1, 0, 8, 6, 2, 6, 7, 0, 9, 0, 5, 8, 2, 8, 9, 8, 2, 1, 9, 0, 6, 1, 2, 4, 5, 1, 5, 2, 1, 3, 4, 8, 6, 0, 3, 5, 1, 0, 9, 0, 0, 6, 3, 1, 3, 1, 1, 8, 4, 3, 7, 6, 1, 4, 4, 2, 1, 2, 8, 6, 2, 1, 5, 9, 0, 8, 8, 2, 3, 2, 2, 0, 0, 8, 5, 6, 8, 3, 4, 3, 6, 2, 3, 5, 9, 8, 1, 1, 8, 0, 8, 2, 1, 8, 4, 2, 9, 8, 4, 2, 6, 4, 7, 6, 3, 1, 6, 1, 7, 2, 5, 9, 7, 5, 7, 3, 4, 2, 9, 2, 3, 5, 6, 6, 6, 7, 3, 7, 6, 1, 7, 9, 8, 5, 6, 7, 8, 4, 6, 5, 3, 3, 3, 7, 8, 8, 9, 9, 1, 5, 1, 0, 7, 4, 2, 2, 9, 2, 6, 0, 9, 9, 7, 1, 6, 9, 0, 0, 4, 4, 2, 2, 5, 0, 8, 3, 0, 3, 0, 2, 1, 4, 0, 1, 7, 7, 9, 7, 7, 1, 6, 3, 6, 8, 6, 9, 2, 0, 0, 6, 5, 4, 3, 9, 7, 2, 4, 7, 6, 0, 8, 1, 9, 1, 0, 6, 1, 0, 5, 2, 7, 8, 0, 5, 2, 8, 5, 0, 7, 6, 4, 8, 0, 3, 5, 5, 7, 9, 2, 9, 9, 1, 4, 0, 7, 6, 4, 9, 4, 6, 4, 6, 6, 3, 3, 3, 0, 2, 7, 8, 2, 0, 4, 4, 2, 9, 0, 7, 1, 3, 6, 8, 1, 8, 1, 8, 9, 1, 8, 4, 2, 2, 8, 6, 9, 5, 0, 9, 9, 6, 4, 4, 4, 6, 0, 2, 3, 8, 7, 3, 3, 1, 0, 7, 9, 5, 6, 3, 8, 0, 8, 6, 9, 3, 1, 7, 5, 7, 5, 3, 6, 9, 8, 1, 5, 7, 3, 9, 3, 4, 4, 6, 0, 3, 8, 6, 8, 1, 3, 8, 9, 0, 9, 7, 6, 1, 4, 7, 8, 0, 6, 1, 2, 7, 8, 7, 7, 0, 1, 0, 7, 2, 0, 2, 2, 8, 1, 1, 4, 8, 8, 2, 0, 4, 0, 3, 9, 7, 8, 1, 8, 3, 5, 4, 2, 6, 7, 8, 3, 3, 0, 7, 1, 1, 1, 8, 9, 8, 2, 4, 1, 1, 0, 1, 1, 1, 0, 9, 8, 5, 9, 4, 5, 6, 8, 7, 0, 5, 4, 2, 9, 0, 3, 2, 6, 5, 2, 9, 9, 0, 8, 0, 3, 8, 8, 4, 7, 0, 8, 3, 6, 2, 0, 1, 1, 0, 7, 0, 1, 7, 8, 9, 7, 8, 6, 0, 6, 3, 8, 5, 0, 2, 5, 6, 4, 1, 7, 9, 5, 0, 9, 8, 8, 8, 1, 2, 0, 8, 3, 4, 0, 2, 4, 0, 9, 2, 9, 7, 8, 6, 5, 8, 9, 9, 0, 4, 8, 9, 1, 1, 5, 3, 2, 8, 3, 2, 6, 6, 1, 8, 0, 4, 3, 1, 8, 2, 0, 5, 1, 3, 8, 1, 8, 3, 4, 7, 1, 4, 6, 9, 0, 9, 4, 7, 6, 7, 0, 0, 8, 0, 1, 6, 1, 7, 4, 1, 6, 3, 3, 7, 5, 1, 7, 7, 5, 5, 1, 8, 2, 6, 7, 3, 8, 2, 2, 3, 2, 6, 1, 8, 9, 3, 0, 1, 5, 7, 8, 6, 3, 9, 0, 6, 7, 0, 9, 3, 6, 9, 3, 8, 4, 4, 6, 0, 3, 6, 4, 0, 2, 5, 9, 8, 1, 1, 7, 0, 0, 8, 2, 7, 1, 4, 8, 7, 6, 9, 7, 0, 9, 8, 4, 6, 0, 7, 5, 0, 5, 1, 1, 9, 3, 2, 7, 4, 5, 3, 3, 0, 8, 4, 8, 3, 1, 4, 6, 6, 1, 0, 7, 3, 2, 2, 9, 0, 9, 1, 1, 9, 4, 9, 0, 9, 3, 2, 0, 1, 3, 2, 5, 2, 7, 5, 7, 6, 6, 1, 3, 9, 1, 1, 7, 0, 7, 6, 5, 3, 2, 6, 3, 5, 7, 6, 6, 9, 8, 3, 6, 3, 0, 6, 1, 6, 4, 8, 4, 5, 0, 2, 7, 0, 1, 5, 7, 6, 2, 5, 6, 1, 5, 2, 9, 9, 6, 4, 9, 4, 4, 0, 7, 3, 0, 6, 8, 6, 6, 2, 0, 6, 5, 4, 2, 5, 9, 1, 4, 8, 0, 4, 0, 7, 5, 9, 4, 1, 3, 5, 3, 4, 1, 3, 1, 7, 2, 6, 5, 8, 6, 9, 4, 7, 6, 2, 7, 9, 2, 0, 5, 1, 9, 7, 3, 2, 0, 1, 6, 0, 3, 1, 9, 7, 8, 4, 6, 9, 4, 9, 0, 9, 1, 5, 8, 3, 7, 1, 8, 6, 8, 1, 9, 9, 4, 1, 3, 5, 3, 5, 2, 6, 7, 2, 2, 0, 0, 6, 9, 9, 6, 4, 3, 1, 8, 2, 8, 1, 6, 3, 7, 3, 1, 9, 0, 8, 0, 4, 9, 0, 7, 7, 0, 8, 9, 6, 4, 0, 4, 9, 5, 2, 5, 2, 6, 7, 6, 5, 1, 2, 5, 6, 5, 6, 8, 4, 7, 4, 3, 0, 5, 8, 4, 9, 9, 2, 7, 2, 9, 5, 3, 4, 2, 8, 4, 1, 8, 7, 1, 6, 3, 6, 9, 8, 1, 7, 0, 8, 3, 1, 4, 7, 8, 8, 3, 9, 3, 1, 8, 4, 8, 6, 3, 7, 7, 8, 3, 4, 9, 8, 7, 5, 4, 1, 5, 9, 7, 2, 8, 6, 9, 2, 4, 7, 5, 4, 2, 1, 6, 6, 1, 7, 3, 6, 8, 1, 8, 7, 7, 4, 9, 9, 2, 1, 3, 1, 3, 7, 3, 8, 5, 8, 2, 6, 1, 3, 4, 3, 8, 9, 7, 7, 0, 0, 0, 1, 4, 8, 1, 5, 8, 0, 8, 5, 7, 4, 7, 7, 8, 0, 1, 9, 6, 1, 7, 5, 0, 7, 6, 2, 9, 9, 9, 9, 5, 9, 6, 4, 1, 8, 8, 7, 7, 6, 7, 9, 1, 1, 3, 1, 5, 3, 7, 0, 7, 9, 6, 6, 0, 4, 0, 6, 8, 5, 1, 3, 6, 5, 9, 8, 6, 3, 1, 5, 1, 0, 3, 8, 4, 8, 8, 3, 7, 6, 9, 8, 2, 7, 9, 0, 0, 2, 8, 3, 9, 5, 1, 4, 5, 8, 8, 5, 1, 5, 2, 5, 1, 2, 6, 3, 4, 5, 4, 6, 3, 3, 2, 4, 1, 7, 7, 9, 2, 3, 2, 5, 9, 3, 3, 8, 6, 7, 1, 0, 3, 4, 9, 2, 3, 4, 7, 2, 1, 5, 5, 9, 7, 1, 5, 6, 3, 5, 9, 5, 0, 4, 6, 1, 8, 8, 1, 3, 7, 0, 1, 0, 0, 3, 3, 6, 9, 3, 2, 9, 1, 2, 8, 2, 4, 9, 3, 8, 3, 7, 4, 1, 3, 4, 9, 3, 8, 5, 9, 7, 0, 0, 7, 0, 0, 9, 8, 4, 5, 7, 8, 9, 8, 6, 8, 6, 2, 4, 4, 9, 1, 3, 6, 4, 9, 7, 1, 4, 3, 0, 9, 2, 4, 7, 8, 3, 3, 6, 0, 8, 0, 4, 6, 0, 6, 9, 1, 8, 6, 9, 7, 3, 8, 5, 7, 7, 4, 5, 0, 2, 2, 1, 1, 1, 9, 7, 4, 0, 1, 0, 4, 5, 6, 5, 1, 2, 5, 5, 2, 4, 8, 8, 3, 8, 2, 7, 1, 5, 2, 5, 2, 4, 6, 6, 1, 7, 9, 1, 9, 5, 0, 7, 5, 4, 3, 6, 9, 4, 4, 7, 4, 6, 5, 4, 5, 8, 2, 2, 6, 2, 7, 4, 3, 9, 2, 0, 4, 7, 1, 0, 0, 1, 1, 3, 5, 1, 8, 3, 2, 9, 8, 8, 3, 1, 7, 0, 0, 8, 8, 5, 4, 1, 8, 3, 2, 3, 5, 8, 7, 9, 1, 4, 9, 3, 5, 2, 3, 8, 7, 5, 0, 6, 5, 1, 7, 6, 1, 7, 8, 6, 1, 0, 6, 2, 4, 9, 7, 2, 5, 4, 1, 7, 7, 7, 7, 1, 3, 5, 1, 1, 9, 1, 3, 9, 1, 2, 8, 4, 6, 0, 0, 6, 0, 4, 4, 0, 2, 6, 7, 7, 6, 4, 3, 4, 9, 1, 4, 6, 9, 2, 1, 1, 8, 1, 4, 2, 2, 7, 4, 9, 9, 2, 3, 2, 9, 9, 0, 4, 2, 0, 4, 3, 3, 8, 8, 9, 6, 4, 7, 7, 5, 3, 3, 1, 7, 9, 4, 4, 3, 4, 1, 0, 9, 6, 8, 5, 2, 5, 3, 0, 2, 6, 4, 2, 2, 9, 1, 5, 9, 1, 2, 3, 7, 5, 8, 8, 7, 2, 6, 3, 8, 2, 6, 1, 3, 3, 9, 3, 8, 0, 8, 4, 2, 7, 4, 0, 4, 1, 9, 3, 0, 5, 3, 3, 4, 8, 6, 9, 2, 2, 9, 3, 9, 3, 9, 3, 0, 1, 2, 8, 6, 6, 5, 8, 1, 0, 7, 7, 9, 3, 6, 1, 8, 9, 4, 9, 2, 2, 1, 5, 0, 5, 0, 1, 5, 3, 0, 4, 7, 4, 2, 8, 9, 0, 1, 0, 8, 9, 8, 5, 4, 7, 7, 8, 6, 0, 2, 1, 8, 4, 4, 3, 0, 2, 7, 1, 6, 6, 1, 5, 6, 6, 6, 8, 1, 9, 6, 5, 8, 4, 5, 3, 6, 8, 2, 2, 0, 1, 8, 9, 3, 2, 3, 3, 5, 9, 3, 9, 8, 3, 9, 0, 5, 6, 1, 4, 3, 1, 0, 2, 8, 9, 7, 1, 2, 9, 1, 7, 2, 6, 6, 1, 6, 5, 0, 0, 8, 8, 7, 9, 7, 5, 7, 9, 1, 3, 7, 5, 8, 2, 9, 3, 9, 7, 2, 6, 4, 0, 8, 4, 1, 5, 2, 0, 0, 4, 0, 2, 3, 2, 5, 3, 2, 0, 3, 8, 5, 4, 1, 6, 9, 2, 8, 6, 8, 4, 9, 6, 3, 3, 1, 6, 2, 7, 0, 7, 3, 1, 4, 0, 0, 6, 6, 9, 0, 3, 9, 7, 2, 8, 8, 8, 0, 1, 3, 6, 6, 1, 9, 9, 3, 0, 6, 4, 3, 3, 8, 2, 1, 8, 6, 6, 3, 8, 7, 7, 1, 2, 1, 3, 4, 4, 7, 1, 0, 4, 4, 7, 9, 0, 2, 3, 0, 8, 7, 0, 1, 0, 5, 4, 8, 1, 5, 7, 9, 8, 3, 1, 9, 6, 1, 4, 8, 8, 5, 1, 9, 4, 4, 3, 8, 8, 4, 7, 1, 8, 4, 1, 9, 6, 0, 2, 4, 9, 2, 5, 7, 3, 3, 1, 8, 2, 3, 2, 2, 9, 0, 0, 8, 5, 7, 2, 8, 2, 3, 3, 2, 9, 6, 0, 9, 3, 4, 0, 7, 3, 8, 5, 1, 3, 5, 7, 5, 1, 2, 5, 9, 6, 3, 1, 0, 7, 4, 3, 1, 4, 8, 1, 5, 4, 2, 1, 0, 5, 4, 0, 8, 8, 9, 0, 3, 0, 3, 7, 6, 5, 6, 6, 2, 8, 0, 2, 2, 6, 9, 5, 5, 8, 5, 5, 3, 3, 2, 3, 7, 0, 3, 1, 7, 6, 9, 0, 0, 1, 0, 4, 1, 1, 1, 4, 3, 2, 0, 9, 9, 1, 2, 1, 3, 8, 7, 7, 4, 5, 0, 4, 9, 9, 0, 5, 3, 7, 7, 1, 2, 3, 5, 6, 3, 5, 8, 0, 0, 7, 2, 8, 4, 7, 9, 3, 5, 8, 8, 2, 3, 8, 6, 7, 9, 1, 5, 5, 4, 6, 7, 0, 8, 3, 7, 5, 2, 6, 7, 6, 2, 6, 1, 5, 3, 8, 9, 9, 2, 1, 3, 2, 3, 3, 8, 0, 7, 9, 3, 5, 0, 5, 4, 4, 0, 3, 3, 7, 2, 0, 6, 6, 7, 3, 6, 4, 7, 4, 8, 4, 8, 4, 2, 5, 1, 2, 4, 3, 0, 1, 0, 0, 8, 3, 9, 5, 7, 5, 1, 8, 5, 4, 8, 5, 5, 6, 7, 5, 3, 2, 8, 8, 4, 2, 0, 0, 4, 2, 2, 2, 1, 4, 5, 2, 3, 0, 7, 7, 4, 3, 4, 3, 5, 3, 8, 6, 2, 7, 7, 2, 5, 9, 0, 6, 7, 0, 1, 1, 0, 0, 3, 2, 0, 0, 2, 5, 7, 4, 0, 1, 1, 5, 3, 5, 8, 6, 0, 9, 6, 9, 3, 4, 2, 6, 9, 0, 2, 1, 3, 5, 8, 0, 3, 9, 1, 7, 4, 2, 0, 0, 1, 2, 7, 6, 1, 1, 1, 1, 6, 5, 6, 3, 6, 5, 2, 7, 5, 1, 9, 8, 9, 5, 0, 1, 0, 2, 9, 3, 3, 6, 6, 3, 4, 0, 3, 6, 5, 2, 0, 0, 4, 1, 8, 5, 9, 6, 2, 2, 5, 1, 9, 9, 8, 7, 8, 7, 6, 5, 3, 7, 8, 1, 5, 6, 8, 9, 2, 5, 6, 3, 5, 3, 4, 6, 3, 2, 9, 5, 7, 6, 6, 0, 1, 1, 8, 7, 4, 9, 6, 7, 2, 2, 1, 9, 9, 9, 5, 0, 5, 7, 3, 2, 8, 3, 7, 8, 1, 8, 8, 9, 2, 4, 7, 7, 3, 9, 7, 1, 1, 2, 6, 2, 2, 3, 6, 9, 4, 1, 5, 4, 1, 9, 4, 6, 5, 9, 9, 2, 1, 5, 2, 8, 1, 7, 5, 0, 1, 5, 4, 5, 0, 1, 0, 4, 6, 8, 0, 9, 0, 4, 5, 2, 2, 1, 8, 7, 2, 5, 7, 7, 7, 9, 3, 3, 2, 0, 1, 4, 5, 3, 2, 1, 6, 1, 5, 6, 4, 9, 3, 0, 3, 7, 9, 7, 6, 9, 7, 0, 8, 7, 1, 1, 7, 0, 4, 0, 3, 9, 6, 2, 0, 9, 0, 0, 6, 3, 8, 5, 0, 5, 8, 6, 7, 2, 4, 7, 4, 7, 4, 2, 5, 4, 7, 5, 4, 9, 0, 6, 4, 5, 6, 8, 5, 9, 2, 8, 7, 6, 1, 6, 2, 8, 2, 7, 8, 2, 4, 6, 3, 5, 5, 2, 6, 1, 8, 9, 8, 2, 4, 6, 5, 8, 9, 2, 4, 1, 1, 8, 9, 9, 0, 0, 9, 1, 6, 1, 3, 9, 6, 2, 4, 4, 4, 8, 9, 8, 9, 7, 8, 1, 3, 4, 5, 2, 1, 6, 1, 0, 2, 3, 7, 2, 1, 3, 0, 4, 0, 7, 0, 1, 2, 7, 1, 7, 7, 7, 2, 4, 1, 1, 1, 5, 7, 9, 7, 6, 5, 8, 9, 3, 1, 1, 1, 1, 7, 1, 8, 3, 3, 4, 1, 8, 9, 4, 7, 8, 4, 1, 7, 1, 2, 8, 1, 3, 5, 8, 6, 7, 7, 6, 8, 6, 5, 3, 5, 2, 9, 9, 6, 2, 8, 7, 9, 4, 0, 0, 5, 0, 2, 8, 7, 2, 4, 3, 4, 4, 0, 1, 8, 0, 3, 1, 9, 8, 4, 3, 5, 9, 3, 5, 7, 0, 4, 5, 3, 1, 0, 1, 8, 0, 0, 1, 4, 9, 1, 5, 9, 1, 3, 2, 5, 7, 5, 2, 1, 8, 6, 2, 8, 2, 7, 9, 2, 1, 1, 4, 3, 0, 2, 4, 8, 1, 7, 2, 4, 6, 4, 6, 3, 7, 1, 4, 0, 7, 3, 2, 4, 1, 7, 2, 9, 0, 2, 9, 2, 7, 7, 3, 3, 6, 3, 1, 1, 4, 7, 3, 2, 0, 1, 9, 9, 7, 3, 6, 8, 4, 9, 8, 5, 4, 3, 0, 9, 2, 4, 8, 5, 1, 1, 3, 3, 1, 3, 7, 0, 2, 0, 0, 0, 1, 9, 2, 6, 7, 5, 3, 1, 2, 4, 9, 4, 3, 8, 2, 3, 9, 1, 7, 4, 8, 6, 7, 8, 7, 6, 1, 9, 0, 7, 5, 4, 7, 7, 6, 3, 1, 4, 6, 2, 9, 1, 7, 5, 8, 1, 6, 9, 9, 2, 0, 4, 2, 3, 1, 8, 7, 0, 5, 7, 0, 7, 2, 5, 2, 1, 7, 1, 0, 1, 1, 8, 8, 4, 6, 2, 6, 7, 2, 3, 1, 9, 8, 4, 9, 6, 7, 3, 5, 5, 5, 9, 8, 4, 6, 9, 8, 7, 2, 6, 4, 4, 4, 6, 1, 7, 8, 7, 1, 3, 3, 1, 6, 1, 1, 4, 1, 4, 6, 1, 7, 2, 6, 1, 0, 5, 1, 9, 5, 7, 6, 2, 5, 6, 3, 8, 6, 7, 9, 1, 8, 9, 3, 1, 0, 3, 0, 4, 1, 8, 3, 5, 2, 8, 0, 0, 8, 7, 9, 4, 9, 7, 8, 8, 1, 0, 4, 1, 0, 4, 0, 0, 2, 2, 5, 3, 3, 2, 5, 6, 1, 8, 2, 0, 1, 8, 1, 3, 3, 5, 6, 2, 2, 2, 7, 0, 4, 3, 4, 4, 6, 2, 4, 2, 9, 7, 7, 3, 8, 3, 6, 3, 1, 9, 0, 0, 4, 2, 8, 5, 7, 8, 8, 6, 6, 5, 0, 1, 7, 1, 2, 9, 8, 7, 7, 7, 8, 9, 6, 1, 0, 2, 4, 7, 1, 1, 8, 3, 3, 6, 3, 6, 1, 3, 8, 2, 6, 0, 0, 8, 8, 4, 2, 2, 8, 6, 5, 1, 9, 9, 6, 9, 8, 1, 8, 7, 8, 7, 7, 7, 8, 3, 1, 2, 1, 9, 6, 3, 5, 8, 5, 8, 7, 1, 4, 8, 8, 0, 7, 3, 3, 3, 7, 9, 4, 2, 2, 2, 2, 5, 7, 7, 7, 1, 6, 9, 6, 6, 7, 1, 2, 7, 2, 4, 5, 5, 6, 7, 2, 9, 9, 6, 6, 8, 1, 9, 6, 0, 7, 6, 5, 9, 2, 1, 5, 7, 3, 0, 0, 9, 6, 4, 4, 4, 6, 1, 9, 6, 8, 9, 7, 7, 0, 3, 0, 5, 7, 0, 7, 9, 3, 6, 9, 2, 9, 7, 5, 0, 3, 2, 0, 5, 4, 8, 0, 0, 6, 0, 9, 8, 0, 7, 4, 9, 7, 3, 3, 8, 9, 2, 3, 8, 8, 5, 3, 9, 3, 3, 7, 6, 4, 6, 6, 5, 5, 9, 2, 7, 1, 8, 6, 3, 1, 8, 9, 4, 4, 0, 1, 3, 6, 4, 9, 1, 4, 8, 6, 5, 9, 7, 1, 9, 4, 5, 2, 9, 2, 6, 2, 3, 6, 8, 0, 8, 3, 2, 1, 7, 2, 6, 1, 9, 9, 3, 4, 0, 2, 1, 3, 0, 1, 8, 2, 1, 7, 0, 9, 8, 7, 6, 2, 1, 9, 1, 6, 7, 8, 0, 4, 0, 9, 3, 5, 0, 6, 9, 7, 8, 5, 2, 4, 1, 7, 1, 4, 6, 8, 1, 4, 5, 8, 3, 3, 5, 2, 1, 3, 7, 2, 5, 1, 1, 9, 2, 3, 7, 8, 2, 6, 7, 0, 9, 0, 6, 6, 3, 7, 0, 8, 5, 7, 2, 1, 6, 5, 1, 6, 0, 2, 2, 9, 6, 9, 7, 4, 5, 8, 9, 3, 1, 5, 9, 7, 3, 0, 9, 7, 3, 4, 2, 8, 7, 1, 5, 8, 9, 3, 4, 1, 6, 2, 4, 6, 9, 9, 0, 6, 9, 2, 1, 1, 8, 1, 6, 0, 0, 2, 0, 7, 4, 6, 7, 6, 6, 9, 8, 2, 8, 0, 4, 5, 5, 2, 1, 0, 9, 9, 2, 5, 9, 2, 7, 9, 9, 2, 8, 0, 4, 8, 1, 6, 4, 3, 4, 4, 0, 4, 4, 0, 2, 3, 4, 4, 4, 4, 4, 9, 7, 5, 7, 8, 7, 7, 8, 0, 0, 0, 5, 4, 9, 5, 3, 4, 9, 0, 0, 6, 8, 4, 1, 6, 2, 9, 1, 8, 2, 8, 6, 7, 6, 9, 1, 5, 7, 8, 6, 8, 0, 4, 8, 0, 7, 6, 1, 7, 6, 1, 8, 0, 8, 7, 2, 1, 1, 4, 4, 7, 7, 7, 1, 5, 4, 1, 1, 5, 9, 5, 1, 0, 3, 1, 2, 9, 2, 0, 1, 7, 2, 3, 6, 6, 7, 0, 8, 0, 7, 3, 4, 5, 7, 7, 3, 3, 3, 5, 8, 2, 0, 5, 2, 6, 9, 0, 5, 9, 8, 7, 9, 4, 7, 2, 1, 4, 3, 1, 0, 9, 0, 1, 4, 1, 8, 0, 9, 6, 5, 8, 2, 6, 2, 9, 8, 2, 2, 8, 7, 7, 2, 4, 9, 6, 7, 9, 1, 3, 1, 3, 2, 5, 2, 3, 0, 3, 1, 9, 7, 9, 1, 9, 3, 1, 1, 8, 8, 2, 2, 4, 5, 7, 0, 7, 2, 9, 8, 3, 2, 8, 0, 3, 6, 0, 3, 4, 0, 5, 0, 2, 2, 4, 1, 8, 3, 1, 4, 0, 1, 1, 5, 5, 2, 6, 5, 7, 3, 9, 0, 3, 1, 7, 3, 3, 4, 8, 8, 2, 6, 2, 1, 4, 8, 9, 8, 3, 7, 0, 0, 3, 5, 8, 1, 9, 4, 3, 6, 5, 6, 2, 1, 4, 7, 1, 6, 1, 8, 5, 0, 8, 8, 3, 0, 8, 1, 2, 2, 3, 6, 4, 4, 5, 5, 5, 2, 9, 8, 4, 6, 3, 4, 5, 6, 4, 0, 9, 7, 2, 6, 1, 8, 0, 5, 3, 7, 7, 7, 8, 3, 1, 9, 1, 9, 5, 9, 9, 8, 6, 5, 1, 3, 8, 6, 8, 0, 8, 1, 5, 8, 3, 6, 2, 9, 3, 1, 0, 7, 0, 9, 7, 2, 6, 3, 1, 4, 5, 1, 8, 1, 8, 3, 4, 4, 2, 5, 3, 4, 0, 1, 3, 7, 3, 1, 3, 1, 2, 3, 4, 1, 1, 3, 6, 3, 9, 8, 6, 1, 0, 0, 7, 9, 7, 9, 0, 2, 8, 6, 6, 3, 9, 3, 7, 9, 3, 2, 9, 1, 1, 0, 7, 8, 5, 2, 8, 7, 4, 8, 6, 5, 1, 1, 8, 9, 9, 3, 6, 3, 8, 6, 8, 6, 3, 7, 1, 1, 7, 4, 2, 3, 9, 5, 1, 1, 6, 5, 9, 6, 3, 2, 5, 5, 1, 0, 4, 6, 0, 7, 4, 7, 8, 1, 9, 4, 3, 2, 4, 7, 2, 8, 3, 2, 8, 7, 9, 3, 3, 8, 7, 8, 0, 4, 4, 9, 4, 8, 3, 3, 5, 7, 9, 4, 4, 7, 9, 4, 9, 7, 4, 6, 4, 8, 1, 9, 1, 1, 6, 6, 8, 0, 4, 3, 9, 7, 1, 5, 0, 5, 7, 9, 5, 4, 2, 6, 0, 1, 9, 3, 7, 6, 4, 9, 4, 3, 5, 6, 4, 0, 0, 2, 6, 4, 1, 0, 4, 0, 9, 4, 2, 2, 1, 9, 6, 0, 8, 7, 4, 5, 8, 6, 3, 5, 2, 7, 8, 9, 8, 3, 7, 7, 0, 3, 3, 9, 1, 0, 1, 1, 3, 3, 8, 7, 3, 0, 3, 5, 8, 5, 2, 1, 0, 3, 5, 9, 6, 8, 9, 5, 0, 2, 6, 5, 7, 7, 8, 8, 2, 7, 2, 1, 7, 1, 7, 7, 5, 6, 8, 9, 4, 6, 5, 7, 0, 2, 9, 5, 8, 6, 4, 3, 1, 5, 4, 1, 3, 1, 3, 5, 7, 3, 8, 6, 0, 6, 4, 4, 0, 4, 4, 0, 2, 3, 7, 9, 1, 2, 6, 6, 5, 2, 7, 5, 0, 3, 2, 2, 4, 1, 9, 2, 2, 5, 1, 0, 5, 4, 7, 2, 1, 4, 8, 8, 3, 2, 5, 0, 8, 6, 8, 2, 6, 8, 8, 2, 6, 4, 9, 3, 0, 1, 6, 3, 6, 6, 9, 5, 2, 3, 0, 9, 2, 5, 3, 7, 4, 7, 6, 2, 1, 8, 6, 3, 6, 1, 1, 0, 1, 5, 1, 6, 1, 9, 3, 4, 4, 8, 9, 6, 2, 9, 2, 2, 1, 0, 7, 2, 6, 4, 4, 8, 3, 6, 9, 3, 1, 0, 8, 0, 1, 3, 6, 7, 6, 1, 3, 0, 4, 8, 5, 7, 2, 3, 9, 8, 6, 9, 5, 8, 7, 3, 9, 0, 5, 1, 0, 9, 5, 1, 7, 8, 3, 9, 2, 8, 1, 4, 3, 8, 9, 3, 2, 2, 5, 2, 5, 3, 8, 3, 1, 2, 9, 5, 7, 8, 0, 6, 2, 3, 3, 6, 0, 7, 7, 9, 2, 2, 4, 9, 6, 7, 1, 1, 8, 5, 1, 0, 7, 3, 2, 6, 7, 3, 4, 4, 7, 6, 7, 4, 6, 3, 6, 9, 5, 4, 1, 2, 9, 1, 7, 5, 9, 1, 8, 1, 4, 8, 2, 7, 5, 4, 8, 6, 6, 9, 6, 2, 9, 3, 1, 0, 1, 7, 7, 9, 5, 5, 7, 4, 7, 3, 4, 6, 0, 9, 1, 2, 3, 4, 5, 6, 5, 2, 3, 8, 1, 8, 7, 6, 7, 9, 6, 4, 0, 3, 6, 3, 9, 7, 5, 8, 0, 1, 9, 4, 9, 1, 0, 4, 5, 0, 0, 4, 5, 1, 8, 8, 9, 6, 2, 8, 5, 7, 4, 5, 5, 9, 1, 5, 7, 9, 3, 3, 1, 6, 1, 9, 4, 3, 8, 8, 2, 0, 6, 2, 5, 2, 4, 8, 5, 6, 2, 9, 7, 0, 4, 0, 1, 6, 6, 1, 0, 0, 5, 8, 1, 5, 5, 8, 5, 7, 7, 1, 3, 1, 8, 7, 7, 7, 3, 5, 6, 9, 9, 6, 4, 0, 3, 5, 1, 9, 4, 6, 9, 0, 0, 2, 8, 1, 7, 8, 6, 5, 5, 2, 8, 4, 5, 9, 3, 9, 3, 2, 1, 2, 3, 6, 9, 4, 5, 2, 5, 7, 2, 2, 1, 9, 3, 8, 9, 2, 0, 4, 6, 1, 7, 9, 3, 3, 8, 0, 4, 0, 3, 0, 7, 3, 2, 9, 6, 0, 2, 7, 0, 5, 1, 3, 8, 5, 8, 6, 0, 9, 8, 2, 4, 8, 1, 3, 0, 4, 0, 4, 1, 8, 4, 9, 7, 3, 9, 7, 9, 9, 7, 6, 1, 0, 6, 6, 9, 4, 4, 3, 2, 3, 8, 0, 2, 1, 1, 1, 8, 8, 4, 4, 5, 5, 8, 8, 0, 1, 6, 9, 4, 6, 3, 7, 1, 5, 4, 6, 1, 6, 2, 1, 0, 6, 0, 0, 5, 8, 2, 9, 6, 9, 7, 0, 8, 8, 2, 3, 9, 3, 0, 2, 7, 7, 4, 9, 0, 9, 5, 4, 0, 1, 3, 8, 5, 6, 2, 7, 3, 9, 4, 8, 0, 8, 7, 6, 2, 0, 7, 2, 2, 7, 1, 8, 4, 3, 4, 9, 7, 4, 0, 8, 3, 0, 7, 1, 1, 8, 2, 0, 0, 4, 8, 1, 0, 1, 2, 0, 7, 6, 4, 5, 0, 2, 8, 5, 1, 2, 5, 6, 6, 6, 8, 2, 8, 0, 6, 9, 3, 5, 0, 3, 3, 3, 4, 4, 9, 5, 4, 0, 6, 2, 1, 3, 4, 2, 8, 5, 7, 2, 0, 7, 3, 8, 0, 9, 8, 7, 4, 0, 4, 0, 9, 8, 7, 1, 4, 1, 9, 4, 1, 9, 1, 1, 4, 3, 6, 8, 5, 4, 3, 3, 9, 7, 0, 0, 7, 7, 4, 1, 8, 0, 8, 9, 2, 8, 7, 2, 7, 6, 3, 4, 8, 1, 5, 0, 0, 3, 5, 7, 6, 0, 6, 9, 5, 8, 2, 3, 3, 9, 2, 2, 8, 3, 1, 0, 8, 6, 2, 8, 7, 6, 6, 0, 4, 9, 7, 6, 7, 6, 0, 0, 6, 9, 1, 5, 7, 8, 3, 2, 5, 5, 2, 6, 6, 9, 2, 2, 0, 3, 3, 2, 8, 3, 5, 6, 2, 2, 4, 1, 6, 5, 3, 9, 1, 7, 4, 1, 5, 4, 0, 2, 3, 6, 4, 7, 0, 6, 3, 9, 2, 4, 3, 9, 4, 2, 2, 9, 0, 0, 7, 3, 1, 6, 0, 8, 2, 4, 6, 3, 5, 3, 3, 6, 6, 1, 4, 0, 4, 6, 0, 1, 5, 8, 7, 6, 3, 3, 6, 6, 2, 1, 4, 8, 0, 6, 8, 7, 3, 3, 2, 3, 6, 6, 9, 8, 3, 5, 3, 2, 4, 7, 0, 4, 2, 1, 1, 0, 1, 1, 6, 4, 5, 4, 9, 8, 1, 3, 0, 1, 5, 1, 2, 7, 4, 3, 6, 9, 8, 0, 8, 3, 5, 8, 3, 5, 5, 4, 7, 2, 4, 9, 0, 5, 0, 8, 1, 3, 1, 2, 7, 6, 1, 1, 6, 4, 3, 1, 3, 1, 4, 9, 3, 7, 7, 4, 6, 9, 9, 9, 7, 7, 7, 3, 2, 6, 9, 3, 0, 2, 9, 8, 9, 7, 8, 7, 7, 7, 0, 5, 9, 5, 5, 4, 5, 2, 5, 3, 3, 2, 5, 9, 6, 9, 4, 2, 3, 3, 1, 2, 0, 8, 8, 9, 5, 9, 9, 8, 6, 9, 1, 9, 5, 1, 2, 1, 2, 9, 9, 8, 5, 8, 0, 5, 6, 4, 8, 3, 1, 3, 8, 0, 9, 9, 0, 1, 7, 3, 6, 6, 9, 8, 3, 3, 0, 9, 1, 0, 5, 2, 0, 6, 2, 2, 5, 0, 6, 6, 5, 8, 2, 8, 3, 7, 8, 0, 0, 2, 9, 0, 4, 1, 2, 3, 8, 4, 6, 1, 2, 3, 6, 8, 9, 7, 1, 5, 7, 3, 7, 5, 1, 3, 1, 4, 9, 4, 2, 0, 7, 4, 4, 8, 4, 0, 8, 9, 4, 6, 8, 1, 4, 2, 0, 4, 9, 5, 7, 3, 5, 9, 1, 8, 0, 9, 9, 8, 1, 1, 3, 4, 4, 4, 5, 2, 2, 1, 4, 8, 7, 0, 0, 6, 9, 6, 9, 0, 0, 8, 7, 0, 8, 9, 2, 8, 1, 5, 7, 0, 4, 4, 8, 3, 7, 5, 2, 5, 4, 1, 3, 8, 3, 9, 2, 3, 9, 3, 7, 8, 4, 4, 1, 9, 2, 0, 6, 4, 6, 2, 6, 7, 3, 9, 9, 2, 4, 8, 6, 4, 5, 4, 9, 6, 2, 0, 6, 1, 0, 6, 2, 9, 3, 3, 3, 4, 8, 6, 5, 2, 0, 4, 2, 9, 0, 4, 5, 0, 2, 3, 8, 7, 8, 5, 8, 7, 1, 5, 2, 2, 3, 8, 6, 1, 5, 2, 4, 2, 2, 4, 2, 3, 1, 0, 7, 1, 1, 2, 6, 7, 8, 5, 5, 6, 6, 3, 5, 3, 8, 6, 7, 2, 2, 0, 0, 6, 6, 4, 1, 4, 4, 2, 0, 9, 0, 3, 9, 7, 0, 4, 0, 7, 1, 9, 4, 6, 0, 0, 0, 7, 1, 4, 3, 2, 3, 4, 7, 3, 2, 7, 9, 1, 5, 0, 2, 5, 8, 2, 4, 1, 5, 8, 5, 4, 5, 8, 5, 1, 1, 4, 5, 8, 6, 4, 0, 1, 9, 0, 1, 3, 4, 4, 4, 3, 1, 4, 8, 5, 0, 9, 1, 0, 5, 1, 5, 8, 6, 9, 1, 3, 0, 2, 7, 8, 2, 0, 8, 6, 3, 0, 4, 4, 8, 3, 6, 3, 8, 9, 0, 4, 9, 5, 4, 7, 9, 5, 1, 6, 6, 8, 1, 8, 2, 2, 1, 7, 0, 5, 7, 8, 7, 0, 0, 4, 7, 9, 1, 6, 7, 6, 9, 1, 6, 9, 6, 6, 7, 2, 5, 0, 1, 2, 7, 3, 1, 5, 1, 9, 9, 1, 9, 8, 1, 3, 0, 2, 1, 3, 8, 5, 0, 2, 1, 8, 2, 3, 5, 3, 3, 7, 9, 1, 7, 9, 9, 1, 7, 5, 7, 3, 3, 8, 8, 4, 5, 3, 8, 0, 9, 1, 0, 5, 5, 7, 2, 2, 7, 1, 5, 3, 0, 5, 9, 1, 6, 4, 7, 7, 9, 7, 7, 9, 6, 0, 4, 4, 1, 5, 9, 0, 3, 4, 3, 1, 6, 4, 1, 3, 8, 0, 9, 1, 9, 2, 7, 0, 6, 3, 1, 8, 3, 9, 9, 7, 6, 1, 2, 1, 4, 1, 4, 7, 1, 2, 5, 5, 4, 8, 0, 5, 8, 0, 3, 9, 5, 5, 3, 7, 1, 4, 2, 0, 9, 1, 6, 3, 2, 7, 2, 5, 6, 1, 6, 3, 5, 8, 0, 0, 5, 1, 6, 5, 4, 1, 0, 4, 2, 8, 8, 0, 0, 0, 5, 7, 8, 8, 7, 9, 2, 7, 5, 0, 9, 4, 4, 5, 5, 6, 5, 1, 7, 2, 5, 3, 7, 3, 3, 6, 3, 0, 9, 1, 3, 0, 9, 7, 8, 5, 3, 1, 1, 4, 2, 2, 6, 7, 6, 3, 8, 3, 9, 3, 3, 7, 1, 2, 6, 4, 9, 9, 1, 6, 8, 3, 8, 6, 1, 1, 5, 3, 9, 6, 9, 9, 3, 0, 8, 6, 6, 7, 9, 8, 8, 7, 5, 9, 0, 0, 6, 4, 1, 6, 1, 4, 4, 4, 8, 1, 4, 6, 8, 8, 3, 0, 1, 1, 7, 0, 0, 5, 8, 4, 9, 2, 2, 2, 3, 8, 7, 7, 7, 1, 4, 6, 4, 2, 7, 9, 5, 4, 1, 0, 6, 5, 5, 3, 8, 1, 0, 7, 3, 9, 3, 3, 2, 3, 4, 1, 5, 4, 6, 0, 6, 6, 8, 5, 5, 5, 8, 5, 7, 3, 4, 1, 1, 9, 9, 5, 1, 1, 5, 0, 2, 0, 1, 9, 0, 7, 7, 6, 3, 6, 8, 5, 1, 4, 1, 0, 5, 0, 4, 8, 3, 4, 7, 2, 2, 9, 0, 5, 3, 4, 2, 2, 4, 9, 5, 6, 7, 0, 4, 8, 2, 3, 0, 7, 6, 4, 3, 1, 4, 0, 9, 2, 4, 1, 2, 3, 7, 3, 9, 8, 9, 7, 3, 9, 0, 9, 4, 4, 5, 7, 2, 9, 0, 5, 1, 2, 9, 9, 5, 4, 1, 6, 8, 7, 8, 8, 4, 3, 0, 7, 1, 0, 5, 2, 3, 8, 5, 6, 1, 5, 1, 3, 2, 5, 2, 4, 4, 7, 4, 1, 2, 5, 1, 3, 0, 9, 2, 6, 1, 9, 0, 7, 7, 3, 1, 1, 3, 3, 4, 6, 6, 6, 5, 2, 9, 1, 9, 5, 8, 1, 5, 6, 1, 5, 3, 5, 3, 0, 1, 6, 1, 8, 6, 7, 8, 8, 0, 6, 5, 0, 9, 9, 5, 7, 3, 3, 6, 2, 0, 0, 9, 7, 2, 0, 2, 2, 9, 9, 6, 8, 7, 3, 6, 0, 8, 1, 6, 6, 1, 2, 8, 3, 2, 1, 2, 8, 6, 7, 5, 3, 2, 9, 0, 9, 2, 5, 1, 3, 5, 3, 9, 3, 4, 0, 4, 8, 6, 3, 6, 0, 9, 0, 9, 3, 7, 0, 8, 7, 5, 3, 5, 1, 0, 0, 4, 9, 9, 1, 9, 9, 3, 3, 9, 8, 0, 6, 9, 1, 8, 3, 1, 8, 8, 3, 9, 3, 4, 0, 8, 4, 5, 7, 1, 8, 4, 5, 0, 9, 5, 0, 5, 5, 4, 5, 6, 2, 5, 4, 1, 9, 7, 5, 7, 1, 0, 5, 7, 3, 8, 1, 7, 2, 9, 7, 9, 2, 7, 3, 7, 1, 7, 2, 3, 3, 9, 4, 1, 4, 8, 1, 1, 0, 7, 7, 3, 0, 8, 8, 1, 4, 2, 1, 5, 6, 5, 1, 4, 1, 9, 7, 5, 1, 3, 3, 4, 5, 2, 1, 3, 6, 9, 3, 6, 4, 2, 9, 1, 4, 2, 8, 4, 6, 1, 4, 8, 5, 5, 2, 3, 3, 4, 6, 5, 1, 3, 8, 8, 8, 0, 9, 4, 6, 4, 1, 5, 1, 0, 8, 6, 4, 7, 8, 9, 9, 4, 6, 5, 4, 2, 9, 0, 6, 5, 8, 1, 6, 9, 8, 6, 3, 1, 9, 3, 7, 2, 2, 2, 5, 3, 7, 9, 3, 3, 6, 7, 4, 3, 8, 6, 4, 7, 1, 2, 5, 4, 7, 6, 0, 0, 4, 7, 3, 9, 1, 6, 1, 2, 6, 0, 9, 6, 0, 1, 0, 9, 3, 8, 4, 6, 5, 0, 7, 6, 4, 9, 4, 4, 8, 9, 1, 7, 3, 6, 9, 5, 8, 7, 5, 4, 5, 6, 4, 9, 6, 4, 9, 2, 1, 2, 0, 5, 1, 1, 0, 7, 4, 0, 6, 9, 7, 5, 7, 5, 7, 3, 0, 4, 0, 3, 6, 2, 6, 5, 9, 2, 1, 6, 3, 9, 5, 9, 7, 5, 9, 0, 2, 0, 8, 6, 3, 8, 4, 8, 6, 3, 3, 9, 6, 8, 3, 9, 4, 7, 0, 4, 0, 7, 9, 3, 4, 8, 2, 0, 9, 5, 9, 1, 5, 5, 5, 5, 8, 7, 7, 0, 3, 2, 3, 3, 0, 7, 9, 9, 4, 6, 6, 9, 7, 7, 6, 0, 3, 2, 5, 5, 3, 6, 1, 6, 0, 0, 0, 9, 7, 8, 1, 9, 4, 9, 4, 3, 4, 0, 7, 0, 6, 5, 1, 0, 3, 6, 7, 1, 3, 1, 7, 2, 4, 4, 1, 8, 3, 8, 8, 6, 8, 7, 0, 1, 7, 2, 5, 5, 2, 0, 5, 5, 9, 4, 8, 7, 5, 7, 5, 4, 1, 4, 4, 0, 9, 1, 7, 8, 1, 8, 4, 7, 2, 2, 1, 0, 5, 0, 8, 3, 4, 2, 1, 5, 1, 9, 7, 1, 0, 6, 4, 7, 8, 9, 9, 3, 1, 8, 4, 1, 0, 9, 1, 9, 6, 5, 5, 9, 9, 0, 1, 0, 3, 4, 5, 2, 8, 0, 8, 7, 2, 0, 0, 2, 8, 0, 2, 3, 7, 2, 4, 2, 4, 1, 0, 4, 0, 0, 9, 6, 3, 8, 3, 9, 3, 9, 1, 2, 8, 2, 1, 0, 4, 2, 2, 2, 9, 0, 9, 7, 4, 0, 1, 2, 6, 3, 4, 4, 8, 5, 4, 8, 2, 0, 2, 1, 8, 6, 6, 3, 8, 0, 4, 1, 4, 4, 7, 4, 8, 1, 2, 0, 3, 6, 7, 3, 7, 1, 2, 9, 4, 8, 4, 6, 4, 2, 8, 8, 5, 8, 1, 6, 7, 4, 1, 0, 3, 4, 8, 9, 3, 7, 9, 5, 8, 9, 6, 2, 0, 3, 8, 3, 1, 0, 1, 5, 1, 8, 1, 9, 2, 2, 0, 3, 8, 7, 4, 5, 7, 1, 0, 2, 2, 9, 1, 5, 3, 7, 2, 2, 1, 1, 6, 8, 8, 8, 7, 8, 9, 0, 9, 5, 9, 3, 2, 6, 3, 0, 3, 3, 0, 9, 9, 6, 3, 1, 2, 9, 5, 9, 6, 9, 7, 6, 3, 2, 2, 9, 7, 9, 1, 3, 6, 4, 7, 1, 8, 7, 0, 8, 8, 9, 0, 9, 4, 9, 2, 4, 8, 4, 7, 2, 4, 8, 9, 1, 4, 1, 8, 5, 4, 4, 0, 5, 0, 4, 0, 8, 0, 0, 6, 9, 3, 2, 7, 4, 2, 8, 9, 9, 4, 6, 7, 7, 1, 0, 5, 7, 6, 3, 6, 3, 1, 8, 1, 3, 7, 1, 2, 0, 8, 0, 8, 8, 0, 7, 9, 2, 0, 6, 9, 3, 4, 3, 2, 9, 7, 1, 2, 9, 7, 4, 0, 2, 7, 3, 4, 1, 3, 5, 4, 3, 9, 7, 5, 9, 4, 8, 2, 2, 5, 0, 8, 1, 8, 0, 4, 5, 3, 0, 9, 5, 6, 7, 7, 0, 8, 4, 9, 7, 0, 5, 4, 1, 2, 4, 9, 8, 1, 8, 2, 9, 7, 3, 6, 3, 3, 7, 9, 7, 3, 7, 8, 4, 9, 0, 1, 0, 6, 2, 0, 3, 3, 8, 7, 0, 1, 0, 3, 1, 4, 7, 3, 0, 0, 7, 7, 5, 1, 1, 0, 3, 2, 4, 8, 8, 5, 2, 4, 7, 7, 6, 9, 8, 1, 2, 1, 9, 9, 2, 0, 9, 7, 5, 2, 6, 0, 4, 8, 1, 8, 1, 0, 9, 8, 1, 6, 8, 3, 6, 1, 3, 2, 6, 1, 7, 1, 6, 3, 1, 1, 9, 6, 3, 1, 0, 8, 2, 9, 2, 2, 7, 3, 1, 4, 9, 3, 7, 7, 7, 3, 1, 2, 7, 8, 1, 2, 7, 3, 1, 0, 8, 4, 1, 3, 9, 6, 9, 3, 8, 2, 7, 4, 4, 2, 9, 1, 3, 3, 9, 1, 2, 5, 1, 6, 8, 5, 9, 7, 7, 9, 6, 9, 7, 4, 0, 6, 1, 1, 7, 2, 1, 5, 2, 2, 7, 3, 1, 7, 3, 3, 2, 2, 1, 5, 6, 1, 7, 4, 2, 2, 9, 3, 1, 5, 2, 1, 7, 7, 2, 9, 7, 1, 0, 9, 0, 1, 9, 2, 7, 0, 6, 5, 6, 6, 3, 9, 4, 6, 2, 1, 6, 9, 1, 1, 3, 9, 5, 7, 3, 0, 3, 4, 4, 3, 5, 8, 2, 7, 9, 1, 4, 0, 9, 0, 7, 9, 6, 2, 7, 5, 9, 2, 1, 5, 9, 6, 3, 4, 6, 4, 6, 3, 4, 7, 8, 2, 0, 6, 8, 8, 9, 2, 8, 6, 7, 7, 7, 2, 0, 5, 1, 7, 9, 2, 5, 7, 1, 9, 3, 1, 7, 2, 5, 4, 3, 1, 4, 2, 9, 5, 6, 2, 9, 2, 2, 1, 6, 5, 2, 6, 9, 3, 1, 1, 5, 1, 2, 6, 5, 4, 4, 1, 8, 0, 9, 8, 3, 5, 7, 3, 7, 2, 2, 2, 2, 8, 7, 3, 4, 6, 9, 4, 4, 1, 1, 4, 2, 6, 8, 9, 1, 5, 6, 9, 3, 8, 2, 8, 3, 0, 0, 5, 9, 7, 9, 0, 3, 0, 5, 7, 0, 2, 6, 0, 7, 7, 7, 4, 3, 9, 8, 6, 9, 4, 4, 1, 1, 8, 1, 6, 8, 2, 1, 1, 8, 8, 2, 1, 7, 5, 6, 4, 9, 6, 7, 2, 4, 2, 1, 3, 2, 1, 7, 3, 7, 3, 9, 0, 5, 9, 5, 1, 4, 7, 9, 4, 5, 9, 0, 2, 0, 0, 2, 0, 5, 7, 8, 9, 4, 4, 3, 2, 8, 2, 2, 6, 7, 2, 3, 9, 9, 1, 1, 0, 9, 2, 5, 0, 2, 9, 2, 2, 4, 1, 6, 9, 1, 2, 9, 6, 1, 4, 0, 9, 3, 1, 2, 8, 7, 7, 0, 0, 0, 0, 6, 7, 1, 1, 9, 0, 9, 9, 2, 1, 6, 4, 8, 8, 3, 9, 5, 9, 4, 4, 9, 2, 4, 4, 7, 4, 0, 0, 7, 9, 4, 8, 6, 5, 2, 3, 5, 8, 7, 6, 9, 8, 1, 8, 0, 2, 5, 0, 0, 0, 3, 2, 2, 0, 7, 3, 2, 8, 2, 6, 1, 3, 1, 8, 0, 4, 0, 9, 0, 2, 5, 7, 1, 4, 8, 8, 8, 3, 4, 7, 8, 2, 7, 0, 5, 6, 4, 5, 1, 1, 1, 2, 4, 5, 3, 4, 6, 4, 3, 5, 1, 5, 2, 3, 3, 1, 7, 2, 4, 7, 1, 4, 9, 5, 7, 4, 7, 6, 9, 7, 9, 7, 7, 3, 2, 2, 1, 8, 9, 8, 3, 4, 7, 8, 5, 0, 8, 0, 3, 2, 5, 1, 2, 2, 6, 3, 8, 4, 1, 3, 3, 9, 1, 1, 2, 6, 6, 6, 3, 2, 6, 8, 9, 2, 5, 4, 1, 0, 7, 7, 5, 4, 7, 7, 4, 7, 7, 8, 4, 6, 5, 5, 4, 7, 9, 8, 1, 7, 3, 2, 3, 8, 7, 1, 5, 8, 2, 2, 7, 3, 5, 1, 9, 6, 0, 3, 8, 4, 7, 7, 3, 5, 0, 6, 2, 4, 0, 3, 0, 9, 2, 4, 1, 0, 8, 8, 8, 3, 7, 4, 1, 8, 6, 2, 6, 0, 3, 7, 8, 9, 5, 2, 0, 6, 6, 6, 9, 0, 6, 1, 9, 5, 1, 3, 7, 3, 4, 5, 8, 3, 0, 9, 4, 8, 2, 7, 0, 2, 1, 0, 4, 1, 4, 3, 7, 4, 2, 2, 6, 7, 8, 5, 5, 9, 1, 3, 0, 6, 7, 4, 6, 6, 5, 4, 7, 5, 6, 7, 4, 1, 2, 7, 7, 8, 6, 2, 5, 3, 5, 0, 5, 5, 3, 0, 2, 5, 5, 5, 6, 9, 0, 6, 3, 9, 5, 8, 9, 4, 4, 2, 1, 7, 1, 0, 5, 6, 4, 3, 1, 1, 8, 6, 2, 9, 6, 7, 3, 7, 8, 0, 2, 3, 7, 0, 9, 5, 1, 9, 7, 7, 4, 4, 9, 4, 2, 7, 3, 9, 2, 8, 6, 0, 8, 1, 4, 3, 1, 5, 5, 4, 3, 7, 5, 4, 8, 4, 4, 1, 9, 2, 4, 9, 3, 8, 3, 2, 8, 9, 1, 4, 3, 7, 9, 7, 4, 3, 7, 8, 0, 9, 8, 4, 5, 3, 1, 1, 1, 9, 0, 6, 9, 0, 0, 7, 8, 6, 7, 1, 2, 5, 1, 0, 9, 5, 1, 3, 1, 1, 7, 4, 4, 1, 5, 6, 9, 0, 6, 7, 7, 8, 3, 0, 4, 0, 8, 1, 3, 4, 9, 0, 6, 2, 8, 8, 8, 2, 6, 9, 4, 7, 9, 7, 3, 2, 8, 1, 9, 1, 2, 9, 1, 3, 6, 4, 9, 6, 0, 0, 2, 1, 1, 3, 9, 4, 8, 9, 2, 0, 9, 0, 4, 8, 0, 3, 7, 8, 3, 5, 7, 6, 0, 1, 1, 0, 0, 0, 7, 1, 3, 4, 7, 4, 7, 0, 2, 8, 2, 2, 8, 2, 0, 2, 0, 1, 9, 9, 1, 2, 2, 2, 1, 0, 9, 9, 9, 8, 2, 6, 8, 2, 5, 5, 0, 9, 4, 0, 9, 0, 6, 5, 0, 1, 1, 4, 4, 0, 0, 8, 7, 0, 3, 8, 7, 8, 9, 2, 9, 1, 6, 0, 5, 2, 6, 5, 5, 8, 5, 5, 5, 8, 8, 4, 3, 5, 1, 4, 0, 3, 4, 1, 8, 2, 3, 6, 6, 1, 9, 2, 3, 2, 1, 8, 6, 6, 8, 3, 8, 0, 6, 3, 0, 0, 1, 6, 4, 4, 9, 9, 7, 1, 3, 7, 2, 9, 0, 9, 4, 3, 9, 4, 6, 5, 4, 5, 6, 6, 2, 4, 6, 8, 6, 6, 5, 6, 0, 7, 9, 7, 2, 2, 9, 7, 6, 3, 4, 4, 6, 7, 2, 1, 1, 9, 7, 1, 0, 2, 3, 6, 0, 4, 8, 1, 6, 4, 1, 0, 2, 1, 2, 8, 0, 9, 2, 1, 4, 6, 0, 1, 1, 6, 7, 2, 0, 2, 6, 3, 7, 1, 7, 9, 3, 3, 3, 1, 7, 4, 1, 7, 7, 0, 2, 3, 6, 8, 5, 8, 8, 6, 4, 1, 3, 8, 2, 7, 5, 2, 6, 9, 9, 3, 4, 4, 9, 5, 6, 6, 8, 3, 2, 4, 7, 8, 9, 2, 5, 4, 9, 0, 5, 9, 2, 4, 4, 2, 2, 1, 2, 7, 1, 0, 2, 9, 0, 3, 5, 8, 9, 4, 6, 5, 0, 5, 2, 8, 2, 5, 5, 3, 1, 0, 7, 7, 4, 8, 1, 0, 4, 4, 7, 2, 9, 4, 6, 4, 7, 7, 8, 6, 9, 4, 2, 7, 0, 8, 5, 8, 1, 4, 3, 6, 1, 3, 8, 3, 0, 7, 2, 3, 5, 5, 5, 5, 9, 6, 5, 9, 7, 4, 9, 6, 9, 2, 2, 1, 1, 9, 0, 6, 7, 8, 6, 7, 1, 0, 3, 6, 6, 3, 7, 2, 2, 4, 9, 3, 8, 3, 3, 4, 1, 0, 2, 9, 6, 9, 2, 5, 4, 2, 5, 6, 7, 5, 2, 4, 8, 1, 7, 0, 0, 5, 7, 1, 6, 7, 4, 3, 2, 0, 7, 0, 6, 9, 8, 6, 5, 6, 0, 5, 4, 3, 3, 7, 9, 0, 6, 4, 3, 6, 6, 6, 8, 8, 1, 3, 2, 7, 1, 9, 0, 5, 1, 7, 2, 0, 4, 9, 8, 0, 2, 1, 2, 9, 9, 1, 6, 2, 5, 7, 6, 1, 1, 9, 1, 4, 1, 3, 6, 0, 4, 3, 4, 7, 7, 1, 4, 7, 1, 3, 1, 7, 3, 2, 6, 4, 6, 7, 4, 2, 7, 4, 6, 4, 3, 9, 1, 9, 4, 1, 2, 5, 2, 8, 7, 4, 3, 9, 7, 4, 8, 5, 3, 5, 3, 9, 9, 0, 5, 7, 7, 0, 2, 5, 3, 2, 4, 2, 3, 8, 4, 6, 0, 5, 3, 9, 6, 2, 1, 9, 8, 3, 7, 2, 5, 5, 1, 6, 6, 1, 4, 3, 8, 7, 1, 2, 0, 6, 7, 7, 4, 3, 8, 4, 8, 5, 1, 7, 7, 4, 8, 6, 9, 2, 1, 1, 2, 4, 3, 1, 4, 8, 3, 6, 7, 5, 1, 7, 4, 1, 8, 1, 2, 2, 1, 4, 4, 9, 9, 3, 3, 2, 2, 3, 3, 3, 8, 7, 1, 1, 9, 1, 5, 3, 3, 0, 1, 7, 1, 4, 8, 3, 3, 2, 9, 5, 4, 4, 7, 4, 9, 0, 5, 6, 5, 3, 1, 8, 4, 7, 1, 2, 8, 2, 6, 9, 0, 3, 6, 1, 4, 8, 1, 2, 1, 1, 3, 3, 0, 6, 8, 9, 6, 7, 9, 5, 8, 4, 5, 5, 2, 1, 0, 2, 1, 6, 0, 2, 1, 9, 7, 1, 0, 3, 0, 5, 7, 2, 7, 2, 8, 8, 7, 4, 8, 3, 5, 9, 8, 8, 6, 6, 3, 2, 5, 5, 5, 2, 1, 6, 9, 7, 4, 8, 8, 2, 7, 6, 5, 3, 2, 9, 3, 2, 5, 4, 6, 5, 1, 0, 1, 6, 9, 7, 4, 8, 3, 1, 0, 1, 9, 2, 8, 5, 8, 9, 9, 4, 1, 3, 9, 5, 1, 4, 9, 4, 3, 0, 6, 7, 5, 2, 0, 5, 0, 8, 4, 6, 5, 7, 7, 0, 2, 8, 4, 4, 2, 0, 9, 4, 9, 0, 3, 3, 3, 9, 2, 2, 6, 9, 4, 1, 3, 7, 0, 7, 5, 6, 7, 4, 4, 2, 6, 1, 8, 8, 5, 7, 6, 9, 0, 6, 5, 3, 1, 5, 0, 3, 7, 1, 4, 1, 6, 4, 0, 5, 5, 6, 6, 8, 6, 3, 4, 3, 0, 1, 2, 7, 1, 9, 7, 1, 4, 8, 5, 4, 6, 2, 6, 3, 1, 7, 1, 8, 7, 3, 9, 5, 7, 3, 7, 4, 5, 4, 4, 6, 2, 3, 3, 7, 1, 7, 9, 3, 1, 4, 7, 9, 1, 0, 3, 2, 3, 2, 4, 1, 1, 6, 9, 6, 9, 1, 6, 5, 7, 3, 1, 6, 4, 6, 7, 5, 7, 3, 5, 7, 5, 3, 2, 9, 1, 1, 5, 7, 4, 8, 1, 4, 9, 6, 9, 2, 8, 4, 6, 1, 6, 2, 3, 7, 4, 6, 6, 4, 9, 1, 1, 4, 0, 9, 8, 7, 5, 4, 4, 0, 2, 5, 1, 7, 3, 3, 3, 6, 7, 4, 0, 9, 6, 6, 3, 8, 7, 5, 0, 2, 2, 9, 6, 7, 5, 1, 9, 7, 1, 4, 8, 7, 1, 1, 0, 5, 7, 7, 9, 3, 6, 8, 1, 6, 2, 4, 2, 7, 0, 5, 9, 2, 4, 7, 4, 7, 7, 2, 5, 5, 3, 5, 2, 6, 2, 2, 7, 4, 7, 3, 6, 3, 6, 7, 5, 1, 5, 1, 9, 6, 7, 6, 8, 2, 0, 2, 2, 8, 6, 1, 2, 9, 8, 2, 6, 5, 7, 8, 2, 0, 3, 7, 5, 6, 2, 5, 7, 2, 2, 5, 5, 8, 0, 6, 8, 2, 8, 3, 0, 5, 3, 0, 5, 6, 6, 1, 2, 6, 0, 1, 7, 2, 8, 0, 4, 9, 3, 5, 9, 3, 3, 4, 1, 2, 2, 0, 9, 7, 0, 8, 9, 0, 3, 8, 3, 4, 4, 7, 7, 3, 8, 1, 4, 5, 1, 7, 6, 4, 1, 6, 8, 1, 0, 2, 4, 1, 4, 8, 3, 3, 5, 3, 1, 0, 4, 1, 3, 7, 6, 3, 6, 4, 6, 8, 8, 4, 2, 5, 8, 1, 8, 8, 6, 4, 2, 4, 9, 6, 7, 1, 9, 1, 9, 1, 0, 7, 5, 9, 1, 2, 5, 0, 9, 9, 9, 1, 4, 1, 7, 0, 0, 5, 5, 1, 4, 2, 1, 7, 5, 0, 0, 0, 4, 1, 8, 2, 9, 5, 0, 7, 8, 4, 0, 8, 3, 1, 3, 0, 4, 3, 4, 5, 3, 6, 7, 7, 3, 8, 1, 8, 6, 0, 1, 5, 6, 9, 2, 3, 2, 7, 6, 9, 8, 2, 7, 5, 3, 9, 3, 9, 7, 4, 7, 3, 6, 4, 3, 5, 2, 9, 7, 6, 8, 6, 7, 7, 1, 0, 3, 2, 3, 1, 2, 2, 3, 0, 2, 1, 5, 1, 3, 8, 6, 4, 5, 9, 8, 1, 2, 9, 1, 0, 6, 1, 2, 8, 7, 7, 2, 6, 0, 9, 9, 4, 5, 3, 6, 0, 2, 7, 6, 8, 0, 8, 9, 5, 2, 4, 5, 1, 6, 3, 3, 9, 8, 6, 5, 2, 6, 7, 5, 4, 4, 7, 4, 0, 1, 6, 6, 8, 5, 6, 1, 5, 3, 7, 4, 4, 2, 8, 3, 9, 0, 5, 4, 1, 8, 4, 0, 2, 0, 8, 1, 1, 0, 8, 6, 6, 3, 9, 6, 0, 0, 5, 4, 8, 9, 2, 0, 1, 4, 7, 6, 4, 6, 0, 3, 2, 1, 3, 7, 5, 7, 8, 8, 1, 0, 3, 8, 7, 8, 6, 7, 3, 1, 5, 4, 7, 5, 4, 6, 4, 5, 9, 6, 1, 3, 6, 3, 5, 6, 3, 6, 7, 8, 5, 4, 8, 1, 2, 8, 1, 3, 8, 1, 3, 5, 3, 1, 3, 5, 1, 0, 8, 6, 2, 6, 7, 9, 2, 4, 4, 7, 6, 7, 1, 9, 9, 1, 3, 4, 1, 5, 1, 4, 2, 3, 1, 5, 7, 6, 7, 8, 9, 8, 9, 7, 8, 5, 6, 4, 7, 6, 1, 4, 0, 6, 7, 4, 8, 4, 3, 3, 9, 0, 3, 8, 8, 4, 2, 6, 6, 7, 3, 5, 4, 9, 6, 1, 2, 4, 3, 5, 3, 9, 4, 1, 5, 8, 1, 5, 7, 9, 9, 5, 2, 4, 4, 8, 1, 6, 5, 7, 7, 1, 4, 6, 2, 6, 1, 0, 6, 6, 8, 3, 7, 5, 2, 0, 6, 9, 4, 4, 2, 5, 4, 7, 8, 1, 0, 1, 8, 5, 1, 7, 6, 7, 7, 7, 6, 8, 9, 6, 6, 5, 9, 6, 4, 0, 5, 1, 1, 0, 9, 9, 9, 8, 2, 2, 4, 7, 7, 4, 4, 1, 4, 3, 9, 8, 7, 4, 7, 9, 4, 8, 7, 4, 2, 6, 9, 5, 1, 2, 5, 6, 0, 5, 8, 3, 1, 3, 5, 5, 0, 7, 0, 4, 7, 3, 8, 9, 2, 5, 0, 3, 8, 5, 6, 6, 6, 2, 7, 9, 5, 4, 9, 5, 8, 7, 0, 1, 7, 7, 4, 1, 9, 2, 4, 4, 4, 5, 2, 2, 5, 3, 3, 6, 1, 3, 5, 0, 8, 6, 3, 7, 7, 4, 4, 6, 3, 5, 2, 9, 7, 6, 2, 7, 0, 0, 9, 7, 4, 6, 0, 9, 2, 4, 3, 8, 4, 2, 7, 2, 2, 5, 5, 9, 8, 9, 4, 8, 2, 0, 0, 6, 5, 6, 6, 0, 8, 4, 4, 7, 0, 3, 4, 4, 5, 0, 9, 9, 4, 3, 7, 6, 2, 2, 3, 6, 8, 3, 9, 5, 0, 5, 2, 9, 4, 0, 3, 0, 8, 1, 7, 2, 7, 9, 8, 0, 1, 5, 7, 7, 7, 9, 0, 5, 6, 9, 2, 2, 7, 9, 4, 0, 7, 8, 1, 1, 2, 5, 9, 3, 0, 5, 5, 7, 1, 0, 5, 0, 1, 0, 8, 0, 5, 9, 3, 4, 6, 0, 8, 4, 4, 2, 7, 4, 1, 3, 6, 2, 8, 0, 0, 5, 1, 8, 7, 0, 7, 4, 5, 8, 6, 4, 1, 3, 8, 5, 5, 8, 4, 9, 7, 8, 9, 7, 4, 7, 8, 5, 6, 9, 6, 3, 3, 4, 7, 4, 7, 6, 9, 4, 6, 2, 9, 5, 1, 2, 7, 1, 6, 7, 3, 7, 0, 2, 0, 8, 0, 4, 2, 3, 0, 7, 6, 2, 1, 1, 9, 3, 8, 5, 8, 2, 6, 4, 0, 7, 7, 9, 6, 6, 3, 7, 2, 7, 5, 1, 7, 0, 4, 7, 6, 9, 5, 5, 5, 1, 5, 5, 8, 3, 4, 6, 1, 7, 8, 6, 2, 4, 3, 0, 7, 9, 6, 6, 9, 2, 1, 6, 3, 8, 0, 5, 1, 7, 2, 3, 5, 0, 9, 5, 0, 0, 3, 1, 7, 9, 2, 5, 3, 9, 9, 5, 6, 3, 1, 6, 4, 6, 7, 1, 0, 0, 8, 8, 6, 3, 0, 0, 0, 3, 0, 1, 6, 1, 9, 3, 7, 6, 4, 2, 4, 9, 5, 0, 1, 4, 2, 1, 2, 7, 4, 5, 6, 7, 5, 8, 1, 8, 4, 1, 2, 0, 7, 4, 8, 4, 0, 2, 2, 2, 3, 1, 4, 4, 2, 5, 3, 5, 8, 6, 1, 2, 7, 7, 5, 9, 8, 5, 0, 2, 1, 1, 7, 8, 3, 5, 8, 1, 0, 5, 8, 8, 7, 1, 1, 1, 5, 9, 2, 5, 3, 0, 4, 0, 6, 4, 5, 9, 1, 3, 8, 3, 3, 3, 0, 7, 7, 8, 0, 2, 5, 6, 8, 0, 0, 9, 0, 1, 5, 9, 0, 0, 9, 7, 3, 6, 7, 2, 2, 9, 6, 9, 8, 2, 4, 3, 8, 6, 6, 7, 5, 1, 1, 5, 0, 4, 4, 9, 3, 2, 8, 8, 5, 1, 3, 0, 4, 0, 0, 5, 1, 1, 5, 7, 7, 9, 5, 2, 4, 9, 6, 4, 3, 9, 1, 7, 7, 4, 1, 4, 5, 9, 0, 5, 1, 9, 5, 6, 4, 8, 6, 3, 5, 8, 2, 7, 4, 4, 0, 9, 8, 4, 6, 7, 4, 8, 2, 7, 0, 1, 3, 5, 3, 3, 8, 9, 2, 8, 0, 4, 7, 6, 9, 9, 6, 6, 7, 6, 2, 1, 6, 9, 1, 8, 4, 4, 0, 0, 2, 1, 5, 4, 5, 9, 7, 5, 8, 0, 0, 5, 4, 5, 3, 8, 9, 3, 0, 9, 2, 4, 9, 2, 3, 9, 0, 4, 1, 6, 1, 1, 3, 2, 3, 0, 6, 4, 3, 8, 6, 3, 8, 5, 0, 5, 4, 6, 1, 3, 2, 9, 9, 0, 5, 6, 7, 8, 8, 4, 0, 7, 7, 9, 4, 4, 6, 5, 2, 0, 4, 2, 7, 5, 1, 9, 5, 6, 0, 9, 7, 3, 0, 2, 6, 2, 4, 9, 9, 0, 3, 7, 0, 0, 4, 7, 3, 4, 4, 3, 2, 3, 1, 0, 3, 2, 4, 4, 5, 0, 4, 2, 8, 8, 0, 9, 5, 9, 8, 7, 6, 1, 8, 8, 5, 0, 4, 7, 3, 6, 6, 9, 1, 1, 9, 3, 4, 1, 9, 5, 3, 5, 1, 6, 6, 7, 2, 6, 6, 6, 7, 9, 6, 5, 7, 1, 8, 0, 3, 9, 1, 3, 9, 4, 1, 7, 2, 5, 2, 6, 0, 3, 8, 2, 2, 6, 6, 2, 5, 5, 4, 0, 8, 4, 1, 2, 6, 1, 2, 1, 6, 7, 1, 7, 7, 0, 0, 0, 2, 2, 4, 6, 2, 5, 2, 7, 7, 7, 2, 2, 0, 8, 4, 2, 8, 7, 3, 0, 4, 0, 9, 0, 9, 4, 7, 1, 9, 3, 8, 9, 8, 6, 3, 5, 1, 5, 2, 1, 2, 8, 9, 5, 3, 3, 0, 6, 5, 1, 8, 4, 9, 0, 9, 7, 4, 0, 5, 7, 2, 0, 8, 9, 9, 0, 5, 5, 2, 0, 7, 0, 3, 2, 7, 4, 1, 0, 6, 5, 4, 5, 5, 9, 9, 6, 7, 3, 5, 0, 7, 2, 7, 1, 3, 8, 5, 4, 6, 0, 0, 7, 3, 0, 0, 0, 7, 8, 9, 9, 0, 2, 9, 3, 5, 2, 4, 0, 9, 4, 9, 2, 5, 9, 2, 0, 3, 2, 3, 6, 0, 0, 2, 6, 3, 4, 4, 3, 9, 3, 2, 6, 0, 0, 3, 9, 3, 7, 4, 3, 6, 8, 3, 0, 4, 9, 0, 1, 2, 4, 9, 6, 6, 0, 3, 5, 8, 1, 4, 1, 4, 3, 0, 1, 6, 2, 1, 9, 6, 9, 5, 6, 4, 8, 6, 7, 8, 7, 5, 0, 5, 0, 9, 2, 2, 7, 5, 3, 5, 8, 3, 6, 5, 2, 5, 1, 7, 5, 9, 9, 7, 4, 4, 7, 0, 7, 3, 6, 1, 1, 7, 3, 5, 7, 7, 9, 1, 1, 6, 3, 6, 2, 7, 6, 1, 7, 2, 2, 9, 0, 9, 6, 2, 6, 4, 8, 1, 0, 1, 3, 3, 1, 1, 5, 7, 1, 4, 9, 1, 2, 0, 0, 3, 8, 3, 7, 6, 1, 4, 2, 9, 9, 2, 9, 4, 8, 7, 5, 5, 0, 1, 8, 9, 0, 4, 3, 8, 3, 7, 9, 2, 0, 2, 2, 8, 4, 5, 4, 4, 4, 0, 6, 2, 5, 6, 9, 7, 9, 8, 2, 1, 7, 0, 8, 6, 9, 6, 1, 9, 2, 7, 8, 3, 9, 8, 1, 8, 2, 4, 9, 9, 9, 8, 0, 9, 2, 9, 8, 0, 7, 7, 2, 6, 5, 4, 1, 5, 9, 6, 6, 1, 7, 8, 9, 3, 1, 6, 8, 1, 1, 2, 4, 3, 9, 1, 8, 7, 7, 4, 6, 0, 2, 0, 7, 7, 3, 8, 9, 4, 8, 5, 1, 2, 1, 5, 0, 2, 0, 3, 7, 4, 8, 4, 3, 6, 8, 9, 0, 1, 1, 9, 7, 8, 0, 7, 5, 8, 5, 9, 9, 1, 3, 3, 3, 7, 5, 6, 3, 9, 9, 3, 2, 2, 0, 4, 5, 4, 7, 5, 5, 1, 6, 1, 6, 9, 8, 9, 0, 7, 7, 8, 6, 0, 5, 1, 0, 9, 0, 0, 1, 0, 0, 5, 6, 0, 3, 6, 6, 3, 1, 2, 8, 4, 1, 2, 7, 9, 6, 4, 0, 4, 8, 9, 1, 7, 2, 0, 3, 1, 5, 3, 3, 3, 9, 1, 6, 7, 2, 3, 4, 5, 6, 3, 3, 7, 3, 7, 3, 7, 2, 4, 6, 0, 1, 8, 6, 8, 5, 7, 2, 2, 5, 5, 1, 7, 9, 4, 8, 3, 3, 4, 1, 0, 4, 1, 8, 4, 1, 1, 5, 1, 4, 9, 6, 0, 6, 0, 9, 6, 0, 0, 8, 7, 7, 1, 9, 0, 3, 4, 5, 1, 5, 4, 3, 7, 1, 5, 3, 5, 2, 9, 1, 6, 7, 3, 2, 6, 5, 8, 9, 1, 5, 8, 8, 8, 8, 7, 6, 6, 6, 6, 7, 4, 6, 2, 3, 0, 0, 5, 1, 5, 3, 1, 1, 1, 8, 0, 0, 7, 7, 5, 7, 5, 4, 5, 9, 1, 4, 6, 6, 0, 3, 9, 3, 2, 4, 7, 0, 0, 5, 3, 6, 5, 1, 5, 1, 0, 4, 1, 4, 9, 1, 2, 1, 7, 2, 6, 0, 9, 1, 7, 3, 0, 9, 3, 9, 7, 1, 0, 8, 5, 3, 0, 7, 8, 7, 1, 2, 2, 0, 9, 3, 6, 5, 3, 1, 0, 5, 7, 8, 4, 9, 3, 2, 0, 5, 8, 9, 1, 6, 2, 0, 4, 0, 5, 1, 2, 9, 3, 8, 6, 5, 0, 2, 2, 4, 2, 0, 5, 8, 0, 4, 6, 5, 0, 8, 1, 8, 1, 0, 9, 6, 7, 2, 8, 2, 8, 8, 3, 9, 7, 3, 2, 2, 2, 5, 7, 4, 8, 7, 8, 0, 9, 1, 9, 8, 3, 6, 9, 7, 3, 9, 7, 3, 2, 5, 5, 0, 7, 2, 9, 5, 9, 8, 7, 2, 5, 7, 3, 0, 6, 4, 9, 4, 7, 0, 4, 6, 2, 5, 1, 8, 0, 0, 5, 3, 8, 6, 2, 7, 5, 5, 5, 6, 1, 7, 2, 5, 3, 0, 9, 6, 3, 7, 0, 3, 0, 4, 6, 8, 3, 9, 1, 2, 9, 5, 1, 8, 1, 4, 2, 7, 6, 7, 3, 9, 1, 5, 9, 9, 0, 4, 4, 6, 3, 8, 0, 9, 7, 4, 8, 9, 2, 7, 1, 7, 0, 4, 1, 8, 0, 3, 1, 0, 8, 9, 3, 6, 5, 5, 1, 0, 1, 4, 8, 5, 7, 8, 0, 4, 3, 1, 3, 4, 5, 0, 6, 7, 1, 0, 2, 0, 3, 8, 3, 8, 2, 3, 8, 1, 7, 0, 5, 1, 0, 1, 5, 2, 9, 4, 6, 4, 1, 4, 8, 3, 2, 5, 7, 8, 2, 4, 1, 0, 4, 5, 7, 6, 5, 1, 0, 2, 1, 0, 3, 4, 3, 5, 3, 0, 7, 0, 3, 8, 2, 6, 2, 9, 0, 9, 4, 7, 7, 4, 4, 9, 9, 4, 1, 8, 3, 0, 2, 2, 3, 2, 1, 6, 4, 9, 6, 5, 9, 3, 8, 0, 9, 3, 9, 1, 2, 5, 2, 2, 1, 2, 7, 3, 7, 9, 2, 4, 5, 5, 3, 8, 4, 6, 9, 7, 3, 6, 9, 6, 9, 7, 4, 5, 7, 8, 7, 6, 3, 5, 0, 4, 7, 9, 8, 1, 7, 6, 9, 9, 1, 5, 8, 1, 3, 1, 9, 4, 3, 4, 1, 7, 4, 3, 5, 3, 1, 8, 0, 5, 7, 8, 5, 2, 7, 8, 8, 6, 9, 2, 9, 5, 1, 3, 5, 0, 7, 1, 5, 5, 4, 6, 9, 0, 8, 4, 3, 9, 7, 7, 8, 1, 4, 0, 2, 1, 5, 5, 5, 3, 0, 9, 2, 5, 3, 8, 5, 6, 0, 4, 7, 2, 8, 6, 2, 2, 2, 4, 5, 4, 8, 3, 3, 5, 1, 2, 9, 6, 8, 2, 9, 1, 6, 7, 8, 3, 4, 3, 3, 3, 8, 7, 1, 5, 8, 7, 0, 6, 7, 6, 3, 2, 6, 3, 6, 8, 6, 9, 9, 0, 1, 5, 6, 4, 7, 4, 6, 2, 2, 8, 2, 5, 4, 9, 2, 0, 6, 5, 4, 2, 2, 3, 7, 4, 4, 5, 6, 2, 4, 9, 8, 5, 5, 4, 7, 1, 5, 6, 1, 2, 3, 9, 0, 8, 2, 1, 2, 0, 3, 2, 0, 1, 8, 3, 6, 6, 6, 4, 1, 7, 5, 3, 6, 5, 7, 9, 2, 3, 8, 1, 2, 8, 1, 3, 8, 1, 4, 1, 2, 1, 5, 9, 4, 0, 3, 6, 1, 6, 9, 4, 0, 0, 0, 8, 7, 1, 9, 2, 2, 7, 8, 9, 1, 8, 5, 0, 3, 7, 8, 3, 6, 2, 1, 4, 5, 6, 3, 8, 3, 5, 0, 5, 6, 0, 2, 6, 4, 4, 9, 7, 2, 5, 2, 1, 5, 1, 1, 3, 1, 3, 4, 1, 6, 7, 2, 0, 3, 0, 9, 5, 3, 8, 7, 0, 9, 2, 3, 3, 8, 0, 0, 7, 9, 4, 2, 3, 8, 2, 5, 8, 3, 4, 8, 9, 4, 0, 5, 1, 9, 4, 7, 7, 2, 9, 2, 1, 6, 0, 0, 8, 0, 3, 6, 8, 1, 6, 8, 6, 8, 0, 5, 6, 3, 1, 6, 1, 2, 6, 2, 1, 4, 7, 4, 4, 8, 2, 4, 0, 5, 1, 1, 1, 6, 6, 1, 4, 9, 9, 5, 4, 4, 5, 9, 0, 5, 6, 0, 4, 5, 3, 4, 1, 5, 8, 4, 0, 0, 8, 2, 2, 6, 4, 4, 8, 7, 7, 0, 6, 9, 2, 7, 8, 0, 3, 7, 7, 7, 3, 8, 0, 1, 9, 2, 6, 2, 5, 5, 1, 7, 7, 6, 4, 7, 5, 0, 2, 6, 4, 9, 0, 1, 7, 0, 6, 2, 4, 6, 4, 9, 1, 3, 1, 1, 1, 5, 9, 5, 8, 0, 9, 7, 2, 8, 9, 2, 8, 6, 2, 7, 1, 0, 0, 8, 6, 5, 6, 8, 5, 6, 2, 3, 6, 7, 0, 9, 3, 1, 7, 0, 4, 9, 7, 5, 6, 0, 8, 5, 2, 1, 8, 8, 8, 5, 5, 5, 7, 6, 2, 2, 2, 7, 3, 3, 8, 6, 8, 0, 4, 9, 3, 7, 7, 0, 2, 5, 6, 5, 2, 6, 3, 6, 5, 3, 5, 0, 0, 9, 3, 3, 5, 6, 2, 1, 4, 1, 9, 7, 1, 0, 2, 4, 9, 8, 7, 6, 8, 4, 1, 0, 9, 9, 8, 5, 3, 3, 2, 3, 6, 6, 1, 9, 4, 7, 2, 4, 8, 0, 6, 2, 7, 1, 8, 4, 8, 1, 6, 0, 5, 6, 7, 3, 9, 3, 2, 2, 7, 6, 6, 9, 8, 9, 5, 2, 8, 9, 7, 6, 3, 0, 3, 8, 5, 6, 3, 7, 7, 0, 0, 6, 4, 8, 5, 2, 1, 4, 0, 8, 5, 7, 7, 0, 8, 0, 6, 1, 6, 4, 5, 3, 8, 5, 3, 4, 7, 6, 4, 1, 9, 0, 0, 0, 6, 5, 7, 2, 8, 2, 0, 1, 5, 7, 7, 2, 6, 0, 2, 0, 2, 3, 5, 6, 9, 6, 7, 2, 2, 3, 3, 5, 3, 3, 1, 5, 8, 2, 7, 7, 4, 9, 9, 8, 4, 0, 2, 0, 6, 2, 6, 2, 0, 8, 7, 7, 0, 6, 5, 3, 1, 7, 0, 3, 9, 8, 6, 9, 3, 5, 5, 3, 1, 6, 9, 1, 1, 9, 2, 3, 9, 5, 3, 4, 8, 4, 1, 7, 2, 0, 6, 3, 0, 8, 5, 6, 7, 4, 6, 9, 9, 8, 2, 2, 6, 8, 1, 3, 0, 2, 5, 4, 5, 7, 8, 5, 8, 0, 9, 2, 5, 5, 9, 9, 2, 1, 7, 6, 3, 5, 8, 2, 3, 8, 4, 9, 5, 7, 4, 7, 0, 8, 0, 4, 0, 2, 2, 1, 3, 4, 2, 2, 5, 9, 5, 3, 9, 5, 3, 6, 9, 8, 2, 9, 8, 4, 7, 2, 9, 2, 1, 7, 7, 9, 2, 8, 8, 1, 0, 4, 4, 0, 9, 5, 1, 1, 2, 6, 6, 2, 0, 6, 5, 5, 1, 3, 6, 6, 2, 3, 4, 1, 4, 4, 9, 4, 8, 2, 5, 1, 3, 9, 4, 9, 4, 2, 4, 4, 8, 2, 1, 9, 8, 1, 1, 2, 5, 7, 3, 2, 9, 9, 0, 4, 5, 7, 1, 7, 2, 7, 0, 3, 2, 4, 6, 8, 0, 6, 1, 4, 3, 3, 3, 8, 8, 2, 8, 4, 0, 2, 0, 6, 1, 6, 7, 3, 0, 4, 0, 4, 1, 4, 3, 8, 5, 2, 4, 2, 1, 1, 1, 8, 5, 1, 8, 5, 0, 9, 1, 5, 6, 6, 5, 8, 8, 2, 4, 6, 0, 4, 1, 4, 6, 7, 6, 8, 7, 4, 8, 7, 9, 1, 1, 2, 5, 0, 8, 7, 3, 2, 0, 4, 3, 2, 0, 3, 4, 0, 0, 8, 2, 3, 1, 8, 0, 2, 7, 1, 5, 3, 8, 1, 1, 5, 9, 7, 0, 1, 8, 5, 4, 1, 1, 7, 2, 9, 9, 4, 9, 8, 4, 1, 5, 5, 2, 1, 5, 5, 9, 9, 3, 2, 5, 3, 5, 9, 8, 8, 7, 1, 9, 4, 8, 6, 6, 7, 7, 8, 3, 1, 3, 9, 7, 9, 0, 1, 0, 8, 8, 2, 8, 8, 0, 0, 2, 2, 6, 3, 8, 3, 0, 4, 0, 1, 7, 8, 9, 8, 0, 7, 7, 2, 0, 4, 9, 1, 5, 8, 7, 0, 8, 8, 0, 8, 1, 2, 1, 7, 1, 3, 7, 3, 0, 9, 7, 9, 6, 2, 2, 1, 2, 5, 1, 2, 0, 0, 5, 3, 1, 2, 8, 4, 1, 3, 3, 6, 7, 8, 6, 5, 8, 1, 8, 4, 4, 6, 8, 6, 3, 4, 5, 9, 6, 4, 8, 6, 9, 4, 7, 3, 6, 8, 7, 9, 2, 2, 3, 8, 6, 7, 4, 3, 6, 8, 2, 9, 3, 1, 2, 0, 4, 9, 0, 9, 9, 5, 0, 1, 3, 3, 8, 7, 6, 6, 1, 4, 2, 0, 8, 0, 0, 2, 0, 4, 2, 5, 1, 0, 1, 5, 7, 0, 4, 3, 1, 5, 5, 6, 0, 4, 0, 2, 4, 0, 6, 2, 9, 1, 0, 1, 2, 1, 1, 8, 6, 3, 6, 1, 4, 4, 8, 5, 8, 1, 7, 7, 6, 8, 0, 4, 2, 0, 2, 4, 8, 8, 6, 0, 3, 6, 6, 7, 1, 8, 9, 1, 8, 2, 1, 2, 7, 6, 9, 1, 8, 8, 9, 7, 1, 7, 9, 5, 8, 2, 4, 5, 4, 1, 7, 3, 8, 6, 2, 8, 8, 5, 0, 2, 3, 2, 3, 7, 6, 7, 3, 5, 3, 0, 0, 8, 4, 4, 8, 3, 2, 1, 7, 1, 0, 9, 3, 1, 2, 4, 5, 5, 1, 6, 0, 9, 9, 5, 0, 2, 4, 2, 0, 3, 1, 6, 3, 8, 3, 2, 3, 9, 0, 2, 5, 4, 3, 7, 0, 8, 0, 2, 7, 6, 2, 4, 5, 5, 5, 9, 2, 7, 1, 2, 4, 1, 9, 9, 7, 0, 1, 2, 5, 4, 0, 9, 1, 3, 2, 1, 9, 8, 0, 9, 5, 1, 0, 2, 7, 3, 9, 5, 3, 5, 5, 1, 6, 8, 6, 1, 9, 1, 0, 0, 4, 0, 1, 2, 3, 6, 8, 1, 8, 2, 8, 7, 8, 7, 0, 1, 8, 7, 2, 2, 1, 2, 9, 1, 9, 7, 4, 4, 0, 7, 5, 4, 3, 4, 3, 3, 3, 3, 4, 7, 9, 1, 6, 7, 9, 0, 9, 8, 1, 9, 2, 8, 3, 9, 3, 2, 2, 4, 6, 4, 8, 1, 9, 4, 4, 6, 6, 2, 2, 7, 6, 0, 3, 2, 5, 2, 8, 7, 6, 7, 4, 6, 1, 8, 8, 5, 5, 0, 2, 9, 7, 3, 6, 6, 8, 1, 0, 3, 5, 0, 1, 8, 3, 6, 6, 6, 4, 2, 8, 3, 2, 6, 2, 5, 1, 6, 8, 2, 0, 0, 4, 2, 3, 1, 5, 3, 8, 0, 9, 8, 7, 3, 6, 3, 4, 7, 2, 9, 0, 2, 4, 0, 2, 6, 7, 9, 4, 9, 1, 1, 8, 9, 5, 6, 1, 4, 7, 5, 5, 7, 3, 4, 1, 4, 8, 8, 6, 8, 2, 0, 1, 7, 3, 0, 6, 2, 9, 2, 2, 7, 8, 0, 0, 5, 3, 9, 6, 3, 7, 6, 6, 2, 8, 6, 8, 8, 6, 8, 4, 6, 0, 5, 6, 6, 7, 3, 7, 1, 8, 8, 7, 7, 8, 3, 2, 3, 0, 7, 1, 6, 7, 1, 9, 1, 7, 3, 2, 9, 1, 7, 3, 7, 4, 7, 9, 2, 8, 1, 3, 7, 5, 1, 7, 2, 2, 4, 9, 6, 2, 7, 7, 9, 7, 5, 7, 0, 3, 9, 9, 7, 4, 6, 4, 5, 1, 7, 6, 6, 6, 2, 8, 9, 0, 3, 4, 6, 2, 4, 6, 6, 8, 1, 3, 3, 8, 3, 3, 2, 9, 4, 4, 4, 7, 2, 6, 7, 4, 3, 1, 1, 4, 9, 8, 2, 1, 5, 0, 1, 7, 2, 4, 5, 3, 5, 4, 7, 3, 0, 9, 2, 1, 8, 7, 6, 8, 1, 0, 3, 1, 6, 7, 6, 1, 9, 4, 1, 3, 1, 9, 2, 3, 8, 4, 9, 0, 2, 0, 3, 2, 7, 2, 2, 4, 1, 9, 1, 2, 2, 3, 0, 2, 6, 4, 2, 6, 0, 1, 8, 4, 6, 5, 1, 4, 5, 2, 2, 9, 8, 6, 8, 7, 9, 9, 7, 1, 3, 3, 3, 4, 2, 4, 2, 0, 5, 9, 8, 1, 4, 7, 6, 5, 4, 7, 2, 3, 6, 9, 7, 0, 3, 3, 4, 4, 4, 1, 2, 0, 7, 1, 8, 2, 1, 5, 0, 5, 9, 2, 8, 2, 5, 8, 3, 0, 1, 1, 7, 8, 5, 0, 9, 2, 0, 1, 5, 3, 8, 0, 1, 9, 8, 1, 9, 4, 7, 6, 3, 0, 1, 7, 0, 8, 3, 0, 9, 2, 4, 1, 3, 9, 6, 2, 5, 1, 2, 9, 3, 1, 1, 5, 1, 7, 0, 3, 9, 9, 2, 0, 3, 0, 4, 0, 7, 2, 3, 6, 9, 6, 8, 0, 2, 0, 7, 0, 3, 1, 2, 9, 2, 8, 9, 3, 8, 7, 5, 6, 4, 2, 0, 2, 1, 5, 8, 5, 3, 2, 5, 3, 4, 7, 9, 4, 2, 3, 3, 1, 9, 1, 8, 2, 4, 6, 6, 1, 4, 5, 5, 8, 1, 6, 1, 3, 0, 5, 2, 2, 5, 7, 4, 3, 5, 3, 9, 9, 8, 3, 5, 5, 0, 9, 2, 1, 3, 1, 7, 6, 6, 4, 8, 5, 0, 4, 0, 2, 5, 3, 3, 1, 3, 6, 5, 9, 5, 3, 2, 1, 5, 6, 4, 5, 9, 5, 2, 1, 7, 7, 9, 6, 3, 4, 8, 7, 3, 2, 0, 4, 9, 9, 2, 3, 0, 9, 3, 4, 4, 5, 8, 8, 9, 2, 4, 4, 6, 4, 5, 9, 3, 3, 0, 4, 2, 9, 3, 9, 1, 3, 8, 4, 4, 6, 0, 8, 7, 5, 6, 9, 2, 1, 4, 3, 9, 6, 9, 7, 6, 7, 5, 6, 6, 6, 4, 9, 9, 4, 3, 0, 6, 5, 4, 0, 8, 8, 3, 2, 9, 4, 2, 6, 0, 0, 1, 6, 5, 8, 0, 4, 8, 0, 0, 3, 6, 7, 1, 8, 3, 5, 3, 0, 8, 8, 0, 3, 5, 2, 8, 1, 9, 9, 5, 9, 7, 2, 3, 0, 6, 7, 0, 8, 5, 0, 1, 8, 5, 1, 5, 2, 7, 2, 9, 5, 1, 0, 3, 0, 2, 7, 8, 6, 7, 4, 5, 1, 6, 8, 0, 0, 8, 1, 1, 9, 2, 9, 8, 2, 8, 5, 8, 5, 5, 4, 1, 5, 3, 4, 2, 1, 6, 0, 2, 1, 6, 4, 1, 9, 8, 0, 3, 9, 1, 9, 3, 4, 9, 4, 8, 5, 3, 4, 5, 9, 4, 2, 2, 5, 1, 7, 5, 1, 3, 4, 3, 1, 6, 5, 8, 8, 2, 0, 0, 6, 0, 9, 0, 1, 7, 5, 5, 1, 0, 9, 6, 3, 1, 0, 4, 1, 7, 8, 5, 2, 7, 5, 9, 5, 7, 8, 0, 5, 1, 0, 1, 6, 3, 0, 6, 1, 1, 5, 8, 2, 9, 4, 9, 7, 3, 8, 2, 3, 7, 1, 4, 0, 0, 1, 6, 1, 7, 1, 6, 0, 0, 2, 0, 5, 8, 9, 0, 3, 6, 5, 4, 5, 7, 8, 7, 0, 0, 1, 6, 6, 6, 2, 3, 2, 9, 5, 3, 6, 8, 9, 9, 9, 9, 2, 6, 2, 0, 3, 0, 9, 3, 0, 2, 0, 2, 7, 2, 0, 3, 0, 0, 7, 8, 4, 4, 1, 8, 1, 1, 0, 1, 6, 8, 5, 6, 5, 9, 0, 1, 9, 1, 8, 4, 9, 7, 1, 2, 4, 1, 1, 9, 0, 6, 0, 9, 6, 7, 6, 7, 1, 6, 3, 8, 1, 1, 6, 2, 5, 6, 8, 4, 9, 5, 8, 1, 7, 1, 9, 8, 2, 2, 6, 3, 9, 7, 3, 4, 4, 5, 7, 7, 7, 5, 1, 4, 1, 3, 0, 8, 6, 8, 3, 0, 1, 4, 8, 2, 0, 4, 4, 2, 9, 2, 6, 0, 8, 7, 7, 7, 4, 3, 7, 9, 6, 9, 9, 3, 1, 6, 3, 5, 9, 1, 8, 7, 8, 1, 4, 5, 5, 8, 1, 7, 2, 8, 7, 2, 2, 8, 3, 5, 5, 0, 7, 9, 6, 0, 9, 8, 7, 7, 3, 1, 6, 0, 0, 4, 5, 5, 7, 2, 0, 2, 1, 0, 7, 3, 5, 7, 0, 3, 4, 5, 3, 0, 5, 4, 8, 6, 8, 2, 4, 8, 8, 8, 4, 6, 7, 9, 6, 6, 4, 4, 0, 1, 6, 0, 1, 9, 1, 5, 0, 6, 5, 4, 3, 9, 2, 6, 7, 8, 2, 4, 1, 6, 4, 1, 2, 5, 8, 8, 5, 0, 1, 6, 5, 0, 0, 9, 1, 3, 0, 4, 5, 7, 7, 1, 3, 8, 2, 0, 2, 9, 8, 2, 1, 2, 5, 9, 2, 5, 0, 3, 0, 2, 9, 9, 9, 8, 1, 3, 5, 2, 2, 8, 3, 4, 5, 4, 9, 3, 3, 1, 1, 0, 0, 6, 3, 0, 0, 3, 5, 7, 5, 2, 3, 9, 5, 7, 3, 5, 0, 4, 8, 1, 2, 6, 4, 4, 7, 1, 0, 8, 6, 4, 5, 7, 1, 6, 3, 7, 5, 3, 1, 7, 3, 5, 9, 6, 1, 1, 1, 9, 0, 8, 5, 3, 5, 6, 3, 3, 7, 8, 1, 5, 3, 0, 9, 3, 1, 0, 8, 3, 0, 8, 4, 9, 9, 1, 1, 8, 4, 2, 2, 4, 0, 7, 6, 7, 8, 8, 9, 5, 2, 0, 8, 0, 9, 8, 2, 6, 0, 1, 2, 8, 9, 7, 6, 6, 1, 5, 0, 7, 9, 5, 0, 1, 6, 7, 0, 5, 0, 7, 8, 4, 9, 3, 9, 4, 0, 2, 7, 5, 3, 7, 3, 4, 2, 8, 2, 4, 0, 9, 2, 3, 0, 9, 8, 9, 1, 1, 7, 2, 2, 6, 5, 2, 4, 6, 1, 9, 4, 3, 0, 1, 3, 8, 1, 2, 0, 1, 5, 3, 1, 2, 5, 1, 4, 2, 6, 0, 2, 5, 5, 1, 3, 7, 5, 1, 8, 9, 6, 5, 3, 9, 0, 2, 2, 8, 3, 9, 2, 1, 6, 5, 6, 1, 0, 8, 6, 8, 7, 0, 0, 3, 2, 6, 3, 8, 1, 1, 2, 6, 8, 4, 5, 2, 6, 4, 8, 6, 4, 0, 2, 6, 4, 7, 9, 8, 3, 5, 7, 3, 4, 3, 1, 3, 6, 8, 3, 0, 3, 4, 5, 8, 3, 6, 2, 8, 8, 9, 2, 7, 3, 2, 4, 5, 1, 9, 1, 6, 9, 2, 6, 7, 7, 0, 2, 6, 0, 1, 1, 3, 2, 6, 0, 1, 9, 1, 2, 8, 9, 9, 6, 7, 5, 1, 4, 1, 4, 0, 9, 1, 8, 9, 6, 4, 6, 7, 6, 9, 9, 6, 7, 3, 9, 9, 6, 4, 1, 3, 2, 3, 4, 9, 4, 8, 6, 3, 1, 9, 0, 1, 1, 3, 3, 9, 9, 1, 3, 1, 7, 3, 9, 5, 2, 9, 9, 8, 4, 1, 9, 1, 2, 1, 8, 3, 0, 4, 6, 6, 8, 8, 0, 1, 1, 8, 7, 1, 6, 9, 7, 5, 5, 0, 5, 1, 2, 4, 5, 0, 0, 4, 6, 0, 8, 5, 0, 5, 9, 5, 4, 3, 1, 3, 2, 8, 4, 9, 1, 5, 7, 8, 9, 9, 2, 6, 3, 4, 4, 9, 9, 2, 7, 2, 4, 7, 7, 0, 4, 8, 3, 7, 3, 1, 4, 0, 2, 3, 7, 7, 0, 7, 3, 3, 7, 3, 0, 2, 7, 1, 0, 1, 7, 7, 8, 3, 5, 7, 4, 7, 9, 3, 1, 9, 1, 7, 0, 8, 8, 8, 5, 3, 8, 1, 3, 1, 2, 8, 1, 4, 1, 3, 4, 6, 1, 7, 2, 0, 1, 1, 1, 6, 9, 0, 5, 7, 9, 8, 1, 9, 9, 4, 9, 6, 5, 4, 2, 1, 8, 8, 6, 7, 4, 8, 3, 7, 0, 5, 4, 6, 0, 7, 2, 7, 3, 6, 4, 8, 4, 1, 4, 9, 9, 4, 0, 0, 3, 3, 8, 5, 8, 0, 3, 1, 0, 8, 2, 4, 0, 5, 2, 5, 8, 2, 1, 2, 3, 7, 6, 4, 6, 5, 7, 9, 6, 5, 8, 8, 3, 7, 6, 6, 1, 3, 5, 1, 1, 5, 0, 1, 2, 7, 4, 6, 6, 6, 0, 3, 0, 8, 0, 8, 5, 7, 1, 3, 8, 5, 0, 4, 7, 1, 8, 1, 5, 4, 2, 0, 3, 8, 1, 4, 9, 3, 0, 5, 9, 8, 0, 0, 4, 5, 1, 0, 7, 7, 5, 9, 6, 9, 1, 2, 0, 5, 3, 0, 1, 1, 4, 1, 1, 8, 8, 1, 4, 4, 8, 2, 7, 4, 9, 2, 5, 9, 1, 7, 8, 0, 7, 8, 7, 2, 5, 0, 2, 7, 7, 2, 6, 0, 2, 9, 9, 5, 7, 4, 0, 5, 9, 1, 5, 4, 2, 0, 0, 8, 9, 6, 3, 9, 2, 9, 0, 5, 9, 4, 3, 0, 9, 9, 6, 8, 6, 6, 5, 2, 9, 1, 7, 7, 0, 3, 3, 9, 9, 8, 9, 3, 0, 3, 6, 4, 2, 2, 9, 7, 2, 8, 0, 5, 2, 9, 7, 1, 9, 8, 3, 8, 9, 7, 0, 2, 3, 6, 7, 3, 6, 4, 1, 0, 8, 3, 9, 9, 7, 9, 7, 3, 6, 5, 0, 7, 7, 6, 8, 2, 7, 6, 4, 4, 1, 9, 2, 0, 7, 5, 9, 7, 0, 6, 8, 6, 7, 8, 4, 4, 5, 0, 3, 3, 7, 4, 5, 0, 2, 1, 1, 7, 1, 0, 4, 1, 5, 1, 6, 8, 5, 6, 2, 1, 1, 2, 0, 3, 9, 3, 7, 9, 2, 3, 0, 1, 9, 1, 8, 7, 3, 1, 0, 2, 5, 7, 0, 0, 4, 3, 4, 7, 0, 1, 4, 2, 1, 9, 6, 7, 6, 6, 3, 3, 2, 3, 8, 4, 4, 5, 3, 6, 6, 2, 0, 3, 6, 4, 4, 3, 6, 5, 6, 0, 5, 1, 0, 5, 4, 2, 7, 0, 7, 5, 5, 1, 9, 1, 7, 7, 6, 3, 7, 0, 5, 7, 4, 7, 7, 1, 5, 1, 8, 2, 2, 9, 2, 3, 4, 9, 2, 3, 8, 0, 5, 1, 2, 4, 0, 6, 9, 7, 3, 2, 4, 4, 9, 7, 9, 8, 2, 7, 6, 8, 5, 0, 4, 6, 3, 7, 6, 3, 0, 2, 7, 5, 6, 0, 0, 4, 7, 8, 6, 6, 0, 3, 6, 2, 3, 1, 1, 7, 0, 2, 2, 8, 8, 6, 5, 6, 5, 5, 1, 0, 0, 7, 7, 4, 6, 7, 7, 4, 1, 0, 2, 4, 3, 9, 0, 1, 5, 0, 1, 1, 3, 2, 5, 0, 3, 9, 0, 3, 3, 8, 7, 3, 2, 4, 4, 0, 9, 9, 5, 6, 5, 6, 2, 9, 6, 9, 4, 4, 4, 5, 1, 1, 3, 8, 6, 0, 5, 1, 7, 2, 9, 3, 7, 5, 1, 6, 4, 9, 6, 3, 6, 6, 7, 5, 5, 3, 1, 3, 1, 5, 9, 1, 1, 9, 9, 9, 0, 2, 1, 3, 5, 2, 1, 9, 0, 1, 5, 9, 2, 1, 4, 2, 7, 4, 0, 4, 9, 8, 5, 0, 4, 2, 5, 6, 1, 3, 2, 8, 3, 8, 3, 5, 4, 3, 4, 0, 9, 6, 2, 2, 2, 8, 9, 1, 1, 2, 5, 2, 6, 3, 8, 4, 2, 7, 7, 0, 4, 6, 6, 1, 1, 3, 2, 2, 6, 1, 7, 4, 9, 5, 5, 5, 4, 7, 5, 0, 9, 2, 3, 3, 2, 0, 8, 7, 0, 7, 6, 4, 4, 6, 7, 2, 5, 0, 4, 3, 6, 4, 2, 9, 2, 7, 0, 9, 5, 4, 7, 2, 0, 5, 1, 2, 2, 9, 2, 6, 1, 7, 8, 1, 0, 4, 0, 5, 2, 0, 6, 1, 0, 6, 1, 3, 6, 1, 4, 3, 4, 1, 1, 5, 3, 2, 4, 2, 8, 3, 8, 9, 9, 6, 9, 9, 4, 5, 0, 0, 9, 0, 1, 0, 0, 1, 4, 3, 7, 5, 4, 1, 4, 8, 8, 8, 8, 4, 0, 6, 4, 8, 1, 2, 8, 6, 7, 6, 7, 5, 3, 1, 6, 4, 4, 1, 8, 9, 3, 5, 8, 7, 4, 6, 4, 5, 8, 7, 1, 6, 9, 7, 6, 1, 7, 3, 7, 5, 1, 2, 9, 9, 6, 5, 3, 1, 9, 6, 2, 0, 3, 3, 9, 0, 8, 6, 4, 3, 1, 6, 7, 0, 0, 1, 2, 9, 5, 2, 1, 2, 4, 3, 3, 5, 5, 9, 2, 2, 6, 2, 7, 2, 4, 2, 6, 8, 0, 6, 8, 6, 2, 9, 2, 8, 2, 8, 8, 6, 8, 5, 5, 0, 2, 7, 1, 6, 4, 7, 9, 6, 5, 0, 8, 5, 2, 2, 9, 8, 3, 2, 1, 7, 1, 0, 6, 6, 7, 0, 8, 5, 7, 3, 1, 6, 7, 2, 8, 3, 9, 6, 5, 8, 2, 5, 2, 7, 0, 0, 6, 9, 7, 8, 1, 5, 1, 4, 6, 8, 9, 3, 7, 7, 8, 7, 8, 7, 4, 9, 7, 5, 2, 4, 9, 7, 6, 2, 9, 7, 8, 0, 5, 8, 1, 4, 5, 7, 1, 1, 0, 0, 2, 5, 1, 7, 0, 9, 4, 5, 9, 1, 1, 4, 8, 2, 6, 2, 4, 1, 7, 4, 7, 7, 5, 3, 3, 1, 1, 7, 2, 0, 6, 1, 0, 1, 3, 5, 7, 6, 2, 6, 8, 5, 2, 0, 1, 9, 5, 5, 0, 3, 4, 3, 8, 0, 4, 4, 5, 2, 8, 0, 1, 0, 3, 5, 8, 6, 3, 8, 9, 4, 5, 3, 8, 6, 8, 3, 1, 5, 2, 1, 0, 8, 2, 2, 1, 1, 2, 2, 2, 7, 9, 6, 2, 7, 2, 1, 8, 5, 3, 5, 0, 7, 0, 5, 6, 6, 3, 4, 8, 9, 3, 9, 6, 8, 6, 5, 6, 2, 5, 7, 3, 9, 6, 6, 6, 9, 4, 5, 2, 0, 1, 0, 6, 3, 1, 2, 3, 8, 1, 6, 8, 2, 7, 5, 3, 3, 6, 4, 9, 9, 2, 7, 5, 8, 1, 2, 6, 8, 8, 6, 8, 0, 1, 7, 9, 8, 5, 2, 5, 0, 4, 1, 8, 4, 9, 3, 1, 9, 9, 6, 1, 6, 6, 7, 3, 7, 7, 5, 2, 0, 2, 1, 3, 1, 1, 6, 3, 3, 3, 3, 6, 2, 2, 4, 7, 4, 8, 8, 6, 5, 8, 6, 9, 2, 0, 7, 3, 3, 6, 9, 9, 0, 4, 4, 2, 3, 1, 0, 0, 1, 4, 1, 9, 2, 2, 9, 5, 1, 7, 5, 2, 5, 7, 7, 6, 5, 7, 3, 3, 9, 9, 1, 6, 1, 8, 0, 0, 5, 4, 6, 0, 2, 8, 6, 0, 1, 0, 4, 9, 2, 0, 0, 9, 7, 1, 7, 1, 6, 4, 5, 8, 7, 0, 8, 4, 9, 2, 6, 2, 9, 7, 0, 1, 7, 0, 7, 6, 0, 4, 4, 2, 8, 2, 0, 5, 8, 9, 9, 2, 5, 1, 1, 1, 1, 5, 1, 2, 7, 9, 8, 7, 7, 3, 8, 4, 0, 7, 4, 7, 6, 6, 9, 1, 1, 6, 1, 6, 3, 5, 9, 4, 9, 4, 0, 2, 2, 9, 3, 2, 1, 9, 4, 1, 8, 0, 3, 6, 3, 2, 5, 5, 8, 6, 7, 3, 3, 2, 0, 0, 0, 2, 6, 0, 6, 6, 7, 4, 3, 2, 1, 7, 0, 4, 2, 6, 3, 6, 2, 1, 0, 2, 6, 3, 8, 0, 2, 1, 1, 2, 9, 0, 9, 2, 9, 6, 8, 6, 0, 5, 0, 5, 3, 1, 6, 8, 1, 1, 7, 6, 9, 0, 2, 1, 7, 0, 7, 5, 5, 7, 8, 5, 9, 6, 2, 1, 2, 3, 8, 3, 0, 6, 0, 1, 3, 0, 3, 1, 5, 5, 3, 4, 8, 2, 8, 9, 2, 7, 5, 3, 6, 4, 2, 7, 2, 0, 5, 5, 3, 9, 7, 9, 0, 6, 2, 1, 4, 6, 2, 9, 5, 8, 7, 8, 6, 4, 4, 3, 3, 9, 6, 4, 2, 5, 4, 1, 1, 3, 6, 5, 5, 6, 3, 7, 2, 4, 9, 9, 4, 3, 8, 7, 2, 4, 0, 9, 9, 9, 2, 5, 8, 2, 7, 0, 0, 2, 4, 0, 4, 4, 5, 5, 2, 7, 2, 6, 9, 7, 8, 2, 5, 0, 1, 8, 7, 1, 6, 7, 1, 3, 7, 0, 9, 2, 0, 2, 0, 5, 1, 6, 4, 2, 1, 3, 3, 2, 3, 8, 0, 0, 2, 2, 7, 7, 7, 4, 6, 4, 1, 8, 5, 1, 9, 0, 7, 1, 2, 4, 2, 5, 0, 9, 9, 3, 4, 1, 8, 0, 9, 4, 0, 7, 1, 0, 6, 7, 7, 4, 9, 4, 6, 3, 9, 4, 3, 8, 8, 1, 5, 2, 1, 5, 5, 4, 9, 1, 2, 5, 2, 9, 9, 9, 1, 1, 3, 4, 2, 1, 2, 0, 0, 4, 3, 7, 9, 7, 0, 4, 5, 8, 1, 1, 5, 8, 4, 2, 7, 1, 1, 3, 5, 8, 6, 2, 4, 5, 8, 9, 8, 3, 1, 9, 7, 6, 1, 4, 0, 3, 8, 3, 3, 9, 1, 7, 4, 1, 7, 3, 7, 2, 6, 6, 1, 2, 2, 8, 7, 8, 1, 5, 6, 2, 8, 9, 9, 3, 1, 3, 1, 8, 9, 4, 5, 7, 6, 2, 1, 6, 4, 4, 5, 2, 3, 1, 3, 8, 6, 7, 1, 3, 5, 9, 8, 6, 4, 6, 9, 4, 5, 8, 3, 6, 5, 1, 6, 8, 1, 6, 0, 4, 2, 5, 1, 1, 1, 3, 4, 9, 5, 1, 4, 1, 9, 9, 6, 6, 1, 3, 7, 6, 3, 7, 8, 2, 1, 4, 6, 0, 1, 5, 3, 1, 0, 1, 4, 9, 5, 7, 5, 6, 3, 3, 5, 7, 1, 2, 5, 6, 7, 0, 6, 1, 6, 4, 5, 6, 9, 3, 6, 2, 1, 5, 2, 8, 0, 8, 4, 7, 8, 3, 3, 0, 1, 1, 8, 7, 8, 3, 9, 8, 1, 3, 3, 0, 3, 7, 7, 3, 0, 5, 7, 7, 2, 5, 9, 2, 9, 9, 9, 9, 8, 1, 1, 7, 7, 8, 9, 3, 1, 1, 7, 0, 2, 2, 1, 0, 2, 0, 5, 9, 7, 8, 2, 9, 5, 7, 9, 6, 2, 8, 9, 5, 7, 0, 8, 6, 1, 6, 7, 1, 2, 7, 8, 9, 5, 5, 6, 5, 8, 7, 1, 6, 3, 4, 9, 9, 8, 8, 7, 1, 1, 4, 5, 9, 3, 2, 1, 0, 0, 5, 6, 1, 7, 5, 8, 9, 6, 8, 8, 6, 3, 0, 9, 4, 3, 0, 2, 0, 8, 0, 5, 9, 4, 0, 8, 6, 4, 5, 1, 2, 0, 7, 7, 2, 9, 4, 1, 8, 4, 2, 3, 8, 9, 2, 3, 2, 1, 2, 5, 6, 9, 2, 5, 4, 4, 7, 3, 9, 1, 2, 0, 1, 1, 0, 9, 4, 5, 8, 0, 0, 3, 3, 1, 8, 5, 4, 6, 9, 6, 8, 1, 3, 8, 4, 1, 9, 9, 8, 6, 8, 6, 0, 4, 0, 9, 0, 0, 6, 0, 2, 7, 7, 1, 6, 7, 3, 5, 0, 5, 3, 1, 5, 8, 3, 5, 6, 9, 7, 0, 3, 3, 4, 9, 6, 9, 3, 2, 6, 1, 9, 2, 1, 9, 0, 7, 1, 1, 9, 8, 8, 3, 3, 8, 8, 1, 2, 9, 9, 9, 4, 5, 7, 3, 1, 2, 0, 6, 8, 3, 7, 3, 1, 8, 5, 6, 2, 4, 6, 9, 6, 6, 5, 6, 7, 5, 7, 5, 1, 8, 8, 4, 7, 8, 1, 0, 1, 9, 1, 5, 7, 2, 0, 9, 0, 0, 0, 2, 2, 6, 9, 5, 6, 8, 3, 2, 4, 3, 7, 2, 4, 5, 0, 7, 1, 9, 1, 9, 9, 8, 8, 3, 1, 1, 7, 7, 9, 1, 1, 7, 4, 3, 0, 1, 6, 8, 6, 3, 2, 8, 1, 2, 2, 4, 3, 2, 6, 6, 5, 8, 4, 2, 3, 0, 9, 2, 4, 5, 7, 0, 1, 3, 1, 8, 8, 2, 6, 1, 8, 3, 0, 7, 1, 0, 3, 2, 2, 9, 6, 2, 7, 9, 4, 8, 0, 1, 7, 6, 9, 5, 3, 7, 2, 9, 3, 7, 9, 3, 7, 6, 7, 0, 3, 7, 6, 7, 2, 5, 9, 1, 3, 7, 8, 3, 9, 7, 2, 5, 9, 7, 8, 5, 8, 4, 5, 5, 0, 7, 0, 3, 8, 7, 8, 5, 6, 1, 9, 2, 3, 1, 4, 7, 4, 1, 4, 4, 9, 3, 5, 1, 0, 0, 2, 4, 9, 6, 1, 0, 7, 2, 3, 4, 8, 6, 5, 2, 7, 0, 5, 2, 2, 3, 1, 2, 3, 3, 5, 8, 5, 9, 0, 6, 6, 3, 7, 8, 3, 6, 3, 1, 8, 2, 5, 7, 6, 2, 0, 1, 8, 1, 3, 1, 2, 8, 7, 4, 5, 0, 2, 0, 4, 5, 1, 7, 2, 8, 7, 1, 9, 3, 4, 9, 9, 2, 5, 7, 9, 8, 0, 9, 5, 2, 7, 8, 0, 6, 5, 0, 7, 4, 3, 0, 8, 2, 6, 4, 5, 7, 5, 3, 1, 3, 1, 3, 0, 1, 3, 6, 1, 6, 1, 0, 4, 2, 1, 7, 6, 5, 0, 1, 0, 3, 5, 9, 3, 3, 1, 5, 7, 5, 1, 8, 4, 2, 6, 2, 4, 1, 9, 6, 4, 2, 1, 5, 7, 9, 3, 0, 3, 1, 2, 7, 5, 3, 1, 3, 8, 6, 1, 6, 0, 9, 6, 7, 4, 1, 0, 0, 6, 6, 6, 6, 7, 9, 1, 5, 7, 0, 9, 8, 9, 5, 6, 6, 8, 7, 5, 7, 8, 1, 3, 0, 4, 7, 3, 9, 0, 8, 6, 6, 4, 8, 0, 8, 8, 9, 4, 1, 2, 8, 0, 4, 2, 7, 2, 4, 4, 4, 9, 1, 7, 2, 1, 4, 9, 4, 8, 9, 8, 5, 6, 7, 8, 2, 8, 5, 4, 7, 9, 0, 4, 5, 9, 5, 8, 5, 7, 6, 8, 6, 9, 9, 2, 8, 8, 4, 3, 7, 0, 9, 0, 9, 6, 2, 1, 6, 8, 5, 1, 7, 0, 1, 7, 1, 8, 0, 7, 4, 0, 7, 1, 4, 8, 3, 0, 6, 5, 9, 1, 7, 2, 0, 8, 7, 9, 2, 6, 4, 6, 4, 2, 0, 9, 9, 7, 8, 1, 8, 1, 2, 0, 4, 4, 2, 0, 5, 9, 5, 5, 1, 6, 6, 8, 9, 6, 1, 8, 4, 0, 0, 7, 3, 7, 8, 0, 0, 2, 5, 4, 4, 7, 5, 7, 6, 8, 3, 9, 0, 6, 3, 4, 5, 4, 1, 2, 7, 5, 2, 3, 1, 2, 0, 9, 8, 4, 9, 7, 9, 9, 1, 5, 1, 9, 1, 9, 0, 1, 8, 0, 5, 0, 4, 7, 9, 5, 3, 3, 4, 4, 3, 9, 8, 6, 4, 0, 7, 0, 3, 2, 1, 3, 9, 3, 1, 9, 0, 7, 2, 5, 4, 1, 5, 2, 0, 7, 6, 4, 8, 5, 1, 3, 7, 6, 7, 6, 2, 5, 7, 3, 7, 1, 3, 6, 2, 8, 4, 3, 9, 1, 0, 4, 5, 6, 0, 5, 0, 4, 3, 6, 3, 5, 1, 7, 2, 0, 9, 7, 5, 4, 3, 5, 2, 3, 3, 8, 9, 0, 5, 5, 8, 9, 1, 0, 5, 5, 9, 5, 0, 3, 7, 5, 6, 8, 1, 2, 7, 6, 1, 1, 0, 1, 1, 7, 7, 9, 9, 4, 4, 2, 2, 9, 1, 7, 9, 8, 3, 4, 2, 1, 3, 4, 6, 3, 7, 0, 0, 1, 6, 4, 8, 7, 0, 3, 3, 2, 8, 8, 5, 0, 2, 7, 4, 3, 4, 8, 9, 6, 7, 5, 9, 2, 8, 1, 3, 3, 3, 7, 0, 4, 7, 5, 5, 3, 7, 9, 8, 0, 1, 3, 5, 9, 7, 1, 0, 1, 1, 3, 2, 2, 9, 5, 2, 3, 9, 5, 3, 6, 5, 7, 7, 8, 5, 4, 3, 4, 4, 0, 8, 6, 2, 8, 3, 3, 3, 1, 1, 2, 5, 4, 2, 3, 0, 9, 3, 3, 4, 0, 7, 5, 4, 1, 2, 8, 7, 3, 3, 5, 2, 4, 9, 4, 2, 2, 6, 0, 9, 8, 8, 5, 0, 2, 6, 0, 6, 9, 6, 9, 1, 1, 8, 6, 7, 3, 3, 3, 3, 3, 6, 9, 3, 0, 7, 1, 9, 1, 8, 4, 4, 9, 0, 0, 4, 9, 5, 7, 8, 7, 9, 5, 9, 5, 9, 1, 8, 6, 6, 4, 0, 8, 0, 6, 1, 4, 5, 2, 4, 8, 4, 4, 5, 6, 1, 4, 9, 6, 3, 2, 0, 9, 7, 1, 1, 2, 7, 0, 9, 0, 0, 3, 6, 0, 6, 4, 4, 3, 4, 7, 7, 1, 3, 7, 6, 2, 4, 1, 7, 8, 9, 2, 5, 3, 9, 3, 5, 5, 4, 2, 1, 7, 1, 4, 4, 1, 6, 1, 6, 9, 5, 4, 1, 5, 9, 1, 6, 7, 8, 9, 7, 1, 9, 3, 0, 3, 1, 9, 5, 7, 9, 7, 9, 2, 5, 2, 5, 0, 8, 9, 2, 9, 3, 9, 8, 0, 9, 8, 1, 2, 9, 4, 5, 3, 3, 1, 9, 0, 0, 9, 4, 5, 5, 4, 9, 4, 9, 9, 8, 3, 2, 3, 0, 1, 2, 7, 5, 9, 6, 3, 4, 5, 3, 6, 8, 8, 3, 4, 4, 0, 3, 0, 8, 2, 0, 6, 9, 1, 6, 7, 5, 1, 8, 1, 4, 9, 3, 4, 3, 7, 9, 1, 7, 7, 1, 1, 0, 6, 7, 6, 3, 7, 5, 0, 7, 0, 7, 1, 1, 3, 1, 5, 8, 1, 7, 8, 7, 8, 0, 0, 2, 0, 3, 0, 8, 1, 8, 9, 3, 6, 4, 7, 4, 1, 9, 2, 5, 6, 3, 3, 8, 5, 8, 4, 3, 0, 4, 8, 5, 2, 2, 5, 5, 3, 1, 1, 6, 9, 5, 2, 5, 0, 3, 1, 1, 0, 5, 8, 3, 7, 8, 9, 5, 0, 2, 6, 9, 9, 7, 2, 9, 0, 2, 3, 0, 0, 5, 9, 7, 4, 6, 9, 3, 0, 4, 1, 7, 2, 4, 7, 6, 1, 7, 2, 1, 0, 7, 5, 0, 1, 5, 5, 6, 0, 2, 8, 1, 0, 6, 6, 3, 8, 3, 5, 9, 3, 1, 5, 8, 3, 2, 3, 1, 0, 9, 9, 5, 6, 2, 1, 5, 9, 1, 0, 3, 0, 2, 1, 5, 3, 4, 4, 2, 8, 0, 7, 8, 6, 0, 9, 8, 9, 7, 2, 3, 1, 9, 0, 4, 6, 0, 7, 3, 7, 1, 7, 9, 0, 7, 6, 7, 8, 3, 6, 0, 1, 9, 4, 9, 6, 5, 5, 5, 9, 9, 0, 6, 8, 3, 3, 4, 4, 6, 4, 4, 3, 2, 2, 9, 2, 0, 6, 1, 9, 4, 1, 9, 0, 0, 6, 1, 5, 2, 9, 5, 0, 8, 1, 4, 0, 4, 9, 4, 9, 6, 9, 7, 4, 2, 2, 8, 0, 2, 4, 7, 9, 1, 1, 0, 6, 1, 1, 4, 3, 9, 9, 5, 2, 7, 1, 5, 7, 9, 9, 7, 5, 5, 6, 9, 4, 7, 4, 3, 5, 9, 0, 0, 8, 9, 2, 3, 1, 0, 2, 1, 5, 9, 6, 6, 0, 4, 4, 6, 8, 8, 3, 8, 3, 8, 8, 1, 4, 2, 9, 9, 1, 1, 9, 4, 1, 8, 5, 4, 3, 2, 9, 6, 0, 6, 5, 3, 2, 8, 6, 3, 9, 1, 0, 9, 1, 2, 8, 2, 1, 9, 7, 8, 2, 3, 9, 6, 0, 2, 4, 7, 0, 9, 2, 1, 7, 9, 6, 5, 9, 1, 4, 3, 9, 8, 5, 7, 3, 8, 8, 7, 7, 1, 7, 1, 5, 9, 8, 8, 3, 9, 1, 2, 3, 6, 8, 1, 5, 5, 5, 0, 2, 1, 7, 5, 1, 1, 2, 1, 6, 9, 2, 7, 8, 1, 0, 2, 8, 0, 1, 3, 8, 3, 8, 0, 6, 8, 2, 9, 3, 8, 7, 8, 6, 0, 3, 9, 3, 5, 6, 4, 1, 6, 0, 5, 8, 3, 1, 0, 5, 3, 2, 0, 1, 1, 4, 5, 8, 1, 3, 3, 4, 2, 3, 9, 9, 2, 1, 6, 5, 3, 5, 6, 8, 7, 7, 9, 8, 3, 2, 3, 8, 7, 9, 1, 2, 8, 7, 6, 6, 4, 8, 1, 2, 3, 3, 8, 7, 1, 2, 9, 3, 2, 5, 2, 7, 0, 6, 6, 1, 0, 5, 7, 3, 8, 4, 9, 8, 2, 1, 8, 5, 7, 0, 5, 4, 4, 7, 9, 9, 1, 9, 1, 1, 9, 6, 4, 9, 0, 5, 9, 9, 0, 0, 7, 0, 3, 3, 6, 3, 4, 8, 0, 5, 3, 7, 2, 0, 0, 9, 7, 3, 3, 6, 8, 3, 5, 9, 4, 0, 0, 8, 1, 8, 5, 1, 3, 7, 8, 8, 8, 0, 6, 6, 3, 4, 0, 9, 3, 3, 1, 6, 0, 7, 1, 9, 4, 4, 2, 2, 6, 0, 4, 9, 1, 3, 5, 3, 4, 4, 1, 8, 8, 5, 3, 7, 1, 8, 4, 9, 6, 1, 7, 6, 0, 8, 6, 2, 2, 5, 4, 9, 7, 8, 0, 2, 5, 1, 7, 7, 3, 3, 0, 0, 8, 8, 7, 4, 5, 9, 9, 0, 8, 2, 7, 1, 9, 0, 3, 4, 7, 8, 4, 8, 3, 2, 7, 8, 6, 6, 3, 0, 8, 3, 3, 4, 0, 7, 9, 9, 8, 6, 5, 3, 1, 2, 5, 0, 5, 8, 1, 3, 1, 7, 9, 2, 6, 2, 0, 7, 3, 7, 8, 7, 4, 1, 3, 9, 7, 0, 3, 3, 4, 5, 5, 4, 2, 7, 1, 4, 6, 7, 8, 0, 7, 3, 8, 8, 1, 0, 8, 0, 2, 0, 6, 2, 8, 0, 3, 6, 5, 9, 3, 7, 1, 6, 0, 6, 9, 9, 2, 3, 3, 5, 4, 3, 0, 5, 2, 9, 5, 7, 8, 8, 1, 2, 5, 9, 7, 2, 3, 4, 4, 1, 8, 3, 8, 4, 9, 2, 1, 8, 0, 5, 5, 8, 5, 7, 9, 0, 6, 1, 7, 1, 4, 2, 6, 5, 8, 8, 8, 5, 9, 3, 3, 5, 3, 6, 8, 1, 7, 1, 0, 7, 7, 9, 2, 7, 7, 1, 1, 9, 2, 1, 5, 1, 8, 6, 4, 8, 5, 3, 3, 7, 1, 6, 6, 8, 4, 1, 3, 9, 0, 6, 6, 6, 1, 1, 1, 1, 8, 8, 4, 4, 3, 6, 2, 4, 0, 4, 7, 1, 9, 1, 8, 7, 3, 9, 2, 9, 4, 5, 9, 0, 6, 8, 0, 2, 7, 7, 3, 4, 8, 8, 7, 3, 9, 1, 4, 1, 0, 2, 9, 9, 0, 5, 8, 5, 7, 9, 2, 2, 4, 4, 8, 1, 7, 2, 8, 1, 9, 0, 6, 9, 0, 2, 4, 7, 6, 7, 7, 2, 6, 3, 9, 3, 5, 3, 2, 2, 0, 0, 3, 9, 9, 1, 2, 0, 0, 7, 5, 5, 6, 1, 2, 1, 7, 6, 0, 2, 3, 2, 9, 4, 1, 9, 5, 4, 0, 3, 5, 3, 9, 2, 9, 3, 1, 7, 8, 7, 3, 4, 9, 5, 3, 8, 6, 5, 0, 8, 5, 9, 7, 1, 6, 9, 8, 5, 0, 4, 3, 3, 8, 6, 7, 9, 4, 1, 4, 2, 0, 1, 1, 5, 3, 8, 4, 4, 4, 5, 4, 5, 4, 7, 0, 2, 3, 1, 8, 6, 2, 4, 1, 3, 4, 1, 5, 2, 6, 0, 5, 6, 7, 0, 3, 1, 3, 7, 5, 8, 3, 7, 5, 3, 9, 0, 7, 9, 1, 2, 9, 4, 2, 6, 0, 8, 3, 9, 8, 5, 1, 1, 6, 6, 9, 7, 9, 3, 2, 6, 8, 3, 8, 1, 1, 6, 6, 7, 9, 9, 6, 5, 2, 5, 8, 5, 2, 9, 5, 7, 1, 8, 3, 9, 7, 4, 8, 3, 2, 2, 0, 0, 1, 4, 7, 0, 7, 4, 4, 3, 8, 5, 8, 7, 0, 4, 2, 4, 2, 9, 7, 6, 2, 1, 9, 3, 3, 4, 2, 0, 1, 6, 0, 7, 1, 4, 0, 3, 1, 4, 2, 8, 1, 7, 4, 8, 2, 7, 8, 4, 1, 0, 8, 9, 4, 9, 7, 9, 0, 9, 2, 8, 3, 3, 2, 7, 0, 3, 7, 7, 5, 6, 6, 4, 8, 9, 8, 4, 8, 2, 4, 3, 7, 2, 0, 4, 9, 8, 3, 2, 3, 3, 6, 5, 1, 1, 2, 5, 1, 6, 0, 7, 0, 6, 6, 5, 2, 3, 3, 9, 2, 4, 3, 8, 2, 5, 7, 3, 6, 6, 9, 7, 3, 1, 2, 5, 1, 0, 7, 4, 0, 7, 0, 8, 9, 2, 9, 4, 0, 7, 0, 4, 4, 2, 2, 0, 6, 2, 8, 7, 3, 1, 5, 2, 7, 2, 6, 5, 8, 9, 2, 6, 1, 3, 3, 5, 0, 6, 6, 3, 7, 0, 1, 8, 8, 4, 7, 6, 3, 5, 7, 9, 7, 8, 0, 3, 4, 4, 3, 2, 7, 9, 1, 2, 6, 8, 6, 6, 8, 3, 6, 1, 4, 3, 6, 3, 5, 1, 7, 0, 4, 8, 2, 2, 1, 0, 2, 9, 9, 2, 3, 1, 2, 6, 8, 7, 9, 1, 0, 9, 3, 7, 5, 6, 7, 0, 9, 6, 0, 6, 0, 8, 5, 5, 9, 8, 7, 2, 1, 5, 6, 8, 9, 6, 7, 6, 5, 7, 3, 0, 5, 0, 6, 0, 8, 1, 6, 4, 0, 4, 3, 4, 4, 9, 8, 7, 7, 7, 1, 3, 1, 0, 1, 3, 9, 0, 5, 9, 8, 7, 0, 6, 9, 0, 1, 6, 3, 9, 5, 1, 7, 4, 8, 4, 2, 8, 2, 3, 4, 9, 0, 0, 1, 9, 5, 9, 1, 9, 1, 6, 0, 5, 8, 7, 5, 4, 4, 7, 5, 6, 4, 7, 6, 4, 7, 7, 2, 3, 7, 1, 5, 1, 0, 1, 1, 8, 8, 1, 0, 3, 4, 2, 6, 2, 8, 4, 1, 4, 8, 5, 1, 9, 9, 1, 0, 9, 8, 9, 8, 6, 2, 0, 3, 5, 8, 5, 0, 4, 4, 0, 9, 5, 4, 6, 5, 1, 2, 7, 7, 2, 1, 8, 1, 5, 9, 4, 1, 2, 8, 5, 0, 4, 2, 8, 1, 8, 4, 6, 8, 0, 7, 0, 9, 6, 7, 3, 3, 6, 4, 2, 2, 1, 5, 5, 9, 7, 5, 9, 6, 0, 5, 1, 6, 8, 5, 4, 9, 7, 4, 9, 1, 7, 8, 1, 0, 0, 4, 0, 6, 5, 6, 5, 0, 5, 0, 7, 4, 0, 1, 2, 6, 8, 9, 3, 2, 7, 9, 4, 9, 3, 7, 9, 6, 0, 2, 3, 1, 7, 4, 2, 7, 1, 9, 6, 2, 7, 9, 4, 9, 0, 0, 9, 9, 3, 5, 8, 1, 4, 5, 4, 6, 2, 2, 7, 2, 5, 8, 3, 3, 1, 5, 3, 6, 6, 4, 5, 6, 9, 4, 3, 9, 3, 9, 6, 3, 5, 5, 9, 7, 8, 7, 9, 7, 3, 2, 6, 9, 4, 3, 5, 9, 0, 0, 8, 1, 6, 6, 1, 4, 0, 1, 1, 6, 7, 7, 1, 6, 0, 3, 5, 0, 7, 8, 3, 2, 0, 1, 7, 6, 6, 8, 9, 5, 6, 5, 5, 6, 3, 4, 5, 1, 3, 1, 4, 8, 2, 3, 3, 0, 0, 1, 8, 4, 2, 8, 6, 9, 8, 6, 0, 1, 7, 4, 3, 2, 7, 3, 0, 7, 0, 2, 1, 3, 1, 8, 5, 0, 8, 8, 3, 5, 7, 1, 1, 9, 0, 5, 3, 4, 3, 0, 8, 3, 5, 8, 9, 8, 5, 8, 4, 5, 0, 9, 1, 1, 5, 9, 7, 6, 4, 7, 5, 7, 3, 9, 7, 6, 9, 5, 7, 7, 9, 5, 0, 8, 0, 2, 4, 1, 4, 5, 0, 0, 7, 4, 4, 8, 7, 8, 7, 5, 3, 1, 0, 4, 1, 3, 0, 9, 6, 3, 3, 8, 9, 4, 6, 3, 9, 6, 0, 3, 8, 8, 4, 8, 6, 3, 0, 9, 9, 0, 4, 2, 0, 0, 4, 7, 6, 5, 3, 5, 2, 8, 9, 8, 3, 4, 1, 0, 4, 9, 1, 9, 1, 6, 6, 7, 9, 6, 6, 5, 8, 1, 3, 4, 8, 2, 5, 5, 7, 2, 7, 1, 6, 6, 6, 5, 6, 3, 7, 9, 1, 1, 7, 9, 2, 5, 1, 7, 9, 1, 5, 7, 6, 9, 8, 1, 3, 6, 4, 2, 6, 7, 5, 0, 0, 8, 7, 3, 2, 3, 2, 6, 4, 4, 6, 2, 7, 5, 4, 8, 4, 1, 2, 6, 6, 8, 1, 5, 8, 0, 3, 2, 5, 4, 1, 1, 9, 9, 9, 8, 7, 8, 1, 4, 2, 4, 6, 4, 3, 0, 6, 2, 1, 5, 8, 2, 3, 2, 3, 0, 6, 9, 8, 7, 9, 7, 6, 3, 8, 1, 9, 0, 4, 7, 0, 9, 1, 1, 1, 0, 8, 8, 7, 0, 9, 0, 1, 1, 3, 4, 3, 9, 5, 0, 0, 5, 6, 1, 6, 8, 0, 7, 1, 2, 0, 5, 1, 6, 2, 0, 4, 1, 7, 9, 9, 5, 0, 5, 6, 7, 8, 0, 3, 4, 3, 4, 1, 0, 8, 6, 7, 5, 9, 2, 5, 1, 0, 8, 7, 5, 6, 9, 2, 8, 4, 8, 9, 3, 2, 3, 1, 3, 6, 6, 5, 4, 7, 4, 7, 1, 0, 0, 5, 5, 4, 7, 0, 8, 6, 8, 0, 8, 3, 6, 8, 2, 1, 7, 6, 5, 4, 5, 9, 0, 1, 2, 4, 1, 9, 1, 6, 4, 6, 1, 9, 3, 0, 9, 2, 0, 3, 9, 5, 6, 5, 2, 7, 4, 0, 6, 1, 4, 8, 7, 8, 0, 8, 4, 9, 7, 4, 4, 8, 7, 1, 6, 8, 2, 6, 1, 1, 4, 2, 3, 0, 0, 1, 3, 8, 5, 1, 0, 6, 2, 5, 1, 5, 3, 1, 2, 6, 7, 3, 7, 7, 1, 3, 2, 5, 4, 0, 8, 2, 5, 3, 2, 5, 7, 8, 9, 2, 8, 3, 2, 1, 9, 0, 6, 1, 1, 0, 7, 8, 5, 3, 6, 6, 2, 3, 7, 7, 4, 5, 2, 7, 7, 7, 2, 0, 6, 7, 0, 9, 8, 2, 9, 2, 3, 9, 7, 7, 6, 4, 1, 1, 3, 9, 5, 3, 0, 6, 8, 6, 1, 4, 1, 4, 2, 1, 4, 2, 9, 7, 4, 5, 8, 1, 7, 1, 8, 2, 7, 6, 2, 8, 5, 6, 5, 8, 1, 0, 6, 1, 8, 5, 4, 5, 2, 4, 9, 0, 0, 3, 8, 3, 7, 3, 6, 5, 0, 8, 8, 3, 1, 6, 4, 1, 2, 8, 7, 7, 9, 8, 0, 4, 8, 2, 8, 1, 5, 8, 8, 8, 9, 2, 9, 1, 4, 0, 4, 2, 2, 7, 1, 8, 8, 0, 3, 4, 2, 5, 1, 2, 5, 4, 0, 7, 8, 3, 5, 9, 8, 7, 2, 1, 6, 8, 8, 5, 6, 6, 9, 9, 1, 7, 5, 9, 4, 2, 4, 8, 2, 5, 4, 1, 9, 7, 6, 7, 5, 6, 3, 3, 1, 3, 9, 7, 8, 7, 5, 1, 0, 5, 7, 8, 3, 9, 9, 3, 3, 0, 1, 7, 7, 5, 0, 7, 9, 0, 5, 9, 7, 8, 1, 3, 5, 5, 6, 1, 8, 0, 7, 8, 9, 7, 9, 0, 7, 5, 2, 4, 8, 1, 0, 7, 9, 7, 4, 8, 9, 5, 2, 5, 7, 7, 1, 6, 5, 7, 1, 2, 0, 1, 4, 1, 0, 4, 4, 0, 6, 0, 8, 2, 4, 9, 0, 2, 6, 3, 6, 8, 1, 9, 7, 9, 3, 0, 5, 4, 1, 9, 2, 2, 3, 4, 4, 7, 2, 8, 0, 9, 1, 4, 3, 5, 6, 3, 7, 0, 1, 1, 3, 2, 1, 0, 6, 0, 4, 7, 2, 7, 4, 5, 7, 3, 0, 5, 5, 9, 1, 9, 7, 4, 2, 0, 7, 5, 3, 3, 6, 8, 7, 9, 1, 7, 8, 0, 7, 5, 7, 3, 9, 8, 5, 9, 8, 3, 8, 1, 9, 7, 1, 0, 5, 1, 1, 5, 3, 5, 7, 1, 9, 5, 6, 2, 6, 2, 6, 1, 3, 9, 9, 4, 6, 8, 8, 8, 2, 9, 6, 1, 6, 6, 6, 0, 1, 0, 1, 8, 1, 9, 4, 0, 6, 5, 8, 6, 1, 3, 6, 5, 1, 3, 0, 8, 8, 4, 6, 6, 8, 7, 1, 4, 3, 8, 3, 7, 6, 1, 9, 1, 2, 4, 0, 4, 9, 9, 9, 4, 3, 6, 2, 2, 8, 3, 0, 5, 5, 7, 8, 2, 2, 4, 4, 8, 3, 6, 2, 8, 4, 7, 7, 6, 4, 5, 9, 0, 6, 1, 9, 0, 3, 2, 9, 3, 5, 8, 5, 1, 0, 5, 6, 2, 8, 5, 3, 7, 2, 7, 8, 7, 0, 1, 7, 2, 6, 9, 7, 0, 4, 1, 8, 3, 1, 9, 8, 2, 8, 0, 5, 9, 2, 5, 6, 4, 9, 3, 4, 6, 3, 1, 3, 6, 2, 5, 0, 1, 3, 7, 2, 8, 2, 9, 2, 8, 7, 3, 1, 1, 3, 4, 5, 7, 5, 7, 6, 8, 6, 8, 9, 1, 4, 5, 2, 6, 5, 5, 2, 0, 1, 1, 4, 0, 4, 3, 9, 7, 3, 2, 5, 1, 4, 8, 2, 3, 7, 0, 5, 2, 7, 6, 6, 8, 1, 8, 2, 5, 7, 5, 3, 4, 6, 7, 1, 9, 3, 4, 6, 5, 3, 7, 5, 8, 4, 1, 9, 6, 8, 4, 1, 1, 9, 0, 2, 8, 9, 7, 6, 7, 0, 7, 0, 1, 6, 9, 7, 0, 6, 6, 9, 7, 3, 1, 1, 9, 7, 8, 8, 7, 9, 4, 9, 2, 6, 3, 8, 2, 3, 8, 3, 4, 0, 8, 3, 1, 2, 0, 1, 1, 2, 9, 5, 6, 5, 7, 4, 5, 7, 0, 6, 2, 9, 3, 7, 2, 9, 3, 9, 3, 3, 0, 4, 7, 0, 3, 3, 1, 6, 3, 7, 7, 4, 8, 4, 0, 6, 4, 2, 0, 5, 1, 3, 7, 6, 0, 6, 6, 7, 7, 1, 6, 1, 9, 7, 3, 6, 7, 5, 7, 4, 2, 2, 3, 9, 6, 4, 8, 1, 8, 0, 7, 3, 6, 3, 9, 8, 0, 0, 6, 9, 0, 4, 7, 4, 0, 4, 1, 2, 1, 8, 9, 0, 1, 1, 1, 9, 2, 5, 2, 3, 3, 1, 7, 7, 8, 9, 1, 7, 1, 2, 0, 9, 2, 6, 0, 5, 0, 4, 0, 5, 6, 4, 6, 1, 6, 4, 4, 8, 5, 6, 9, 4, 1, 2, 5, 2, 3, 3, 8, 7, 0, 1, 3, 9, 2, 3, 2, 7, 1, 8, 2, 7, 2, 0, 5, 0, 5, 0, 1, 2, 4, 6, 4, 9, 9, 7, 9, 6, 1, 8, 2, 7, 5, 3, 4, 8, 2, 0, 1, 5, 8, 3, 1, 6, 2, 2, 1, 3, 3, 8, 2, 5, 8, 3, 5, 2, 5, 9, 7, 1, 2, 2, 6, 7, 8, 5, 6, 0, 3, 4, 3, 2, 6, 9, 5, 3, 7, 0, 3, 0, 1, 5, 7, 6, 7, 7, 4, 5, 9, 8, 0, 2, 0, 4, 1, 1, 7, 3, 5, 0, 2, 5, 7, 9, 4, 3, 4, 5, 3, 6, 5, 0, 2, 3, 4, 2, 7, 6, 9, 1, 9, 0, 3, 1, 0, 9, 7, 9, 6, 2, 1, 3, 6, 0, 5, 9, 5, 5, 0, 2, 2, 2, 4, 1, 0, 8, 7, 2, 3, 0, 5, 2, 7, 4, 5, 9, 8, 7, 1, 5, 3, 5, 2, 8, 2, 3, 8, 8, 6, 2, 7, 3, 0, 4, 7, 8, 9, 7, 7, 6, 4, 3, 5, 5, 7, 7, 9, 1, 7, 2, 3, 8, 0, 0, 5, 9, 7, 0, 1, 4, 9, 9, 1, 3, 5, 2, 7, 9, 8, 0, 8, 7, 8, 2, 6, 1, 1, 1, 2, 9, 1, 0, 6, 8, 0, 5, 5, 7, 8, 8, 2, 7, 3, 9, 0, 2, 9, 6, 2, 6, 2, 5, 4, 3, 5, 0, 6, 4, 0, 7, 7, 0, 3, 9, 4, 9, 4, 5, 9, 4, 0, 9, 2, 0, 4, 0, 3, 1, 4, 6, 7, 8, 7, 4, 7, 3, 5, 8, 7, 7, 8, 5, 9, 9, 1, 6, 4, 9, 5, 8, 6, 9, 4, 0, 1, 3, 1, 0, 8, 7, 1, 7, 0, 5, 4, 7, 7, 6, 8, 0, 6, 5, 8, 2, 6, 3, 5, 6, 2, 7, 1, 0, 0, 0, 5, 8, 7, 3, 7, 7, 8, 8, 8, 8, 8, 6, 6, 4, 4, 6, 7, 7, 0, 4, 7, 9, 6, 1, 4, 4, 4, 6, 8, 1, 8, 3, 5, 2, 9, 6, 0, 0, 1, 7, 8, 6, 0, 4, 2, 8, 9, 2, 8, 1, 3, 3, 8, 4, 4, 4, 4, 2, 0, 5, 2, 0, 1, 4, 1, 8, 7, 1, 8, 6, 2, 4, 1, 9, 9, 8, 7, 3, 6, 5, 5, 9, 6, 2, 9, 7, 2, 7, 8, 6, 6, 6, 9, 2, 4, 2, 4, 6, 5, 1, 5, 7, 1, 0, 4, 3, 5, 2, 3, 5, 5, 9, 6, 6, 9, 1, 1, 3, 2, 6, 6, 7, 7, 8, 5, 8, 3, 5, 3, 5, 9, 1, 6, 6, 7, 5, 3, 3, 9, 6, 2, 9, 0, 6, 2, 8, 9, 3, 4, 7, 8, 1, 9, 1, 7, 3, 2, 4, 7, 3, 5, 2, 5, 9, 7, 6, 9, 0, 5, 3, 9, 8, 3, 8, 7, 1, 6, 0, 4, 0, 8, 3, 2, 7, 6, 0, 7, 0, 2, 0, 4, 9, 1, 8, 4, 6, 2, 1, 3, 9, 1, 8, 1, 7, 0, 7, 2, 5, 7, 1, 3, 8, 3, 0, 8, 0, 2, 9, 7, 9, 7, 8, 5, 3, 2, 9, 3, 6, 8, 1, 3, 9, 8, 9, 2, 8, 7, 2, 4, 4, 3, 5, 7, 9, 1, 0, 6, 1, 8, 7, 0, 5, 4, 7, 4, 5, 6, 5, 1, 4, 5, 3, 4, 0, 3, 2, 6, 2, 0, 1, 8, 7, 5, 9, 2, 1, 8, 5, 7, 1, 4, 8, 8, 4, 8, 5, 0, 0, 0, 1, 7, 4, 3, 4, 4, 1, 0, 7, 8, 6, 3, 3, 0, 9, 4, 6, 9, 8, 4, 6, 1, 3, 7, 6, 7, 1, 9, 9, 2, 9, 2, 5, 1, 6, 6, 6, 3, 3, 0, 1, 6, 8, 3, 5, 2, 7, 6, 7, 6, 0, 5, 3, 2, 1, 3, 6, 2, 4, 2, 2, 6, 1, 7, 0, 7, 6, 6, 9, 0, 6, 6, 3, 8, 4, 0, 0, 4, 0, 9, 0, 0, 8, 2, 8, 0, 9, 9, 3, 3, 7, 5, 8, 0, 3, 2, 6, 3, 4, 5, 4, 9, 9, 2, 1, 0, 9, 5, 6, 0, 2, 8, 3, 0, 7, 1, 9, 7, 7, 9, 9, 4, 7, 2, 0, 9, 7, 7, 9, 0, 9, 1, 1, 8, 7, 1, 5, 1, 1, 4, 5, 4, 9, 0, 7, 6, 8, 1, 2, 1, 3, 0, 8, 2, 9, 9, 7, 7, 6, 6, 7, 5, 6, 3, 3, 4, 8, 5, 1, 5, 0, 6, 9, 4, 3, 6, 6, 7, 5, 3, 7, 5, 1, 5, 3, 3, 2, 4, 8, 3, 4, 1, 4, 0, 7, 6, 2, 7, 1, 8, 6, 2, 8, 9, 7, 9, 5, 4, 9, 0, 7, 1, 4, 4, 1, 4, 6, 1, 0, 5, 7, 6, 0, 7, 3, 1, 0, 0, 1, 7, 1, 8, 0, 4, 0, 3, 5, 1, 6, 9, 5, 5, 1, 1, 8, 4, 9, 8, 5, 9, 5, 4, 3, 1, 9, 4, 6, 1, 3, 3, 0, 9, 0, 7, 9, 6, 6, 8, 6, 4, 3, 7, 8, 8, 9, 0, 1, 7, 0, 1, 5, 1, 6, 9, 1, 0, 8, 0, 6, 3, 7, 2, 0, 2, 0, 6, 3, 4, 1, 9, 5, 9, 8, 2, 6, 3, 4, 8, 1, 5, 1, 4, 1, 8, 0, 8, 1, 3, 9, 3, 4, 7, 4, 5, 2, 3, 5, 0, 6, 6, 8, 3, 5, 4, 8, 9, 6, 0, 4, 6, 4, 6, 3, 7, 6, 9, 0, 4, 3, 3, 1, 1, 0, 4, 4, 9, 6, 4, 0, 4, 4, 3, 7, 2, 0, 3, 4, 1, 8, 6, 4, 3, 1, 4, 5, 3, 4, 7, 3, 6, 6, 6, 2, 4, 8, 3, 1, 3, 9, 2, 4, 3, 7, 5, 8, 7, 7, 0, 2, 8, 8, 6, 9, 8, 4, 2, 6, 2, 9, 8, 4, 0, 5, 6, 1, 2, 9, 9, 2, 3, 4, 5, 8, 5, 6, 8, 9, 9, 5, 4, 7, 9, 8, 7, 0, 5, 2, 6, 9, 1, 6, 3, 7, 4, 2, 5, 6, 3, 1, 7, 1, 4, 1, 4, 9, 8, 9, 3, 0, 5, 3, 9, 2, 7, 8, 8, 3, 9, 4, 5, 9, 7, 1, 0, 3, 2, 7, 6, 8, 6, 4, 3, 7, 5, 0, 3, 0, 6, 9, 8, 9, 7, 6, 3, 1, 9, 8, 7, 5, 2, 8, 7, 3, 2, 8, 6, 8, 2, 6, 2, 5, 8, 0, 4, 4, 1, 4, 8, 8, 4, 2, 5, 0, 3, 6, 8, 8, 5, 2, 9, 4, 3, 4, 3, 6, 7, 4, 8, 2, 8, 7, 8, 7, 2, 1, 1, 4, 1, 6, 9, 0, 4, 7, 1, 1, 7, 3, 3, 7, 3, 5, 9, 9, 2, 3, 2, 9, 2, 8, 4, 2, 4, 8, 1, 5, 8, 0, 7, 9, 8, 7, 7, 1, 3, 5, 3, 2, 3, 1, 5, 3, 3, 8, 3, 4, 0, 0, 6, 1, 8, 0, 5, 2, 6, 4, 9, 7, 3, 7, 8, 1, 0, 9, 9, 3, 7, 2, 9, 7, 9, 0, 6, 4, 5, 6, 3, 8, 4, 4, 3, 9, 0, 8, 0, 1, 0, 4, 8, 7, 4, 4, 5, 8, 0, 6, 3, 3, 1, 6, 6, 4, 5, 2, 4, 9, 6, 2, 7, 2, 1, 3, 8, 4, 8, 2, 7, 7, 6, 1, 3, 3, 2, 4, 1, 1, 4, 8, 9, 7, 7, 3, 9, 2, 5, 0, 6, 3, 5, 2, 0, 2, 4, 9, 4, 4, 0, 8, 3, 9, 7, 9, 2, 0, 2, 1, 8, 6, 5, 5, 5, 5, 1, 8, 5, 8, 0, 2, 6, 0, 1, 0, 5, 0, 1, 7, 8, 5, 8, 3, 0, 4, 8, 8, 9, 4, 4, 3, 7, 6, 5, 9, 1, 3, 2, 0, 9, 4, 9, 4, 4, 2, 2, 9, 3, 3, 3, 8, 2, 0, 7, 3, 5, 0, 0, 3, 6, 9, 6, 3, 6, 2, 9, 1, 2, 7, 6, 3, 7, 1, 7, 9, 4, 0, 8, 9, 1, 0, 1, 8, 1, 6, 4, 5, 2, 0, 4, 7, 9, 3, 4, 0, 7, 3, 8, 7, 2, 4, 7, 5, 7, 5, 1, 8, 9, 1, 5, 3, 6, 9, 2, 0, 5, 6, 0, 7, 9, 1, 0, 5, 7, 1, 1, 6, 9, 4, 3, 8, 0, 1, 7, 1, 7, 7, 8, 3, 5, 1, 2, 2, 8, 8, 2, 8, 1, 9, 1, 4, 3, 3, 8, 0, 7, 7, 1, 8, 9, 8, 8, 0, 6, 3, 2, 5, 6, 7, 7, 6, 9, 0, 3, 3, 0, 7, 3, 8, 7, 2, 9, 4, 7, 7, 6, 5, 8, 8, 9, 5, 7, 9, 7, 1, 1, 3, 2, 6, 4, 3, 9, 9, 7, 9, 4, 8, 4, 1, 5, 7, 5, 8, 5, 8, 7, 6, 2, 7, 1, 7, 3, 7, 8, 3, 7, 0, 1, 6, 8, 0, 9, 1, 6, 7, 9, 9, 1, 2, 0, 2, 9, 7, 1, 2, 1, 9, 1, 3, 0, 4, 9, 2, 5, 9, 2, 1, 1, 5, 1, 6, 9, 7, 3, 2, 8, 1, 3, 9, 9, 5, 3, 3, 6, 3, 9, 2, 9, 6, 4, 7, 7, 8, 2, 2, 0, 2, 3, 6, 3, 1, 6, 9, 9, 8, 5, 2, 1, 7, 2, 5, 6, 4, 3, 5, 8, 2, 0, 9, 0, 1, 4, 3, 4, 1, 0, 0, 4, 3, 3, 8, 8, 1, 4, 8, 9, 7, 0, 0, 8, 9, 7, 8, 2, 4, 9, 8, 0, 0, 7, 5, 5, 2, 4, 2, 9, 8, 3, 9, 2, 3, 5, 5, 8, 2, 4, 2, 2, 7, 2, 1, 9, 7, 5, 1, 4, 6, 0, 4, 2, 7, 4, 8, 4, 5, 8, 8, 4, 1, 5, 9, 7, 2, 6, 8, 7, 3, 8, 1, 4, 9, 0, 9, 4, 2, 9, 6, 1, 0, 0, 8, 0, 2, 5, 3, 9, 2, 0, 2, 8, 7, 2, 1, 3, 2, 3, 0, 3, 8, 9, 5, 2, 7, 4, 5, 7, 0, 0, 6, 3, 1, 3, 0, 3, 9, 9, 0, 1, 5, 2, 4, 5, 9, 5, 1, 9, 4, 2, 2, 0, 2, 9, 6, 9, 1, 0, 7, 8, 3, 9, 6, 3, 5, 9, 8, 2, 5, 6, 2, 3, 5, 7, 5, 7, 0, 1, 2, 8, 8, 8, 4, 2, 6, 7, 0, 8, 4, 3, 6, 4, 6, 5, 1, 8, 5, 6, 2, 9, 5, 8, 6, 6, 3, 4, 2, 0, 1, 8, 4, 2, 5, 2, 9, 3, 1, 0, 5, 5, 6, 7, 2, 6, 1, 3, 3, 6, 8, 5, 0, 5, 5, 0, 9, 4, 3, 5, 2, 2, 8, 6, 0, 1, 5, 1, 3, 6, 0, 5, 4, 1, 2, 6, 6, 5, 1, 2, 8, 0, 2, 3, 1, 9, 9, 9, 2, 5, 9, 9, 5, 7, 6, 8, 7, 2, 3, 6, 6, 6, 5, 1, 6, 1, 7, 9, 1, 5, 6, 4, 7, 6, 4, 4, 5, 5, 4, 0, 5, 3, 8, 1, 1, 3, 6, 6, 8, 9, 7, 1, 3, 1, 8, 3, 2, 7, 9, 1, 1, 3, 0, 1, 3, 3, 5, 4, 5, 6, 1, 3, 5, 7, 0, 1, 5, 3, 6, 3, 8, 5, 4, 5, 7, 5, 4, 4, 5, 8, 4, 6, 1, 4, 5, 4, 5, 6, 8, 7, 2, 0, 5, 6, 4, 1, 4, 1, 4, 5, 7, 7, 5, 5, 5, 6, 7, 9, 4, 1, 4, 6, 0, 8, 7, 9, 6, 3, 4, 9, 7, 5, 0, 0, 3, 1, 4, 7, 7, 6, 2, 3, 9, 3, 6, 8, 3, 5, 3, 0, 7, 9, 9, 6, 1, 3, 4, 0, 7, 9, 6, 8, 1, 2, 1, 7, 2, 4, 6, 0, 4, 3, 4, 2, 4, 6, 5, 3, 4, 2, 8, 5, 8, 2, 3, 8, 3, 4, 1, 2, 6, 7, 6, 9, 1, 7, 5, 3, 4, 9, 9, 1, 9, 8, 1, 1, 3, 2, 9, 9, 1, 7, 4, 6, 4, 7, 5, 8, 6, 3, 4, 6, 8, 2, 7, 0, 2, 1, 8, 0, 1, 9, 2, 5, 6, 7, 5, 5, 3, 5, 1, 9, 3, 8, 5, 9, 7, 6, 6, 0, 7, 3, 3, 7, 2, 3, 9, 0, 0, 9, 0, 7, 3, 8, 3, 7, 0, 2, 8, 2, 6, 2, 1, 1, 1, 2, 9, 1, 1, 6, 2, 4, 0, 4, 2, 9, 9, 7, 7, 7, 0, 7, 9, 7, 6, 1, 3, 1, 6, 7, 2, 0, 4, 1, 0, 2, 0, 4, 1, 1, 6, 5, 4, 3, 0, 3, 2, 0, 5, 4, 3, 9, 0, 8, 8, 0, 5, 6, 3, 8, 6, 9, 7, 2, 9, 7, 1, 8, 1, 1, 2, 5, 2, 7, 1, 9, 3, 2, 7, 1, 5, 0, 9, 3, 5, 1, 2, 7, 5, 3, 4, 5, 8, 9, 5, 2, 7, 9, 6, 1, 4, 7, 5, 9, 9, 5, 6, 4, 7, 6, 8, 4, 0, 7, 4, 9, 5, 0, 6, 1, 2, 6, 8, 4, 3, 1, 2, 3, 7, 1, 8, 2, 6, 8, 2, 3, 4, 8, 1, 1, 5, 5, 2, 5, 6, 0, 5, 0, 8, 3, 9, 2, 0, 3, 2, 4, 7, 7, 1, 6, 2, 0, 0, 4, 0, 0, 1, 8, 5, 6, 2, 2, 4, 4, 5, 2, 7, 5, 8, 0, 0, 7, 2, 4, 7, 1, 3, 0, 5, 0, 1, 1, 6, 3, 8, 4, 0, 8, 8, 6, 9, 3, 1, 0, 6, 4, 5, 7, 7, 5, 9, 2, 8, 3, 5, 5, 6, 8, 0, 0, 0, 1, 7, 3, 2, 2, 7, 4, 0, 4, 6, 8, 5, 0, 6, 1, 9, 9, 3, 9, 9, 0, 3, 3, 2, 3, 7, 8, 1, 2, 3, 3, 0, 2, 3, 1, 3, 0, 3, 1, 2, 6, 7, 7, 3, 1, 3, 8, 8, 8, 0, 7, 7, 9, 7, 1, 0, 1, 2, 1, 2, 0, 7, 0, 5, 7, 2, 9, 6, 2, 5, 7, 0, 9, 1, 7, 9, 2, 4, 8, 5, 4, 6, 3, 1, 8, 7, 4, 7, 4, 0, 8, 2, 3, 6, 6, 1, 3, 0, 0, 2, 1, 9, 2, 6, 9, 4, 5, 9, 7, 4, 6, 3, 8, 2, 0, 0, 7, 3, 2, 1, 8, 5, 1, 4, 6, 6, 8, 5, 3, 3, 6, 1, 7, 0, 4, 9, 7, 7, 0, 1, 1, 5, 0, 8, 3, 7, 9, 2, 3, 6, 8, 4, 9, 4, 8, 7, 1, 7, 2, 6, 9, 4, 9, 6, 5, 5, 7, 4, 3, 7, 9, 9, 1, 2, 7, 8, 8, 3, 1, 1, 7, 6, 4, 6, 5, 4, 0, 2, 6, 5, 7, 9, 3, 3, 3, 2, 2, 3, 8, 3, 6, 2, 8, 5, 5, 7, 2, 9, 1, 5, 3, 5, 3, 5, 3, 2, 9, 3, 6, 3, 6, 4, 7, 7, 1, 1, 0, 4, 2, 4, 1, 0, 4, 3, 3, 9, 5, 8, 7, 4, 5, 3, 4, 6, 7, 4, 9, 2, 0, 6, 4, 0, 9, 0, 1, 0, 9, 0, 2, 7, 7, 8, 8, 2, 3, 4, 0, 8, 9, 0, 8, 7, 3, 0, 4, 2, 4, 3, 9, 3, 7, 1, 8, 6, 2, 0, 2, 3, 1, 5, 7, 1, 4, 7, 2, 2, 3, 4, 6, 1, 3, 7, 5, 5, 5, 5, 6, 5, 9, 1, 3, 9, 3, 9, 2, 1, 4, 8, 1, 7, 9, 2, 2, 2, 0, 6, 1, 7, 3, 0, 8, 6, 2, 5, 9, 6, 9, 5, 2, 2, 0, 9, 3, 3, 6, 8, 7, 3, 1, 4, 3, 0, 6, 5, 8, 7, 8, 7, 7, 9, 5, 3, 6, 5, 1, 6, 1, 1, 7, 7, 9, 3, 6, 2, 1, 8, 3, 2, 5, 3, 5, 6, 8, 5, 3, 9, 6, 5, 5, 5, 8, 4, 5, 2, 7, 6, 2, 4, 4, 1, 1, 9, 6, 8, 8, 1, 2, 4, 7, 9, 6, 5, 4, 5, 8, 3, 8, 8, 6, 7, 3, 7, 6, 4, 8, 8, 3, 1, 5, 9, 5, 4, 3, 5, 1, 0, 2, 2, 8, 2, 6, 7, 7, 5, 8, 0, 1, 8, 3, 1, 6, 3, 7, 5, 4, 2, 2, 3, 5, 4, 5, 6, 2, 2, 7, 8, 9, 1, 0, 7, 0, 3, 4, 8, 8, 4, 1, 5, 4, 7, 7, 0, 6, 2, 4, 4, 7, 9, 3, 8, 5, 8, 3, 4, 9, 6, 3, 8, 9, 0, 1, 9, 4, 4, 2, 9, 8, 1, 7, 1, 5, 4, 1, 0, 6, 8, 0, 4, 6, 2, 7, 6, 4, 5, 4, 8, 7, 3, 9, 4, 8, 8, 5, 3, 4, 9, 0, 1, 3, 0, 3, 5, 4, 8, 7, 3, 2, 1, 7, 3, 9, 9, 7, 3, 2, 3, 5, 0, 8, 8, 1, 1, 1, 4, 3, 1, 2, 2, 9, 6, 1, 8, 8, 7, 3, 3, 3, 7, 6, 6, 9, 1, 1, 6, 1, 7, 6, 0, 9, 8, 1, 7, 9, 9, 5, 8, 5, 6, 7, 0, 4, 8, 2, 9, 9, 5, 1, 7, 8, 6, 6, 9, 9, 0, 2, 7, 0, 1, 3, 0, 6, 1, 4, 4, 8, 5, 2, 8, 4, 8, 0, 6, 0, 5, 4, 1, 1, 7, 3, 6, 4, 0, 2, 7, 9, 6, 5, 8, 5, 4, 7, 8, 6, 5, 9, 6, 1, 5, 1, 6, 9, 8, 9, 3, 4, 9, 3, 2, 3, 7, 3, 3, 1, 4, 3, 2, 0, 1, 7, 3, 9, 0, 1, 7, 2, 8, 1, 7, 0, 0, 7, 7, 0, 3, 6, 6, 0, 1, 7, 6, 2, 1, 7, 1, 1, 2, 1, 3, 0, 7, 2, 7, 6, 6, 6, 7, 1, 1, 2, 0, 2, 7, 7, 1, 5, 2, 8, 9, 4, 9, 6, 3, 1, 6, 4, 7, 3, 2, 9, 5, 3, 5, 6, 5, 8, 1, 2, 9, 9, 3, 1, 0, 0, 6, 4, 3, 4, 5, 7, 6, 8, 5, 4, 5, 3, 8, 1, 3, 9, 1, 4, 1, 7, 9, 1, 7, 4, 1, 3, 5, 9, 2, 4, 8, 7, 6, 8, 7, 8, 0, 3, 1, 0, 1, 5, 9, 0, 2, 0, 1, 3, 5, 4, 0, 3, 9, 2, 1, 0, 2, 5, 1, 3, 8, 9, 6, 4, 4, 4, 5, 7, 9, 9, 2, 3, 7, 5, 7, 8, 7, 8, 3, 4, 9, 3, 1, 3, 2, 5, 7, 4, 0, 1, 3, 0, 8, 4, 5, 4, 5, 6, 8, 1, 4, 8, 1, 7, 6, 2, 0, 3, 7, 0, 5, 2, 7, 9, 7, 9, 2, 7, 2, 2, 9, 5, 4, 9, 2, 1, 5, 1, 7, 5, 6, 5, 3, 1, 5, 4, 5, 9, 1, 2, 0, 0, 7, 1, 2, 3, 6, 2, 1, 8, 2, 7, 4, 5, 6, 4, 0, 4, 8, 3, 4, 8, 1, 0, 9, 2, 7, 8, 5, 4, 5, 6, 8, 9, 1, 4, 4, 5, 4, 1, 2, 3, 8, 5, 0, 1, 3, 3, 8, 2, 1, 4, 8, 2, 7, 9, 9, 6, 5, 8, 1, 5, 5, 5, 7, 4, 5, 0, 9, 0, 6, 9, 8, 5, 7, 1, 6, 0, 3, 9, 6, 9, 3, 4, 5, 4, 6, 7, 5, 1, 1, 8, 5, 5, 9, 4, 6, 1, 9, 5, 2, 3, 2, 9, 5, 9, 7, 3, 3, 0, 0, 1, 1, 6, 3, 5, 9, 6, 1, 3, 2, 1, 6, 9, 7, 0, 8, 6, 7, 3, 4, 1, 6, 8, 6, 7, 3, 1, 2, 1, 0, 1, 9, 1, 6, 1, 7, 9, 0, 8, 2, 5, 7, 6, 8, 8, 9, 2, 1, 4, 9, 7, 1, 6, 9, 2, 6, 4, 8, 3, 7, 1, 7, 6, 8, 5, 6, 4, 2, 3, 1, 9, 1, 6, 0, 0, 8, 7, 9, 9, 9, 5, 5, 9, 9, 1, 1, 0, 2, 9, 6, 6, 6, 4, 6, 6, 4, 8, 3, 9, 6, 4, 7, 9, 6, 7, 7, 3, 6, 7, 7, 9, 8, 9, 8, 5, 7, 4, 4, 3, 8, 6, 8, 7, 1, 4, 2, 7, 8, 2, 5, 2, 9, 3, 7, 7, 3, 0, 3, 9, 0, 3, 2, 9, 8, 9, 6, 2, 5, 9, 8, 0, 5, 0, 8, 1, 8, 2, 1, 0, 0, 1, 3, 3, 1, 3, 7, 6, 9, 2, 7, 0, 1, 3, 4, 1, 0, 6, 6, 5, 7, 5, 3, 7, 8, 9, 3, 7, 9, 8, 4, 0, 9, 6, 9, 7, 5, 2, 7, 0, 1, 3, 9, 7, 9, 3, 9, 6, 5, 9, 6, 7, 1, 1, 9, 8, 6, 3, 6, 8, 4, 3, 5, 7, 7, 7, 7, 8, 9, 3, 4, 0, 1, 3, 1, 8, 7, 7, 0, 1, 7, 6, 4, 6, 1, 6, 2, 4, 7, 0, 5, 6, 9, 7, 1, 7, 6, 7, 2, 3, 4, 8, 8, 0, 3, 0, 7, 8, 7, 7, 4, 6, 0, 9, 3, 6, 1, 1, 7, 3, 4, 7, 5, 8, 0, 4, 4, 6, 0, 7, 3, 8, 3, 2, 2, 5, 7, 6, 6, 9, 9, 3, 1, 7, 8, 3, 6, 0, 9, 5, 6, 2, 1, 9, 1, 4, 6, 5, 3, 1, 4, 8, 1, 6, 3, 8, 8, 7, 8, 0, 1, 3, 0, 4, 5, 8, 3, 0, 3, 7, 0, 3, 0, 6, 1, 9, 4, 3, 7, 1, 6, 9, 4, 3, 9, 8, 9, 2, 0, 5, 0, 7, 0, 7, 7, 6, 7, 9, 6, 6, 6, 9, 6, 2, 6, 8, 9, 0, 9, 5, 5, 8, 7, 9, 1, 9, 6, 6, 5, 9, 3, 9, 9, 3, 0, 7, 6, 6, 2, 9, 7, 4, 7, 3, 5, 8, 8, 3, 7, 4, 6, 0, 9, 0, 4, 3, 9, 3, 8, 7, 1, 9, 0, 8, 4, 6, 2, 1, 0, 9, 6, 2, 1, 2, 4, 9, 6, 0, 8, 2, 3, 2, 5, 8, 8, 8, 7, 3, 2, 5, 4, 5, 4, 3, 5, 2, 6, 8, 3, 3, 1, 0, 5, 4, 6, 2, 7, 8, 2, 2, 6, 6, 3, 3, 4, 9, 5, 8, 9, 0, 0, 6, 1, 5, 6, 2, 8, 2, 0, 9, 6, 2, 3, 5, 0, 9, 7, 4, 3, 2, 7, 8, 2, 9, 3, 2, 9, 9, 7, 8, 6, 8, 2, 2, 3, 7, 7, 4, 2, 3, 6, 9, 6, 9, 1, 4, 6, 0, 6, 1, 1, 9, 8, 2, 1, 3, 8, 9, 0, 4, 7, 6, 0, 3, 2, 8, 7, 5, 4, 2, 9, 5, 0, 7, 6, 1, 1, 7, 2, 0, 7, 2, 5, 1, 2, 2, 8, 0, 6, 1, 6, 9, 5, 8, 9, 6, 9, 6, 9, 2, 3, 5, 4, 1, 0, 6, 8, 4, 0, 0, 2, 9, 6, 8, 8, 5, 1, 2, 7, 8, 4, 1, 6, 1, 9, 9, 5, 9, 8, 3, 8, 2, 0, 7, 2, 6, 3, 7, 1, 4, 6, 5, 4, 2, 2, 4, 8, 9, 6, 1, 9, 4, 9, 3, 3, 5, 4, 0, 4, 1, 4, 6, 7, 0, 0, 2, 9, 3, 7, 3, 5, 8, 4, 7, 4, 9, 9, 2, 1, 6, 6, 9, 4, 8, 4, 4, 7, 2, 8, 1, 6, 0, 6, 8, 2, 1, 2, 2, 3, 3, 2, 1, 6, 0, 1, 7, 2, 2, 2, 6, 3, 0, 6, 3, 9, 2, 5, 7, 3, 1, 2, 7, 8, 5, 3, 2, 8, 9, 5, 5, 1, 4, 3, 2, 9, 4, 4, 9, 3, 2, 0, 1, 4, 0, 3, 7, 7, 2, 6, 3, 0, 3, 7, 3, 0, 0, 9, 7, 9, 4, 3, 8, 9, 7, 4, 6, 1, 5, 0, 5, 2, 1, 0, 1, 7, 5, 4, 1, 2, 6, 3, 7, 8, 6, 4, 0, 9, 0, 3, 0, 3, 6, 0, 5, 2, 2, 3, 7, 9, 3, 8, 7, 6, 3, 4, 5, 8, 1, 9, 7, 7, 0, 7, 2, 5, 4, 7, 6, 5, 4, 1, 7, 0, 4, 8, 1, 3, 0, 1, 3, 3, 1, 3, 9, 3, 1, 2, 1, 5, 9, 1, 6, 9, 6, 7, 5, 1, 9, 7, 8, 8, 9, 8, 7, 6, 9, 1, 8, 3, 5, 1, 2, 2, 4, 3, 1, 8, 5, 2, 4, 9, 4, 3, 5, 1, 5, 9, 6, 7, 7, 1, 2, 8, 5, 1, 1, 3, 4, 7, 2, 1, 8, 7, 4, 3, 6, 3, 6, 6, 1, 8, 9, 3, 4, 1, 4, 5, 9, 4, 7, 6, 3, 3, 2, 1, 3, 9, 7, 4, 0, 6, 4, 8, 0, 7, 1, 6, 6, 0, 9, 6, 4, 7, 8, 6, 0, 7, 9, 8, 3, 1, 0, 4, 5, 2, 6, 7, 0, 0, 2, 8, 2, 6, 9, 2, 5, 3, 7, 4, 9, 7, 3, 8, 5, 0, 5, 8, 1, 7, 6, 9, 0, 6, 6, 6, 3, 0, 1, 6, 0, 1, 3, 2, 7, 6, 6, 9, 9, 1, 8, 8, 2, 4, 1, 4, 0, 0, 9, 1, 3, 6, 1, 2, 4, 6, 2, 4, 8, 1, 7, 4, 3, 7, 3, 3, 8, 5, 0, 8, 6, 5, 6, 4, 4, 1, 4, 7, 0, 1, 8, 8, 3, 0, 2, 2, 3, 1, 4, 6, 2, 2, 1, 4, 7, 7, 2, 4, 3, 2, 5, 0, 8, 3, 1, 1, 6, 2, 9, 8, 5, 2, 6, 5, 3, 3, 4, 5, 6, 2, 9, 9, 5, 7, 0, 0, 7, 5, 2, 0, 9, 1, 6, 4, 0, 2, 9, 2, 4, 1, 9, 0, 9, 5, 6, 7, 1, 9, 9, 6, 4, 4, 9, 8, 1, 6, 5, 3, 9, 3, 9, 7, 1, 6, 9, 9, 7, 0, 4, 8, 1, 9, 7, 2, 9, 6, 4, 3, 8, 9, 3, 3, 0, 5, 7, 7, 0, 9, 0, 1, 1, 2, 1, 8, 4, 9, 1, 1, 3, 1, 1, 8, 9, 7, 7, 9, 1, 0, 3, 5, 0, 9, 1, 9, 6, 9, 8, 0, 6, 7, 4, 7, 5, 0, 5, 3, 5, 9, 1, 1, 7, 0, 2, 8, 2, 8, 8, 4, 8, 0, 7, 5, 7, 1, 9, 1, 5, 8, 7, 3, 1, 3, 5, 0, 0, 3, 7, 5, 2, 5, 9, 2, 8, 7, 8, 2, 9, 4, 3, 1, 0, 6, 5, 4, 8, 5, 3, 9, 2, 5, 0, 1, 6, 1, 8, 1, 0, 5, 7, 6, 0, 7, 2, 5, 1, 6, 7, 3, 0, 7, 5, 2, 9, 4, 9, 9, 8, 5, 4, 8, 0, 9, 9, 7, 0, 1, 8, 3, 7, 8, 4, 2, 1, 4, 7, 0, 7, 9, 9, 7, 7, 9, 3, 5, 8, 9, 4, 4, 4, 4, 5, 9, 1, 1, 7, 7, 8, 2, 5, 6, 3, 6, 9, 4, 5, 5, 4, 0, 6, 8, 5, 7, 1, 3, 9, 1, 1, 0, 4, 7, 0, 2, 9, 6, 0, 3, 2, 6, 9, 3, 4, 1, 9, 9, 0, 7, 9, 8, 0, 9, 7, 4, 5, 5, 1, 6, 6, 8, 8, 6, 1, 2, 4, 0, 1, 0, 1, 3, 0, 9, 7, 3, 5, 1, 7, 9, 0, 1, 5, 5, 3, 1, 6, 0, 1, 6, 1, 1, 6, 7, 8, 0, 1, 1, 6, 7, 7, 8, 4, 6, 5, 0, 1, 4, 6, 7, 1, 6, 2, 3, 2, 5, 2, 5, 3, 2, 6, 9, 1, 5, 3, 3, 8, 6, 4, 7, 7, 7, 9, 3, 9, 8, 5, 4, 6, 3, 7, 9, 6, 9, 7, 3, 5, 2, 4, 8, 7, 3, 5, 1, 3, 3, 8, 7, 3, 4, 3, 0, 5, 5, 1, 2, 6, 2, 7, 7, 8, 1, 3, 0, 0, 6, 2, 0, 2, 3, 2, 3, 7, 0, 0, 3, 7, 2, 0, 7, 2, 5, 6, 4, 0, 4, 9, 3, 5, 3, 0, 7, 3, 0, 8, 6, 9, 2, 7, 1, 9, 0, 2, 1, 4, 3, 2, 0, 4, 2, 0, 2, 5, 8, 2, 8, 5, 9, 7, 0, 6, 2, 4, 0, 5, 6, 2, 6, 3, 6, 2, 4, 4, 0, 9, 0, 9, 9, 6, 5, 8, 8, 9, 4, 6, 0, 5, 1, 7, 3, 4, 1, 2, 4, 9, 3, 7, 4, 8, 1, 3, 7, 5, 1, 4, 1, 4, 0, 2, 4, 7, 6, 9, 5, 4, 9, 8, 0, 2, 0, 4, 7, 3, 6, 1, 1, 0, 5, 1, 9, 6, 9, 1, 0, 5, 7, 1, 7, 3, 1, 9, 3, 7, 5, 0, 0, 6, 4, 7, 5, 8, 1, 7, 7, 9, 0, 1, 4, 7, 9, 0, 0, 8, 1, 8, 0, 6, 8, 0, 1, 5, 2, 5, 0, 5, 6, 8, 4, 1, 4, 4, 1, 7, 1, 0, 3, 3, 4, 4, 2, 1, 3, 2, 6, 4, 6, 4, 9, 9, 5, 1, 9, 8, 8, 8, 8, 4, 1, 2, 1, 6, 5, 3, 8, 4, 4, 5, 6, 6, 4, 7, 8, 5, 4, 3, 1, 9, 7, 5, 6, 1, 8, 0, 3, 8, 0, 5, 9, 8, 7, 4, 9, 4, 6, 7, 1, 8, 3, 3, 2, 1, 1, 1, 3, 9, 2, 9, 8, 8, 3, 7, 6, 0, 9, 6, 4, 7, 2, 8, 6, 5, 8, 7, 2, 4, 9, 4, 1, 4, 7, 0, 0, 1, 9, 9, 1, 2, 5, 4, 0, 3, 7, 7, 4, 5, 1, 5, 7, 9, 7, 3, 4, 2, 4, 6, 8, 5, 7, 0, 1, 5, 3, 8, 1, 8, 7, 4, 5, 0, 0, 6, 5, 7, 2, 1, 0, 6, 5, 3, 2, 5, 7, 0, 4, 2, 5, 5, 7, 2, 2, 2, 5, 9, 8, 8, 2, 3, 3, 1, 0, 4, 0, 9, 2, 4, 4, 7, 1, 1, 6, 0, 5, 2, 1, 8, 4, 1, 2, 3, 6, 0, 1, 4, 1, 7, 4, 9, 0, 1, 6, 9, 0, 0, 1, 4, 7, 6, 9, 3, 9, 5, 4, 4, 3, 9, 2, 1, 6, 9, 3, 8, 6, 7, 3, 7, 9, 4, 7, 5, 3, 2, 1, 3, 7, 5, 7, 1, 0, 2, 9, 7, 0, 1, 7, 9, 9, 6, 7, 8, 5, 6, 5, 9, 0, 6, 5, 9, 3, 6, 0, 2, 4, 3, 1, 7, 4, 8, 1, 0, 9, 1, 6, 6, 2, 5, 0, 2, 1, 4, 2, 4, 4, 5, 7, 3, 0, 4, 7, 4, 6, 4, 2, 2, 7, 9, 7, 9, 5, 9, 6, 8, 1, 7, 7, 4, 8, 6, 9, 7, 4, 8, 2, 8, 3, 7, 3, 8, 1, 1, 1, 1, 4, 5, 9, 0, 7, 4, 8, 2, 9, 1, 5, 0, 2, 0, 8, 1, 8, 6, 5, 2, 6, 1, 6, 5, 5, 8, 6, 1, 3, 2, 6, 9, 9, 1, 3, 6, 2, 6, 5, 8, 6, 0, 4, 4, 7, 1, 2, 9, 4, 3, 0, 7, 7, 7, 1, 1, 5, 7, 2, 7, 6, 7, 3, 2, 0, 8, 9, 5, 7, 2, 6, 8, 0, 6, 4, 0, 4, 0, 0, 1, 7, 1, 6, 8, 0, 5, 2, 9, 2, 9, 0, 4, 6, 1, 5, 1, 9, 3, 2, 1, 8, 8, 9, 7, 4, 5, 3, 3, 0, 4, 4, 3, 4, 0, 3, 2, 8, 8, 7, 0, 1, 1, 6, 1, 8, 1, 8, 4, 9, 8, 0, 2, 3, 6, 6, 8, 9, 4, 1, 3, 1, 4, 1, 9, 1, 8, 7, 4, 4, 0, 3, 1, 9, 3, 6, 5, 8, 1, 5, 0, 8, 6, 4, 0, 5, 4, 0, 8, 8, 0, 4, 9, 8, 1, 3, 8, 3, 0, 9, 0, 3, 5, 9, 7, 6, 4, 2, 2, 0, 3, 9, 8, 1, 9, 3, 2, 3, 7, 4, 3, 7, 6, 4, 0, 3, 0, 9, 9, 1, 9, 8, 6, 8, 0, 8, 1, 8, 6, 8, 6, 3, 8, 1, 0, 4, 9, 3, 8, 1, 4, 5, 6, 6, 5, 2, 1, 2, 4, 4, 8, 5, 9, 1, 1, 7, 9, 9, 7, 2, 3, 3, 3, 1, 1, 5, 7, 2, 9, 4, 1, 7, 9, 3, 0, 5, 9, 8, 1, 7, 1, 6, 6, 4, 7, 0, 5, 8, 0, 8, 8, 0, 2, 5, 4, 8, 8, 6, 4, 6, 6, 8, 0, 1, 4, 1, 9, 0, 3, 1, 0, 5, 7, 0, 4, 9, 6, 8, 8, 1, 9, 4, 9, 9, 2, 7, 9, 3, 8, 7, 5, 5, 5, 7, 3, 1, 9, 8, 9, 1, 7, 9, 7, 8, 8, 7, 6, 7, 5, 6, 4, 2, 6, 3, 8, 6, 3, 8, 3, 6, 3, 1, 3, 3, 8, 3, 1, 6, 9, 9, 2, 2, 3, 7, 5, 8, 0, 3, 9, 6, 2, 7, 8, 9, 6, 7, 9, 6, 3, 1, 7, 5, 8, 0, 0, 5, 7, 7, 2, 4, 2, 0, 4, 5, 0, 8, 1, 2, 7, 7, 6, 7, 4, 6, 5, 0, 8, 7, 8, 5, 8, 0, 9, 7, 3, 7, 1, 3, 0, 7, 8, 4, 6, 2, 7, 0, 9, 6, 0, 4, 6, 7, 0, 8, 2, 2, 1, 0, 2, 1, 1, 4, 2, 5, 3, 8, 2, 7, 8, 3, 1, 0, 5, 5, 9, 7, 4, 0, 1, 8, 2, 0, 5, 9, 5, 4, 8, 4, 5, 1, 8, 8, 6, 0, 2, 7, 6, 3, 2, 2, 5, 6, 6, 1, 1, 9, 8, 8, 9, 7, 2, 2, 9, 5, 3, 1, 4, 5, 4, 3, 0, 1, 8, 6, 2, 5, 1, 4, 2, 1, 9, 6, 7, 7, 4, 0, 3, 1, 8, 7, 3, 9, 9, 3, 8, 1, 8, 0, 0, 2, 1, 8, 9, 1, 3, 2, 3, 3, 4, 3, 8, 7, 9, 3, 0, 2, 3, 2, 2, 2, 0, 0, 3, 9, 8, 0, 4, 1, 4, 1, 0, 6, 2, 4, 4, 1, 3, 7, 5, 9, 7, 7, 9, 8, 6, 6, 5, 8, 3, 5, 9, 4, 3, 0, 7, 6, 6, 8, 8, 9, 5, 6, 8, 7, 4, 8, 2, 0, 3, 5, 2, 7, 3, 3, 2, 0, 5, 6, 1, 6, 7, 6, 3, 9, 3, 2, 1, 8, 4, 8, 1, 0, 7, 9, 3, 8, 1, 7, 2, 6, 8, 5, 1, 6, 7, 1, 0, 7, 7, 9, 5, 8, 7, 5, 0, 4, 5, 1, 6, 8, 9, 1, 5, 9, 5, 3, 0, 4, 9, 6, 9, 6, 5, 0, 4, 2, 5, 5, 9, 6, 7, 0, 5, 4, 5, 1, 3, 9, 2, 0, 1, 0, 5, 7, 5, 1, 8, 1, 2, 0, 2, 3, 8, 6, 0, 8, 0, 8, 8, 6, 1, 7, 8, 8, 7, 8, 2, 5, 6, 8, 5, 8, 7, 6, 2, 4, 4, 9, 4, 7, 2, 9, 1, 9, 1, 0, 1, 0, 0, 6, 0, 7, 6, 8, 5, 9, 8, 0, 9, 6, 1, 9, 9, 1, 9, 3, 5, 3, 4, 4, 6, 2, 0, 9, 7, 1, 8, 8, 1, 0, 0, 4, 2, 5, 0, 2, 5, 6, 4, 3, 8, 8, 9, 7, 0, 0, 7, 3, 6, 8, 2, 7, 2, 4, 7, 7, 6, 0, 2, 6, 9, 4, 4, 1, 5, 3, 2, 1, 9, 8, 1, 6, 5, 3, 1, 7, 2, 8, 6, 0, 9, 1, 4, 4, 3, 0, 5, 9, 8, 9, 6, 3, 1, 6, 9, 0, 6, 6, 0, 6, 1, 2, 1, 1, 3, 1, 7, 8, 1, 1, 9, 1, 7, 4, 7, 9, 9, 8, 4, 7, 9, 2, 2, 2, 7, 2, 4, 3, 5, 1, 1, 5, 2, 0, 0, 3, 2, 0, 6, 3, 5, 6, 2, 5, 7, 0, 5, 6, 7, 3, 5, 2, 1, 4, 9, 9, 7, 1, 3, 4, 5, 5, 2, 0, 4, 5, 5, 9, 9, 1, 9, 8, 1, 1, 1, 4, 1, 9, 3, 9, 5, 8, 5, 0, 2, 3, 3, 4, 1, 8, 1, 7, 4, 7, 7, 8, 6, 6, 3, 7, 0, 2, 4, 1, 8, 9, 5, 2, 1, 3, 9, 0, 0, 2, 8, 5, 1, 9, 8, 4, 9, 7, 9, 6, 8, 3, 0, 5, 6, 0, 5, 4, 7, 4, 1, 2, 9, 4, 1, 9, 7, 0, 0, 7, 4, 6, 1, 4, 8, 4, 4, 5, 3, 9, 4, 5, 0, 7, 6, 5, 6, 4, 2, 1, 6, 1, 9, 8, 2, 9, 6, 4, 9, 2, 3, 1, 1, 6, 9, 6, 0, 3, 3, 6, 9, 4, 6, 8, 6, 1, 5, 9, 9, 6, 5, 3, 2, 5, 5, 6, 0, 4, 0, 6, 5, 5, 9, 4, 4, 2, 1, 1, 8, 8, 2, 4, 4, 3, 6, 0, 1, 4, 3, 3, 8, 3, 2, 8, 7, 1, 9, 1, 9, 0, 8, 0, 2, 1, 7, 4, 0, 0, 0, 7, 6, 0, 7, 4, 4, 8, 5, 1, 8, 2, 1, 1, 5, 1, 1, 6, 9, 7, 7, 6, 8, 9, 4, 6, 5, 7, 5, 3, 3, 9, 0, 2, 4, 5, 2, 2, 7, 3, 7, 0, 6, 5, 8, 7, 0, 2, 5, 2, 5, 8, 3, 0, 9, 3, 4, 2, 1, 8, 9, 3, 3, 7, 4, 9, 1, 1, 5, 0, 8, 2, 2, 9, 9, 3, 0, 1, 7, 4, 6, 8, 6, 1, 5, 8, 3, 0, 6, 7, 1, 5, 2, 1, 3, 9, 7, 6, 5, 4, 8, 4, 7, 2, 9, 6, 6, 0, 7, 3, 6, 4, 1, 7, 6, 0, 8, 2, 2, 4, 8, 8, 4, 3, 0, 1, 7, 6, 9, 3, 6, 6, 4, 6, 0, 8, 3, 9, 8, 7, 7, 4, 2, 9, 9, 6, 8, 1, 3, 6, 6, 7, 9, 5, 7, 4, 8, 9, 1, 0, 7, 3, 1, 9, 0, 9, 3, 6, 1, 2, 5, 7, 4, 2, 5, 3, 4, 2, 6, 7, 1, 6, 4, 7, 3, 6, 8, 6, 2, 9, 0, 6, 4, 9, 7, 3, 8, 9, 8, 3, 0, 6, 8, 3, 4, 5, 4, 1, 4, 4, 5, 2, 2, 5, 0, 1, 8, 4, 7, 1, 6, 2, 3, 5, 8, 2, 9, 9, 4, 0, 5, 0, 2, 3, 1, 2, 1, 9, 6, 8, 1, 2, 8, 7, 7, 9, 8, 8, 5, 4, 3, 4, 6, 6, 7, 2, 4, 7, 6, 3, 2, 9, 0, 4, 5, 7, 2, 8, 7, 8, 5, 6, 7, 6, 5, 0, 8, 4, 4, 5, 9, 7, 8, 7, 5, 7, 1, 0, 3, 2, 2, 7, 6, 9, 7, 1, 1, 3, 7, 3, 7, 3, 1, 8, 7, 3, 5, 6, 6, 8, 3, 7, 4, 3, 0, 1, 8, 8, 4, 1, 5, 6, 7, 2, 5, 3, 6, 1, 9, 4, 4, 2, 1, 3, 3, 5, 4, 9, 1, 0, 2, 6, 6, 5, 2, 8, 2, 0, 9, 8, 9, 6, 7, 6, 3, 5, 0, 0, 2, 0, 0, 5, 1, 6, 6, 7, 8, 3, 8, 6, 0, 1, 9, 5, 7, 8, 0, 1, 5, 6, 9, 3, 8, 2, 7, 1, 7, 8, 7, 1, 4, 7, 6, 1, 4, 8, 0, 3, 1, 0, 3, 6, 3, 3, 2, 9, 6, 1, 7, 8, 1, 2, 5, 8, 0, 3, 4, 1, 2, 2, 2, 8, 2, 8, 4, 9, 3, 9, 4, 3, 7, 4, 6, 0, 2, 2, 6, 7, 7, 8, 4, 5, 0, 9, 1, 7, 7, 0, 3, 9, 0, 9, 9, 2, 3, 7, 0, 4, 9, 4, 4, 5, 6, 2, 9, 4, 9, 8, 8, 0, 5, 6, 6, 0, 8, 5, 5, 9, 7, 4, 2, 6, 1, 3, 0, 4, 5, 4, 0, 6, 4, 9, 6, 9, 5, 4, 5, 3, 2, 3, 6, 7, 8, 8, 4, 1, 6, 1, 1, 4, 3, 1, 9, 0, 7, 5, 6, 0, 2, 7, 1, 4, 8, 9, 9, 0, 5, 0, 5, 9, 6, 7, 2, 8, 2, 7, 3, 4, 8, 0, 7, 6, 3, 3, 8, 3, 3, 5, 5, 3, 2, 0, 6, 3, 0, 9, 2, 4, 6, 5, 9, 7, 3, 7, 6, 0, 7, 6, 1, 1, 1, 5, 4, 8, 4, 2, 8, 7, 7, 7, 1, 8, 0, 3, 5, 0, 6, 2, 7, 3, 6, 7, 7, 2, 2, 2, 0, 9, 9, 3, 3, 3, 3, 1, 8, 0, 7, 9, 7, 6, 0, 6, 8, 1, 4, 4, 9, 3, 4, 1, 8, 1, 6, 7, 9, 9, 1, 7, 1, 3, 3, 4, 7, 0, 6, 6, 9, 2, 0, 5, 1, 6, 1, 1, 9, 5, 6, 0, 9, 1, 6, 7, 6, 9, 3, 6, 3, 3, 9, 2, 7, 7, 7, 8, 7, 6, 6, 5, 3, 0, 7, 3, 3, 7, 5, 2, 3, 6, 2, 6, 8, 1, 1, 6, 8, 9, 9, 2, 7, 3, 8, 7, 4, 8, 1, 3, 0, 2, 2, 7, 1, 1, 6, 5, 6, 7, 7, 8, 3, 4, 6, 6, 8, 5, 8, 2, 9, 3, 1, 9, 2, 4, 0, 5, 5, 2, 3, 3, 7, 9, 6, 4, 6, 9, 8, 4, 2, 3, 2, 2, 4, 9, 2, 8, 5, 7, 0, 4, 6, 3, 6, 3, 6, 1, 5, 2, 6, 3, 9, 6, 6, 0, 5, 3, 8, 5, 0, 0, 8, 0, 8, 0, 2, 2, 1, 8, 3, 6, 4, 0, 7, 9, 0, 2, 2, 8, 1, 5, 1, 7, 5, 0, 4, 5, 4, 9, 4, 7, 0, 8, 9, 1, 9, 2, 1, 6, 9, 3, 7, 8, 7, 1, 0, 4, 8, 9, 7, 3, 5, 7, 7, 0, 5, 3, 0, 8, 4, 7, 4, 8, 2, 0, 6, 4, 9, 8, 0, 2, 3, 2, 7, 1, 2, 8, 3, 4, 5, 5, 6, 2, 2, 4, 7, 5, 1, 5, 6, 5, 4, 1, 7, 9, 6, 4, 8, 0, 5, 0, 6, 4, 4, 8, 5, 3, 4, 6, 4, 5, 1, 9, 0, 2, 4, 7, 6, 2, 6, 4, 7, 5, 4, 9, 9, 9, 6, 8, 5, 2, 1, 0, 6, 8, 6, 5, 7, 5, 7, 6, 4, 1, 4, 4, 2, 2, 4, 3, 1, 4, 7, 1, 8, 0, 2, 6, 4, 3, 5, 0, 2, 3, 6, 5, 3, 2, 2, 9, 4, 1, 6, 0, 9, 5, 1, 0, 3, 6, 0, 6, 2, 4, 8, 7, 4, 5, 6, 8, 1, 8, 0, 2, 7, 1, 3, 7, 3, 4, 5, 2, 0, 2, 4, 2, 6, 9, 4, 7, 3, 2, 2, 6, 4, 2, 5, 6, 6, 4, 1, 7, 9, 7, 8, 3, 7, 9, 3, 7, 9, 0, 6, 7, 7, 7, 6, 5, 0, 0, 5, 1, 0, 3, 5, 2, 7, 4, 3, 8, 6, 9, 6, 2, 6, 5, 0, 7, 9, 2, 0, 4, 5, 7, 7, 4, 7, 7, 4, 2, 7, 7, 2, 4, 5, 3, 0, 8, 7, 5, 5, 4, 4, 2, 6, 3, 9, 2, 9, 4, 1, 6, 7, 1, 4, 2, 4, 6, 3, 4, 2, 9, 4, 5, 0, 6, 2, 8, 5, 6, 7, 4, 2, 0, 1, 1, 3, 2, 1, 5, 6, 4, 6, 3, 1, 1, 4, 4, 3, 1, 1, 7, 2, 4, 9, 4, 9, 5, 8, 4, 7, 3, 9, 8, 3, 1, 7, 6, 3, 5, 2, 6, 9, 5, 8, 8, 7, 4, 6, 8, 2, 4, 3, 1, 1, 3, 8, 1, 1, 1, 3, 9, 8, 0, 7, 0, 3, 2, 6, 3, 9, 4, 9, 2, 6, 3, 6, 4, 7, 5, 1, 6, 1, 6, 9, 5, 9, 7, 0, 2, 3, 0, 7, 5, 4, 7, 6, 9, 5, 0, 7, 1, 4, 4, 9, 8, 2, 0, 9, 5, 0, 9, 5, 2, 7, 6, 4, 4, 6, 4, 2, 5, 7, 1, 1, 0, 4, 9, 8, 2, 9, 7, 5, 3, 7, 8, 8, 7, 9, 2, 5, 8, 1, 8, 1, 2, 3, 5, 4, 3, 3, 9, 0, 1, 3, 9, 5, 8, 9, 4, 2, 1, 0, 9, 7, 6, 0, 6, 7, 0, 0, 5, 8, 8, 1, 1, 5, 6, 9, 6, 8, 9, 7, 8, 1, 3, 8, 7, 6, 6, 2, 0, 9, 5, 1, 7, 5, 2, 7, 0, 2, 2, 2, 5, 2, 5, 5, 6, 7, 6, 6, 1, 0, 1, 1, 4, 9, 6, 5, 1, 6, 1, 1, 0, 1, 1, 7, 4, 7, 0, 1, 7, 2, 2, 1, 7, 7, 3, 2, 9, 9, 2, 6, 0]\n"
          ]
        },
        {
          "output_type": "error",
          "ename": "ValueError",
          "evalue": "ignored",
          "traceback": [
            "\u001b[0;31m---------------------------------------------------------------------------\u001b[0m",
            "\u001b[0;31mValueError\u001b[0m                                Traceback (most recent call last)",
            "\u001b[0;32m<ipython-input-16-9ffc130534d6>\u001b[0m in \u001b[0;36m<cell line: 39>\u001b[0;34m()\u001b[0m\n\u001b[1;32m     40\u001b[0m   \u001b[0;31m# Classify the test samples\u001b[0m\u001b[0;34m\u001b[0m\u001b[0;34m\u001b[0m\u001b[0m\n\u001b[1;32m     41\u001b[0m   \u001b[0mstart\u001b[0m \u001b[0;34m=\u001b[0m \u001b[0mtime\u001b[0m\u001b[0;34m.\u001b[0m\u001b[0mtime\u001b[0m\u001b[0;34m(\u001b[0m\u001b[0;34m)\u001b[0m\u001b[0;34m\u001b[0m\u001b[0;34m\u001b[0m\u001b[0m\n\u001b[0;32m---> 42\u001b[0;31m   \u001b[0mpredictions\u001b[0m \u001b[0;34m=\u001b[0m \u001b[0mlshknn\u001b[0m\u001b[0;34m(\u001b[0m\u001b[0mx_train\u001b[0m\u001b[0;34m,\u001b[0m \u001b[0my_train\u001b[0m\u001b[0;34m.\u001b[0m\u001b[0mto_numpy\u001b[0m\u001b[0;34m(\u001b[0m\u001b[0;34m)\u001b[0m\u001b[0;34m,\u001b[0m \u001b[0mx_test\u001b[0m\u001b[0;34m)\u001b[0m\u001b[0;34m\u001b[0m\u001b[0;34m\u001b[0m\u001b[0m\n\u001b[0m\u001b[1;32m     43\u001b[0m   \u001b[0mend\u001b[0m \u001b[0;34m=\u001b[0m \u001b[0mtime\u001b[0m\u001b[0;34m.\u001b[0m\u001b[0mtime\u001b[0m\u001b[0;34m(\u001b[0m\u001b[0;34m)\u001b[0m\u001b[0;34m\u001b[0m\u001b[0;34m\u001b[0m\u001b[0m\n\u001b[1;32m     44\u001b[0m \u001b[0;34m\u001b[0m\u001b[0m\n",
            "\u001b[0;32m<ipython-input-16-9ffc130534d6>\u001b[0m in \u001b[0;36mlshknn\u001b[0;34m(train_features, train_labels, test_features)\u001b[0m\n\u001b[1;32m     27\u001b[0m   \u001b[0mprint\u001b[0m\u001b[0;34m(\u001b[0m\u001b[0mlist\u001b[0m\u001b[0;34m(\u001b[0m\u001b[0mtrain_labels\u001b[0m\u001b[0;34m)\u001b[0m\u001b[0;34m)\u001b[0m\u001b[0;34m\u001b[0m\u001b[0;34m\u001b[0m\u001b[0m\n\u001b[1;32m     28\u001b[0m   \u001b[0;31m# Train the classifier\u001b[0m\u001b[0;34m\u001b[0m\u001b[0;34m\u001b[0m\u001b[0m\n\u001b[0;32m---> 29\u001b[0;31m   \u001b[0mclf\u001b[0m\u001b[0;34m.\u001b[0m\u001b[0mfit\u001b[0m\u001b[0;34m(\u001b[0m\u001b[0mlist\u001b[0m\u001b[0;34m(\u001b[0m\u001b[0mtrain_signatures\u001b[0m\u001b[0;34m)\u001b[0m\u001b[0;34m,\u001b[0m \u001b[0mlist\u001b[0m\u001b[0;34m(\u001b[0m\u001b[0mtrain_labels\u001b[0m\u001b[0;34m)\u001b[0m\u001b[0;34m)\u001b[0m\u001b[0;34m\u001b[0m\u001b[0;34m\u001b[0m\u001b[0m\n\u001b[0m\u001b[1;32m     30\u001b[0m \u001b[0;34m\u001b[0m\u001b[0m\n\u001b[1;32m     31\u001b[0m   \u001b[0;31m# Classify the test samples\u001b[0m\u001b[0;34m\u001b[0m\u001b[0;34m\u001b[0m\u001b[0m\n",
            "\u001b[0;32m/usr/local/lib/python3.9/dist-packages/sklearn/neighbors/_classification.py\u001b[0m in \u001b[0;36mfit\u001b[0;34m(self, X, y)\u001b[0m\n\u001b[1;32m    213\u001b[0m         \u001b[0mself\u001b[0m\u001b[0;34m.\u001b[0m\u001b[0m_validate_params\u001b[0m\u001b[0;34m(\u001b[0m\u001b[0;34m)\u001b[0m\u001b[0;34m\u001b[0m\u001b[0;34m\u001b[0m\u001b[0m\n\u001b[1;32m    214\u001b[0m \u001b[0;34m\u001b[0m\u001b[0m\n\u001b[0;32m--> 215\u001b[0;31m         \u001b[0;32mreturn\u001b[0m \u001b[0mself\u001b[0m\u001b[0;34m.\u001b[0m\u001b[0m_fit\u001b[0m\u001b[0;34m(\u001b[0m\u001b[0mX\u001b[0m\u001b[0;34m,\u001b[0m \u001b[0my\u001b[0m\u001b[0;34m)\u001b[0m\u001b[0;34m\u001b[0m\u001b[0;34m\u001b[0m\u001b[0m\n\u001b[0m\u001b[1;32m    216\u001b[0m \u001b[0;34m\u001b[0m\u001b[0m\n\u001b[1;32m    217\u001b[0m     \u001b[0;32mdef\u001b[0m \u001b[0mpredict\u001b[0m\u001b[0;34m(\u001b[0m\u001b[0mself\u001b[0m\u001b[0;34m,\u001b[0m \u001b[0mX\u001b[0m\u001b[0;34m)\u001b[0m\u001b[0;34m:\u001b[0m\u001b[0;34m\u001b[0m\u001b[0;34m\u001b[0m\u001b[0m\n",
            "\u001b[0;32m/usr/local/lib/python3.9/dist-packages/sklearn/neighbors/_base.py\u001b[0m in \u001b[0;36m_fit\u001b[0;34m(self, X, y)\u001b[0m\n\u001b[1;32m    452\u001b[0m         \u001b[0;32mif\u001b[0m \u001b[0mself\u001b[0m\u001b[0;34m.\u001b[0m\u001b[0m_get_tags\u001b[0m\u001b[0;34m(\u001b[0m\u001b[0;34m)\u001b[0m\u001b[0;34m[\u001b[0m\u001b[0;34m\"requires_y\"\u001b[0m\u001b[0;34m]\u001b[0m\u001b[0;34m:\u001b[0m\u001b[0;34m\u001b[0m\u001b[0;34m\u001b[0m\u001b[0m\n\u001b[1;32m    453\u001b[0m             \u001b[0;32mif\u001b[0m \u001b[0;32mnot\u001b[0m \u001b[0misinstance\u001b[0m\u001b[0;34m(\u001b[0m\u001b[0mX\u001b[0m\u001b[0;34m,\u001b[0m \u001b[0;34m(\u001b[0m\u001b[0mKDTree\u001b[0m\u001b[0;34m,\u001b[0m \u001b[0mBallTree\u001b[0m\u001b[0;34m,\u001b[0m \u001b[0mNeighborsBase\u001b[0m\u001b[0;34m)\u001b[0m\u001b[0;34m)\u001b[0m\u001b[0;34m:\u001b[0m\u001b[0;34m\u001b[0m\u001b[0;34m\u001b[0m\u001b[0m\n\u001b[0;32m--> 454\u001b[0;31m                 X, y = self._validate_data(\n\u001b[0m\u001b[1;32m    455\u001b[0m                     \u001b[0mX\u001b[0m\u001b[0;34m,\u001b[0m \u001b[0my\u001b[0m\u001b[0;34m,\u001b[0m \u001b[0maccept_sparse\u001b[0m\u001b[0;34m=\u001b[0m\u001b[0;34m\"csr\"\u001b[0m\u001b[0;34m,\u001b[0m \u001b[0mmulti_output\u001b[0m\u001b[0;34m=\u001b[0m\u001b[0;32mTrue\u001b[0m\u001b[0;34m,\u001b[0m \u001b[0morder\u001b[0m\u001b[0;34m=\u001b[0m\u001b[0;34m\"C\"\u001b[0m\u001b[0;34m\u001b[0m\u001b[0;34m\u001b[0m\u001b[0m\n\u001b[1;32m    456\u001b[0m                 )\n",
            "\u001b[0;32m/usr/local/lib/python3.9/dist-packages/sklearn/base.py\u001b[0m in \u001b[0;36m_validate_data\u001b[0;34m(self, X, y, reset, validate_separately, **check_params)\u001b[0m\n\u001b[1;32m    582\u001b[0m                 \u001b[0my\u001b[0m \u001b[0;34m=\u001b[0m \u001b[0mcheck_array\u001b[0m\u001b[0;34m(\u001b[0m\u001b[0my\u001b[0m\u001b[0;34m,\u001b[0m \u001b[0minput_name\u001b[0m\u001b[0;34m=\u001b[0m\u001b[0;34m\"y\"\u001b[0m\u001b[0;34m,\u001b[0m \u001b[0;34m**\u001b[0m\u001b[0mcheck_y_params\u001b[0m\u001b[0;34m)\u001b[0m\u001b[0;34m\u001b[0m\u001b[0;34m\u001b[0m\u001b[0m\n\u001b[1;32m    583\u001b[0m             \u001b[0;32melse\u001b[0m\u001b[0;34m:\u001b[0m\u001b[0;34m\u001b[0m\u001b[0;34m\u001b[0m\u001b[0m\n\u001b[0;32m--> 584\u001b[0;31m                 \u001b[0mX\u001b[0m\u001b[0;34m,\u001b[0m \u001b[0my\u001b[0m \u001b[0;34m=\u001b[0m \u001b[0mcheck_X_y\u001b[0m\u001b[0;34m(\u001b[0m\u001b[0mX\u001b[0m\u001b[0;34m,\u001b[0m \u001b[0my\u001b[0m\u001b[0;34m,\u001b[0m \u001b[0;34m**\u001b[0m\u001b[0mcheck_params\u001b[0m\u001b[0;34m)\u001b[0m\u001b[0;34m\u001b[0m\u001b[0;34m\u001b[0m\u001b[0m\n\u001b[0m\u001b[1;32m    585\u001b[0m             \u001b[0mout\u001b[0m \u001b[0;34m=\u001b[0m \u001b[0mX\u001b[0m\u001b[0;34m,\u001b[0m \u001b[0my\u001b[0m\u001b[0;34m\u001b[0m\u001b[0;34m\u001b[0m\u001b[0m\n\u001b[1;32m    586\u001b[0m \u001b[0;34m\u001b[0m\u001b[0m\n",
            "\u001b[0;32m/usr/local/lib/python3.9/dist-packages/sklearn/utils/validation.py\u001b[0m in \u001b[0;36mcheck_X_y\u001b[0;34m(X, y, accept_sparse, accept_large_sparse, dtype, order, copy, force_all_finite, ensure_2d, allow_nd, multi_output, ensure_min_samples, ensure_min_features, y_numeric, estimator)\u001b[0m\n\u001b[1;32m   1104\u001b[0m         )\n\u001b[1;32m   1105\u001b[0m \u001b[0;34m\u001b[0m\u001b[0m\n\u001b[0;32m-> 1106\u001b[0;31m     X = check_array(\n\u001b[0m\u001b[1;32m   1107\u001b[0m         \u001b[0mX\u001b[0m\u001b[0;34m,\u001b[0m\u001b[0;34m\u001b[0m\u001b[0;34m\u001b[0m\u001b[0m\n\u001b[1;32m   1108\u001b[0m         \u001b[0maccept_sparse\u001b[0m\u001b[0;34m=\u001b[0m\u001b[0maccept_sparse\u001b[0m\u001b[0;34m,\u001b[0m\u001b[0;34m\u001b[0m\u001b[0;34m\u001b[0m\u001b[0m\n",
            "\u001b[0;32m/usr/local/lib/python3.9/dist-packages/sklearn/utils/validation.py\u001b[0m in \u001b[0;36mcheck_array\u001b[0;34m(array, accept_sparse, accept_large_sparse, dtype, order, copy, force_all_finite, ensure_2d, allow_nd, ensure_min_samples, ensure_min_features, estimator, input_name)\u001b[0m\n\u001b[1;32m    900\u001b[0m             \u001b[0;31m# If input is 1D raise error\u001b[0m\u001b[0;34m\u001b[0m\u001b[0;34m\u001b[0m\u001b[0m\n\u001b[1;32m    901\u001b[0m             \u001b[0;32mif\u001b[0m \u001b[0marray\u001b[0m\u001b[0;34m.\u001b[0m\u001b[0mndim\u001b[0m \u001b[0;34m==\u001b[0m \u001b[0;36m1\u001b[0m\u001b[0;34m:\u001b[0m\u001b[0;34m\u001b[0m\u001b[0;34m\u001b[0m\u001b[0m\n\u001b[0;32m--> 902\u001b[0;31m                 raise ValueError(\n\u001b[0m\u001b[1;32m    903\u001b[0m                     \u001b[0;34m\"Expected 2D array, got 1D array instead:\\narray={}.\\n\"\u001b[0m\u001b[0;34m\u001b[0m\u001b[0;34m\u001b[0m\u001b[0m\n\u001b[1;32m    904\u001b[0m                     \u001b[0;34m\"Reshape your data either using array.reshape(-1, 1) if \"\u001b[0m\u001b[0;34m\u001b[0m\u001b[0;34m\u001b[0m\u001b[0m\n",
            "\u001b[0;31mValueError\u001b[0m: Expected 2D array, got 1D array instead:\narray=[<1x1048576 sparse matrix of type '<class 'numpy.float64'>'\n \twith 1 stored elements in Compressed Sparse Row format>\n <1x1048576 sparse matrix of type '<class 'numpy.float64'>'\n \twith 1 stored elements in Compressed Sparse Row format>\n <1x1048576 sparse matrix of type '<class 'numpy.float64'>'\n \twith 1 stored elements in Compressed Sparse Row format>\n <1x1048576 sparse matrix of type '<class 'numpy.float64'>'\n \twith 1 stored elements in Compressed Sparse Row format>\n <1x1048576 sparse matrix of type '<class 'numpy.float64'>'\n \twith 1 stored elements in Compressed Sparse Row format>\n <1x1048576 sparse matrix of type '<class 'numpy.float64'>'\n \twith 1 stored elements in Compressed Sparse Row format>\n <1x1048576 sparse matrix of type '<class 'numpy.float64'>'\n \twith 1 stored elements in Compressed Sparse Row format>\n <1x1048576 sparse matrix of type '<class 'numpy.float64'>'\n \twith 1 stored elements in Compressed Sparse Row format>\n <1x1048576 sparse matrix of type '<class 'numpy.float64'>'\n \twith 1 stored elements in Compressed Sparse Row format>\n <1x1048576 sparse matrix of type '<class 'numpy.float64'>'\n \twith 1 stored elements in Compressed Sparse Row format>\n <1x1048576 sparse matrix of type '<class 'numpy.float64'>'\n \twith 1 stored elements in Compressed Sparse Row format>\n <1x1048576 sparse matrix of type '<class 'numpy.float64'>'\n \twith 1 stored elements in Compressed Sparse Row format>\n <1x1048576 sparse matrix of type '<class 'numpy.float64'>'\n \twith 1 stored elements in Compressed Sparse Row format>\n <1x1048576 sparse matrix of type '<class 'numpy.float64'>'\n \twith 1 stored elements in Compressed Sparse Row format>\n <1x1048576 sparse matrix of type '<class 'numpy.float64'>'\n \twith 1 stored elements in Compressed Sparse Row format>\n <1x1048576 sparse matrix of type '<class 'numpy.float64'>'\n \twith 1 stored elements in Compressed Sparse Row format>\n <1x1048576 sparse matrix of type '<class 'numpy.float64'>'\n \twith 1 stored elements in Compressed Sparse Row format>\n <1x1048576 sparse matrix of type '<class 'numpy.float64'>'\n \twith 1 stored elements in Compressed Sparse Row format>\n <1x1048576 sparse matrix of type '<class 'numpy.float64'>'\n \twith 1 stored elements in Compressed Sparse Row format>\n <1x1048576 sparse matrix of type '<class 'numpy.float64'>'\n \twith 1 stored elements in Compressed Sparse Row format>\n <1x1048576 sparse matrix of type '<class 'numpy.float64'>'\n \twith 1 stored elements in Compressed Sparse Row format>\n <1x1048576 sparse matrix of type '<class 'numpy.float64'>'\n \twith 1 stored elements in Compressed Sparse Row format>\n <1x1048576 sparse matrix of type '<class 'numpy.float64'>'\n \twith 1 stored elements in Compressed Sparse Row format>\n <1x1048576 sparse matrix of type '<class 'numpy.float64'>'\n \twith 1 stored elements in Compressed Sparse Row format>\n <1x1048576 sparse matrix of type '<class 'numpy.float64'>'\n \twith 1 stored elements in Compressed Sparse Row format>\n <1x1048576 sparse matrix of type '<class 'numpy.float64'>'\n \twith 1 stored elements in Compressed Sparse Row format>\n <1x1048576 sparse matrix of type '<class 'numpy.float64'>'\n \twith 1 stored elements in Compressed Sparse Row format>\n <1x1048576 sparse matrix of type '<class 'numpy.float64'>'\n \twith 1 stored elements in Compressed Sparse Row format>\n <1x1048576 sparse matrix of type '<class 'numpy.float64'>'\n \twith 1 stored elements in Compressed Sparse Row format>\n <1x1048576 sparse matrix of type '<class 'numpy.float64'>'\n \twith 1 stored elements in Compressed Sparse Row format>\n <1x1048576 sparse matrix of type '<class 'numpy.float64'>'\n \twith 1 stored elements in Compressed Sparse Row format>\n <1x1048576 sparse matrix of type '<class 'numpy.float64'>'\n \twith 1 stored elements in Compressed Sparse Row format>\n <1x1048576 sparse matrix of type '<class 'numpy.float64'>'\n \twith 1 stored elements in Compressed Sparse Row format>\n <1x1048576 sparse matrix of type '<class 'numpy.float64'>'\n \twith 1 stored elements in Compressed Sparse Row format>\n <1x1048576 sparse matrix of type '<class 'numpy.float64'>'\n \twith 1 stored elements in Compressed Sparse Row format>\n <1x1048576 sparse matrix of type '<class 'numpy.float64'>'\n \twith 1 stored elements in Compressed Sparse Row format>\n <1x1048576 sparse matrix of type '<class 'numpy.float64'>'\n \twith 1 stored elements in Compressed Sparse Row format>\n <1x1048576 sparse matrix of type '<class 'numpy.float64'>'\n \twith 1 stored elements in Compressed Sparse Row format>\n <1x1048576 sparse matrix of type '<class 'numpy.float64'>'\n \twith 1 stored elements in Compressed Sparse Row format>\n <1x1048576 sparse matrix of type '<class 'numpy.float64'>'\n \twith 1 stored elements in Compressed Sparse Row format>\n <1x1048576 sparse matrix of type '<class 'numpy.float64'>'\n \twith 1 stored elements in Compressed Sparse Row format>\n <1x1048576 sparse matrix of type '<class 'numpy.float64'>'\n \twith 1 stored elements in Compressed Sparse Row format>\n <1x1048576 sparse matrix of type '<class 'numpy.float64'>'\n \twith 1 stored elements in Compressed Sparse Row format>\n <1x1048576 sparse matrix of type '<class 'numpy.float64'>'\n \twith 1 stored elements in Compressed Sparse Row format>\n <1x1048576 sparse matrix of type '<class 'numpy.float64'>'\n \twith 1 stored elements in Compressed Sparse Row format>\n <1x1048576 sparse matrix of type '<class 'numpy.float64'>'\n \twith 1 stored elements in Compressed Sparse Row format>\n <1x1048576 sparse matrix of type '<class 'numpy.float64'>'\n \twith 1 stored elements in Compressed Sparse Row format>\n <1x1048576 sparse matrix of type '<class 'numpy.float64'>'\n \twith 1 stored elements in Compressed Sparse Row format>\n <1x1048576 sparse matrix of type '<class 'numpy.float64'>'\n \twith 1 stored elements in Compressed Sparse Row format>\n <1x1048576 sparse matrix of type '<class 'numpy.float64'>'\n \twith 1 stored elements in Compressed Sparse Row format>\n <1x1048576 sparse matrix of type '<class 'numpy.float64'>'\n \twith 1 stored elements in Compressed Sparse Row format>\n <1x1048576 sparse matrix of type '<class 'numpy.float64'>'\n \twith 1 stored elements in Compressed Sparse Row format>\n <1x1048576 sparse matrix of type '<class 'numpy.float64'>'\n \twith 1 stored elements in Compressed Sparse Row format>\n <1x1048576 sparse matrix of type '<class 'numpy.float64'>'\n \twith 1 stored elements in Compressed Sparse Row format>\n <1x1048576 sparse matrix of type '<class 'numpy.float64'>'\n \twith 1 stored elements in Compressed Sparse Row format>\n <1x1048576 sparse matrix of type '<class 'numpy.float64'>'\n \twith 1 stored elements in Compressed Sparse Row format>\n <1x1048576 sparse matrix of type '<class 'numpy.float64'>'\n \twith 1 stored elements in Compressed Sparse Row format>\n <1x1048576 sparse matrix of type '<class 'numpy.float64'>'\n \twith 1 stored elements in Compressed Sparse Row format>\n <1x1048576 sparse matrix of type '<class 'numpy.float64'>'\n \twith 1 stored elements in Compressed Sparse Row format>\n <1x1048576 sparse matrix of type '<class 'numpy.float64'>'\n \twith 1 stored elements in Compressed Sparse Row format>\n <1x1048576 sparse matrix of type '<class 'numpy.float64'>'\n \twith 1 stored elements in Compressed Sparse Row format>\n <1x1048576 sparse matrix of type '<class 'numpy.float64'>'\n \twith 1 stored elements in Compressed Sparse Row format>\n <1x1048576 sparse matrix of type '<class 'numpy.float64'>'\n \twith 1 stored elements in Compressed Sparse Row format>\n <1x1048576 sparse matrix of type '<class 'numpy.float64'>'\n \twith 1 stored elements in Compressed Sparse Row format>\n <1x1048576 sparse matrix of type '<class 'numpy.float64'>'\n \twith 1 stored elements in Compressed Sparse Row format>\n <1x1048576 sparse matrix of type '<class 'numpy.float64'>'\n \twith 1 stored elements in Compressed Sparse Row format>\n <1x1048576 sparse matrix of type '<class 'numpy.float64'>'\n \twith 1 stored elements in Compressed Sparse Row format>\n <1x1048576 sparse matrix of type '<class 'numpy.float64'>'\n \twith 1 stored elements in Compressed Sparse Row format>\n <1x1048576 sparse matrix of type '<class 'numpy.float64'>'\n \twith 1 stored elements in Compressed Sparse Row format>\n <1x1048576 sparse matrix of type '<class 'numpy.float64'>'\n \twith 1 stored elements in Compressed Sparse Row format>\n <1x1048576 sparse matrix of type '<class 'numpy.float64'>'\n \twith 1 stored elements in Compressed Sparse Row format>\n <1x1048576 sparse matrix of type '<class 'numpy.float64'>'\n \twith 1 stored elements in Compressed Sparse Row format>\n <1x1048576 sparse matrix of type '<class 'numpy.float64'>'\n \twith 1 stored elements in Compressed Sparse Row format>\n <1x1048576 sparse matrix of type '<class 'numpy.float64'>'\n \twith 1 stored elements in Compressed Sparse Row format>\n <1x1048576 sparse matrix of type '<class 'numpy.float64'>'\n \twith 1 stored elements in Compressed Sparse Row format>\n <1x1048576 sparse matrix of type '<class 'numpy.float64'>'\n \twith 1 stored elements in Compressed Sparse Row format>\n <1x1048576 sparse matrix of type '<class 'numpy.float64'>'\n \twith 1 stored elements in Compressed Sparse Row format>\n <1x1048576 sparse matrix of type '<class 'numpy.float64'>'\n \twith 1 stored elements in Compressed Sparse Row format>\n <1x1048576 sparse matrix of type '<class 'numpy.float64'>'\n \twith 1 stored elements in Compressed Sparse Row format>\n <1x1048576 sparse matrix of type '<class 'numpy.float64'>'\n \twith 1 stored elements in Compressed Sparse Row format>\n <1x1048576 sparse matrix of type '<class 'numpy.float64'>'\n \twith 1 stored elements in Compressed Sparse Row format>\n <1x1048576 sparse matrix of type '<class 'numpy.float64'>'\n \twith 1 stored elements in Compressed Sparse Row format>\n <1x1048576 sparse matrix of type '<class 'numpy.float64'>'\n \twith 1 stored elements in Compressed Sparse Row format>\n <1x1048576 sparse matrix of type '<class 'numpy.float64'>'\n \twith 1 stored elements in Compressed Sparse Row format>\n <1x1048576 sparse matrix of type '<class 'numpy.float64'>'\n \twith 1 stored elements in Compressed Sparse Row format>\n <1x1048576 sparse matrix of type '<class 'numpy.float64'>'\n \twith 1 stored elements in Compressed Sparse Row format>\n <1x1048576 sparse matrix of type '<class 'numpy.float64'>'\n \twith 1 stored elements in Compressed Sparse Row format>\n <1x1048576 sparse matrix of type '<class 'numpy.float64'>'\n \twith 1 stored elements in Compressed Sparse Row format>\n <1x1048576 sparse matrix of type '<class 'numpy.float64'>'\n \twith 1 stored elements in Compressed Sparse Row format>\n <1x1048576 sparse matrix of type '<class 'numpy.float64'>'\n \twith 1 stored elements in Compressed Sparse Row format>\n <1x1048576 sparse matrix of type '<class 'numpy.float64'>'\n \twith 1 stored elements in Compressed Sparse Row format>\n <1x1048576 sparse matrix of type '<class 'numpy.float64'>'\n \twith 1 stored elements in Compressed Sparse Row format>\n <1x1048576 sparse matrix of type '<class 'numpy.float64'>'\n \twith 1 stored elements in Compressed Sparse Row format>\n <1x1048576 sparse matrix of type '<class 'numpy.float64'>'\n \twith 1 stored elements in Compressed Sparse Row format>\n <1x1048576 sparse matrix of type '<class 'numpy.float64'>'\n \twith 1 stored elements in Compressed Sparse Row format>\n <1x1048576 sparse matrix of type '<class 'numpy.float64'>'\n \twith 1 stored elements in Compressed Sparse Row format>\n <1x1048576 sparse matrix of type '<class 'numpy.float64'>'\n \twith 1 stored elements in Compressed Sparse Row format>\n <1x1048576 sparse matrix of type '<class 'numpy.float64'>'\n \twith 1 stored elements in Compressed Sparse Row format>\n <1x1048576 sparse matrix of type '<class 'numpy.float64'>'\n \twith 1 stored elements in Compressed Sparse Row format>\n <1x1048576 sparse matrix of type '<class 'numpy.float64'>'\n \twith 1 stored elements in Compressed Sparse Row format>\n <1x1048576 sparse matrix of type '<class 'numpy.float64'>'\n \twith 1 stored elements in Compressed Sparse Row format>\n <1x1048576 sparse matrix of type '<class 'numpy.float64'>'\n \twith 1 stored elements in Compressed Sparse Row format>\n <1x1048576 sparse matrix of type '<class 'numpy.float64'>'\n \twith 1 stored elements in Compressed Sparse Row format>\n <1x1048576 sparse matrix of type '<class 'numpy.float64'>'\n \twith 1 stored elements in Compressed Sparse Row format>\n <1x1048576 sparse matrix of type '<class 'numpy.float64'>'\n \twith 1 stored elements in Compressed Sparse Row format>\n <1x1048576 sparse matrix of type '<class 'numpy.float64'>'\n \twith 1 stored elements in Compressed Sparse Row format>\n <1x1048576 sparse matrix of type '<class 'numpy.float64'>'\n \twith 1 stored elements in Compressed Sparse Row format>\n <1x1048576 sparse matrix of type '<class 'numpy.float64'>'\n \twith 1 stored elements in Compressed Sparse Row format>\n <1x1048576 sparse matrix of type '<class 'numpy.float64'>'\n \twith 1 stored elements in Compressed Sparse Row format>\n <1x1048576 sparse matrix of type '<class 'numpy.float64'>'\n \twith 1 stored elements in Compressed Sparse Row format>\n <1x1048576 sparse matrix of type '<class 'numpy.float64'>'\n \twith 1 stored elements in Compressed Sparse Row format>\n <1x1048576 sparse matrix of type '<class 'numpy.float64'>'\n \twith 1 stored elements in Compressed Sparse Row format>\n <1x1048576 sparse matrix of type '<class 'numpy.float64'>'\n \twith 1 stored elements in Compressed Sparse Row format>\n <1x1048576 sparse matrix of type '<class 'numpy.float64'>'\n \twith 1 stored elements in Compressed Sparse Row format>\n <1x1048576 sparse matrix of type '<class 'numpy.float64'>'\n \twith 1 stored elements in Compressed Sparse Row format>\n <1x1048576 sparse matrix of type '<class 'numpy.float64'>'\n \twith 1 stored elements in Compressed Sparse Row format>\n <1x1048576 sparse matrix of type '<class 'numpy.float64'>'\n \twith 1 stored elements in Compressed Sparse Row format>\n <1x1048576 sparse matrix of type '<class 'numpy.float64'>'\n \twith 1 stored elements in Compressed Sparse Row format>\n <1x1048576 sparse matrix of type '<class 'numpy.float64'>'\n \twith 1 stored elements in Compressed Sparse Row format>\n <1x1048576 sparse matrix of type '<class 'numpy.float64'>'\n \twith 1 stored elements in Compressed Sparse Row format>\n <1x1048576 sparse matrix of type '<class 'numpy.float64'>'\n \twith 1 stored elements in Compressed Sparse Row format>\n <1x1048576 sparse matrix of type '<class 'numpy.float64'>'\n \twith 1 stored elements in Compressed Sparse Row format>\n <1x1048576 sparse matrix of type '<class 'numpy.float64'>'\n \twith 1 stored elements in Compressed Sparse Row format>\n <1x1048576 sparse matrix of type '<class 'numpy.float64'>'\n \twith 1 stored elements in Compressed Sparse Row format>\n <1x1048576 sparse matrix of type '<class 'numpy.float64'>'\n \twith 1 stored elements in Compressed Sparse Row format>\n <1x1048576 sparse matrix of type '<class 'numpy.float64'>'\n \twith 1 stored elements in Compressed Sparse Row format>\n <1x1048576 sparse matrix of type '<class 'numpy.float64'>'\n \twith 1 stored elements in Compressed Sparse Row format>\n <1x1048576 sparse matrix of type '<class 'numpy.float64'>'\n \twith 1 stored elements in Compressed Sparse Row format>\n <1x1048576 sparse matrix of type '<class 'numpy.float64'>'\n \twith 1 stored elements in Compressed Sparse Row format>\n <1x1048576 sparse matrix of type '<class 'numpy.float64'>'\n \twith 1 stored elements in Compressed Sparse Row format>\n <1x1048576 sparse matrix of type '<class 'numpy.float64'>'\n \twith 1 stored elements in Compressed Sparse Row format>\n <1x1048576 sparse matrix of type '<class 'numpy.float64'>'\n \twith 1 stored elements in Compressed Sparse Row format>\n <1x1048576 sparse matrix of type '<class 'numpy.float64'>'\n \twith 1 stored elements in Compressed Sparse Row format>\n <1x1048576 sparse matrix of type '<class 'numpy.float64'>'\n \twith 1 stored elements in Compressed Sparse Row format>\n <1x1048576 sparse matrix of type '<class 'numpy.float64'>'\n \twith 1 stored elements in Compressed Sparse Row format>\n <1x1048576 sparse matrix of type '<class 'numpy.float64'>'\n \twith 1 stored elements in Compressed Sparse Row format>\n <1x1048576 sparse matrix of type '<class 'numpy.float64'>'\n \twith 1 stored elements in Compressed Sparse Row format>\n <1x1048576 sparse matrix of type '<class 'numpy.float64'>'\n \twith 1 stored elements in Compressed Sparse Row format>\n <1x1048576 sparse matrix of type '<class 'numpy.float64'>'\n \twith 1 stored elements in Compressed Sparse Row format>\n <1x1048576 sparse matrix of type '<class 'numpy.float64'>'\n \twith 1 stored elements in Compressed Sparse Row format>\n <1x1048576 sparse matrix of type '<class 'numpy.float64'>'\n \twith 1 stored elements in Compressed Sparse Row format>\n <1x1048576 sparse matrix of type '<class 'numpy.float64'>'\n \twith 1 stored elements in Compressed Sparse Row format>\n <1x1048576 sparse matrix of type '<class 'numpy.float64'>'\n \twith 1 stored elements in Compressed Sparse Row format>\n <1x1048576 sparse matrix of type '<class 'numpy.float64'>'\n \twith 1 stored elements in Compressed Sparse Row format>\n <1x1048576 sparse matrix of type '<class 'numpy.float64'>'\n \twith 1 stored elements in Compressed Sparse Row format>\n <1x1048576 sparse matrix of type '<class 'numpy.float64'>'\n \twith 1 stored elements in Compressed Sparse Row format>\n <1x1048576 sparse matrix of type '<class 'numpy.float64'>'\n \twith 1 stored elements in Compressed Sparse Row format>\n <1x1048576 sparse matrix of type '<class 'numpy.float64'>'\n \twith 1 stored elements in Compressed Sparse Row format>\n <1x1048576 sparse matrix of type '<class 'numpy.float64'>'\n \twith 1 stored elements in Compressed Sparse Row format>\n <1x1048576 sparse matrix of type '<class 'numpy.float64'>'\n \twith 1 stored elements in Compressed Sparse Row format>\n <1x1048576 sparse matrix of type '<class 'numpy.float64'>'\n \twith 1 stored elements in Compressed Sparse Row format>\n <1x1048576 sparse matrix of type '<class 'numpy.float64'>'\n \twith 1 stored elements in Compressed Sparse Row format>\n <1x1048576 sparse matrix of type '<class 'numpy.float64'>'\n \twith 1 stored elements in Compressed Sparse Row format>\n <1x1048576 sparse matrix of type '<class 'numpy.float64'>'\n \twith 1 stored elements in Compressed Sparse Row format>\n <1x1048576 sparse matrix of type '<class 'numpy.float64'>'\n \twith 1 stored elements in Compressed Sparse Row format>\n <1x1048576 sparse matrix of type '<class 'numpy.float64'>'\n \twith 1 stored elements in Compressed Sparse Row format>\n <1x1048576 sparse matrix of type '<class 'numpy.float64'>'\n \twith 1 stored elements in Compressed Sparse Row format>\n <1x1048576 sparse matrix of type '<class 'numpy.float64'>'\n \twith 1 stored elements in Compressed Sparse Row format>\n <1x1048576 sparse matrix of type '<class 'numpy.float64'>'\n \twith 1 stored elements in Compressed Sparse Row format>\n <1x1048576 sparse matrix of type '<class 'numpy.float64'>'\n \twith 1 stored elements in Compressed Sparse Row format>\n <1x1048576 sparse matrix of type '<class 'numpy.float64'>'\n \twith 1 stored elements in Compressed Sparse Row format>\n <1x1048576 sparse matrix of type '<class 'numpy.float64'>'\n \twith 1 stored elements in Compressed Sparse Row format>\n <1x1048576 sparse matrix of type '<class 'numpy.float64'>'\n \twith 1 stored elements in Compressed Sparse Row format>\n <1x1048576 sparse matrix of type '<class 'numpy.float64'>'\n \twith 1 stored elements in Compressed Sparse Row format>\n <1x1048576 sparse matrix of type '<class 'numpy.float64'>'\n \twith 1 stored elements in Compressed Sparse Row format>\n <1x1048576 sparse matrix of type '<class 'numpy.float64'>'\n \twith 1 stored elements in Compressed Sparse Row format>\n <1x1048576 sparse matrix of type '<class 'numpy.float64'>'\n \twith 1 stored elements in Compressed Sparse Row format>\n <1x1048576 sparse matrix of type '<class 'numpy.float64'>'\n \twith 1 stored elements in Compressed Sparse Row format>\n <1x1048576 sparse matrix of type '<class 'numpy.float64'>'\n \twith 1 stored elements in Compressed Sparse Row format>\n <1x1048576 sparse matrix of type '<class 'numpy.float64'>'\n \twith 1 stored elements in Compressed Sparse Row format>\n <1x1048576 sparse matrix of type '<class 'numpy.float64'>'\n \twith 1 stored elements in Compressed Sparse Row format>\n <1x1048576 sparse matrix of type '<class 'numpy.float64'>'\n \twith 1 stored elements in Compressed Sparse Row format>\n <1x1048576 sparse matrix of type '<class 'numpy.float64'>'\n \twith 1 stored elements in Compressed Sparse Row format>\n <1x1048576 sparse matrix of type '<class 'numpy.float64'>'\n \twith 1 stored elements in Compressed Sparse Row format>\n <1x1048576 sparse matrix of type '<class 'numpy.float64'>'\n \twith 1 stored elements in Compressed Sparse Row format>\n <1x1048576 sparse matrix of type '<class 'numpy.float64'>'\n \twith 1 stored elements in Compressed Sparse Row format>\n <1x1048576 sparse matrix of type '<class 'numpy.float64'>'\n \twith 1 stored elements in Compressed Sparse Row format>\n <1x1048576 sparse matrix of type '<class 'numpy.float64'>'\n \twith 1 stored elements in Compressed Sparse Row format>\n <1x1048576 sparse matrix of type '<class 'numpy.float64'>'\n \twith 1 stored elements in Compressed Sparse Row format>\n <1x1048576 sparse matrix of type '<class 'numpy.float64'>'\n \twith 1 stored elements in Compressed Sparse Row format>\n <1x1048576 sparse matrix of type '<class 'numpy.float64'>'\n \twith 1 stored elements in Compressed Sparse Row format>\n <1x1048576 sparse matrix of type '<class 'numpy.float64'>'\n \twith 1 stored elements in Compressed Sparse Row format>\n <1x1048576 sparse matrix of type '<class 'numpy.float64'>'\n \twith 1 stored elements in Compressed Sparse Row format>\n <1x1048576 sparse matrix of type '<class 'numpy.float64'>'\n \twith 1 stored elements in Compressed Sparse Row format>\n <1x1048576 sparse matrix of type '<class 'numpy.float64'>'\n \twith 1 stored elements in Compressed Sparse Row format>\n <1x1048576 sparse matrix of type '<class 'numpy.float64'>'\n \twith 1 stored elements in Compressed Sparse Row format>\n <1x1048576 sparse matrix of type '<class 'numpy.float64'>'\n \twith 1 stored elements in Compressed Sparse Row format>\n <1x1048576 sparse matrix of type '<class 'numpy.float64'>'\n \twith 1 stored elements in Compressed Sparse Row format>\n <1x1048576 sparse matrix of type '<class 'numpy.float64'>'\n \twith 1 stored elements in Compressed Sparse Row format>\n <1x1048576 sparse matrix of type '<class 'numpy.float64'>'\n \twith 1 stored elements in Compressed Sparse Row format>\n <1x1048576 sparse matrix of type '<class 'numpy.float64'>'\n \twith 1 stored elements in Compressed Sparse Row format>\n <1x1048576 sparse matrix of type '<class 'numpy.float64'>'\n \twith 1 stored elements in Compressed Sparse Row format>\n <1x1048576 sparse matrix of type '<class 'numpy.float64'>'\n \twith 1 stored elements in Compressed Sparse Row format>\n <1x1048576 sparse matrix of type '<class 'numpy.float64'>'\n \twith 1 stored elements in Compressed Sparse Row format>\n <1x1048576 sparse matrix of type '<class 'numpy.float64'>'\n \twith 1 stored elements in Compressed Sparse Row format>\n <1x1048576 sparse matrix of type '<class 'numpy.float64'>'\n \twith 1 stored elements in Compressed Sparse Row format>\n <1x1048576 sparse matrix of type '<class 'numpy.float64'>'\n \twith 1 stored elements in Compressed Sparse Row format>\n <1x1048576 sparse matrix of type '<class 'numpy.float64'>'\n \twith 1 stored elements in Compressed Sparse Row format>\n <1x1048576 sparse matrix of type '<class 'numpy.float64'>'\n \twith 1 stored elements in Compressed Sparse Row format>\n <1x1048576 sparse matrix of type '<class 'numpy.float64'>'\n \twith 1 stored elements in Compressed Sparse Row format>\n <1x1048576 sparse matrix of type '<class 'numpy.float64'>'\n \twith 1 stored elements in Compressed Sparse Row format>\n <1x1048576 sparse matrix of type '<class 'numpy.float64'>'\n \twith 1 stored elements in Compressed Sparse Row format>\n <1x1048576 sparse matrix of type '<class 'numpy.float64'>'\n \twith 1 stored elements in Compressed Sparse Row format>\n <1x1048576 sparse matrix of type '<class 'numpy.float64'>'\n \twith 1 stored elements in Compressed Sparse Row format>\n <1x1048576 sparse matrix of type '<class 'numpy.float64'>'\n \twith 1 stored elements in Compressed Sparse Row format>\n <1x1048576 sparse matrix of type '<class 'numpy.float64'>'\n \twith 1 stored elements in Compressed Sparse Row format>\n <1x1048576 sparse matrix of type '<class 'numpy.float64'>'\n \twith 1 stored elements in Compressed Sparse Row format>\n <1x1048576 sparse matrix of type '<class 'numpy.float64'>'\n \twith 1 stored elements in Compressed Sparse Row format>\n <1x1048576 sparse matrix of type '<class 'numpy.float64'>'\n \twith 1 stored elements in Compressed Sparse Row format>\n <1x1048576 sparse matrix of type '<class 'numpy.float64'>'\n \twith 1 stored elements in Compressed Sparse Row format>\n <1x1048576 sparse matrix of type '<class 'numpy.float64'>'\n \twith 1 stored elements in Compressed Sparse Row format>\n <1x1048576 sparse matrix of type '<class 'numpy.float64'>'\n \twith 1 stored elements in Compressed Sparse Row format>\n <1x1048576 sparse matrix of type '<class 'numpy.float64'>'\n \twith 1 stored elements in Compressed Sparse Row format>\n <1x1048576 sparse matrix of type '<class 'numpy.float64'>'\n \twith 1 stored elements in Compressed Sparse Row format>\n <1x1048576 sparse matrix of type '<class 'numpy.float64'>'\n \twith 1 stored elements in Compressed Sparse Row format>\n <1x1048576 sparse matrix of type '<class 'numpy.float64'>'\n \twith 1 stored elements in Compressed Sparse Row format>\n <1x1048576 sparse matrix of type '<class 'numpy.float64'>'\n \twith 1 stored elements in Compressed Sparse Row format>\n <1x1048576 sparse matrix of type '<class 'numpy.float64'>'\n \twith 1 stored elements in Compressed Sparse Row format>\n <1x1048576 sparse matrix of type '<class 'numpy.float64'>'\n \twith 1 stored elements in Compressed Sparse Row format>\n <1x1048576 sparse matrix of type '<class 'numpy.float64'>'\n \twith 1 stored elements in Compressed Sparse Row format>\n <1x1048576 sparse matrix of type '<class 'numpy.float64'>'\n \twith 1 stored elements in Compressed Sparse Row format>\n <1x1048576 sparse matrix of type '<class 'numpy.float64'>'\n \twith 1 stored elements in Compressed Sparse Row format>\n <1x1048576 sparse matrix of type '<class 'numpy.float64'>'\n \twith 1 stored elements in Compressed Sparse Row format>\n <1x1048576 sparse matrix of type '<class 'numpy.float64'>'\n \twith 1 stored elements in Compressed Sparse Row format>\n <1x1048576 sparse matrix of type '<class 'numpy.float64'>'\n \twith 1 stored elements in Compressed Sparse Row format>\n <1x1048576 sparse matrix of type '<class 'numpy.float64'>'\n \twith 1 stored elements in Compressed Sparse Row format>\n <1x1048576 sparse matrix of type '<class 'numpy.float64'>'\n \twith 1 stored elements in Compressed Sparse Row format>\n <1x1048576 sparse matrix of type '<class 'numpy.float64'>'\n \twith 1 stored elements in Compressed Sparse Row format>\n <1x1048576 sparse matrix of type '<class 'numpy.float64'>'\n \twith 1 stored elements in Compressed Sparse Row format>\n <1x1048576 sparse matrix of type '<class 'numpy.float64'>'\n \twith 1 stored elements in Compressed Sparse Row format>\n <1x1048576 sparse matrix of type '<class 'numpy.float64'>'\n \twith 1 stored elements in Compressed Sparse Row format>\n <1x1048576 sparse matrix of type '<class 'numpy.float64'>'\n \twith 1 stored elements in Compressed Sparse Row format>\n <1x1048576 sparse matrix of type '<class 'numpy.float64'>'\n \twith 1 stored elements in Compressed Sparse Row format>\n <1x1048576 sparse matrix of type '<class 'numpy.float64'>'\n \twith 1 stored elements in Compressed Sparse Row format>\n <1x1048576 sparse matrix of type '<class 'numpy.float64'>'\n \twith 1 stored elements in Compressed Sparse Row format>\n <1x1048576 sparse matrix of type '<class 'numpy.float64'>'\n \twith 1 stored elements in Compressed Sparse Row format>\n <1x1048576 sparse matrix of type '<class 'numpy.float64'>'\n \twith 1 stored elements in Compressed Sparse Row format>\n <1x1048576 sparse matrix of type '<class 'numpy.float64'>'\n \twith 1 stored elements in Compressed Sparse Row format>\n <1x1048576 sparse matrix of type '<class 'numpy.float64'>'\n \twith 1 stored elements in Compressed Sparse Row format>\n <1x1048576 sparse matrix of type '<class 'numpy.float64'>'\n \twith 1 stored elements in Compressed Sparse Row format>\n <1x1048576 sparse matrix of type '<class 'numpy.float64'>'\n \twith 1 stored elements in Compressed Sparse Row format>\n <1x1048576 sparse matrix of type '<class 'numpy.float64'>'\n \twith 1 stored elements in Compressed Sparse Row format>\n <1x1048576 sparse matrix of type '<class 'numpy.float64'>'\n \twith 1 stored elements in Compressed Sparse Row format>\n <1x1048576 sparse matrix of type '<class 'numpy.float64'>'\n \twith 1 stored elements in Compressed Sparse Row format>\n <1x1048576 sparse matrix of type '<class 'numpy.float64'>'\n \twith 1 stored elements in Compressed Sparse Row format>\n <1x1048576 sparse matrix of type '<class 'numpy.float64'>'\n \twith 1 stored elements in Compressed Sparse Row format>\n <1x1048576 sparse matrix of type '<class 'numpy.float64'>'\n \twith 1 stored elements in Compressed Sparse Row format>\n <1x1048576 sparse matrix of type '<class 'numpy.float64'>'\n \twith 1 stored elements in Compressed Sparse Row format>\n <1x1048576 sparse matrix of type '<class 'numpy.float64'>'\n \twith 1 stored elements in Compressed Sparse Row format>\n <1x1048576 sparse matrix of type '<class 'numpy.float64'>'\n \twith 1 stored elements in Compressed Sparse Row format>\n <1x1048576 sparse matrix of type '<class 'numpy.float64'>'\n \twith 1 stored elements in Compressed Sparse Row format>\n <1x1048576 sparse matrix of type '<class 'numpy.float64'>'\n \twith 1 stored elements in Compressed Sparse Row format>\n <1x1048576 sparse matrix of type '<class 'numpy.float64'>'\n \twith 1 stored elements in Compressed Sparse Row format>\n <1x1048576 sparse matrix of type '<class 'numpy.float64'>'\n \twith 1 stored elements in Compressed Sparse Row format>\n <1x1048576 sparse matrix of type '<class 'numpy.float64'>'\n \twith 1 stored elements in Compressed Sparse Row format>\n <1x1048576 sparse matrix of type '<class 'numpy.float64'>'\n \twith 1 stored elements in Compressed Sparse Row format>\n <1x1048576 sparse matrix of type '<class 'numpy.float64'>'\n \twith 1 stored elements in Compressed Sparse Row format>\n <1x1048576 sparse matrix of type '<class 'numpy.float64'>'\n \twith 1 stored elements in Compressed Sparse Row format>\n <1x1048576 sparse matrix of type '<class 'numpy.float64'>'\n \twith 1 stored elements in Compressed Sparse Row format>\n <1x1048576 sparse matrix of type '<class 'numpy.float64'>'\n \twith 1 stored elements in Compressed Sparse Row format>\n <1x1048576 sparse matrix of type '<class 'numpy.float64'>'\n \twith 1 stored elements in Compressed Sparse Row format>\n <1x1048576 sparse matrix of type '<class 'numpy.float64'>'\n \twith 1 stored elements in Compressed Sparse Row format>\n <1x1048576 sparse matrix of type '<class 'numpy.float64'>'\n \twith 1 stored elements in Compressed Sparse Row format>\n <1x1048576 sparse matrix of type '<class 'numpy.float64'>'\n \twith 1 stored elements in Compressed Sparse Row format>\n <1x1048576 sparse matrix of type '<class 'numpy.float64'>'\n \twith 1 stored elements in Compressed Sparse Row format>\n <1x1048576 sparse matrix of type '<class 'numpy.float64'>'\n \twith 1 stored elements in Compressed Sparse Row format>\n <1x1048576 sparse matrix of type '<class 'numpy.float64'>'\n \twith 1 stored elements in Compressed Sparse Row format>\n <1x1048576 sparse matrix of type '<class 'numpy.float64'>'\n \twith 1 stored elements in Compressed Sparse Row format>\n <1x1048576 sparse matrix of type '<class 'numpy.float64'>'\n \twith 1 stored elements in Compressed Sparse Row format>\n <1x1048576 sparse matrix of type '<class 'numpy.float64'>'\n \twith 1 stored elements in Compressed Sparse Row format>\n <1x1048576 sparse matrix of type '<class 'numpy.float64'>'\n \twith 1 stored elements in Compressed Sparse Row format>\n <1x1048576 sparse matrix of type '<class 'numpy.float64'>'\n \twith 1 stored elements in Compressed Sparse Row format>\n <1x1048576 sparse matrix of type '<class 'numpy.float64'>'\n \twith 1 stored elements in Compressed Sparse Row format>\n <1x1048576 sparse matrix of type '<class 'numpy.float64'>'\n \twith 1 stored elements in Compressed Sparse Row format>\n <1x1048576 sparse matrix of type '<class 'numpy.float64'>'\n \twith 1 stored elements in Compressed Sparse Row format>\n <1x1048576 sparse matrix of type '<class 'numpy.float64'>'\n \twith 1 stored elements in Compressed Sparse Row format>\n <1x1048576 sparse matrix of type '<class 'numpy.float64'>'\n \twith 1 stored elements in Compressed Sparse Row format>\n <1x1048576 sparse matrix of type '<class 'numpy.float64'>'\n \twith 1 stored elements in Compressed Sparse Row format>\n <1x1048576 sparse matrix of type '<class 'numpy.float64'>'\n \twith 1 stored elements in Compressed Sparse Row format>\n <1x1048576 sparse matrix of type '<class 'numpy.float64'>'\n \twith 1 stored elements in Compressed Sparse Row format>\n <1x1048576 sparse matrix of type '<class 'numpy.float64'>'\n \twith 1 stored elements in Compressed Sparse Row format>\n <1x1048576 sparse matrix of type '<class 'numpy.float64'>'\n \twith 1 stored elements in Compressed Sparse Row format>\n <1x1048576 sparse matrix of type '<class 'numpy.float64'>'\n \twith 1 stored elements in Compressed Sparse Row format>\n <1x1048576 sparse matrix of type '<class 'numpy.float64'>'\n \twith 1 stored elements in Compressed Sparse Row format>\n <1x1048576 sparse matrix of type '<class 'numpy.float64'>'\n \twith 1 stored elements in Compressed Sparse Row format>\n <1x1048576 sparse matrix of type '<class 'numpy.float64'>'\n \twith 1 stored elements in Compressed Sparse Row format>\n <1x1048576 sparse matrix of type '<class 'numpy.float64'>'\n \twith 1 stored elements in Compressed Sparse Row format>\n <1x1048576 sparse matrix of type '<class 'numpy.float64'>'\n \twith 1 stored elements in Compressed Sparse Row format>\n <1x1048576 sparse matrix of type '<class 'numpy.float64'>'\n \twith 1 stored elements in Compressed Sparse Row format>\n <1x1048576 sparse matrix of type '<class 'numpy.float64'>'\n \twith 1 stored elements in Compressed Sparse Row format>\n <1x1048576 sparse matrix of type '<class 'numpy.float64'>'\n \twith 1 stored elements in Compressed Sparse Row format>\n <1x1048576 sparse matrix of type '<class 'numpy.float64'>'\n \twith 1 stored elements in Compressed Sparse Row format>\n <1x1048576 sparse matrix of type '<class 'numpy.float64'>'\n \twith 1 stored elements in Compressed Sparse Row format>\n <1x1048576 sparse matrix of type '<class 'numpy.float64'>'\n \twith 1 stored elements in Compressed Sparse Row format>\n <1x1048576 sparse matrix of type '<class 'numpy.float64'>'\n \twith 1 stored elements in Compressed Sparse Row format>\n <1x1048576 sparse matrix of type '<class 'numpy.float64'>'\n \twith 1 stored elements in Compressed Sparse Row format>\n <1x1048576 sparse matrix of type '<class 'numpy.float64'>'\n \twith 1 stored elements in Compressed Sparse Row format>\n <1x1048576 sparse matrix of type '<class 'numpy.float64'>'\n \twith 1 stored elements in Compressed Sparse Row format>\n <1x1048576 sparse matrix of type '<class 'numpy.float64'>'\n \twith 1 stored elements in Compressed Sparse Row format>\n <1x1048576 sparse matrix of type '<class 'numpy.float64'>'\n \twith 1 stored elements in Compressed Sparse Row format>\n <1x1048576 sparse matrix of type '<class 'numpy.float64'>'\n \twith 1 stored elements in Compressed Sparse Row format>\n <1x1048576 sparse matrix of type '<class 'numpy.float64'>'\n \twith 1 stored elements in Compressed Sparse Row format>\n <1x1048576 sparse matrix of type '<class 'numpy.float64'>'\n \twith 1 stored elements in Compressed Sparse Row format>\n <1x1048576 sparse matrix of type '<class 'numpy.float64'>'\n \twith 1 stored elements in Compressed Sparse Row format>\n <1x1048576 sparse matrix of type '<class 'numpy.float64'>'\n \twith 1 stored elements in Compressed Sparse Row format>\n <1x1048576 sparse matrix of type '<class 'numpy.float64'>'\n \twith 1 stored elements in Compressed Sparse Row format>\n <1x1048576 sparse matrix of type '<class 'numpy.float64'>'\n \twith 1 stored elements in Compressed Sparse Row format>\n <1x1048576 sparse matrix of type '<class 'numpy.float64'>'\n \twith 1 stored elements in Compressed Sparse Row format>\n <1x1048576 sparse matrix of type '<class 'numpy.float64'>'\n \twith 1 stored elements in Compressed Sparse Row format>\n <1x1048576 sparse matrix of type '<class 'numpy.float64'>'\n \twith 1 stored elements in Compressed Sparse Row format>\n <1x1048576 sparse matrix of type '<class 'numpy.float64'>'\n \twith 1 stored elements in Compressed Sparse Row format>\n <1x1048576 sparse matrix of type '<class 'numpy.float64'>'\n \twith 1 stored elements in Compressed Sparse Row format>\n <1x1048576 sparse matrix of type '<class 'numpy.float64'>'\n \twith 1 stored elements in Compressed Sparse Row format>\n <1x1048576 sparse matrix of type '<class 'numpy.float64'>'\n \twith 1 stored elements in Compressed Sparse Row format>\n <1x1048576 sparse matrix of type '<class 'numpy.float64'>'\n \twith 1 stored elements in Compressed Sparse Row format>\n <1x1048576 sparse matrix of type '<class 'numpy.float64'>'\n \twith 1 stored elements in Compressed Sparse Row format>\n <1x1048576 sparse matrix of type '<class 'numpy.float64'>'\n \twith 1 stored elements in Compressed Sparse Row format>\n <1x1048576 sparse matrix of type '<class 'numpy.float64'>'\n \twith 1 stored elements in Compressed Sparse Row format>\n <1x1048576 sparse matrix of type '<class 'numpy.float64'>'\n \twith 1 stored elements in Compressed Sparse Row format>\n <1x1048576 sparse matrix of type '<class 'numpy.float64'>'\n \twith 1 stored elements in Compressed Sparse Row format>\n <1x1048576 sparse matrix of type '<class 'numpy.float64'>'\n \twith 1 stored elements in Compressed Sparse Row format>\n <1x1048576 sparse matrix of type '<class 'numpy.float64'>'\n \twith 1 stored elements in Compressed Sparse Row format>\n <1x1048576 sparse matrix of type '<class 'numpy.float64'>'\n \twith 1 stored elements in Compressed Sparse Row format>\n <1x1048576 sparse matrix of type '<class 'numpy.float64'>'\n \twith 1 stored elements in Compressed Sparse Row format>\n <1x1048576 sparse matrix of type '<class 'numpy.float64'>'\n \twith 1 stored elements in Compressed Sparse Row format>\n <1x1048576 sparse matrix of type '<class 'numpy.float64'>'\n \twith 1 stored elements in Compressed Sparse Row format>\n <1x1048576 sparse matrix of type '<class 'numpy.float64'>'\n \twith 1 stored elements in Compressed Sparse Row format>\n <1x1048576 sparse matrix of type '<class 'numpy.float64'>'\n \twith 1 stored elements in Compressed Sparse Row format>\n <1x1048576 sparse matrix of type '<class 'numpy.float64'>'\n \twith 1 stored elements in Compressed Sparse Row format>\n <1x1048576 sparse matrix of type '<class 'numpy.float64'>'\n \twith 1 stored elements in Compressed Sparse Row format>\n <1x1048576 sparse matrix of type '<class 'numpy.float64'>'\n \twith 1 stored elements in Compressed Sparse Row format>\n <1x1048576 sparse matrix of type '<class 'numpy.float64'>'\n \twith 1 stored elements in Compressed Sparse Row format>\n <1x1048576 sparse matrix of type '<class 'numpy.float64'>'\n \twith 1 stored elements in Compressed Sparse Row format>\n <1x1048576 sparse matrix of type '<class 'numpy.float64'>'\n \twith 1 stored elements in Compressed Sparse Row format>\n <1x1048576 sparse matrix of type '<class 'numpy.float64'>'\n \twith 1 stored elements in Compressed Sparse Row format>\n <1x1048576 sparse matrix of type '<class 'numpy.float64'>'\n \twith 1 stored elements in Compressed Sparse Row format>\n <1x1048576 sparse matrix of type '<class 'numpy.float64'>'\n \twith 1 stored elements in Compressed Sparse Row format>\n <1x1048576 sparse matrix of type '<class 'numpy.float64'>'\n \twith 1 stored elements in Compressed Sparse Row format>\n <1x1048576 sparse matrix of type '<class 'numpy.float64'>'\n \twith 1 stored elements in Compressed Sparse Row format>\n <1x1048576 sparse matrix of type '<class 'numpy.float64'>'\n \twith 1 stored elements in Compressed Sparse Row format>\n <1x1048576 sparse matrix of type '<class 'numpy.float64'>'\n \twith 1 stored elements in Compressed Sparse Row format>\n <1x1048576 sparse matrix of type '<class 'numpy.float64'>'\n \twith 1 stored elements in Compressed Sparse Row format>\n <1x1048576 sparse matrix of type '<class 'numpy.float64'>'\n \twith 1 stored elements in Compressed Sparse Row format>\n <1x1048576 sparse matrix of type '<class 'numpy.float64'>'\n \twith 1 stored elements in Compressed Sparse Row format>\n <1x1048576 sparse matrix of type '<class 'numpy.float64'>'\n \twith 1 stored elements in Compressed Sparse Row format>\n <1x1048576 sparse matrix of type '<class 'numpy.float64'>'\n \twith 1 stored elements in Compressed Sparse Row format>\n <1x1048576 sparse matrix of type '<class 'numpy.float64'>'\n \twith 1 stored elements in Compressed Sparse Row format>\n <1x1048576 sparse matrix of type '<class 'numpy.float64'>'\n \twith 1 stored elements in Compressed Sparse Row format>\n <1x1048576 sparse matrix of type '<class 'numpy.float64'>'\n \twith 1 stored elements in Compressed Sparse Row format>\n <1x1048576 sparse matrix of type '<class 'numpy.float64'>'\n \twith 1 stored elements in Compressed Sparse Row format>\n <1x1048576 sparse matrix of type '<class 'numpy.float64'>'\n \twith 1 stored elements in Compressed Sparse Row format>\n <1x1048576 sparse matrix of type '<class 'numpy.float64'>'\n \twith 1 stored elements in Compressed Sparse Row format>\n <1x1048576 sparse matrix of type '<class 'numpy.float64'>'\n \twith 1 stored elements in Compressed Sparse Row format>\n <1x1048576 sparse matrix of type '<class 'numpy.float64'>'\n \twith 1 stored elements in Compressed Sparse Row format>\n <1x1048576 sparse matrix of type '<class 'numpy.float64'>'\n \twith 1 stored elements in Compressed Sparse Row format>\n <1x1048576 sparse matrix of type '<class 'numpy.float64'>'\n \twith 1 stored elements in Compressed Sparse Row format>\n <1x1048576 sparse matrix of type '<class 'numpy.float64'>'\n \twith 1 stored elements in Compressed Sparse Row format>\n <1x1048576 sparse matrix of type '<class 'numpy.float64'>'\n \twith 1 stored elements in Compressed Sparse Row format>\n <1x1048576 sparse matrix of type '<class 'numpy.float64'>'\n \twith 1 stored elements in Compressed Sparse Row format>\n <1x1048576 sparse matrix of type '<class 'numpy.float64'>'\n \twith 1 stored elements in Compressed Sparse Row format>\n <1x1048576 sparse matrix of type '<class 'numpy.float64'>'\n \twith 1 stored elements in Compressed Sparse Row format>\n <1x1048576 sparse matrix of type '<class 'numpy.float64'>'\n \twith 1 stored elements in Compressed Sparse Row format>\n <1x1048576 sparse matrix of type '<class 'numpy.float64'>'\n \twith 1 stored elements in Compressed Sparse Row format>\n <1x1048576 sparse matrix of type '<class 'numpy.float64'>'\n \twith 1 stored elements in Compressed Sparse Row format>\n <1x1048576 sparse matrix of type '<class 'numpy.float64'>'\n \twith 1 stored elements in Compressed Sparse Row format>\n <1x1048576 sparse matrix of type '<class 'numpy.float64'>'\n \twith 1 stored elements in Compressed Sparse Row format>\n <1x1048576 sparse matrix of type '<class 'numpy.float64'>'\n \twith 1 stored elements in Compressed Sparse Row format>\n <1x1048576 sparse matrix of type '<class 'numpy.float64'>'\n \twith 1 stored elements in Compressed Sparse Row format>\n <1x1048576 sparse matrix of type '<class 'numpy.float64'>'\n \twith 1 stored elements in Compressed Sparse Row format>\n <1x1048576 sparse matrix of type '<class 'numpy.float64'>'\n \twith 1 stored elements in Compressed Sparse Row format>\n <1x1048576 sparse matrix of type '<class 'numpy.float64'>'\n \twith 1 stored elements in Compressed Sparse Row format>\n <1x1048576 sparse matrix of type '<class 'numpy.float64'>'\n \twith 1 stored elements in Compressed Sparse Row format>\n <1x1048576 sparse matrix of type '<class 'numpy.float64'>'\n \twith 1 stored elements in Compressed Sparse Row format>\n <1x1048576 sparse matrix of type '<class 'numpy.float64'>'\n \twith 1 stored elements in Compressed Sparse Row format>\n <1x1048576 sparse matrix of type '<class 'numpy.float64'>'\n \twith 1 stored elements in Compressed Sparse Row format>\n <1x1048576 sparse matrix of type '<class 'numpy.float64'>'\n \twith 1 stored elements in Compressed Sparse Row format>\n <1x1048576 sparse matrix of type '<class 'numpy.float64'>'\n \twith 1 stored elements in Compressed Sparse Row format>\n <1x1048576 sparse matrix of type '<class 'numpy.float64'>'\n \twith 1 stored elements in Compressed Sparse Row format>\n <1x1048576 sparse matrix of type '<class 'numpy.float64'>'\n \twith 1 stored elements in Compressed Sparse Row format>\n <1x1048576 sparse matrix of type '<class 'numpy.float64'>'\n \twith 1 stored elements in Compressed Sparse Row format>\n <1x1048576 sparse matrix of type '<class 'numpy.float64'>'\n \twith 1 stored elements in Compressed Sparse Row format>\n <1x1048576 sparse matrix of type '<class 'numpy.float64'>'\n \twith 1 stored elements in Compressed Sparse Row format>\n <1x1048576 sparse matrix of type '<class 'numpy.float64'>'\n \twith 1 stored elements in Compressed Sparse Row format>\n <1x1048576 sparse matrix of type '<class 'numpy.float64'>'\n \twith 1 stored elements in Compressed Sparse Row format>\n <1x1048576 sparse matrix of type '<class 'numpy.float64'>'\n \twith 1 stored elements in Compressed Sparse Row format>\n <1x1048576 sparse matrix of type '<class 'numpy.float64'>'\n \twith 1 stored elements in Compressed Sparse Row format>\n <1x1048576 sparse matrix of type '<class 'numpy.float64'>'\n \twith 1 stored elements in Compressed Sparse Row format>\n <1x1048576 sparse matrix of type '<class 'numpy.float64'>'\n \twith 1 stored elements in Compressed Sparse Row format>\n <1x1048576 sparse matrix of type '<class 'numpy.float64'>'\n \twith 1 stored elements in Compressed Sparse Row format>\n <1x1048576 sparse matrix of type '<class 'numpy.float64'>'\n \twith 1 stored elements in Compressed Sparse Row format>\n <1x1048576 sparse matrix of type '<class 'numpy.float64'>'\n \twith 1 stored elements in Compressed Sparse Row format>\n <1x1048576 sparse matrix of type '<class 'numpy.float64'>'\n \twith 1 stored elements in Compressed Sparse Row format>\n <1x1048576 sparse matrix of type '<class 'numpy.float64'>'\n \twith 1 stored elements in Compressed Sparse Row format>\n <1x1048576 sparse matrix of type '<class 'numpy.float64'>'\n \twith 1 stored elements in Compressed Sparse Row format>\n <1x1048576 sparse matrix of type '<class 'numpy.float64'>'\n \twith 1 stored elements in Compressed Sparse Row format>\n <1x1048576 sparse matrix of type '<class 'numpy.float64'>'\n \twith 1 stored elements in Compressed Sparse Row format>\n <1x1048576 sparse matrix of type '<class 'numpy.float64'>'\n \twith 1 stored elements in Compressed Sparse Row format>\n <1x1048576 sparse matrix of type '<class 'numpy.float64'>'\n \twith 1 stored elements in Compressed Sparse Row format>\n <1x1048576 sparse matrix of type '<class 'numpy.float64'>'\n \twith 1 stored elements in Compressed Sparse Row format>\n <1x1048576 sparse matrix of type '<class 'numpy.float64'>'\n \twith 1 stored elements in Compressed Sparse Row format>\n <1x1048576 sparse matrix of type '<class 'numpy.float64'>'\n \twith 1 stored elements in Compressed Sparse Row format>\n <1x1048576 sparse matrix of type '<class 'numpy.float64'>'\n \twith 1 stored elements in Compressed Sparse Row format>\n <1x1048576 sparse matrix of type '<class 'numpy.float64'>'\n \twith 1 stored elements in Compressed Sparse Row format>\n <1x1048576 sparse matrix of type '<class 'numpy.float64'>'\n \twith 1 stored elements in Compressed Sparse Row format>\n <1x1048576 sparse matrix of type '<class 'numpy.float64'>'\n \twith 1 stored elements in Compressed Sparse Row format>\n <1x1048576 sparse matrix of type '<class 'numpy.float64'>'\n \twith 1 stored elements in Compressed Sparse Row format>\n <1x1048576 sparse matrix of type '<class 'numpy.float64'>'\n \twith 1 stored elements in Compressed Sparse Row format>\n <1x1048576 sparse matrix of type '<class 'numpy.float64'>'\n \twith 1 stored elements in Compressed Sparse Row format>\n <1x1048576 sparse matrix of type '<class 'numpy.float64'>'\n \twith 1 stored elements in Compressed Sparse Row format>\n <1x1048576 sparse matrix of type '<class 'numpy.float64'>'\n \twith 1 stored elements in Compressed Sparse Row format>\n <1x1048576 sparse matrix of type '<class 'numpy.float64'>'\n \twith 1 stored elements in Compressed Sparse Row format>\n <1x1048576 sparse matrix of type '<class 'numpy.float64'>'\n \twith 1 stored elements in Compressed Sparse Row format>\n <1x1048576 sparse matrix of type '<class 'numpy.float64'>'\n \twith 1 stored elements in Compressed Sparse Row format>\n <1x1048576 sparse matrix of type '<class 'numpy.float64'>'\n \twith 1 stored elements in Compressed Sparse Row format>\n <1x1048576 sparse matrix of type '<class 'numpy.float64'>'\n \twith 1 stored elements in Compressed Sparse Row format>\n <1x1048576 sparse matrix of type '<class 'numpy.float64'>'\n \twith 1 stored elements in Compressed Sparse Row format>\n <1x1048576 sparse matrix of type '<class 'numpy.float64'>'\n \twith 1 stored elements in Compressed Sparse Row format>\n <1x1048576 sparse matrix of type '<class 'numpy.float64'>'\n \twith 1 stored elements in Compressed Sparse Row format>\n <1x1048576 sparse matrix of type '<class 'numpy.float64'>'\n \twith 1 stored elements in Compressed Sparse Row format>\n <1x1048576 sparse matrix of type '<class 'numpy.float64'>'\n \twith 1 stored elements in Compressed Sparse Row format>\n <1x1048576 sparse matrix of type '<class 'numpy.float64'>'\n \twith 1 stored elements in Compressed Sparse Row format>\n <1x1048576 sparse matrix of type '<class 'numpy.float64'>'\n \twith 1 stored elements in Compressed Sparse Row format>\n <1x1048576 sparse matrix of type '<class 'numpy.float64'>'\n \twith 1 stored elements in Compressed Sparse Row format>\n <1x1048576 sparse matrix of type '<class 'numpy.float64'>'\n \twith 1 stored elements in Compressed Sparse Row format>\n <1x1048576 sparse matrix of type '<class 'numpy.float64'>'\n \twith 1 stored elements in Compressed Sparse Row format>\n <1x1048576 sparse matrix of type '<class 'numpy.float64'>'\n \twith 1 stored elements in Compressed Sparse Row format>\n <1x1048576 sparse matrix of type '<class 'numpy.float64'>'\n \twith 1 stored elements in Compressed Sparse Row format>\n <1x1048576 sparse matrix of type '<class 'numpy.float64'>'\n \twith 1 stored elements in Compressed Sparse Row format>\n <1x1048576 sparse matrix of type '<class 'numpy.float64'>'\n \twith 1 stored elements in Compressed Sparse Row format>\n <1x1048576 sparse matrix of type '<class 'numpy.float64'>'\n \twith 1 stored elements in Compressed Sparse Row format>\n <1x1048576 sparse matrix of type '<class 'numpy.float64'>'\n \twith 1 stored elements in Compressed Sparse Row format>\n <1x1048576 sparse matrix of type '<class 'numpy.float64'>'\n \twith 1 stored elements in Compressed Sparse Row format>\n <1x1048576 sparse matrix of type '<class 'numpy.float64'>'\n \twith 1 stored elements in Compressed Sparse Row format>\n <1x1048576 sparse matrix of type '<class 'numpy.float64'>'\n \twith 1 stored elements in Compressed Sparse Row format>\n <1x1048576 sparse matrix of type '<class 'numpy.float64'>'\n \twith 1 stored elements in Compressed Sparse Row format>\n <1x1048576 sparse matrix of type '<class 'numpy.float64'>'\n \twith 1 stored elements in Compressed Sparse Row format>\n <1x1048576 sparse matrix of type '<class 'numpy.float64'>'\n \twith 1 stored elements in Compressed Sparse Row format>\n <1x1048576 sparse matrix of type '<class 'numpy.float64'>'\n \twith 1 stored elements in Compressed Sparse Row format>\n <1x1048576 sparse matrix of type '<class 'numpy.float64'>'\n \twith 1 stored elements in Compressed Sparse Row format>\n <1x1048576 sparse matrix of type '<class 'numpy.float64'>'\n \twith 1 stored elements in Compressed Sparse Row format>\n <1x1048576 sparse matrix of type '<class 'numpy.float64'>'\n \twith 1 stored elements in Compressed Sparse Row format>\n <1x1048576 sparse matrix of type '<class 'numpy.float64'>'\n \twith 1 stored elements in Compressed Sparse Row format>\n <1x1048576 sparse matrix of type '<class 'numpy.float64'>'\n \twith 1 stored elements in Compressed Sparse Row format>\n <1x1048576 sparse matrix of type '<class 'numpy.float64'>'\n \twith 1 stored elements in Compressed Sparse Row format>\n <1x1048576 sparse matrix of type '<class 'numpy.float64'>'\n \twith 1 stored elements in Compressed Sparse Row format>\n <1x1048576 sparse matrix of type '<class 'numpy.float64'>'\n \twith 1 stored elements in Compressed Sparse Row format>\n <1x1048576 sparse matrix of type '<class 'numpy.float64'>'\n \twith 1 stored elements in Compressed Sparse Row format>\n <1x1048576 sparse matrix of type '<class 'numpy.float64'>'\n \twith 1 stored elements in Compressed Sparse Row format>\n <1x1048576 sparse matrix of type '<class 'numpy.float64'>'\n \twith 1 stored elements in Compressed Sparse Row format>\n <1x1048576 sparse matrix of type '<class 'numpy.float64'>'\n \twith 1 stored elements in Compressed Sparse Row format>\n <1x1048576 sparse matrix of type '<class 'numpy.float64'>'\n \twith 1 stored elements in Compressed Sparse Row format>\n <1x1048576 sparse matrix of type '<class 'numpy.float64'>'\n \twith 1 stored elements in Compressed Sparse Row format>\n <1x1048576 sparse matrix of type '<class 'numpy.float64'>'\n \twith 1 stored elements in Compressed Sparse Row format>\n <1x1048576 sparse matrix of type '<class 'numpy.float64'>'\n \twith 1 stored elements in Compressed Sparse Row format>\n <1x1048576 sparse matrix of type '<class 'numpy.float64'>'\n \twith 1 stored elements in Compressed Sparse Row format>\n <1x1048576 sparse matrix of type '<class 'numpy.float64'>'\n \twith 1 stored elements in Compressed Sparse Row format>\n <1x1048576 sparse matrix of type '<class 'numpy.float64'>'\n \twith 1 stored elements in Compressed Sparse Row format>\n <1x1048576 sparse matrix of type '<class 'numpy.float64'>'\n \twith 1 stored elements in Compressed Sparse Row format>\n <1x1048576 sparse matrix of type '<class 'numpy.float64'>'\n \twith 1 stored elements in Compressed Sparse Row format>\n <1x1048576 sparse matrix of type '<class 'numpy.float64'>'\n \twith 1 stored elements in Compressed Sparse Row format>\n <1x1048576 sparse matrix of type '<class 'numpy.float64'>'\n \twith 1 stored elements in Compressed Sparse Row format>\n <1x1048576 sparse matrix of type '<class 'numpy.float64'>'\n \twith 1 stored elements in Compressed Sparse Row format>\n <1x1048576 sparse matrix of type '<class 'numpy.float64'>'\n \twith 1 stored elements in Compressed Sparse Row format>\n <1x1048576 sparse matrix of type '<class 'numpy.float64'>'\n \twith 1 stored elements in Compressed Sparse Row format>\n <1x1048576 sparse matrix of type '<class 'numpy.float64'>'\n \twith 1 stored elements in Compressed Sparse Row format>\n <1x1048576 sparse matrix of type '<class 'numpy.float64'>'\n \twith 1 stored elements in Compressed Sparse Row format>\n <1x1048576 sparse matrix of type '<class 'numpy.float64'>'\n \twith 1 stored elements in Compressed Sparse Row format>\n <1x1048576 sparse matrix of type '<class 'numpy.float64'>'\n \twith 1 stored elements in Compressed Sparse Row format>\n <1x1048576 sparse matrix of type '<class 'numpy.float64'>'\n \twith 1 stored elements in Compressed Sparse Row format>\n <1x1048576 sparse matrix of type '<class 'numpy.float64'>'\n \twith 1 stored elements in Compressed Sparse Row format>\n <1x1048576 sparse matrix of type '<class 'numpy.float64'>'\n \twith 1 stored elements in Compressed Sparse Row format>\n <1x1048576 sparse matrix of type '<class 'numpy.float64'>'\n \twith 1 stored elements in Compressed Sparse Row format>\n <1x1048576 sparse matrix of type '<class 'numpy.float64'>'\n \twith 1 stored elements in Compressed Sparse Row format>\n <1x1048576 sparse matrix of type '<class 'numpy.float64'>'\n \twith 1 stored elements in Compressed Sparse Row format>\n <1x1048576 sparse matrix of type '<class 'numpy.float64'>'\n \twith 1 stored elements in Compressed Sparse Row format>\n <1x1048576 sparse matrix of type '<class 'numpy.float64'>'\n \twith 1 stored elements in Compressed Sparse Row format>\n <1x1048576 sparse matrix of type '<class 'numpy.float64'>'\n \twith 1 stored elements in Compressed Sparse Row format>\n <1x1048576 sparse matrix of type '<class 'numpy.float64'>'\n \twith 1 stored elements in Compressed Sparse Row format>\n <1x1048576 sparse matrix of type '<class 'numpy.float64'>'\n \twith 1 stored elements in Compressed Sparse Row format>\n <1x1048576 sparse matrix of type '<class 'numpy.float64'>'\n \twith 1 stored elements in Compressed Sparse Row format>\n <1x1048576 sparse matrix of type '<class 'numpy.float64'>'\n \twith 1 stored elements in Compressed Sparse Row format>\n <1x1048576 sparse matrix of type '<class 'numpy.float64'>'\n \twith 1 stored elements in Compressed Sparse Row format>\n <1x1048576 sparse matrix of type '<class 'numpy.float64'>'\n \twith 1 stored elements in Compressed Sparse Row format>\n <1x1048576 sparse matrix of type '<class 'numpy.float64'>'\n \twith 1 stored elements in Compressed Sparse Row format>\n <1x1048576 sparse matrix of type '<class 'numpy.float64'>'\n \twith 1 stored elements in Compressed Sparse Row format>\n <1x1048576 sparse matrix of type '<class 'numpy.float64'>'\n \twith 1 stored elements in Compressed Sparse Row format>\n <1x1048576 sparse matrix of type '<class 'numpy.float64'>'\n \twith 1 stored elements in Compressed Sparse Row format>\n <1x1048576 sparse matrix of type '<class 'numpy.float64'>'\n \twith 1 stored elements in Compressed Sparse Row format>\n <1x1048576 sparse matrix of type '<class 'numpy.float64'>'\n \twith 1 stored elements in Compressed Sparse Row format>\n <1x1048576 sparse matrix of type '<class 'numpy.float64'>'\n \twith 1 stored elements in Compressed Sparse Row format>\n <1x1048576 sparse matrix of type '<class 'numpy.float64'>'\n \twith 1 stored elements in Compressed Sparse Row format>\n <1x1048576 sparse matrix of type '<class 'numpy.float64'>'\n \twith 1 stored elements in Compressed Sparse Row format>\n <1x1048576 sparse matrix of type '<class 'numpy.float64'>'\n \twith 1 stored elements in Compressed Sparse Row format>\n <1x1048576 sparse matrix of type '<class 'numpy.float64'>'\n \twith 1 stored elements in Compressed Sparse Row format>\n <1x1048576 sparse matrix of type '<class 'numpy.float64'>'\n \twith 1 stored elements in Compressed Sparse Row format>\n <1x1048576 sparse matrix of type '<class 'numpy.float64'>'\n \twith 1 stored elements in Compressed Sparse Row format>\n <1x1048576 sparse matrix of type '<class 'numpy.float64'>'\n \twith 1 stored elements in Compressed Sparse Row format>\n <1x1048576 sparse matrix of type '<class 'numpy.float64'>'\n \twith 1 stored elements in Compressed Sparse Row format>\n <1x1048576 sparse matrix of type '<class 'numpy.float64'>'\n \twith 1 stored elements in Compressed Sparse Row format>\n <1x1048576 sparse matrix of type '<class 'numpy.float64'>'\n \twith 1 stored elements in Compressed Sparse Row format>\n <1x1048576 sparse matrix of type '<class 'numpy.float64'>'\n \twith 1 stored elements in Compressed Sparse Row format>\n <1x1048576 sparse matrix of type '<class 'numpy.float64'>'\n \twith 1 stored elements in Compressed Sparse Row format>\n <1x1048576 sparse matrix of type '<class 'numpy.float64'>'\n \twith 1 stored elements in Compressed Sparse Row format>\n <1x1048576 sparse matrix of type '<class 'numpy.float64'>'\n \twith 1 stored elements in Compressed Sparse Row format>\n <1x1048576 sparse matrix of type '<class 'numpy.float64'>'\n \twith 1 stored elements in Compressed Sparse Row format>\n <1x1048576 sparse matrix of type '<class 'numpy.float64'>'\n \twith 1 stored elements in Compressed Sparse Row format>\n <1x1048576 sparse matrix of type '<class 'numpy.float64'>'\n \twith 1 stored elements in Compressed Sparse Row format>\n <1x1048576 sparse matrix of type '<class 'numpy.float64'>'\n \twith 1 stored elements in Compressed Sparse Row format>\n <1x1048576 sparse matrix of type '<class 'numpy.float64'>'\n \twith 1 stored elements in Compressed Sparse Row format>\n <1x1048576 sparse matrix of type '<class 'numpy.float64'>'\n \twith 1 stored elements in Compressed Sparse Row format>\n <1x1048576 sparse matrix of type '<class 'numpy.float64'>'\n \twith 1 stored elements in Compressed Sparse Row format>\n <1x1048576 sparse matrix of type '<class 'numpy.float64'>'\n \twith 1 stored elements in Compressed Sparse Row format>\n <1x1048576 sparse matrix of type '<class 'numpy.float64'>'\n \twith 1 stored elements in Compressed Sparse Row format>\n <1x1048576 sparse matrix of type '<class 'numpy.float64'>'\n \twith 1 stored elements in Compressed Sparse Row format>\n <1x1048576 sparse matrix of type '<class 'numpy.float64'>'\n \twith 1 stored elements in Compressed Sparse Row format>\n <1x1048576 sparse matrix of type '<class 'numpy.float64'>'\n \twith 1 stored elements in Compressed Sparse Row format>\n <1x1048576 sparse matrix of type '<class 'numpy.float64'>'\n \twith 1 stored elements in Compressed Sparse Row format>\n <1x1048576 sparse matrix of type '<class 'numpy.float64'>'\n \twith 1 stored elements in Compressed Sparse Row format>\n <1x1048576 sparse matrix of type '<class 'numpy.float64'>'\n \twith 1 stored elements in Compressed Sparse Row format>\n <1x1048576 sparse matrix of type '<class 'numpy.float64'>'\n \twith 1 stored elements in Compressed Sparse Row format>\n <1x1048576 sparse matrix of type '<class 'numpy.float64'>'\n \twith 1 stored elements in Compressed Sparse Row format>\n <1x1048576 sparse matrix of type '<class 'numpy.float64'>'\n \twith 1 stored elements in Compressed Sparse Row format>\n <1x1048576 sparse matrix of type '<class 'numpy.float64'>'\n \twith 1 stored elements in Compressed Sparse Row format>\n <1x1048576 sparse matrix of type '<class 'numpy.float64'>'\n \twith 1 stored elements in Compressed Sparse Row format>\n <1x1048576 sparse matrix of type '<class 'numpy.float64'>'\n \twith 1 stored elements in Compressed Sparse Row format>\n <1x1048576 sparse matrix of type '<class 'numpy.float64'>'\n \twith 1 stored elements in Compressed Sparse Row format>\n <1x1048576 sparse matrix of type '<class 'numpy.float64'>'\n \twith 1 stored elements in Compressed Sparse Row format>\n <1x1048576 sparse matrix of type '<class 'numpy.float64'>'\n \twith 1 stored elements in Compressed Sparse Row format>\n <1x1048576 sparse matrix of type '<class 'numpy.float64'>'\n \twith 1 stored elements in Compressed Sparse Row format>\n <1x1048576 sparse matrix of type '<class 'numpy.float64'>'\n \twith 1 stored elements in Compressed Sparse Row format>\n <1x1048576 sparse matrix of type '<class 'numpy.float64'>'\n \twith 1 stored elements in Compressed Sparse Row format>\n <1x1048576 sparse matrix of type '<class 'numpy.float64'>'\n \twith 1 stored elements in Compressed Sparse Row format>\n <1x1048576 sparse matrix of type '<class 'numpy.float64'>'\n \twith 1 stored elements in Compressed Sparse Row format>\n <1x1048576 sparse matrix of type '<class 'numpy.float64'>'\n \twith 1 stored elements in Compressed Sparse Row format>\n <1x1048576 sparse matrix of type '<class 'numpy.float64'>'\n \twith 1 stored elements in Compressed Sparse Row format>\n <1x1048576 sparse matrix of type '<class 'numpy.float64'>'\n \twith 1 stored elements in Compressed Sparse Row format>\n <1x1048576 sparse matrix of type '<class 'numpy.float64'>'\n \twith 1 stored elements in Compressed Sparse Row format>\n <1x1048576 sparse matrix of type '<class 'numpy.float64'>'\n \twith 1 stored elements in Compressed Sparse Row format>\n <1x1048576 sparse matrix of type '<class 'numpy.float64'>'\n \twith 1 stored elements in Compressed Sparse Row format>\n <1x1048576 sparse matrix of type '<class 'numpy.float64'>'\n \twith 1 stored elements in Compressed Sparse Row format>\n <1x1048576 sparse matrix of type '<class 'numpy.float64'>'\n \twith 1 stored elements in Compressed Sparse Row format>\n <1x1048576 sparse matrix of type '<class 'numpy.float64'>'\n \twith 1 stored elements in Compressed Sparse Row format>\n <1x1048576 sparse matrix of type '<class 'numpy.float64'>'\n \twith 1 stored elements in Compressed Sparse Row format>\n <1x1048576 sparse matrix of type '<class 'numpy.float64'>'\n \twith 1 stored elements in Compressed Sparse Row format>\n <1x1048576 sparse matrix of type '<class 'numpy.float64'>'\n \twith 1 stored elements in Compressed Sparse Row format>\n <1x1048576 sparse matrix of type '<class 'numpy.float64'>'\n \twith 1 stored elements in Compressed Sparse Row format>\n <1x1048576 sparse matrix of type '<class 'numpy.float64'>'\n \twith 1 stored elements in Compressed Sparse Row format>\n <1x1048576 sparse matrix of type '<class 'numpy.float64'>'\n \twith 1 stored elements in Compressed Sparse Row format>\n <1x1048576 sparse matrix of type '<class 'numpy.float64'>'\n \twith 1 stored elements in Compressed Sparse Row format>\n <1x1048576 sparse matrix of type '<class 'numpy.float64'>'\n \twith 1 stored elements in Compressed Sparse Row format>\n <1x1048576 sparse matrix of type '<class 'numpy.float64'>'\n \twith 1 stored elements in Compressed Sparse Row format>\n <1x1048576 sparse matrix of type '<class 'numpy.float64'>'\n \twith 1 stored elements in Compressed Sparse Row format>\n <1x1048576 sparse matrix of type '<class 'numpy.float64'>'\n \twith 1 stored elements in Compressed Sparse Row format>\n <1x1048576 sparse matrix of type '<class 'numpy.float64'>'\n \twith 1 stored elements in Compressed Sparse Row format>\n <1x1048576 sparse matrix of type '<class 'numpy.float64'>'\n \twith 1 stored elements in Compressed Sparse Row format>\n <1x1048576 sparse matrix of type '<class 'numpy.float64'>'\n \twith 1 stored elements in Compressed Sparse Row format>\n <1x1048576 sparse matrix of type '<class 'numpy.float64'>'\n \twith 1 stored elements in Compressed Sparse Row format>\n <1x1048576 sparse matrix of type '<class 'numpy.float64'>'\n \twith 1 stored elements in Compressed Sparse Row format>\n <1x1048576 sparse matrix of type '<class 'numpy.float64'>'\n \twith 1 stored elements in Compressed Sparse Row format>\n <1x1048576 sparse matrix of type '<class 'numpy.float64'>'\n \twith 1 stored elements in Compressed Sparse Row format>\n <1x1048576 sparse matrix of type '<class 'numpy.float64'>'\n \twith 1 stored elements in Compressed Sparse Row format>\n <1x1048576 sparse matrix of type '<class 'numpy.float64'>'\n \twith 1 stored elements in Compressed Sparse Row format>\n <1x1048576 sparse matrix of type '<class 'numpy.float64'>'\n \twith 1 stored elements in Compressed Sparse Row format>\n <1x1048576 sparse matrix of type '<class 'numpy.float64'>'\n \twith 1 stored elements in Compressed Sparse Row format>\n <1x1048576 sparse matrix of type '<class 'numpy.float64'>'\n \twith 1 stored elements in Compressed Sparse Row format>\n <1x1048576 sparse matrix of type '<class 'numpy.float64'>'\n \twith 1 stored elements in Compressed Sparse Row format>\n <1x1048576 sparse matrix of type '<class 'numpy.float64'>'\n \twith 1 stored elements in Compressed Sparse Row format>\n <1x1048576 sparse matrix of type '<class 'numpy.float64'>'\n \twith 1 stored elements in Compressed Sparse Row format>\n <1x1048576 sparse matrix of type '<class 'numpy.float64'>'\n \twith 1 stored elements in Compressed Sparse Row format>\n <1x1048576 sparse matrix of type '<class 'numpy.float64'>'\n \twith 1 stored elements in Compressed Sparse Row format>\n <1x1048576 sparse matrix of type '<class 'numpy.float64'>'\n \twith 1 stored elements in Compressed Sparse Row format>\n <1x1048576 sparse matrix of type '<class 'numpy.float64'>'\n \twith 1 stored elements in Compressed Sparse Row format>\n <1x1048576 sparse matrix of type '<class 'numpy.float64'>'\n \twith 1 stored elements in Compressed Sparse Row format>\n <1x1048576 sparse matrix of type '<class 'numpy.float64'>'\n \twith 1 stored elements in Compressed Sparse Row format>\n <1x1048576 sparse matrix of type '<class 'numpy.float64'>'\n \twith 1 stored elements in Compressed Sparse Row format>\n <1x1048576 sparse matrix of type '<class 'numpy.float64'>'\n \twith 1 stored elements in Compressed Sparse Row format>\n <1x1048576 sparse matrix of type '<class 'numpy.float64'>'\n \twith 1 stored elements in Compressed Sparse Row format>\n <1x1048576 sparse matrix of type '<class 'numpy.float64'>'\n \twith 1 stored elements in Compressed Sparse Row format>\n <1x1048576 sparse matrix of type '<class 'numpy.float64'>'\n \twith 1 stored elements in Compressed Sparse Row format>\n <1x1048576 sparse matrix of type '<class 'numpy.float64'>'\n \twith 1 stored elements in Compressed Sparse Row format>\n <1x1048576 sparse matrix of type '<class 'numpy.float64'>'\n \twith 1 stored elements in Compressed Sparse Row format>\n <1x1048576 sparse matrix of type '<class 'numpy.float64'>'\n \twith 1 stored elements in Compressed Sparse Row format>\n <1x1048576 sparse matrix of type '<class 'numpy.float64'>'\n \twith 1 stored elements in Compressed Sparse Row format>\n <1x1048576 sparse matrix of type '<class 'numpy.float64'>'\n \twith 1 stored elements in Compressed Sparse Row format>\n <1x1048576 sparse matrix of type '<class 'numpy.float64'>'\n \twith 1 stored elements in Compressed Sparse Row format>\n <1x1048576 sparse matrix of type '<class 'numpy.float64'>'\n \twith 1 stored elements in Compressed Sparse Row format>\n <1x1048576 sparse matrix of type '<class 'numpy.float64'>'\n \twith 1 stored elements in Compressed Sparse Row format>\n <1x1048576 sparse matrix of type '<class 'numpy.float64'>'\n \twith 1 stored elements in Compressed Sparse Row format>\n <1x1048576 sparse matrix of type '<class 'numpy.float64'>'\n \twith 1 stored elements in Compressed Sparse Row format>\n <1x1048576 sparse matrix of type '<class 'numpy.float64'>'\n \twith 1 stored elements in Compressed Sparse Row format>\n <1x1048576 sparse matrix of type '<class 'numpy.float64'>'\n \twith 1 stored elements in Compressed Sparse Row format>\n <1x1048576 sparse matrix of type '<class 'numpy.float64'>'\n \twith 1 stored elements in Compressed Sparse Row format>\n <1x1048576 sparse matrix of type '<class 'numpy.float64'>'\n \twith 1 stored elements in Compressed Sparse Row format>\n <1x1048576 sparse matrix of type '<class 'numpy.float64'>'\n \twith 1 stored elements in Compressed Sparse Row format>\n <1x1048576 sparse matrix of type '<class 'numpy.float64'>'\n \twith 1 stored elements in Compressed Sparse Row format>\n <1x1048576 sparse matrix of type '<class 'numpy.float64'>'\n \twith 1 stored elements in Compressed Sparse Row format>\n <1x1048576 sparse matrix of type '<class 'numpy.float64'>'\n \twith 1 stored elements in Compressed Sparse Row format>\n <1x1048576 sparse matrix of type '<class 'numpy.float64'>'\n \twith 1 stored elements in Compressed Sparse Row format>\n <1x1048576 sparse matrix of type '<class 'numpy.float64'>'\n \twith 1 stored elements in Compressed Sparse Row format>\n <1x1048576 sparse matrix of type '<class 'numpy.float64'>'\n \twith 1 stored elements in Compressed Sparse Row format>\n <1x1048576 sparse matrix of type '<class 'numpy.float64'>'\n \twith 1 stored elements in Compressed Sparse Row format>\n <1x1048576 sparse matrix of type '<class 'numpy.float64'>'\n \twith 1 stored elements in Compressed Sparse Row format>\n <1x1048576 sparse matrix of type '<class 'numpy.float64'>'\n \twith 1 stored elements in Compressed Sparse Row format>\n <1x1048576 sparse matrix of type '<class 'numpy.float64'>'\n \twith 1 stored elements in Compressed Sparse Row format>\n <1x1048576 sparse matrix of type '<class 'numpy.float64'>'\n \twith 1 stored elements in Compressed Sparse Row format>\n <1x1048576 sparse matrix of type '<class 'numpy.float64'>'\n \twith 1 stored elements in Compressed Sparse Row format>\n <1x1048576 sparse matrix of type '<class 'numpy.float64'>'\n \twith 1 stored elements in Compressed Sparse Row format>\n <1x1048576 sparse matrix of type '<class 'numpy.float64'>'\n \twith 1 stored elements in Compressed Sparse Row format>\n <1x1048576 sparse matrix of type '<class 'numpy.float64'>'\n \twith 1 stored elements in Compressed Sparse Row format>\n <1x1048576 sparse matrix of type '<class 'numpy.float64'>'\n \twith 1 stored elements in Compressed Sparse Row format>\n <1x1048576 sparse matrix of type '<class 'numpy.float64'>'\n \twith 1 stored elements in Compressed Sparse Row format>\n <1x1048576 sparse matrix of type '<class 'numpy.float64'>'\n \twith 1 stored elements in Compressed Sparse Row format>\n <1x1048576 sparse matrix of type '<class 'numpy.float64'>'\n \twith 1 stored elements in Compressed Sparse Row format>\n <1x1048576 sparse matrix of type '<class 'numpy.float64'>'\n \twith 1 stored elements in Compressed Sparse Row format>\n <1x1048576 sparse matrix of type '<class 'numpy.float64'>'\n \twith 1 stored elements in Compressed Sparse Row format>\n <1x1048576 sparse matrix of type '<class 'numpy.float64'>'\n \twith 1 stored elements in Compressed Sparse Row format>\n <1x1048576 sparse matrix of type '<class 'numpy.float64'>'\n \twith 1 stored elements in Compressed Sparse Row format>\n <1x1048576 sparse matrix of type '<class 'numpy.float64'>'\n \twith 1 stored elements in Compressed Sparse Row format>\n <1x1048576 sparse matrix of type '<class 'numpy.float64'>'\n \twith 1 stored elements in Compressed Sparse Row format>\n <1x1048576 sparse matrix of type '<class 'numpy.float64'>'\n \twith 1 stored elements in Compressed Sparse Row format>\n <1x1048576 sparse matrix of type '<class 'numpy.float64'>'\n \twith 1 stored elements in Compressed Sparse Row format>\n <1x1048576 sparse matrix of type '<class 'numpy.float64'>'\n \twith 1 stored elements in Compressed Sparse Row format>\n <1x1048576 sparse matrix of type '<class 'numpy.float64'>'\n \twith 1 stored elements in Compressed Sparse Row format>\n <1x1048576 sparse matrix of type '<class 'numpy.float64'>'\n \twith 1 stored elements in Compressed Sparse Row format>\n <1x1048576 sparse matrix of type '<class 'numpy.float64'>'\n \twith 1 stored elements in Compressed Sparse Row format>\n <1x1048576 sparse matrix of type '<class 'numpy.float64'>'\n \twith 1 stored elements in Compressed Sparse Row format>\n <1x1048576 sparse matrix of type '<class 'numpy.float64'>'\n \twith 1 stored elements in Compressed Sparse Row format>\n <1x1048576 sparse matrix of type '<class 'numpy.float64'>'\n \twith 1 stored elements in Compressed Sparse Row format>\n <1x1048576 sparse matrix of type '<class 'numpy.float64'>'\n \twith 1 stored elements in Compressed Sparse Row format>\n <1x1048576 sparse matrix of type '<class 'numpy.float64'>'\n \twith 1 stored elements in Compressed Sparse Row format>\n <1x1048576 sparse matrix of type '<class 'numpy.float64'>'\n \twith 1 stored elements in Compressed Sparse Row format>\n <1x1048576 sparse matrix of type '<class 'numpy.float64'>'\n \twith 1 stored elements in Compressed Sparse Row format>\n <1x1048576 sparse matrix of type '<class 'numpy.float64'>'\n \twith 1 stored elements in Compressed Sparse Row format>\n <1x1048576 sparse matrix of type '<class 'numpy.float64'>'\n \twith 1 stored elements in Compressed Sparse Row format>\n <1x1048576 sparse matrix of type '<class 'numpy.float64'>'\n \twith 1 stored elements in Compressed Sparse Row format>\n <1x1048576 sparse matrix of type '<class 'numpy.float64'>'\n \twith 1 stored elements in Compressed Sparse Row format>\n <1x1048576 sparse matrix of type '<class 'numpy.float64'>'\n \twith 1 stored elements in Compressed Sparse Row format>\n <1x1048576 sparse matrix of type '<class 'numpy.float64'>'\n \twith 1 stored elements in Compressed Sparse Row format>\n <1x1048576 sparse matrix of type '<class 'numpy.float64'>'\n \twith 1 stored elements in Compressed Sparse Row format>\n <1x1048576 sparse matrix of type '<class 'numpy.float64'>'\n \twith 1 stored elements in Compressed Sparse Row format>\n <1x1048576 sparse matrix of type '<class 'numpy.float64'>'\n \twith 1 stored elements in Compressed Sparse Row format>\n <1x1048576 sparse matrix of type '<class 'numpy.float64'>'\n \twith 1 stored elements in Compressed Sparse Row format>\n <1x1048576 sparse matrix of type '<class 'numpy.float64'>'\n \twith 1 stored elements in Compressed Sparse Row format>\n <1x1048576 sparse matrix of type '<class 'numpy.float64'>'\n \twith 1 stored elements in Compressed Sparse Row format>\n <1x1048576 sparse matrix of type '<class 'numpy.float64'>'\n \twith 1 stored elements in Compressed Sparse Row format>\n <1x1048576 sparse matrix of type '<class 'numpy.float64'>'\n \twith 1 stored elements in Compressed Sparse Row format>\n <1x1048576 sparse matrix of type '<class 'numpy.float64'>'\n \twith 1 stored elements in Compressed Sparse Row format>\n <1x1048576 sparse matrix of type '<class 'numpy.float64'>'\n \twith 1 stored elements in Compressed Sparse Row format>\n <1x1048576 sparse matrix of type '<class 'numpy.float64'>'\n \twith 1 stored elements in Compressed Sparse Row format>\n <1x1048576 sparse matrix of type '<class 'numpy.float64'>'\n \twith 1 stored elements in Compressed Sparse Row format>\n <1x1048576 sparse matrix of type '<class 'numpy.float64'>'\n \twith 1 stored elements in Compressed Sparse Row format>\n <1x1048576 sparse matrix of type '<class 'numpy.float64'>'\n \twith 1 stored elements in Compressed Sparse Row format>\n <1x1048576 sparse matrix of type '<class 'numpy.float64'>'\n \twith 1 stored elements in Compressed Sparse Row format>\n <1x1048576 sparse matrix of type '<class 'numpy.float64'>'\n \twith 1 stored elements in Compressed Sparse Row format>\n <1x1048576 sparse matrix of type '<class 'numpy.float64'>'\n \twith 1 stored elements in Compressed Sparse Row format>\n <1x1048576 sparse matrix of type '<class 'numpy.float64'>'\n \twith 1 stored elements in Compressed Sparse Row format>\n <1x1048576 sparse matrix of type '<class 'numpy.float64'>'\n \twith 1 stored elements in Compressed Sparse Row format>\n <1x1048576 sparse matrix of type '<class 'numpy.float64'>'\n \twith 1 stored elements in Compressed Sparse Row format>\n <1x1048576 sparse matrix of type '<class 'numpy.float64'>'\n \twith 1 stored elements in Compressed Sparse Row format>\n <1x1048576 sparse matrix of type '<class 'numpy.float64'>'\n \twith 1 stored elements in Compressed Sparse Row format>\n <1x1048576 sparse matrix of type '<class 'numpy.float64'>'\n \twith 1 stored elements in Compressed Sparse Row format>\n <1x1048576 sparse matrix of type '<class 'numpy.float64'>'\n \twith 1 stored elements in Compressed Sparse Row format>\n <1x1048576 sparse matrix of type '<class 'numpy.float64'>'\n \twith 1 stored elements in Compressed Sparse Row format>\n <1x1048576 sparse matrix of type '<class 'numpy.float64'>'\n \twith 1 stored elements in Compressed Sparse Row format>\n <1x1048576 sparse matrix of type '<class 'numpy.float64'>'\n \twith 1 stored elements in Compressed Sparse Row format>\n <1x1048576 sparse matrix of type '<class 'numpy.float64'>'\n \twith 1 stored elements in Compressed Sparse Row format>\n <1x1048576 sparse matrix of type '<class 'numpy.float64'>'\n \twith 1 stored elements in Compressed Sparse Row format>\n <1x1048576 sparse matrix of type '<class 'numpy.float64'>'\n \twith 1 stored elements in Compressed Sparse Row format>\n <1x1048576 sparse matrix of type '<class 'numpy.float64'>'\n \twith 1 stored elements in Compressed Sparse Row format>\n <1x1048576 sparse matrix of type '<class 'numpy.float64'>'\n \twith 1 stored elements in Compressed Sparse Row format>\n <1x1048576 sparse matrix of type '<class 'numpy.float64'>'\n \twith 1 stored elements in Compressed Sparse Row format>\n <1x1048576 sparse matrix of type '<class 'numpy.float64'>'\n \twith 1 stored elements in Compressed Sparse Row format>\n <1x1048576 sparse matrix of type '<class 'numpy.float64'>'\n \twith 1 stored elements in Compressed Sparse Row format>\n <1x1048576 sparse matrix of type '<class 'numpy.float64'>'\n \twith 1 stored elements in Compressed Sparse Row format>\n <1x1048576 sparse matrix of type '<class 'numpy.float64'>'\n \twith 1 stored elements in Compressed Sparse Row format>\n <1x1048576 sparse matrix of type '<class 'numpy.float64'>'\n \twith 1 stored elements in Compressed Sparse Row format>\n <1x1048576 sparse matrix of type '<class 'numpy.float64'>'\n \twith 1 stored elements in Compressed Sparse Row format>\n <1x1048576 sparse matrix of type '<class 'numpy.float64'>'\n \twith 1 stored elements in Compressed Sparse Row format>\n <1x1048576 sparse matrix of type '<class 'numpy.float64'>'\n \twith 1 stored elements in Compressed Sparse Row format>\n <1x1048576 sparse matrix of type '<class 'numpy.float64'>'\n \twith 1 stored elements in Compressed Sparse Row format>\n <1x1048576 sparse matrix of type '<class 'numpy.float64'>'\n \twith 1 stored elements in Compressed Sparse Row format>\n <1x1048576 sparse matrix of type '<class 'numpy.float64'>'\n \twith 1 stored elements in Compressed Sparse Row format>\n <1x1048576 sparse matrix of type '<class 'numpy.float64'>'\n \twith 1 stored elements in Compressed Sparse Row format>\n <1x1048576 sparse matrix of type '<class 'numpy.float64'>'\n \twith 1 stored elements in Compressed Sparse Row format>\n <1x1048576 sparse matrix of type '<class 'numpy.float64'>'\n \twith 1 stored elements in Compressed Sparse Row format>\n <1x1048576 sparse matrix of type '<class 'numpy.float64'>'\n \twith 1 stored elements in Compressed Sparse Row format>\n <1x1048576 sparse matrix of type '<class 'numpy.float64'>'\n \twith 1 stored elements in Compressed Sparse Row format>\n <1x1048576 sparse matrix of type '<class 'numpy.float64'>'\n \twith 1 stored elements in Compressed Sparse Row format>\n <1x1048576 sparse matrix of type '<class 'numpy.float64'>'\n \twith 1 stored elements in Compressed Sparse Row format>\n <1x1048576 sparse matrix of type '<class 'numpy.float64'>'\n \twith 1 stored elements in Compressed Sparse Row format>\n <1x1048576 sparse matrix of type '<class 'numpy.float64'>'\n \twith 1 stored elements in Compressed Sparse Row format>\n <1x1048576 sparse matrix of type '<class 'numpy.float64'>'\n \twith 1 stored elements in Compressed Sparse Row format>\n <1x1048576 sparse matrix of type '<class 'numpy.float64'>'\n \twith 1 stored elements in Compressed Sparse Row format>\n <1x1048576 sparse matrix of type '<class 'numpy.float64'>'\n \twith 1 stored elements in Compressed Sparse Row format>\n <1x1048576 sparse matrix of type '<class 'numpy.float64'>'\n \twith 1 stored elements in Compressed Sparse Row format>\n <1x1048576 sparse matrix of type '<class 'numpy.float64'>'\n \twith 1 stored elements in Compressed Sparse Row format>\n <1x1048576 sparse matrix of type '<class 'numpy.float64'>'\n \twith 1 stored elements in Compressed Sparse Row format>\n <1x1048576 sparse matrix of type '<class 'numpy.float64'>'\n \twith 1 stored elements in Compressed Sparse Row format>\n <1x1048576 sparse matrix of type '<class 'numpy.float64'>'\n \twith 1 stored elements in Compressed Sparse Row format>\n <1x1048576 sparse matrix of type '<class 'numpy.float64'>'\n \twith 1 stored elements in Compressed Sparse Row format>\n <1x1048576 sparse matrix of type '<class 'numpy.float64'>'\n \twith 1 stored elements in Compressed Sparse Row format>\n <1x1048576 sparse matrix of type '<class 'numpy.float64'>'\n \twith 1 stored elements in Compressed Sparse Row format>\n <1x1048576 sparse matrix of type '<class 'numpy.float64'>'\n \twith 1 stored elements in Compressed Sparse Row format>\n <1x1048576 sparse matrix of type '<class 'numpy.float64'>'\n \twith 1 stored elements in Compressed Sparse Row format>\n <1x1048576 sparse matrix of type '<class 'numpy.float64'>'\n \twith 1 stored elements in Compressed Sparse Row format>\n <1x1048576 sparse matrix of type '<class 'numpy.float64'>'\n \twith 1 stored elements in Compressed Sparse Row format>\n <1x1048576 sparse matrix of type '<class 'numpy.float64'>'\n \twith 1 stored elements in Compressed Sparse Row format>\n <1x1048576 sparse matrix of type '<class 'numpy.float64'>'\n \twith 1 stored elements in Compressed Sparse Row format>\n <1x1048576 sparse matrix of type '<class 'numpy.float64'>'\n \twith 1 stored elements in Compressed Sparse Row format>\n <1x1048576 sparse matrix of type '<class 'numpy.float64'>'\n \twith 1 stored elements in Compressed Sparse Row format>\n <1x1048576 sparse matrix of type '<class 'numpy.float64'>'\n \twith 1 stored elements in Compressed Sparse Row format>\n <1x1048576 sparse matrix of type '<class 'numpy.float64'>'\n \twith 1 stored elements in Compressed Sparse Row format>\n <1x1048576 sparse matrix of type '<class 'numpy.float64'>'\n \twith 1 stored elements in Compressed Sparse Row format>\n <1x1048576 sparse matrix of type '<class 'numpy.float64'>'\n \twith 1 stored elements in Compressed Sparse Row format>\n <1x1048576 sparse matrix of type '<class 'numpy.float64'>'\n \twith 1 stored elements in Compressed Sparse Row format>\n <1x1048576 sparse matrix of type '<class 'numpy.float64'>'\n \twith 1 stored elements in Compressed Sparse Row format>\n <1x1048576 sparse matrix of type '<class 'numpy.float64'>'\n \twith 1 stored elements in Compressed Sparse Row format>\n <1x1048576 sparse matrix of type '<class 'numpy.float64'>'\n \twith 1 stored elements in Compressed Sparse Row format>\n <1x1048576 sparse matrix of type '<class 'numpy.float64'>'\n \twith 1 stored elements in Compressed Sparse Row format>\n <1x1048576 sparse matrix of type '<class 'numpy.float64'>'\n \twith 1 stored elements in Compressed Sparse Row format>\n <1x1048576 sparse matrix of type '<class 'numpy.float64'>'\n \twith 1 stored elements in Compressed Sparse Row format>\n <1x1048576 sparse matrix of type '<class 'numpy.float64'>'\n \twith 1 stored elements in Compressed Sparse Row format>\n <1x1048576 sparse matrix of type '<class 'numpy.float64'>'\n \twith 1 stored elements in Compressed Sparse Row format>\n <1x1048576 sparse matrix of type '<class 'numpy.float64'>'\n \twith 1 stored elements in Compressed Sparse Row format>\n <1x1048576 sparse matrix of type '<class 'numpy.float64'>'\n \twith 1 stored elements in Compressed Sparse Row format>\n <1x1048576 sparse matrix of type '<class 'numpy.float64'>'\n \twith 1 stored elements in Compressed Sparse Row format>\n <1x1048576 sparse matrix of type '<class 'numpy.float64'>'\n \twith 1 stored elements in Compressed Sparse Row format>\n <1x1048576 sparse matrix of type '<class 'numpy.float64'>'\n \twith 1 stored elements in Compressed Sparse Row format>\n <1x1048576 sparse matrix of type '<class 'numpy.float64'>'\n \twith 1 stored elements in Compressed Sparse Row format>\n <1x1048576 sparse matrix of type '<class 'numpy.float64'>'\n \twith 1 stored elements in Compressed Sparse Row format>\n <1x1048576 sparse matrix of type '<class 'numpy.float64'>'\n \twith 1 stored elements in Compressed Sparse Row format>\n <1x1048576 sparse matrix of type '<class 'numpy.float64'>'\n \twith 1 stored elements in Compressed Sparse Row format>\n <1x1048576 sparse matrix of type '<class 'numpy.float64'>'\n \twith 1 stored elements in Compressed Sparse Row format>\n <1x1048576 sparse matrix of type '<class 'numpy.float64'>'\n \twith 1 stored elements in Compressed Sparse Row format>\n <1x1048576 sparse matrix of type '<class 'numpy.float64'>'\n \twith 1 stored elements in Compressed Sparse Row format>\n <1x1048576 sparse matrix of type '<class 'numpy.float64'>'\n \twith 1 stored elements in Compressed Sparse Row format>\n <1x1048576 sparse matrix of type '<class 'numpy.float64'>'\n \twith 1 stored elements in Compressed Sparse Row format>\n <1x1048576 sparse matrix of type '<class 'numpy.float64'>'\n \twith 1 stored elements in Compressed Sparse Row format>\n <1x1048576 sparse matrix of type '<class 'numpy.float64'>'\n \twith 1 stored elements in Compressed Sparse Row format>\n <1x1048576 sparse matrix of type '<class 'numpy.float64'>'\n \twith 1 stored elements in Compressed Sparse Row format>\n <1x1048576 sparse matrix of type '<class 'numpy.float64'>'\n \twith 1 stored elements in Compressed Sparse Row format>\n <1x1048576 sparse matrix of type '<class 'numpy.float64'>'\n \twith 1 stored elements in Compressed Sparse Row format>\n <1x1048576 sparse matrix of type '<class 'numpy.float64'>'\n \twith 1 stored elements in Compressed Sparse Row format>\n <1x1048576 sparse matrix of type '<class 'numpy.float64'>'\n \twith 1 stored elements in Compressed Sparse Row format>\n <1x1048576 sparse matrix of type '<class 'numpy.float64'>'\n \twith 1 stored elements in Compressed Sparse Row format>\n <1x1048576 sparse matrix of type '<class 'numpy.float64'>'\n \twith 1 stored elements in Compressed Sparse Row format>\n <1x1048576 sparse matrix of type '<class 'numpy.float64'>'\n \twith 1 stored elements in Compressed Sparse Row format>\n <1x1048576 sparse matrix of type '<class 'numpy.float64'>'\n \twith 1 stored elements in Compressed Sparse Row format>\n <1x1048576 sparse matrix of type '<class 'numpy.float64'>'\n \twith 1 stored elements in Compressed Sparse Row format>\n <1x1048576 sparse matrix of type '<class 'numpy.float64'>'\n \twith 1 stored elements in Compressed Sparse Row format>\n <1x1048576 sparse matrix of type '<class 'numpy.float64'>'\n \twith 1 stored elements in Compressed Sparse Row format>\n <1x1048576 sparse matrix of type '<class 'numpy.float64'>'\n \twith 1 stored elements in Compressed Sparse Row format>\n <1x1048576 sparse matrix of type '<class 'numpy.float64'>'\n \twith 1 stored elements in Compressed Sparse Row format>\n <1x1048576 sparse matrix of type '<class 'numpy.float64'>'\n \twith 1 stored elements in Compressed Sparse Row format>\n <1x1048576 sparse matrix of type '<class 'numpy.float64'>'\n \twith 1 stored elements in Compressed Sparse Row format>\n <1x1048576 sparse matrix of type '<class 'numpy.float64'>'\n \twith 1 stored elements in Compressed Sparse Row format>\n <1x1048576 sparse matrix of type '<class 'numpy.float64'>'\n \twith 1 stored elements in Compressed Sparse Row format>\n <1x1048576 sparse matrix of type '<class 'numpy.float64'>'\n \twith 1 stored elements in Compressed Sparse Row format>\n <1x1048576 sparse matrix of type '<class 'numpy.float64'>'\n \twith 1 stored elements in Compressed Sparse Row format>\n <1x1048576 sparse matrix of type '<class 'numpy.float64'>'\n \twith 1 stored elements in Compressed Sparse Row format>\n <1x1048576 sparse matrix of type '<class 'numpy.float64'>'\n \twith 1 stored elements in Compressed Sparse Row format>\n <1x1048576 sparse matrix of type '<class 'numpy.float64'>'\n \twith 1 stored elements in Compressed Sparse Row format>\n <1x1048576 sparse matrix of type '<class 'numpy.float64'>'\n \twith 1 stored elements in Compressed Sparse Row format>\n <1x1048576 sparse matrix of type '<class 'numpy.float64'>'\n \twith 1 stored elements in Compressed Sparse Row format>\n <1x1048576 sparse matrix of type '<class 'numpy.float64'>'\n \twith 1 stored elements in Compressed Sparse Row format>\n <1x1048576 sparse matrix of type '<class 'numpy.float64'>'\n \twith 1 stored elements in Compressed Sparse Row format>\n <1x1048576 sparse matrix of type '<class 'numpy.float64'>'\n \twith 1 stored elements in Compressed Sparse Row format>\n <1x1048576 sparse matrix of type '<class 'numpy.float64'>'\n \twith 1 stored elements in Compressed Sparse Row format>\n <1x1048576 sparse matrix of type '<class 'numpy.float64'>'\n \twith 1 stored elements in Compressed Sparse Row format>\n <1x1048576 sparse matrix of type '<class 'numpy.float64'>'\n \twith 1 stored elements in Compressed Sparse Row format>\n <1x1048576 sparse matrix of type '<class 'numpy.float64'>'\n \twith 1 stored elements in Compressed Sparse Row format>\n <1x1048576 sparse matrix of type '<class 'numpy.float64'>'\n \twith 1 stored elements in Compressed Sparse Row format>\n <1x1048576 sparse matrix of type '<class 'numpy.float64'>'\n \twith 1 stored elements in Compressed Sparse Row format>\n <1x1048576 sparse matrix of type '<class 'numpy.float64'>'\n \twith 1 stored elements in Compressed Sparse Row format>\n <1x1048576 sparse matrix of type '<class 'numpy.float64'>'\n \twith 1 stored elements in Compressed Sparse Row format>\n <1x1048576 sparse matrix of type '<class 'numpy.float64'>'\n \twith 1 stored elements in Compressed Sparse Row format>\n <1x1048576 sparse matrix of type '<class 'numpy.float64'>'\n \twith 1 stored elements in Compressed Sparse Row format>\n <1x1048576 sparse matrix of type '<class 'numpy.float64'>'\n \twith 1 stored elements in Compressed Sparse Row format>\n <1x1048576 sparse matrix of type '<class 'numpy.float64'>'\n \twith 1 stored elements in Compressed Sparse Row format>\n <1x1048576 sparse matrix of type '<class 'numpy.float64'>'\n \twith 1 stored elements in Compressed Sparse Row format>\n <1x1048576 sparse matrix of type '<class 'numpy.float64'>'\n \twith 1 stored elements in Compressed Sparse Row format>\n <1x1048576 sparse matrix of type '<class 'numpy.float64'>'\n \twith 1 stored elements in Compressed Sparse Row format>\n <1x1048576 sparse matrix of type '<class 'numpy.float64'>'\n \twith 1 stored elements in Compressed Sparse Row format>\n <1x1048576 sparse matrix of type '<class 'numpy.float64'>'\n \twith 1 stored elements in Compressed Sparse Row format>\n <1x1048576 sparse matrix of type '<class 'numpy.float64'>'\n \twith 1 stored elements in Compressed Sparse Row format>  ].\nReshape your data either using array.reshape(-1, 1) if your data has a single feature or array.reshape(1, -1) if it contains a single sample."
          ]
        }
      ]
    },
    {
      "cell_type": "code",
      "source": [],
      "metadata": {
        "id": "2xcWZNitHJ6f"
      },
      "execution_count": null,
      "outputs": []
    },
    {
      "cell_type": "code",
      "source": [],
      "metadata": {
        "id": "6Btbc6BnK-Z-"
      },
      "execution_count": null,
      "outputs": []
    },
    {
      "cell_type": "code",
      "source": [],
      "metadata": {
        "id": "axvoxngTK-c1"
      },
      "execution_count": null,
      "outputs": []
    },
    {
      "cell_type": "code",
      "source": [
        "from sklearn import datasets\n",
        "\n",
        "# load the MNIST digits dataset\n",
        "mnist = datasets.load_digits()\n",
        "\n",
        "from sklearn.model_selection import train_test_split\n",
        "import numpy as np\n",
        "# Training and testing split,\n",
        "# 75% for training and 25% for testing\n",
        "(trainData, testData, trainLabels, testLabels) = train_test_split(np.array(mnist.data), mnist.target, test_size=0.25, random_state=42)\n",
        "\n",
        "# take 10% of the training data and use that for validation\n",
        "(trainData, valData, trainLabels, valLabels) = train_test_split(trainData, trainLabels, test_size=0.1, random_state=84)"
      ],
      "metadata": {
        "id": "S-CS_naIK-e7"
      },
      "execution_count": 18,
      "outputs": []
    },
    {
      "cell_type": "code",
      "source": [
        "trainData"
      ],
      "metadata": {
        "colab": {
          "base_uri": "https://localhost:8080/"
        },
        "id": "DfstD9_qLVi5",
        "outputId": "b857824f-5ea4-4d8c-810d-d8c777e2341e"
      },
      "execution_count": 40,
      "outputs": [
        {
          "output_type": "execute_result",
          "data": {
            "text/plain": [
              "array([[ 0.,  0.,  6., ...,  1.,  0.,  0.],\n",
              "       [ 0.,  0.,  7., ..., 16., 16.,  5.],\n",
              "       [ 0.,  0.,  9., ...,  6.,  0.,  0.],\n",
              "       ...,\n",
              "       [ 0.,  0.,  2., ...,  5.,  0.,  0.],\n",
              "       [ 0.,  0.,  0., ...,  9.,  0.,  0.],\n",
              "       [ 0.,  1., 12., ...,  8.,  1.,  0.]])"
            ]
          },
          "metadata": {},
          "execution_count": 40
        }
      ]
    },
    {
      "cell_type": "code",
      "source": [
        "trainLabels"
      ],
      "metadata": {
        "colab": {
          "base_uri": "https://localhost:8080/"
        },
        "id": "3yEHAmWcLcz6",
        "outputId": "33d99424-034c-49e9-9c08-c570b61d3540"
      },
      "execution_count": 41,
      "outputs": [
        {
          "output_type": "execute_result",
          "data": {
            "text/plain": [
              "array([9, 1, 5, ..., 0, 1, 3])"
            ]
          },
          "metadata": {},
          "execution_count": 41
        }
      ]
    },
    {
      "cell_type": "code",
      "source": [
        "print(type(trainData))"
      ],
      "metadata": {
        "colab": {
          "base_uri": "https://localhost:8080/"
        },
        "id": "cCGbLgOUNlUI",
        "outputId": "d7ce4a34-323b-4805-ba33-f049432bf40d"
      },
      "execution_count": 26,
      "outputs": [
        {
          "output_type": "stream",
          "name": "stdout",
          "text": [
            "<class 'numpy.ndarray'>\n"
          ]
        }
      ]
    },
    {
      "cell_type": "code",
      "source": [],
      "metadata": {
        "id": "wWRM0IpHNlWT"
      },
      "execution_count": null,
      "outputs": []
    },
    {
      "cell_type": "code",
      "source": [
        "from sklearn.neighbors import KNeighborsClassifier\n",
        "kVals = range(1, 30, 2)\n",
        "accuracies = []\n",
        "\n",
        "# loop over kVals\n",
        "for k in kVals:\n",
        "    print(\"k - \", k)\n",
        "    # train the classifier with the current value of `k`\n",
        "    model = KNeighborsClassifier(n_neighbors=k)\n",
        "    model.fit(trainData, trainLabels)\n",
        "\n",
        "    # evaluate the model and print the accuracies list\n",
        "    score = model.score(valData, valLabels)\n",
        "    print(\"k=%d, accuracy=%.2f%%\" % (k, score * 100))\n",
        "    accuracies.append(score)"
      ],
      "metadata": {
        "colab": {
          "base_uri": "https://localhost:8080/"
        },
        "id": "-DFCjqskLf6S",
        "outputId": "b4b4fd01-5662-42d8-de5b-a14c5913688a"
      },
      "execution_count": 21,
      "outputs": [
        {
          "output_type": "stream",
          "name": "stdout",
          "text": [
            "k -  1\n",
            "k=1, accuracy=99.26%\n",
            "k -  3\n",
            "k=3, accuracy=99.26%\n",
            "k -  5\n",
            "k=5, accuracy=99.26%\n",
            "k -  7\n",
            "k=7, accuracy=99.26%\n",
            "k -  9\n",
            "k=9, accuracy=99.26%\n",
            "k -  11\n",
            "k=11, accuracy=99.26%\n",
            "k -  13\n",
            "k=13, accuracy=99.26%\n",
            "k -  15\n",
            "k=15, accuracy=99.26%\n",
            "k -  17\n",
            "k=17, accuracy=98.52%\n",
            "k -  19\n",
            "k=19, accuracy=98.52%\n",
            "k -  21\n",
            "k=21, accuracy=97.78%\n",
            "k -  23\n",
            "k=23, accuracy=97.04%\n",
            "k -  25\n",
            "k=25, accuracy=97.78%\n",
            "k -  27\n",
            "k=27, accuracy=97.04%\n",
            "k -  29\n",
            "k=29, accuracy=97.04%\n"
          ]
        }
      ]
    }
  ]
}